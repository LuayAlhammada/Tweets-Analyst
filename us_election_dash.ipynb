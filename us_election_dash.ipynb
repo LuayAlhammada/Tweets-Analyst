{
 "cells": [
  {
   "cell_type": "code",
   "execution_count": null,
   "metadata": {},
   "outputs": [],
   "source": [
    "import streamlit as st\n",
    "import pandas as pd\n",
    "import altair as alt\n",
    "import plotly.express as px"
   ]
  },
  {
   "cell_type": "code",
   "execution_count": null,
   "metadata": {},
   "outputs": [],
   "source": [
    "from vega_datasets import data\n"
   ]
  },
  {
   "cell_type": "code",
   "execution_count": 88,
   "metadata": {},
   "outputs": [
    {
     "name": "stdout",
     "output_type": "stream",
     "text": [
      "Writing app.py\n"
     ]
    }
   ],
   "source": [
    "%%writefile app.py\n",
    "import streamlit as st\n",
    "import pandas as pd\n",
    "import altair as alt\n",
    "import plotly.express as px\n",
    "\n",
    "# Page Configuration\n",
    "st.set_page_config(page_title=\"US Population Dashboard\", page_icon=\"🏂\", layout=\"wide\")\n",
    "\n",
    "alt.themes.enable(\"dark\")\n",
    "\n",
    "# Custom CSS\n",
    "st.markdown(\"\"\"\n",
    "<style>\n",
    "[data-testid=\"block-container\"] { padding: 2rem; }\n",
    "[data-testid=\"stMetric\"] { background-color: #393939; text-align: center; padding: 15px; }\n",
    "</style>\n",
    "\"\"\", unsafe_allow_html=True)\n",
    "\n",
    "# Sample Data\n",
    "st.write(\"Streamlit app content goes here...\")\n"
   ]
  },
  {
   "cell_type": "code",
   "execution_count": 7,
   "metadata": {},
   "outputs": [
    {
     "name": "stdout",
     "output_type": "stream",
     "text": [
      "^C\n"
     ]
    }
   ],
   "source": [
    "!streamlit run app.py\n"
   ]
  },
  {
   "cell_type": "code",
   "execution_count": 89,
   "metadata": {},
   "outputs": [],
   "source": [
    "merged_df = pd.read_csv('C:\\Tweeter project\\Election dataset\\merged_df.csv')\n"
   ]
  },
  {
   "cell_type": "code",
   "execution_count": 94,
   "metadata": {},
   "outputs": [
    {
     "data": {
      "text/plain": [
       "(1299, 10)"
      ]
     },
     "execution_count": 94,
     "metadata": {},
     "output_type": "execute_result"
    }
   ],
   "source": [
    "merged_df.shape"
   ]
  },
  {
   "cell_type": "code",
   "execution_count": null,
   "metadata": {},
   "outputs": [],
   "source": [
    "merged_df['state'].unique()"
   ]
  },
  {
   "cell_type": "code",
   "execution_count": null,
   "metadata": {},
   "outputs": [],
   "source": [
    "import altair as alt\n",
    "\n",
    "alt.themes.enable(\"dark\")\n",
    "# Convert the 'date' column to a string format\n",
    "merged_df['date'] = merged_df['date'].astype(str)\n",
    "\n",
    "# Create the heatmap chart\n",
    "heatmap = alt.Chart(merged_df).mark_rect().encode(\n",
    "    y=alt.Y('date:O', axis=alt.Axis(title=\"Date\", titleFontSize=16, titlePadding=15, titleFontWeight=900, labelAngle=0)),\n",
    "    x=alt.X('state:O', axis=alt.Axis(title=\"State\", titleFontSize=16, titlePadding=15, titleFontWeight=900)),\n",
    "    color=alt.Color('max(total_likes):Q',\n",
    "                    legend=alt.Legend(title=\"Total Likes\"),\n",
    "                    scale=alt.Scale(scheme=\"blueorange\")),\n",
    "    stroke=alt.value('black'),\n",
    "    strokeWidth=alt.value(0.25),\n",
    ").properties(width=1000).configure_axis(\n",
    "    labelFontSize=12,\n",
    "    titleFontSize=12\n",
    ")\n",
    "\n",
    "heatmap"
   ]
  },
  {
   "cell_type": "code",
   "execution_count": null,
   "metadata": {},
   "outputs": [
    {
     "data": {
      "text/html": [
       "\n",
       "<style>\n",
       "  #altair-viz-d6d99a4e91824c118fbc6796386e94cd.vega-embed {\n",
       "    width: 100%;\n",
       "    display: flex;\n",
       "  }\n",
       "\n",
       "  #altair-viz-d6d99a4e91824c118fbc6796386e94cd.vega-embed details,\n",
       "  #altair-viz-d6d99a4e91824c118fbc6796386e94cd.vega-embed details summary {\n",
       "    position: relative;\n",
       "  }\n",
       "</style>\n",
       "<div id=\"altair-viz-d6d99a4e91824c118fbc6796386e94cd\"></div>\n",
       "<script type=\"text/javascript\">\n",
       "  var VEGA_DEBUG = (typeof VEGA_DEBUG == \"undefined\") ? {} : VEGA_DEBUG;\n",
       "  (function(spec, embedOpt){\n",
       "    let outputDiv = document.currentScript.previousElementSibling;\n",
       "    if (outputDiv.id !== \"altair-viz-d6d99a4e91824c118fbc6796386e94cd\") {\n",
       "      outputDiv = document.getElementById(\"altair-viz-d6d99a4e91824c118fbc6796386e94cd\");\n",
       "    }\n",
       "    const paths = {\n",
       "      \"vega\": \"https://cdn.jsdelivr.net/npm/vega@5?noext\",\n",
       "      \"vega-lib\": \"https://cdn.jsdelivr.net/npm/vega-lib?noext\",\n",
       "      \"vega-lite\": \"https://cdn.jsdelivr.net/npm/vega-lite@5.20.1?noext\",\n",
       "      \"vega-embed\": \"https://cdn.jsdelivr.net/npm/vega-embed@6?noext\",\n",
       "    };\n",
       "\n",
       "    function maybeLoadScript(lib, version) {\n",
       "      var key = `${lib.replace(\"-\", \"\")}_version`;\n",
       "      return (VEGA_DEBUG[key] == version) ?\n",
       "        Promise.resolve(paths[lib]) :\n",
       "        new Promise(function(resolve, reject) {\n",
       "          var s = document.createElement('script');\n",
       "          document.getElementsByTagName(\"head\")[0].appendChild(s);\n",
       "          s.async = true;\n",
       "          s.onload = () => {\n",
       "            VEGA_DEBUG[key] = version;\n",
       "            return resolve(paths[lib]);\n",
       "          };\n",
       "          s.onerror = () => reject(`Error loading script: ${paths[lib]}`);\n",
       "          s.src = paths[lib];\n",
       "        });\n",
       "    }\n",
       "\n",
       "    function showError(err) {\n",
       "      outputDiv.innerHTML = `<div class=\"error\" style=\"color:red;\">${err}</div>`;\n",
       "      throw err;\n",
       "    }\n",
       "\n",
       "    function displayChart(vegaEmbed) {\n",
       "      vegaEmbed(outputDiv, spec, embedOpt)\n",
       "        .catch(err => showError(`Javascript Error: ${err.message}<br>This usually means there's a typo in your chart specification. See the javascript console for the full traceback.`));\n",
       "    }\n",
       "\n",
       "    if(typeof define === \"function\" && define.amd) {\n",
       "      requirejs.config({paths});\n",
       "      require([\"vega-embed\"], displayChart, err => showError(`Error loading script: ${err.message}`));\n",
       "    } else {\n",
       "      maybeLoadScript(\"vega\", \"5\")\n",
       "        .then(() => maybeLoadScript(\"vega-lite\", \"5.20.1\"))\n",
       "        .then(() => maybeLoadScript(\"vega-embed\", \"6\"))\n",
       "        .catch(showError)\n",
       "        .then(() => displayChart(vegaEmbed));\n",
       "    }\n",
       "  })({\"usermeta\": {\"embedOptions\": {\"theme\": \"dark\"}}, \"config\": {\"view\": {\"continuousWidth\": 300, \"continuousHeight\": 300}}, \"data\": {\"url\": \"https://cdn.jsdelivr.net/npm/vega-datasets@v1.29.0/data/us-10m.json\", \"format\": {\"feature\": \"states\", \"type\": \"topojson\"}}, \"mark\": {\"type\": \"geoshape\"}, \"encoding\": {\"color\": {\"field\": \"total_likes\", \"scale\": {\"scheme\": \"blues\"}, \"type\": \"quantitative\"}, \"stroke\": {\"value\": \"#154360\"}}, \"height\": 400, \"projection\": {\"type\": \"albersUsa\"}, \"transform\": [{\"lookup\": \"id\", \"from\": {\"data\": {\"name\": \"data-a9c538b5ef9e33221622ca666f76d04e\"}, \"key\": \"id\", \"fields\": [\"total_likes\"]}}], \"width\": 700, \"$schema\": \"https://vega.github.io/schema/vega-lite/v5.20.1.json\", \"datasets\": {\"data-a9c538b5ef9e33221622ca666f76d04e\": [{\"state\": \"Alabama\", \"date\": \"2020-10-15\", \"tweet_count\": 44, \"total_likes\": 277.0, \"sentiment_avg\": -0.00145, \"total_retweets\": 92.0, \"top_hashtag\": \"#biden\", \"top_hashtag_likes\": 226.0, \"id\": 1, \"states_code\": \"AL\"}, {\"state\": \"Alabama\", \"date\": \"2020-10-16\", \"tweet_count\": 59, \"total_likes\": 618.0, \"sentiment_avg\": -0.0807237288135593, \"total_retweets\": 127.0, \"top_hashtag\": \"#trump\", \"top_hashtag_likes\": 461.0, \"id\": 1, \"states_code\": \"AL\"}, {\"state\": \"Alabama\", \"date\": \"2020-10-17\", \"tweet_count\": 29, \"total_likes\": 142.0, \"sentiment_avg\": 0.1431586206896551, \"total_retweets\": 46.0, \"top_hashtag\": \"#trump\", \"top_hashtag_likes\": 128.0, \"id\": 1, \"states_code\": \"AL\"}, {\"state\": \"Alabama\", \"date\": \"2020-10-18\", \"tweet_count\": 27, \"total_likes\": 39.0, \"sentiment_avg\": -0.1124666666666666, \"total_retweets\": 13.0, \"top_hashtag\": \"#trump\", \"top_hashtag_likes\": 22.0, \"id\": 1, \"states_code\": \"AL\"}, {\"state\": \"Alabama\", \"date\": \"2020-10-19\", \"tweet_count\": 40, \"total_likes\": 493.0, \"sentiment_avg\": -0.04575, \"total_retweets\": 114.0, \"top_hashtag\": \"#biden\", \"top_hashtag_likes\": 365.0, \"id\": 1, \"states_code\": \"AL\"}, {\"state\": \"Alabama\", \"date\": \"2020-10-20\", \"tweet_count\": 27, \"total_likes\": 36.0, \"sentiment_avg\": 0.0826592592592592, \"total_retweets\": 16.0, \"top_hashtag\": \"#trump\", \"top_hashtag_likes\": 27.0, \"id\": 1, \"states_code\": \"AL\"}, {\"state\": \"Alabama\", \"date\": \"2020-10-21\", \"tweet_count\": 44, \"total_likes\": 60.0, \"sentiment_avg\": 0.0208090909090909, \"total_retweets\": 18.0, \"top_hashtag\": \"#biden\", \"top_hashtag_likes\": 51.0, \"id\": 1, \"states_code\": \"AL\"}, {\"state\": \"Alabama\", \"date\": \"2020-10-22\", \"tweet_count\": 62, \"total_likes\": 61.0, \"sentiment_avg\": 0.068116129032258, \"total_retweets\": 14.0, \"top_hashtag\": \"#biden\", \"top_hashtag_likes\": 51.0, \"id\": 1, \"states_code\": \"AL\"}, {\"state\": \"Alabama\", \"date\": \"2020-10-23\", \"tweet_count\": 146, \"total_likes\": 644.0, \"sentiment_avg\": 0.0642883561643835, \"total_retweets\": 143.0, \"top_hashtag\": \"#biden\", \"top_hashtag_likes\": 614.0, \"id\": 1, \"states_code\": \"AL\"}, {\"state\": \"Alabama\", \"date\": \"2020-10-24\", \"tweet_count\": 33, \"total_likes\": 54.0, \"sentiment_avg\": 0.0992393939393939, \"total_retweets\": 15.0, \"top_hashtag\": \"#trump\", \"top_hashtag_likes\": 29.0, \"id\": 1, \"states_code\": \"AL\"}, {\"state\": \"Alabama\", \"date\": \"2020-10-25\", \"tweet_count\": 32, \"total_likes\": 200.0, \"sentiment_avg\": 0.023575, \"total_retweets\": 70.0, \"top_hashtag\": \"#biden\", \"top_hashtag_likes\": 126.0, \"id\": 1, \"states_code\": \"AL\"}, {\"state\": \"Alabama\", \"date\": \"2020-10-26\", \"tweet_count\": 37, \"total_likes\": 141.0, \"sentiment_avg\": 0.0306621621621621, \"total_retweets\": 50.0, \"top_hashtag\": \"#biden\", \"top_hashtag_likes\": 101.0, \"id\": 1, \"states_code\": \"AL\"}, {\"state\": \"Alabama\", \"date\": \"2020-10-27\", \"tweet_count\": 32, \"total_likes\": 120.0, \"sentiment_avg\": -0.047846875, \"total_retweets\": 29.0, \"top_hashtag\": \"#biden\", \"top_hashtag_likes\": 91.0, \"id\": 1, \"states_code\": \"AL\"}, {\"state\": \"Alabama\", \"date\": \"2020-10-28\", \"tweet_count\": 44, \"total_likes\": 700.0, \"sentiment_avg\": 0.046075, \"total_retweets\": 223.0, \"top_hashtag\": \"#biden\", \"top_hashtag_likes\": 665.0, \"id\": 1, \"states_code\": \"AL\"}, {\"state\": \"Alabama\", \"date\": \"2020-10-29\", \"tweet_count\": 36, \"total_likes\": 105.0, \"sentiment_avg\": 0.0559555555555555, \"total_retweets\": 58.0, \"top_hashtag\": \"#trump\", \"top_hashtag_likes\": 91.0, \"id\": 1, \"states_code\": \"AL\"}, {\"state\": \"Alabama\", \"date\": \"2020-10-30\", \"tweet_count\": 51, \"total_likes\": 124.0, \"sentiment_avg\": 0.0662823529411764, \"total_retweets\": 39.0, \"top_hashtag\": \"#biden\", \"top_hashtag_likes\": 99.0, \"id\": 1, \"states_code\": \"AL\"}, {\"state\": \"Alabama\", \"date\": \"2020-10-31\", \"tweet_count\": 44, \"total_likes\": 206.0, \"sentiment_avg\": -0.001690909090909, \"total_retweets\": 66.0, \"top_hashtag\": \"#biden\", \"top_hashtag_likes\": 186.0, \"id\": 1, \"states_code\": \"AL\"}, {\"state\": \"Alabama\", \"date\": \"2020-11-01\", \"tweet_count\": 55, \"total_likes\": 116.0, \"sentiment_avg\": -0.05868, \"total_retweets\": 49.0, \"top_hashtag\": \"#trump\", \"top_hashtag_likes\": 73.0, \"id\": 1, \"states_code\": \"AL\"}, {\"state\": \"Alabama\", \"date\": \"2020-11-02\", \"tweet_count\": 60, \"total_likes\": 109.0, \"sentiment_avg\": 0.0348116666666666, \"total_retweets\": 14.0, \"top_hashtag\": \"#trump\", \"top_hashtag_likes\": 90.0, \"id\": 1, \"states_code\": \"AL\"}, {\"state\": \"Alabama\", \"date\": \"2020-11-03\", \"tweet_count\": 65, \"total_likes\": 77.0, \"sentiment_avg\": 0.0640723076923076, \"total_retweets\": 12.0, \"top_hashtag\": \"#trump\", \"top_hashtag_likes\": 60.0, \"id\": 1, \"states_code\": \"AL\"}, {\"state\": \"Alabama\", \"date\": \"2020-11-04\", \"tweet_count\": 89, \"total_likes\": 484.0, \"sentiment_avg\": 0.1801584269662921, \"total_retweets\": 63.0, \"top_hashtag\": \"#biden\", \"top_hashtag_likes\": 405.0, \"id\": 1, \"states_code\": \"AL\"}, {\"state\": \"Alabama\", \"date\": \"2020-11-05\", \"tweet_count\": 64, \"total_likes\": 223.0, \"sentiment_avg\": 0.0714109375, \"total_retweets\": 37.0, \"top_hashtag\": \"#trump\", \"top_hashtag_likes\": 144.0, \"id\": 1, \"states_code\": \"AL\"}, {\"state\": \"Alabama\", \"date\": \"2020-11-06\", \"tweet_count\": 71, \"total_likes\": 377.0, \"sentiment_avg\": 0.1433323943661971, \"total_retweets\": 91.0, \"top_hashtag\": \"#biden\", \"top_hashtag_likes\": 288.0, \"id\": 1, \"states_code\": \"AL\"}, {\"state\": \"Alabama\", \"date\": \"2020-11-07\", \"tweet_count\": 148, \"total_likes\": 669.0, \"sentiment_avg\": 0.1006959459459459, \"total_retweets\": 134.0, \"top_hashtag\": \"#trump\", \"top_hashtag_likes\": 585.0, \"id\": 1, \"states_code\": \"AL\"}, {\"state\": \"Alabama\", \"date\": \"2020-11-08\", \"tweet_count\": 116, \"total_likes\": 478.0, \"sentiment_avg\": 0.2263405172413793, \"total_retweets\": 64.0, \"top_hashtag\": \"#biden\", \"top_hashtag_likes\": 417.0, \"id\": 1, \"states_code\": \"AL\"}, {\"state\": \"Alaska\", \"date\": \"2020-10-15\", \"tweet_count\": 30, \"total_likes\": 6.0, \"sentiment_avg\": 0.15811, \"total_retweets\": 5.0, \"top_hashtag\": \"#biden\", \"top_hashtag_likes\": 5.0, \"id\": 2, \"states_code\": \"AK\"}, {\"state\": \"Alaska\", \"date\": \"2020-10-16\", \"tweet_count\": 41, \"total_likes\": 21.0, \"sentiment_avg\": 0.2186853658536585, \"total_retweets\": 3.0, \"top_hashtag\": \"#trump\", \"top_hashtag_likes\": 13.0, \"id\": 2, \"states_code\": \"AK\"}, {\"state\": \"Alaska\", \"date\": \"2020-10-17\", \"tweet_count\": 24, \"total_likes\": 37.0, \"sentiment_avg\": 0.1994208333333333, \"total_retweets\": 11.0, \"top_hashtag\": \"#trump\", \"top_hashtag_likes\": 31.0, \"id\": 2, \"states_code\": \"AK\"}, {\"state\": \"Alaska\", \"date\": \"2020-10-18\", \"tweet_count\": 20, \"total_likes\": 28.0, \"sentiment_avg\": 0.0305599999999999, \"total_retweets\": 9.0, \"top_hashtag\": \"#trump\", \"top_hashtag_likes\": 26.0, \"id\": 2, \"states_code\": \"AK\"}, {\"state\": \"Alaska\", \"date\": \"2020-10-19\", \"tweet_count\": 10, \"total_likes\": 4.0, \"sentiment_avg\": -0.04724, \"total_retweets\": 4.0, \"top_hashtag\": \"#trump\", \"top_hashtag_likes\": 3.0, \"id\": 2, \"states_code\": \"AK\"}, {\"state\": \"Alaska\", \"date\": \"2020-10-20\", \"tweet_count\": 11, \"total_likes\": 33.0, \"sentiment_avg\": 0.0059818181818181, \"total_retweets\": 4.0, \"top_hashtag\": \"#trump\", \"top_hashtag_likes\": 33.0, \"id\": 2, \"states_code\": \"AK\"}, {\"state\": \"Alaska\", \"date\": \"2020-10-21\", \"tweet_count\": 13, \"total_likes\": 6.0, \"sentiment_avg\": -0.1150076923076923, \"total_retweets\": 0.0, \"top_hashtag\": \"#trump\", \"top_hashtag_likes\": 4.0, \"id\": 2, \"states_code\": \"AK\"}, {\"state\": \"Alaska\", \"date\": \"2020-10-22\", \"tweet_count\": 15, \"total_likes\": 23.0, \"sentiment_avg\": -0.3245066666666666, \"total_retweets\": 2.0, \"top_hashtag\": \"#trump\", \"top_hashtag_likes\": 18.0, \"id\": 2, \"states_code\": \"AK\"}, {\"state\": \"Alaska\", \"date\": \"2020-10-23\", \"tweet_count\": 58, \"total_likes\": 52.0, \"sentiment_avg\": -0.0253568965517241, \"total_retweets\": 8.0, \"top_hashtag\": \"#biden\", \"top_hashtag_likes\": 44.0, \"id\": 2, \"states_code\": \"AK\"}, {\"state\": \"Alaska\", \"date\": \"2020-10-24\", \"tweet_count\": 20, \"total_likes\": 19.0, \"sentiment_avg\": -0.22346, \"total_retweets\": 1.0, \"top_hashtag\": \"#biden\", \"top_hashtag_likes\": 18.0, \"id\": 2, \"states_code\": \"AK\"}, {\"state\": \"Alaska\", \"date\": \"2020-10-25\", \"tweet_count\": 22, \"total_likes\": 34.0, \"sentiment_avg\": -0.2067772727272727, \"total_retweets\": 7.0, \"top_hashtag\": \"#biden\", \"top_hashtag_likes\": 21.0, \"id\": 2, \"states_code\": \"AK\"}, {\"state\": \"Alaska\", \"date\": \"2020-10-26\", \"tweet_count\": 24, \"total_likes\": 9.0, \"sentiment_avg\": 0.1030166666666666, \"total_retweets\": 1.0, \"top_hashtag\": \"#trump\", \"top_hashtag_likes\": 6.0, \"id\": 2, \"states_code\": \"AK\"}, {\"state\": \"Alaska\", \"date\": \"2020-10-27\", \"tweet_count\": 31, \"total_likes\": 13.0, \"sentiment_avg\": 0.0640129032258064, \"total_retweets\": 2.0, \"top_hashtag\": \"#trump\", \"top_hashtag_likes\": 7.0, \"id\": 2, \"states_code\": \"AK\"}, {\"state\": \"Alaska\", \"date\": \"2020-10-28\", \"tweet_count\": 29, \"total_likes\": 56.0, \"sentiment_avg\": -0.0810103448275862, \"total_retweets\": 64.0, \"top_hashtag\": \"#biden\", \"top_hashtag_likes\": 55.0, \"id\": 2, \"states_code\": \"AK\"}, {\"state\": \"Alaska\", \"date\": \"2020-10-29\", \"tweet_count\": 38, \"total_likes\": 38.0, \"sentiment_avg\": 0.1812184210526315, \"total_retweets\": 4.0, \"top_hashtag\": \"#biden\", \"top_hashtag_likes\": 32.0, \"id\": 2, \"states_code\": \"AK\"}, {\"state\": \"Alaska\", \"date\": \"2020-10-30\", \"tweet_count\": 21, \"total_likes\": 9.0, \"sentiment_avg\": 0.1789428571428571, \"total_retweets\": 1.0, \"top_hashtag\": \"#biden\", \"top_hashtag_likes\": 8.0, \"id\": 2, \"states_code\": \"AK\"}, {\"state\": \"Alaska\", \"date\": \"2020-10-31\", \"tweet_count\": 14, \"total_likes\": 5.0, \"sentiment_avg\": -0.1868, \"total_retweets\": 0.0, \"top_hashtag\": \"#biden\", \"top_hashtag_likes\": 4.0, \"id\": 2, \"states_code\": \"AK\"}, {\"state\": \"Alaska\", \"date\": \"2020-11-01\", \"tweet_count\": 18, \"total_likes\": 6.0, \"sentiment_avg\": -0.0964444444444444, \"total_retweets\": 0.0, \"top_hashtag\": \"#biden\", \"top_hashtag_likes\": 4.0, \"id\": 2, \"states_code\": \"AK\"}, {\"state\": \"Alaska\", \"date\": \"2020-11-02\", \"tweet_count\": 14, \"total_likes\": 8.0, \"sentiment_avg\": 0.05565, \"total_retweets\": 4.0, \"top_hashtag\": \"#biden\", \"top_hashtag_likes\": 4.0, \"id\": 2, \"states_code\": \"AK\"}, {\"state\": \"Alaska\", \"date\": \"2020-11-03\", \"tweet_count\": 36, \"total_likes\": 45.0, \"sentiment_avg\": 0.0764027777777777, \"total_retweets\": 6.0, \"top_hashtag\": \"#election2020\", \"top_hashtag_likes\": 30.0, \"id\": 2, \"states_code\": \"AK\"}, {\"state\": \"Alaska\", \"date\": \"2020-11-04\", \"tweet_count\": 28, \"total_likes\": 29.0, \"sentiment_avg\": 0.1632571428571428, \"total_retweets\": 7.0, \"top_hashtag\": \"#trump\", \"top_hashtag_likes\": 27.0, \"id\": 2, \"states_code\": \"AK\"}, {\"state\": \"Alaska\", \"date\": \"2020-11-05\", \"tweet_count\": 33, \"total_likes\": 121.0, \"sentiment_avg\": -0.0896848484848484, \"total_retweets\": 16.0, \"top_hashtag\": \"#biden\", \"top_hashtag_likes\": 120.0, \"id\": 2, \"states_code\": \"AK\"}, {\"state\": \"Alaska\", \"date\": \"2020-11-06\", \"tweet_count\": 30, \"total_likes\": 45.0, \"sentiment_avg\": 0.1436, \"total_retweets\": 17.0, \"top_hashtag\": \"#biden\", \"top_hashtag_likes\": 39.0, \"id\": 2, \"states_code\": \"AK\"}, {\"state\": \"Alaska\", \"date\": \"2020-11-07\", \"tweet_count\": 42, \"total_likes\": 114.0, \"sentiment_avg\": 0.1723333333333333, \"total_retweets\": 13.0, \"top_hashtag\": \"#biden\", \"top_hashtag_likes\": 111.0, \"id\": 2, \"states_code\": \"AK\"}, {\"state\": \"Alaska\", \"date\": \"2020-11-08\", \"tweet_count\": 27, \"total_likes\": 46.0, \"sentiment_avg\": 0.0809888888888888, \"total_retweets\": 8.0, \"top_hashtag\": \"#biden\", \"top_hashtag_likes\": 24.0, \"id\": 2, \"states_code\": \"AK\"}, {\"state\": \"Arizona\", \"date\": \"2020-10-15\", \"tweet_count\": 172, \"total_likes\": 170.0, \"sentiment_avg\": 0.0738168604651162, \"total_retweets\": 44.0, \"top_hashtag\": \"#biden\", \"top_hashtag_likes\": 110.0, \"id\": 4, \"states_code\": \"AZ\"}, {\"state\": \"Arizona\", \"date\": \"2020-10-16\", \"tweet_count\": 188, \"total_likes\": 548.0, \"sentiment_avg\": 0.0452712765957446, \"total_retweets\": 111.0, \"top_hashtag\": \"#biden\", \"top_hashtag_likes\": 522.0, \"id\": 4, \"states_code\": \"AZ\"}, {\"state\": \"Arizona\", \"date\": \"2020-10-17\", \"tweet_count\": 94, \"total_likes\": 153.0, \"sentiment_avg\": -0.0187851063829787, \"total_retweets\": 66.0, \"top_hashtag\": \"#biden\", \"top_hashtag_likes\": 112.0, \"id\": 4, \"states_code\": \"AZ\"}, {\"state\": \"Arizona\", \"date\": \"2020-10-18\", \"tweet_count\": 106, \"total_likes\": 201.0, \"sentiment_avg\": 0.1170801886792452, \"total_retweets\": 72.0, \"top_hashtag\": \"#biden\", \"top_hashtag_likes\": 144.0, \"id\": 4, \"states_code\": \"AZ\"}, {\"state\": \"Arizona\", \"date\": \"2020-10-19\", \"tweet_count\": 159, \"total_likes\": 640.0, \"sentiment_avg\": -0.0600037735849056, \"total_retweets\": 193.0, \"top_hashtag\": \"#trump\", \"top_hashtag_likes\": 579.0, \"id\": 4, \"states_code\": \"AZ\"}, {\"state\": \"Arizona\", \"date\": \"2020-10-20\", \"tweet_count\": 135, \"total_likes\": 562.0, \"sentiment_avg\": -0.0368133333333333, \"total_retweets\": 149.0, \"top_hashtag\": \"#trump\", \"top_hashtag_likes\": 456.0, \"id\": 4, \"states_code\": \"AZ\"}, {\"state\": \"Arizona\", \"date\": \"2020-10-21\", \"tweet_count\": 157, \"total_likes\": 262.0, \"sentiment_avg\": -0.0083866242038216, \"total_retweets\": 83.0, \"top_hashtag\": \"#biden\", \"top_hashtag_likes\": 187.0, \"id\": 4, \"states_code\": \"AZ\"}, {\"state\": \"Arizona\", \"date\": \"2020-10-22\", \"tweet_count\": 180, \"total_likes\": 602.0, \"sentiment_avg\": 0.0531188888888888, \"total_retweets\": 229.0, \"top_hashtag\": \"#biden\", \"top_hashtag_likes\": 367.0, \"id\": 4, \"states_code\": \"AZ\"}, {\"state\": \"Arizona\", \"date\": \"2020-10-23\", \"tweet_count\": 453, \"total_likes\": 1079.0, \"sentiment_avg\": -0.0401706401766004, \"total_retweets\": 256.0, \"top_hashtag\": \"#biden\", \"top_hashtag_likes\": 1008.0, \"id\": 4, \"states_code\": \"AZ\"}, {\"state\": \"Arizona\", \"date\": \"2020-10-24\", \"tweet_count\": 139, \"total_likes\": 187.0, \"sentiment_avg\": 0.1054395683453237, \"total_retweets\": 60.0, \"top_hashtag\": \"#trump\", \"top_hashtag_likes\": 137.0, \"id\": 4, \"states_code\": \"AZ\"}, {\"state\": \"Arizona\", \"date\": \"2020-10-25\", \"tweet_count\": 109, \"total_likes\": 155.0, \"sentiment_avg\": 0.0994229357798165, \"total_retweets\": 29.0, \"top_hashtag\": \"#biden\", \"top_hashtag_likes\": 124.0, \"id\": 4, \"states_code\": \"AZ\"}, {\"state\": \"Arizona\", \"date\": \"2020-10-26\", \"tweet_count\": 114, \"total_likes\": 335.0, \"sentiment_avg\": 0.0257149122807017, \"total_retweets\": 43.0, \"top_hashtag\": \"#trump\", \"top_hashtag_likes\": 315.0, \"id\": 4, \"states_code\": \"AZ\"}, {\"state\": \"Arizona\", \"date\": \"2020-10-27\", \"tweet_count\": 120, \"total_likes\": 340.0, \"sentiment_avg\": 0.0194691666666666, \"total_retweets\": 49.0, \"top_hashtag\": \"#biden\", \"top_hashtag_likes\": 301.0, \"id\": 4, \"states_code\": \"AZ\"}, {\"state\": \"Arizona\", \"date\": \"2020-10-28\", \"tweet_count\": 150, \"total_likes\": 243.0, \"sentiment_avg\": 0.11403, \"total_retweets\": 53.0, \"top_hashtag\": \"#trump\", \"top_hashtag_likes\": 165.0, \"id\": 4, \"states_code\": \"AZ\"}, {\"state\": \"Arizona\", \"date\": \"2020-10-29\", \"tweet_count\": 204, \"total_likes\": 281.0, \"sentiment_avg\": 0.0047735294117647, \"total_retweets\": 71.0, \"top_hashtag\": \"#trump\", \"top_hashtag_likes\": 193.0, \"id\": 4, \"states_code\": \"AZ\"}, {\"state\": \"Arizona\", \"date\": \"2020-10-30\", \"tweet_count\": 131, \"total_likes\": 483.0, \"sentiment_avg\": 0.0067396946564885, \"total_retweets\": 136.0, \"top_hashtag\": \"#trump\", \"top_hashtag_likes\": 370.0, \"id\": 4, \"states_code\": \"AZ\"}, {\"state\": \"Arizona\", \"date\": \"2020-10-31\", \"tweet_count\": 118, \"total_likes\": 141.0, \"sentiment_avg\": 0.0119440677966101, \"total_retweets\": 103.0, \"top_hashtag\": \"#trump\", \"top_hashtag_likes\": 76.0, \"id\": 4, \"states_code\": \"AZ\"}, {\"state\": \"Arizona\", \"date\": \"2020-11-01\", \"tweet_count\": 192, \"total_likes\": 1097.0, \"sentiment_avg\": 0.0836312499999999, \"total_retweets\": 199.0, \"top_hashtag\": \"#vote\", \"top_hashtag_likes\": 807.0, \"id\": 4, \"states_code\": \"AZ\"}, {\"state\": \"Arizona\", \"date\": \"2020-11-02\", \"tweet_count\": 267, \"total_likes\": 989.0, \"sentiment_avg\": 0.0217988764044943, \"total_retweets\": 530.0, \"top_hashtag\": \"#trump\", \"top_hashtag_likes\": 929.0, \"id\": 4, \"states_code\": \"AZ\"}, {\"state\": \"Arizona\", \"date\": \"2020-11-03\", \"tweet_count\": 272, \"total_likes\": 708.0, \"sentiment_avg\": 0.1012238970588235, \"total_retweets\": 190.0, \"top_hashtag\": \"#trump\", \"top_hashtag_likes\": 533.0, \"id\": 4, \"states_code\": \"AZ\"}, {\"state\": \"Arizona\", \"date\": \"2020-11-04\", \"tweet_count\": 327, \"total_likes\": 1872.0, \"sentiment_avg\": 0.0415480122324159, \"total_retweets\": 333.0, \"top_hashtag\": \"#trump\", \"top_hashtag_likes\": 1215.0, \"id\": 4, \"states_code\": \"AZ\"}, {\"state\": \"Arizona\", \"date\": \"2020-11-05\", \"tweet_count\": 217, \"total_likes\": 257.0, \"sentiment_avg\": -0.0503216589861751, \"total_retweets\": 49.0, \"top_hashtag\": \"#biden\", \"top_hashtag_likes\": 182.0, \"id\": 4, \"states_code\": \"AZ\"}, {\"state\": \"Arizona\", \"date\": \"2020-11-06\", \"tweet_count\": 313, \"total_likes\": 5657.0, \"sentiment_avg\": -0.02489392971246, \"total_retweets\": 795.0, \"top_hashtag\": \"#biden\", \"top_hashtag_likes\": 5033.0, \"id\": 4, \"states_code\": \"AZ\"}, {\"state\": \"Arizona\", \"date\": \"2020-11-07\", \"tweet_count\": 452, \"total_likes\": 3362.0, \"sentiment_avg\": 0.1357280973451327, \"total_retweets\": 619.0, \"top_hashtag\": \"#biden\", \"top_hashtag_likes\": 3254.0, \"id\": 4, \"states_code\": \"AZ\"}, {\"state\": \"Arizona\", \"date\": \"2020-11-08\", \"tweet_count\": 225, \"total_likes\": 416.0, \"sentiment_avg\": 0.1191728888888888, \"total_retweets\": 99.0, \"top_hashtag\": \"#trump\", \"top_hashtag_likes\": 261.0, \"id\": 4, \"states_code\": \"AZ\"}, {\"state\": \"Arkansas\", \"date\": \"2020-10-15\", \"tweet_count\": 46, \"total_likes\": 21.0, \"sentiment_avg\": -0.0815326086956521, \"total_retweets\": 6.0, \"top_hashtag\": \"#trump\", \"top_hashtag_likes\": 12.0, \"id\": 5, \"states_code\": \"AR\"}, {\"state\": \"Arkansas\", \"date\": \"2020-10-16\", \"tweet_count\": 77, \"total_likes\": 258.0, \"sentiment_avg\": -0.3742896103896104, \"total_retweets\": 189.0, \"top_hashtag\": \"#biden\", \"top_hashtag_likes\": 247.0, \"id\": 5, \"states_code\": \"AR\"}, {\"state\": \"Arkansas\", \"date\": \"2020-10-17\", \"tweet_count\": 17, \"total_likes\": 3.0, \"sentiment_avg\": 0.0270176470588235, \"total_retweets\": 2.0, \"top_hashtag\": \"#trump\", \"top_hashtag_likes\": 3.0, \"id\": 5, \"states_code\": \"AR\"}, {\"state\": \"Arkansas\", \"date\": \"2020-10-18\", \"tweet_count\": 19, \"total_likes\": 14.0, \"sentiment_avg\": -0.3308, \"total_retweets\": 3.0, \"top_hashtag\": \"#trump\", \"top_hashtag_likes\": 12.0, \"id\": 5, \"states_code\": \"AR\"}, {\"state\": \"Arkansas\", \"date\": \"2020-10-19\", \"tweet_count\": 31, \"total_likes\": 21.0, \"sentiment_avg\": -0.4286967741935484, \"total_retweets\": 13.0, \"top_hashtag\": \"#trump\", \"top_hashtag_likes\": 16.0, \"id\": 5, \"states_code\": \"AR\"}, {\"state\": \"Arkansas\", \"date\": \"2020-10-20\", \"tweet_count\": 28, \"total_likes\": 15.0, \"sentiment_avg\": 0.3795642857142857, \"total_retweets\": 3.0, \"top_hashtag\": \"#trump\", \"top_hashtag_likes\": 12.0, \"id\": 5, \"states_code\": \"AR\"}, {\"state\": \"Arkansas\", \"date\": \"2020-10-21\", \"tweet_count\": 30, \"total_likes\": 120.0, \"sentiment_avg\": -0.0416599999999999, \"total_retweets\": 18.0, \"top_hashtag\": \"#biden\", \"top_hashtag_likes\": 108.0, \"id\": 5, \"states_code\": \"AR\"}, {\"state\": \"Arkansas\", \"date\": \"2020-10-22\", \"tweet_count\": 26, \"total_likes\": 26.0, \"sentiment_avg\": -0.0746692307692308, \"total_retweets\": 5.0, \"top_hashtag\": \"#trump\", \"top_hashtag_likes\": 14.0, \"id\": 5, \"states_code\": \"AR\"}, {\"state\": \"Arkansas\", \"date\": \"2020-10-23\", \"tweet_count\": 71, \"total_likes\": 79.0, \"sentiment_avg\": -0.0367197183098591, \"total_retweets\": 23.0, \"top_hashtag\": \"#trump\", \"top_hashtag_likes\": 70.0, \"id\": 5, \"states_code\": \"AR\"}, {\"state\": \"Arkansas\", \"date\": \"2020-10-24\", \"tweet_count\": 24, \"total_likes\": 7.0, \"sentiment_avg\": 0.1814458333333333, \"total_retweets\": 1.0, \"top_hashtag\": \"#biden\", \"top_hashtag_likes\": 7.0, \"id\": 5, \"states_code\": \"AR\"}, {\"state\": \"Arkansas\", \"date\": \"2020-10-25\", \"tweet_count\": 22, \"total_likes\": 15.0, \"sentiment_avg\": -0.10465, \"total_retweets\": 9.0, \"top_hashtag\": \"#biden\", \"top_hashtag_likes\": 11.0, \"id\": 5, \"states_code\": \"AR\"}, {\"state\": \"Arkansas\", \"date\": \"2020-10-26\", \"tweet_count\": 41, \"total_likes\": 23.0, \"sentiment_avg\": 0.4816292682926829, \"total_retweets\": 6.0, \"top_hashtag\": \"#trump\", \"top_hashtag_likes\": 32.0, \"id\": 5, \"states_code\": \"AR\"}, {\"state\": \"Arkansas\", \"date\": \"2020-10-27\", \"tweet_count\": 30, \"total_likes\": 23.0, \"sentiment_avg\": 0.2934733333333333, \"total_retweets\": 6.0, \"top_hashtag\": \"#trump\", \"top_hashtag_likes\": 16.0, \"id\": 5, \"states_code\": \"AR\"}, {\"state\": \"Arkansas\", \"date\": \"2020-10-28\", \"tweet_count\": 28, \"total_likes\": 32.0, \"sentiment_avg\": -0.1223678571428571, \"total_retweets\": 21.0, \"top_hashtag\": \"#biden\", \"top_hashtag_likes\": 31.0, \"id\": 5, \"states_code\": \"AR\"}, {\"state\": \"Arkansas\", \"date\": \"2020-10-29\", \"tweet_count\": 13, \"total_likes\": 58.0, \"sentiment_avg\": 0.2122461538461538, \"total_retweets\": 12.0, \"top_hashtag\": \"#trump\", \"top_hashtag_likes\": 55.0, \"id\": 5, \"states_code\": \"AR\"}, {\"state\": \"Arkansas\", \"date\": \"2020-10-30\", \"tweet_count\": 22, \"total_likes\": 21.0, \"sentiment_avg\": 0.1713181818181818, \"total_retweets\": 6.0, \"top_hashtag\": \"#trump\", \"top_hashtag_likes\": 13.0, \"id\": 5, \"states_code\": \"AR\"}, {\"state\": \"Arkansas\", \"date\": \"2020-10-31\", \"tweet_count\": 33, \"total_likes\": 10.0, \"sentiment_avg\": -0.0131181818181818, \"total_retweets\": 3.0, \"top_hashtag\": \"#biden\", \"top_hashtag_likes\": 10.0, \"id\": 5, \"states_code\": \"AR\"}, {\"state\": \"Arkansas\", \"date\": \"2020-11-01\", \"tweet_count\": 19, \"total_likes\": 5.0, \"sentiment_avg\": -0.0601526315789473, \"total_retweets\": 3.0, \"top_hashtag\": \"#trump\", \"top_hashtag_likes\": 5.0, \"id\": 5, \"states_code\": \"AR\"}, {\"state\": \"Arkansas\", \"date\": \"2020-11-02\", \"tweet_count\": 33, \"total_likes\": 91.0, \"sentiment_avg\": -0.1793151515151515, \"total_retweets\": 5.0, \"top_hashtag\": \"#trump\", \"top_hashtag_likes\": 90.0, \"id\": 5, \"states_code\": \"AR\"}, {\"state\": \"Arkansas\", \"date\": \"2020-11-03\", \"tweet_count\": 20, \"total_likes\": 12.0, \"sentiment_avg\": 0.104125, \"total_retweets\": 3.0, \"top_hashtag\": \"#trump\", \"top_hashtag_likes\": 10.0, \"id\": 5, \"states_code\": \"AR\"}, {\"state\": \"Arkansas\", \"date\": \"2020-11-04\", \"tweet_count\": 63, \"total_likes\": 123.0, \"sentiment_avg\": 0.0241253968253968, \"total_retweets\": 18.0, \"top_hashtag\": \"#trump\", \"top_hashtag_likes\": 98.0, \"id\": 5, \"states_code\": \"AR\"}, {\"state\": \"Arkansas\", \"date\": \"2020-11-05\", \"tweet_count\": 32, \"total_likes\": 34.0, \"sentiment_avg\": -0.05276875, \"total_retweets\": 7.0, \"top_hashtag\": \"#biden\", \"top_hashtag_likes\": 21.0, \"id\": 5, \"states_code\": \"AR\"}, {\"state\": \"Arkansas\", \"date\": \"2020-11-06\", \"tweet_count\": 51, \"total_likes\": 125.0, \"sentiment_avg\": -0.1107313725490196, \"total_retweets\": 15.0, \"top_hashtag\": \"#trump\", \"top_hashtag_likes\": 120.0, \"id\": 5, \"states_code\": \"AR\"}, {\"state\": \"Arkansas\", \"date\": \"2020-11-07\", \"tweet_count\": 71, \"total_likes\": 136.0, \"sentiment_avg\": 0.2377492957746478, \"total_retweets\": 39.0, \"top_hashtag\": \"#biden\", \"top_hashtag_likes\": 134.0, \"id\": 5, \"states_code\": \"AR\"}, {\"state\": \"Arkansas\", \"date\": \"2020-11-08\", \"tweet_count\": 33, \"total_likes\": 40.0, \"sentiment_avg\": 0.1860878787878788, \"total_retweets\": 3.0, \"top_hashtag\": \"#biden\", \"top_hashtag_likes\": 31.0, \"id\": 5, \"states_code\": \"AR\"}, {\"state\": \"California\", \"date\": \"2020-10-15\", \"tweet_count\": 1528, \"total_likes\": 6998.0, \"sentiment_avg\": -0.0655507198952879, \"total_retweets\": 2314.0, \"top_hashtag\": \"#biden\", \"top_hashtag_likes\": 5702.0, \"id\": 6, \"states_code\": \"CA\"}, {\"state\": \"California\", \"date\": \"2020-10-16\", \"tweet_count\": 1920, \"total_likes\": 23981.0, \"sentiment_avg\": 0.0481569270833333, \"total_retweets\": 7899.0, \"top_hashtag\": \"#trump\", \"top_hashtag_likes\": 18932.0, \"id\": 6, \"states_code\": \"CA\"}, {\"state\": \"California\", \"date\": \"2020-10-17\", \"tweet_count\": 1441, \"total_likes\": 2778.0, \"sentiment_avg\": -0.0237580152671755, \"total_retweets\": 842.0, \"top_hashtag\": \"#trump\", \"top_hashtag_likes\": 1697.0, \"id\": 6, \"states_code\": \"CA\"}, {\"state\": \"California\", \"date\": \"2020-10-18\", \"tweet_count\": 1439, \"total_likes\": 3415.0, \"sentiment_avg\": -0.0160993050729673, \"total_retweets\": 1020.0, \"top_hashtag\": \"#trump\", \"top_hashtag_likes\": 2169.0, \"id\": 6, \"states_code\": \"CA\"}, {\"state\": \"California\", \"date\": \"2020-10-19\", \"tweet_count\": 1302, \"total_likes\": 2992.0, \"sentiment_avg\": -0.0488046850998463, \"total_retweets\": 1097.0, \"top_hashtag\": \"#trump\", \"top_hashtag_likes\": 2358.0, \"id\": 6, \"states_code\": \"CA\"}, {\"state\": \"California\", \"date\": \"2020-10-20\", \"tweet_count\": 1216, \"total_likes\": 3086.0, \"sentiment_avg\": -0.0011319078947368, \"total_retweets\": 850.0, \"top_hashtag\": \"#trump\", \"top_hashtag_likes\": 2061.0, \"id\": 6, \"states_code\": \"CA\"}, {\"state\": \"California\", \"date\": \"2020-10-21\", \"tweet_count\": 1435, \"total_likes\": 4440.0, \"sentiment_avg\": -0.0222232055749128, \"total_retweets\": 1232.0, \"top_hashtag\": \"#trump\", \"top_hashtag_likes\": 2516.0, \"id\": 6, \"states_code\": \"CA\"}, {\"state\": \"California\", \"date\": \"2020-10-22\", \"tweet_count\": 1524, \"total_likes\": 3977.0, \"sentiment_avg\": -0.0132629921259842, \"total_retweets\": 828.0, \"top_hashtag\": \"#biden\", \"top_hashtag_likes\": 2752.0, \"id\": 6, \"states_code\": \"CA\"}, {\"state\": \"California\", \"date\": \"2020-10-23\", \"tweet_count\": 3782, \"total_likes\": 10817.0, \"sentiment_avg\": -0.0132186409307244, \"total_retweets\": 2303.0, \"top_hashtag\": \"#biden\", \"top_hashtag_likes\": 8221.0, \"id\": 6, \"states_code\": \"CA\"}, {\"state\": \"California\", \"date\": \"2020-10-24\", \"tweet_count\": 1273, \"total_likes\": 6692.0, \"sentiment_avg\": 0.0170999214454045, \"total_retweets\": 1545.0, \"top_hashtag\": \"#biden\", \"top_hashtag_likes\": 4839.0, \"id\": 6, \"states_code\": \"CA\"}, {\"state\": \"California\", \"date\": \"2020-10-25\", \"tweet_count\": 1364, \"total_likes\": 4871.0, \"sentiment_avg\": -0.0019733137829912, \"total_retweets\": 1159.0, \"top_hashtag\": \"#biden\", \"top_hashtag_likes\": 3554.0, \"id\": 6, \"states_code\": \"CA\"}, {\"state\": \"California\", \"date\": \"2020-10-26\", \"tweet_count\": 1306, \"total_likes\": 2019.0, \"sentiment_avg\": -0.0464039050535987, \"total_retweets\": 572.0, \"top_hashtag\": \"#trump\", \"top_hashtag_likes\": 1226.0, \"id\": 6, \"states_code\": \"CA\"}, {\"state\": \"California\", \"date\": \"2020-10-27\", \"tweet_count\": 1398, \"total_likes\": 4124.0, \"sentiment_avg\": -0.0102057939914163, \"total_retweets\": 1224.0, \"top_hashtag\": \"#trump\", \"top_hashtag_likes\": 2862.0, \"id\": 6, \"states_code\": \"CA\"}, {\"state\": \"California\", \"date\": \"2020-10-28\", \"tweet_count\": 1483, \"total_likes\": 3232.0, \"sentiment_avg\": -0.0106091031692515, \"total_retweets\": 1084.0, \"top_hashtag\": \"#trump\", \"top_hashtag_likes\": 1942.0, \"id\": 6, \"states_code\": \"CA\"}, {\"state\": \"California\", \"date\": \"2020-10-29\", \"tweet_count\": 1340, \"total_likes\": 3399.0, \"sentiment_avg\": 0.0132257462686567, \"total_retweets\": 829.0, \"top_hashtag\": \"#trump\", \"top_hashtag_likes\": 2435.0, \"id\": 6, \"states_code\": \"CA\"}, {\"state\": \"California\", \"date\": \"2020-10-30\", \"tweet_count\": 1332, \"total_likes\": 9761.0, \"sentiment_avg\": 0.0002986486486486, \"total_retweets\": 3140.0, \"top_hashtag\": \"#biden\", \"top_hashtag_likes\": 8391.0, \"id\": 6, \"states_code\": \"CA\"}, {\"state\": \"California\", \"date\": \"2020-10-31\", \"tweet_count\": 1311, \"total_likes\": 3801.0, \"sentiment_avg\": 0.0130811594202898, \"total_retweets\": 1870.0, \"top_hashtag\": \"#trump\", \"top_hashtag_likes\": 3011.0, \"id\": 6, \"states_code\": \"CA\"}, {\"state\": \"California\", \"date\": \"2020-11-01\", \"tweet_count\": 1534, \"total_likes\": 19422.0, \"sentiment_avg\": -0.024860886571056, \"total_retweets\": 3922.0, \"top_hashtag\": \"#trump\", \"top_hashtag_likes\": 18374.0, \"id\": 6, \"states_code\": \"CA\"}, {\"state\": \"California\", \"date\": \"2020-11-02\", \"tweet_count\": 2081, \"total_likes\": 10262.0, \"sentiment_avg\": -0.0076823161941374, \"total_retweets\": 2525.0, \"top_hashtag\": \"#trump\", \"top_hashtag_likes\": 6826.0, \"id\": 6, \"states_code\": \"CA\"}, {\"state\": \"California\", \"date\": \"2020-11-03\", \"tweet_count\": 2405, \"total_likes\": 14229.0, \"sentiment_avg\": 0.090521081081081, \"total_retweets\": 2629.0, \"top_hashtag\": \"#trump\", \"top_hashtag_likes\": 8866.0, \"id\": 6, \"states_code\": \"CA\"}, {\"state\": \"California\", \"date\": \"2020-11-04\", \"tweet_count\": 3587, \"total_likes\": 24303.0, \"sentiment_avg\": 0.1122030666294954, \"total_retweets\": 4326.0, \"top_hashtag\": \"#biden\", \"top_hashtag_likes\": 15843.0, \"id\": 6, \"states_code\": \"CA\"}, {\"state\": \"California\", \"date\": \"2020-11-05\", \"tweet_count\": 2498, \"total_likes\": 13320.0, \"sentiment_avg\": -0.0043058847077662, \"total_retweets\": 2215.0, \"top_hashtag\": \"#trump\", \"top_hashtag_likes\": 10255.0, \"id\": 6, \"states_code\": \"CA\"}, {\"state\": \"California\", \"date\": \"2020-11-06\", \"tweet_count\": 3293, \"total_likes\": 30329.0, \"sentiment_avg\": 0.0275299423018524, \"total_retweets\": 6976.0, \"top_hashtag\": \"#trump\", \"top_hashtag_likes\": 17782.0, \"id\": 6, \"states_code\": \"CA\"}, {\"state\": \"California\", \"date\": \"2020-11-07\", \"tweet_count\": 4629, \"total_likes\": 39953.0, \"sentiment_avg\": 0.1717703391661266, \"total_retweets\": 8428.0, \"top_hashtag\": \"#biden\", \"top_hashtag_likes\": 31100.0, \"id\": 6, \"states_code\": \"CA\"}, {\"state\": \"California\", \"date\": \"2020-11-08\", \"tweet_count\": 2485, \"total_likes\": 15708.0, \"sentiment_avg\": 0.1474976659959758, \"total_retweets\": 2107.0, \"top_hashtag\": \"#biden\", \"top_hashtag_likes\": 11351.0, \"id\": 6, \"states_code\": \"CA\"}, {\"state\": \"Colorado\", \"date\": \"2020-10-15\", \"tweet_count\": 357, \"total_likes\": 274.0, \"sentiment_avg\": 0.0055588235294117, \"total_retweets\": 90.0, \"top_hashtag\": \"#trump\", \"top_hashtag_likes\": 206.0, \"id\": 8, \"states_code\": \"CO\"}, {\"state\": \"Colorado\", \"date\": \"2020-10-16\", \"tweet_count\": 203, \"total_likes\": 646.0, \"sentiment_avg\": 0.0863300492610837, \"total_retweets\": 277.0, \"top_hashtag\": \"#biden\", \"top_hashtag_likes\": 599.0, \"id\": 8, \"states_code\": \"CO\"}, {\"state\": \"Colorado\", \"date\": \"2020-10-17\", \"tweet_count\": 125, \"total_likes\": 267.0, \"sentiment_avg\": 0.0098832, \"total_retweets\": 69.0, \"top_hashtag\": \"#biden\", \"top_hashtag_likes\": 224.0, \"id\": 8, \"states_code\": \"CO\"}, {\"state\": \"Colorado\", \"date\": \"2020-10-18\", \"tweet_count\": 150, \"total_likes\": 324.0, \"sentiment_avg\": 0.0399366666666666, \"total_retweets\": 105.0, \"top_hashtag\": \"#biden\", \"top_hashtag_likes\": 263.0, \"id\": 8, \"states_code\": \"CO\"}, {\"state\": \"Colorado\", \"date\": \"2020-10-19\", \"tweet_count\": 164, \"total_likes\": 203.0, \"sentiment_avg\": 0.2780804878048781, \"total_retweets\": 70.0, \"top_hashtag\": \"#biden\", \"top_hashtag_likes\": 170.0, \"id\": 8, \"states_code\": \"CO\"}, {\"state\": \"Colorado\", \"date\": \"2020-10-20\", \"tweet_count\": 126, \"total_likes\": 353.0, \"sentiment_avg\": -0.0677087301587301, \"total_retweets\": 106.0, \"top_hashtag\": \"#biden\", \"top_hashtag_likes\": 313.0, \"id\": 8, \"states_code\": \"CO\"}, {\"state\": \"Colorado\", \"date\": \"2020-10-21\", \"tweet_count\": 220, \"total_likes\": 196.0, \"sentiment_avg\": 0.2240145454545454, \"total_retweets\": 47.0, \"top_hashtag\": \"#trump\", \"top_hashtag_likes\": 159.0, \"id\": 8, \"states_code\": \"CO\"}, {\"state\": \"Colorado\", \"date\": \"2020-10-22\", \"tweet_count\": 162, \"total_likes\": 896.0, \"sentiment_avg\": 0.0066845679012345, \"total_retweets\": 185.0, \"top_hashtag\": \"#biden\", \"top_hashtag_likes\": 833.0, \"id\": 8, \"states_code\": \"CO\"}, {\"state\": \"Colorado\", \"date\": \"2020-10-23\", \"tweet_count\": 447, \"total_likes\": 854.0, \"sentiment_avg\": -0.0107559284116331, \"total_retweets\": 354.0, \"top_hashtag\": \"#biden\", \"top_hashtag_likes\": 671.0, \"id\": 8, \"states_code\": \"CO\"}, {\"state\": \"Colorado\", \"date\": \"2020-10-24\", \"tweet_count\": 104, \"total_likes\": 188.0, \"sentiment_avg\": 0.033001923076923, \"total_retweets\": 41.0, \"top_hashtag\": \"#biden\", \"top_hashtag_likes\": 128.0, \"id\": 8, \"states_code\": \"CO\"}, {\"state\": \"Colorado\", \"date\": \"2020-10-25\", \"tweet_count\": 108, \"total_likes\": 1047.0, \"sentiment_avg\": -0.1141768518518518, \"total_retweets\": 136.0, \"top_hashtag\": \"#biden\", \"top_hashtag_likes\": 1018.0, \"id\": 8, \"states_code\": \"CO\"}, {\"state\": \"Colorado\", \"date\": \"2020-10-26\", \"tweet_count\": 155, \"total_likes\": 260.0, \"sentiment_avg\": 0.0107632258064516, \"total_retweets\": 81.0, \"top_hashtag\": \"#trump\", \"top_hashtag_likes\": 147.0, \"id\": 8, \"states_code\": \"CO\"}, {\"state\": \"Colorado\", \"date\": \"2020-10-27\", \"tweet_count\": 125, \"total_likes\": 502.0, \"sentiment_avg\": -0.0178184, \"total_retweets\": 61.0, \"top_hashtag\": \"#trump\", \"top_hashtag_likes\": 449.0, \"id\": 8, \"states_code\": \"CO\"}, {\"state\": \"Colorado\", \"date\": \"2020-10-28\", \"tweet_count\": 240, \"total_likes\": 272.0, \"sentiment_avg\": -0.0621066666666666, \"total_retweets\": 54.0, \"top_hashtag\": \"#trump\", \"top_hashtag_likes\": 229.0, \"id\": 8, \"states_code\": \"CO\"}, {\"state\": \"Colorado\", \"date\": \"2020-10-29\", \"tweet_count\": 190, \"total_likes\": 1024.0, \"sentiment_avg\": -0.0497510526315789, \"total_retweets\": 356.0, \"top_hashtag\": \"#biden\", \"top_hashtag_likes\": 948.0, \"id\": 8, \"states_code\": \"CO\"}, {\"state\": \"Colorado\", \"date\": \"2020-10-30\", \"tweet_count\": 94, \"total_likes\": 76.0, \"sentiment_avg\": -0.0732712765957446, \"total_retweets\": 19.0, \"top_hashtag\": \"#trump\", \"top_hashtag_likes\": 41.0, \"id\": 8, \"states_code\": \"CO\"}, {\"state\": \"Colorado\", \"date\": \"2020-10-31\", \"tweet_count\": 189, \"total_likes\": 308.0, \"sentiment_avg\": 0.0636656084656084, \"total_retweets\": 65.0, \"top_hashtag\": \"#biden\", \"top_hashtag_likes\": 191.0, \"id\": 8, \"states_code\": \"CO\"}, {\"state\": \"Colorado\", \"date\": \"2020-11-01\", \"tweet_count\": 225, \"total_likes\": 354.0, \"sentiment_avg\": -0.1586026666666666, \"total_retweets\": 141.0, \"top_hashtag\": \"#trump\", \"top_hashtag_likes\": 336.0, \"id\": 8, \"states_code\": \"CO\"}, {\"state\": \"Colorado\", \"date\": \"2020-11-02\", \"tweet_count\": 197, \"total_likes\": 1273.0, \"sentiment_avg\": 0.035828426395939, \"total_retweets\": 398.0, \"top_hashtag\": \"#trump\", \"top_hashtag_likes\": 989.0, \"id\": 8, \"states_code\": \"CO\"}, {\"state\": \"Colorado\", \"date\": \"2020-11-03\", \"tweet_count\": 214, \"total_likes\": 359.0, \"sentiment_avg\": 0.0787028037383177, \"total_retweets\": 77.0, \"top_hashtag\": \"#biden\", \"top_hashtag_likes\": 286.0, \"id\": 8, \"states_code\": \"CO\"}, {\"state\": \"Colorado\", \"date\": \"2020-11-04\", \"tweet_count\": 386, \"total_likes\": 739.0, \"sentiment_avg\": 0.0871826424870466, \"total_retweets\": 67.0, \"top_hashtag\": \"#biden\", \"top_hashtag_likes\": 530.0, \"id\": 8, \"states_code\": \"CO\"}, {\"state\": \"Colorado\", \"date\": \"2020-11-05\", \"tweet_count\": 212, \"total_likes\": 753.0, \"sentiment_avg\": -0.0351193396226415, \"total_retweets\": 225.0, \"top_hashtag\": \"#biden\", \"top_hashtag_likes\": 498.0, \"id\": 8, \"states_code\": \"CO\"}, {\"state\": \"Colorado\", \"date\": \"2020-11-06\", \"tweet_count\": 283, \"total_likes\": 624.0, \"sentiment_avg\": 0.0537049469964664, \"total_retweets\": 199.0, \"top_hashtag\": \"#biden\", \"top_hashtag_likes\": 501.0, \"id\": 8, \"states_code\": \"CO\"}, {\"state\": \"Colorado\", \"date\": \"2020-11-07\", \"tweet_count\": 556, \"total_likes\": 4087.0, \"sentiment_avg\": 0.2323938848920863, \"total_retweets\": 455.0, \"top_hashtag\": \"#biden\", \"top_hashtag_likes\": 3885.0, \"id\": 8, \"states_code\": \"CO\"}, {\"state\": \"Colorado\", \"date\": \"2020-11-08\", \"tweet_count\": 247, \"total_likes\": 844.0, \"sentiment_avg\": 0.1131, \"total_retweets\": 138.0, \"top_hashtag\": \"#biden\", \"top_hashtag_likes\": 588.0, \"id\": 8, \"states_code\": \"CO\"}, {\"state\": \"Connecticut\", \"date\": \"2020-10-15\", \"tweet_count\": 44, \"total_likes\": 19.0, \"sentiment_avg\": -0.1270363636363636, \"total_retweets\": 9.0, \"top_hashtag\": \"#biden\", \"top_hashtag_likes\": 19.0, \"id\": 9, \"states_code\": \"CT\"}, {\"state\": \"Connecticut\", \"date\": \"2020-10-16\", \"tweet_count\": 55, \"total_likes\": 399.0, \"sentiment_avg\": -0.0184672727272727, \"total_retweets\": 96.0, \"top_hashtag\": \"#trump\", \"top_hashtag_likes\": 274.0, \"id\": 9, \"states_code\": \"CT\"}, {\"state\": \"Connecticut\", \"date\": \"2020-10-17\", \"tweet_count\": 41, \"total_likes\": 164.0, \"sentiment_avg\": 0.0033560975609756, \"total_retweets\": 72.0, \"top_hashtag\": \"#biden\", \"top_hashtag_likes\": 155.0, \"id\": 9, \"states_code\": \"CT\"}, {\"state\": \"Connecticut\", \"date\": \"2020-10-18\", \"tweet_count\": 52, \"total_likes\": 591.0, \"sentiment_avg\": 0.111626923076923, \"total_retweets\": 185.0, \"top_hashtag\": \"#biden\", \"top_hashtag_likes\": 567.0, \"id\": 9, \"states_code\": \"CT\"}, {\"state\": \"Connecticut\", \"date\": \"2020-10-19\", \"tweet_count\": 32, \"total_likes\": 159.0, \"sentiment_avg\": 0.0005531249999999, \"total_retweets\": 123.0, \"top_hashtag\": \"#trump\", \"top_hashtag_likes\": 159.0, \"id\": 9, \"states_code\": \"CT\"}, {\"state\": \"Connecticut\", \"date\": \"2020-10-20\", \"tweet_count\": 40, \"total_likes\": 354.0, \"sentiment_avg\": 0.0205374999999999, \"total_retweets\": 116.0, \"top_hashtag\": \"#trump\", \"top_hashtag_likes\": 329.0, \"id\": 9, \"states_code\": \"CT\"}, {\"state\": \"Connecticut\", \"date\": \"2020-10-21\", \"tweet_count\": 53, \"total_likes\": 550.0, \"sentiment_avg\": 0.0758943396226415, \"total_retweets\": 171.0, \"top_hashtag\": \"#biden\", \"top_hashtag_likes\": 523.0, \"id\": 9, \"states_code\": \"CT\"}, {\"state\": \"Connecticut\", \"date\": \"2020-10-22\", \"tweet_count\": 58, \"total_likes\": 429.0, \"sentiment_avg\": -0.0069793103448275, \"total_retweets\": 107.0, \"top_hashtag\": \"#biden\", \"top_hashtag_likes\": 431.0, \"id\": 9, \"states_code\": \"CT\"}, {\"state\": \"Connecticut\", \"date\": \"2020-10-23\", \"tweet_count\": 174, \"total_likes\": 1591.0, \"sentiment_avg\": 0.0554396551724137, \"total_retweets\": 712.0, \"top_hashtag\": \"#trump\", \"top_hashtag_likes\": 1370.0, \"id\": 9, \"states_code\": \"CT\"}, {\"state\": \"Connecticut\", \"date\": \"2020-10-24\", \"tweet_count\": 52, \"total_likes\": 495.0, \"sentiment_avg\": -0.0764173076923076, \"total_retweets\": 281.0, \"top_hashtag\": \"#biden\", \"top_hashtag_likes\": 381.0, \"id\": 9, \"states_code\": \"CT\"}, {\"state\": \"Connecticut\", \"date\": \"2020-10-25\", \"tweet_count\": 55, \"total_likes\": 188.0, \"sentiment_avg\": -0.0319763636363636, \"total_retweets\": 132.0, \"top_hashtag\": \"#trump\", \"top_hashtag_likes\": 123.0, \"id\": 9, \"states_code\": \"CT\"}, {\"state\": \"Connecticut\", \"date\": \"2020-10-26\", \"tweet_count\": 51, \"total_likes\": 993.0, \"sentiment_avg\": -0.0250686274509803, \"total_retweets\": 440.0, \"top_hashtag\": \"#biden\", \"top_hashtag_likes\": 968.0, \"id\": 9, \"states_code\": \"CT\"}, {\"state\": \"Connecticut\", \"date\": \"2020-10-27\", \"tweet_count\": 63, \"total_likes\": 393.0, \"sentiment_avg\": 0.0485761904761904, \"total_retweets\": 140.0, \"top_hashtag\": \"#biden\", \"top_hashtag_likes\": 230.0, \"id\": 9, \"states_code\": \"CT\"}, {\"state\": \"Connecticut\", \"date\": \"2020-10-28\", \"tweet_count\": 61, \"total_likes\": 176.0, \"sentiment_avg\": -0.0215918032786885, \"total_retweets\": 49.0, \"top_hashtag\": \"#biden\", \"top_hashtag_likes\": 138.0, \"id\": 9, \"states_code\": \"CT\"}, {\"state\": \"Connecticut\", \"date\": \"2020-10-29\", \"tweet_count\": 50, \"total_likes\": 743.0, \"sentiment_avg\": 0.009812, \"total_retweets\": 952.0, \"top_hashtag\": \"#trump\", \"top_hashtag_likes\": 957.0, \"id\": 9, \"states_code\": \"CT\"}, {\"state\": \"Connecticut\", \"date\": \"2020-10-30\", \"tweet_count\": 61, \"total_likes\": 365.0, \"sentiment_avg\": -0.0615360655737704, \"total_retweets\": 188.0, \"top_hashtag\": \"#biden\", \"top_hashtag_likes\": 329.0, \"id\": 9, \"states_code\": \"CT\"}, {\"state\": \"Connecticut\", \"date\": \"2020-10-31\", \"tweet_count\": 60, \"total_likes\": 294.0, \"sentiment_avg\": -0.084985, \"total_retweets\": 166.0, \"top_hashtag\": \"#biden\", \"top_hashtag_likes\": 287.0, \"id\": 9, \"states_code\": \"CT\"}, {\"state\": \"Connecticut\", \"date\": \"2020-11-01\", \"tweet_count\": 45, \"total_likes\": 323.0, \"sentiment_avg\": 0.0522844444444444, \"total_retweets\": 100.0, \"top_hashtag\": \"#biden\", \"top_hashtag_likes\": 282.0, \"id\": 9, \"states_code\": \"CT\"}, {\"state\": \"Connecticut\", \"date\": \"2020-11-02\", \"tweet_count\": 93, \"total_likes\": 1153.0, \"sentiment_avg\": 0.0341752688172043, \"total_retweets\": 343.0, \"top_hashtag\": \"#biden\", \"top_hashtag_likes\": 913.0, \"id\": 9, \"states_code\": \"CT\"}, {\"state\": \"Connecticut\", \"date\": \"2020-11-03\", \"tweet_count\": 107, \"total_likes\": 1424.0, \"sentiment_avg\": 0.1384672897196261, \"total_retweets\": 253.0, \"top_hashtag\": \"#biden\", \"top_hashtag_likes\": 1372.0, \"id\": 9, \"states_code\": \"CT\"}, {\"state\": \"Connecticut\", \"date\": \"2020-11-04\", \"tweet_count\": 108, \"total_likes\": 2641.0, \"sentiment_avg\": 0.026175, \"total_retweets\": 550.0, \"top_hashtag\": \"#biden\", \"top_hashtag_likes\": 2247.0, \"id\": 9, \"states_code\": \"CT\"}, {\"state\": \"Connecticut\", \"date\": \"2020-11-05\", \"tweet_count\": 72, \"total_likes\": 1130.0, \"sentiment_avg\": -0.0044236111111111, \"total_retweets\": 469.0, \"top_hashtag\": \"#trump\", \"top_hashtag_likes\": 742.0, \"id\": 9, \"states_code\": \"CT\"}, {\"state\": \"Connecticut\", \"date\": \"2020-11-06\", \"tweet_count\": 113, \"total_likes\": 1311.0, \"sentiment_avg\": 0.0029088495575221, \"total_retweets\": 191.0, \"top_hashtag\": \"#trump\", \"top_hashtag_likes\": 1151.0, \"id\": 9, \"states_code\": \"CT\"}, {\"state\": \"Connecticut\", \"date\": \"2020-11-07\", \"tweet_count\": 125, \"total_likes\": 1156.0, \"sentiment_avg\": 0.1485391999999999, \"total_retweets\": 212.0, \"top_hashtag\": \"#biden\", \"top_hashtag_likes\": 1084.0, \"id\": 9, \"states_code\": \"CT\"}, {\"state\": \"Connecticut\", \"date\": \"2020-11-08\", \"tweet_count\": 83, \"total_likes\": 324.0, \"sentiment_avg\": 0.1139361445783132, \"total_retweets\": 43.0, \"top_hashtag\": \"#biden\", \"top_hashtag_likes\": 217.0, \"id\": 9, \"states_code\": \"CT\"}, {\"state\": \"Delaware\", \"date\": \"2020-10-15\", \"tweet_count\": 7, \"total_likes\": 6.0, \"sentiment_avg\": -0.0315857142857142, \"total_retweets\": 1.0, \"top_hashtag\": \"#biden\", \"top_hashtag_likes\": 6.0, \"id\": 10, \"states_code\": \"DE\"}, {\"state\": \"Delaware\", \"date\": \"2020-10-16\", \"tweet_count\": 12, \"total_likes\": 1.0, \"sentiment_avg\": 0.0864583333333333, \"total_retweets\": 2.0, \"top_hashtag\": \"#biden\", \"top_hashtag_likes\": 1.0, \"id\": 10, \"states_code\": \"DE\"}, {\"state\": \"Delaware\", \"date\": \"2020-10-17\", \"tweet_count\": 2, \"total_likes\": 0.0, \"sentiment_avg\": 0.6102, \"total_retweets\": 0.0, \"top_hashtag\": \"#awesomestuff\", \"top_hashtag_likes\": 0.0, \"id\": 10, \"states_code\": \"DE\"}, {\"state\": \"Delaware\", \"date\": \"2020-10-18\", \"tweet_count\": 6, \"total_likes\": 2.0, \"sentiment_avg\": 0.0348166666666666, \"total_retweets\": 2.0, \"top_hashtag\": \"#gop\", \"top_hashtag_likes\": 2.0, \"id\": 10, \"states_code\": \"DE\"}, {\"state\": \"Delaware\", \"date\": \"2020-10-19\", \"tweet_count\": 5, \"total_likes\": 4.0, \"sentiment_avg\": 0.3341, \"total_retweets\": 0.0, \"top_hashtag\": \"#biden\", \"top_hashtag_likes\": 4.0, \"id\": 10, \"states_code\": \"DE\"}, {\"state\": \"Delaware\", \"date\": \"2020-10-20\", \"tweet_count\": 12, \"total_likes\": 2.0, \"sentiment_avg\": 0.090525, \"total_retweets\": 1.0, \"top_hashtag\": \"#biden\", \"top_hashtag_likes\": 2.0, \"id\": 10, \"states_code\": \"DE\"}, {\"state\": \"Delaware\", \"date\": \"2020-10-21\", \"tweet_count\": 25, \"total_likes\": 43.0, \"sentiment_avg\": 0.025556, \"total_retweets\": 24.0, \"top_hashtag\": \"#biden\", \"top_hashtag_likes\": 41.0, \"id\": 10, \"states_code\": \"DE\"}, {\"state\": \"Delaware\", \"date\": \"2020-10-22\", \"tweet_count\": 25, \"total_likes\": 18.0, \"sentiment_avg\": 0.0986079999999999, \"total_retweets\": 7.0, \"top_hashtag\": \"#biden\", \"top_hashtag_likes\": 17.0, \"id\": 10, \"states_code\": \"DE\"}, {\"state\": \"Delaware\", \"date\": \"2020-10-23\", \"tweet_count\": 48, \"total_likes\": 32.0, \"sentiment_avg\": -0.1390249999999999, \"total_retweets\": 15.0, \"top_hashtag\": \"#biden\", \"top_hashtag_likes\": 23.0, \"id\": 10, \"states_code\": \"DE\"}, {\"state\": \"Delaware\", \"date\": \"2020-10-24\", \"tweet_count\": 15, \"total_likes\": 37.0, \"sentiment_avg\": -0.0580533333333333, \"total_retweets\": 12.0, \"top_hashtag\": \"#biden\", \"top_hashtag_likes\": 37.0, \"id\": 10, \"states_code\": \"DE\"}, {\"state\": \"Delaware\", \"date\": \"2020-10-25\", \"tweet_count\": 7, \"total_likes\": 10.0, \"sentiment_avg\": 0.0298571428571428, \"total_retweets\": 2.0, \"top_hashtag\": \"#biden\", \"top_hashtag_likes\": 13.0, \"id\": 10, \"states_code\": \"DE\"}, {\"state\": \"Delaware\", \"date\": \"2020-10-26\", \"tweet_count\": 8, \"total_likes\": 30.0, \"sentiment_avg\": 0.0138749999999999, \"total_retweets\": 18.0, \"top_hashtag\": \"#biden\", \"top_hashtag_likes\": 26.0, \"id\": 10, \"states_code\": \"DE\"}, {\"state\": \"Delaware\", \"date\": \"2020-10-27\", \"tweet_count\": 42, \"total_likes\": 25.0, \"sentiment_avg\": 0.1642714285714285, \"total_retweets\": 5.0, \"top_hashtag\": \"#biden\", \"top_hashtag_likes\": 19.0, \"id\": 10, \"states_code\": \"DE\"}, {\"state\": \"Delaware\", \"date\": \"2020-10-28\", \"tweet_count\": 9, \"total_likes\": 28.0, \"sentiment_avg\": -0.2366888888888888, \"total_retweets\": 5.0, \"top_hashtag\": \"#biden\", \"top_hashtag_likes\": 23.0, \"id\": 10, \"states_code\": \"DE\"}, {\"state\": \"Delaware\", \"date\": \"2020-10-29\", \"tweet_count\": 10, \"total_likes\": 6.0, \"sentiment_avg\": -0.13551, \"total_retweets\": 4.0, \"top_hashtag\": \"#trump\", \"top_hashtag_likes\": 4.0, \"id\": 10, \"states_code\": \"DE\"}, {\"state\": \"Delaware\", \"date\": \"2020-10-30\", \"tweet_count\": 9, \"total_likes\": 1.0, \"sentiment_avg\": 0.0713888888888889, \"total_retweets\": 3.0, \"top_hashtag\": \"#biden\", \"top_hashtag_likes\": 1.0, \"id\": 10, \"states_code\": \"DE\"}, {\"state\": \"Delaware\", \"date\": \"2020-10-31\", \"tweet_count\": 6, \"total_likes\": 5.0, \"sentiment_avg\": -0.2085333333333333, \"total_retweets\": 1.0, \"top_hashtag\": \"#biden\", \"top_hashtag_likes\": 5.0, \"id\": 10, \"states_code\": \"DE\"}, {\"state\": \"Delaware\", \"date\": \"2020-11-01\", \"tweet_count\": 7, \"total_likes\": 30.0, \"sentiment_avg\": 0.2191428571428571, \"total_retweets\": 6.0, \"top_hashtag\": \"#biden\", \"top_hashtag_likes\": 27.0, \"id\": 10, \"states_code\": \"DE\"}, {\"state\": \"Delaware\", \"date\": \"2020-11-02\", \"tweet_count\": 12, \"total_likes\": 3.0, \"sentiment_avg\": 0.0492499999999999, \"total_retweets\": 0.0, \"top_hashtag\": \"#biden\", \"top_hashtag_likes\": 3.0, \"id\": 10, \"states_code\": \"DE\"}, {\"state\": \"Delaware\", \"date\": \"2020-11-03\", \"tweet_count\": 25, \"total_likes\": 18.0, \"sentiment_avg\": 0.191448, \"total_retweets\": 6.0, \"top_hashtag\": \"#biden\", \"top_hashtag_likes\": 14.0, \"id\": 10, \"states_code\": \"DE\"}, {\"state\": \"Delaware\", \"date\": \"2020-11-04\", \"tweet_count\": 26, \"total_likes\": 16.0, \"sentiment_avg\": 0.0427461538461538, \"total_retweets\": 1.0, \"top_hashtag\": \"#trump\", \"top_hashtag_likes\": 10.0, \"id\": 10, \"states_code\": \"DE\"}, {\"state\": \"Delaware\", \"date\": \"2020-11-05\", \"tweet_count\": 39, \"total_likes\": 45.0, \"sentiment_avg\": -0.2242384615384615, \"total_retweets\": 10.0, \"top_hashtag\": \"#biden\", \"top_hashtag_likes\": 36.0, \"id\": 10, \"states_code\": \"DE\"}, {\"state\": \"Delaware\", \"date\": \"2020-11-06\", \"tweet_count\": 22, \"total_likes\": 33.0, \"sentiment_avg\": 0.0412045454545454, \"total_retweets\": 0.0, \"top_hashtag\": \"#trump\", \"top_hashtag_likes\": 20.0, \"id\": 10, \"states_code\": \"DE\"}, {\"state\": \"Delaware\", \"date\": \"2020-11-07\", \"tweet_count\": 46, \"total_likes\": 175.0, \"sentiment_avg\": 0.3142456521739131, \"total_retweets\": 31.0, \"top_hashtag\": \"#biden\", \"top_hashtag_likes\": 172.0, \"id\": 10, \"states_code\": \"DE\"}, {\"state\": \"Delaware\", \"date\": \"2020-11-08\", \"tweet_count\": 27, \"total_likes\": 65.0, \"sentiment_avg\": 0.269637037037037, \"total_retweets\": 7.0, \"top_hashtag\": \"#biden\", \"top_hashtag_likes\": 54.0, \"id\": 10, \"states_code\": \"DE\"}, {\"state\": \"District of Columbia\", \"date\": \"2020-10-15\", \"tweet_count\": 292, \"total_likes\": 3416.0, \"sentiment_avg\": 0.0187948630136986, \"total_retweets\": 1470.0, \"top_hashtag\": \"#biden\", \"top_hashtag_likes\": 2272.0, \"id\": 11, \"states_code\": \"DC\"}, {\"state\": \"District of Columbia\", \"date\": \"2020-10-16\", \"tweet_count\": 541, \"total_likes\": 14065.0, \"sentiment_avg\": -0.0048336414048059, \"total_retweets\": 5458.0, \"top_hashtag\": \"#trump\", \"top_hashtag_likes\": 10758.0, \"id\": 11, \"states_code\": \"DC\"}, {\"state\": \"District of Columbia\", \"date\": \"2020-10-17\", \"tweet_count\": 281, \"total_likes\": 8739.0, \"sentiment_avg\": 0.0149113879003558, \"total_retweets\": 3265.0, \"top_hashtag\": \"#biden\", \"top_hashtag_likes\": 5315.0, \"id\": 11, \"states_code\": \"DC\"}, {\"state\": \"District of Columbia\", \"date\": \"2020-10-18\", \"tweet_count\": 250, \"total_likes\": 11976.0, \"sentiment_avg\": 0.0337888, \"total_retweets\": 5003.0, \"top_hashtag\": \"#biden\", \"top_hashtag_likes\": 9582.0, \"id\": 11, \"states_code\": \"DC\"}, {\"state\": \"District of Columbia\", \"date\": \"2020-10-19\", \"tweet_count\": 342, \"total_likes\": 7065.0, \"sentiment_avg\": -0.0248678362573099, \"total_retweets\": 3206.0, \"top_hashtag\": \"#biden\", \"top_hashtag_likes\": 5716.0, \"id\": 11, \"states_code\": \"DC\"}, {\"state\": \"District of Columbia\", \"date\": \"2020-10-20\", \"tweet_count\": 341, \"total_likes\": 17016.0, \"sentiment_avg\": -0.0187756598240469, \"total_retweets\": 6954.0, \"top_hashtag\": \"#biden\", \"top_hashtag_likes\": 12723.0, \"id\": 11, \"states_code\": \"DC\"}, {\"state\": \"District of Columbia\", \"date\": \"2020-10-21\", \"tweet_count\": 408, \"total_likes\": 13538.0, \"sentiment_avg\": -0.0509877450980392, \"total_retweets\": 4949.0, \"top_hashtag\": \"#biden\", \"top_hashtag_likes\": 9849.0, \"id\": 11, \"states_code\": \"DC\"}, {\"state\": \"District of Columbia\", \"date\": \"2020-10-22\", \"tweet_count\": 401, \"total_likes\": 19109.0, \"sentiment_avg\": -0.0341613466334164, \"total_retweets\": 6115.0, \"top_hashtag\": \"#trump\", \"top_hashtag_likes\": 14901.0, \"id\": 11, \"states_code\": \"DC\"}, {\"state\": \"District of Columbia\", \"date\": \"2020-10-23\", \"tweet_count\": 1113, \"total_likes\": 27868.0, \"sentiment_avg\": -0.014999730458221, \"total_retweets\": 6691.0, \"top_hashtag\": \"#trump\", \"top_hashtag_likes\": 19453.0, \"id\": 11, \"states_code\": \"DC\"}, {\"state\": \"District of Columbia\", \"date\": \"2020-10-24\", \"tweet_count\": 290, \"total_likes\": 15303.0, \"sentiment_avg\": -0.0225672413793103, \"total_retweets\": 5150.0, \"top_hashtag\": \"#biden\", \"top_hashtag_likes\": 11544.0, \"id\": 11, \"states_code\": \"DC\"}, {\"state\": \"District of Columbia\", \"date\": \"2020-10-25\", \"tweet_count\": 253, \"total_likes\": 9468.0, \"sentiment_avg\": -0.0143604743083003, \"total_retweets\": 3677.0, \"top_hashtag\": \"#biden\", \"top_hashtag_likes\": 9389.0, \"id\": 11, \"states_code\": \"DC\"}, {\"state\": \"District of Columbia\", \"date\": \"2020-10-26\", \"tweet_count\": 404, \"total_likes\": 121909.0, \"sentiment_avg\": -0.0256185643564356, \"total_retweets\": 26090.0, \"top_hashtag\": \"#trump\", \"top_hashtag_likes\": 116282.0, \"id\": 11, \"states_code\": \"DC\"}, {\"state\": \"District of Columbia\", \"date\": \"2020-10-27\", \"tweet_count\": 313, \"total_likes\": 16110.0, \"sentiment_avg\": 0.0318290734824281, \"total_retweets\": 5330.0, \"top_hashtag\": \"#biden\", \"top_hashtag_likes\": 8617.0, \"id\": 11, \"states_code\": \"DC\"}, {\"state\": \"District of Columbia\", \"date\": \"2020-10-28\", \"tweet_count\": 402, \"total_likes\": 14135.0, \"sentiment_avg\": -0.0228820895522388, \"total_retweets\": 5287.0, \"top_hashtag\": \"#biden\", \"top_hashtag_likes\": 14187.0, \"id\": 11, \"states_code\": \"DC\"}, {\"state\": \"District of Columbia\", \"date\": \"2020-10-29\", \"tweet_count\": 372, \"total_likes\": 11520.0, \"sentiment_avg\": -0.0415591397849462, \"total_retweets\": 3918.0, \"top_hashtag\": \"#biden\", \"top_hashtag_likes\": 9385.0, \"id\": 11, \"states_code\": \"DC\"}, {\"state\": \"District of Columbia\", \"date\": \"2020-10-30\", \"tweet_count\": 396, \"total_likes\": 18068.0, \"sentiment_avg\": -0.0134782828282828, \"total_retweets\": 5344.0, \"top_hashtag\": \"#biden\", \"top_hashtag_likes\": 11411.0, \"id\": 11, \"states_code\": \"DC\"}, {\"state\": \"District of Columbia\", \"date\": \"2020-10-31\", \"tweet_count\": 325, \"total_likes\": 5016.0, \"sentiment_avg\": -0.0260999999999999, \"total_retweets\": 1724.0, \"top_hashtag\": \"#biden\", \"top_hashtag_likes\": 4575.0, \"id\": 11, \"states_code\": \"DC\"}, {\"state\": \"District of Columbia\", \"date\": \"2020-11-01\", \"tweet_count\": 467, \"total_likes\": 18574.0, \"sentiment_avg\": 0.0218640256959314, \"total_retweets\": 5481.0, \"top_hashtag\": \"#biden\", \"top_hashtag_likes\": 14842.0, \"id\": 11, \"states_code\": \"DC\"}, {\"state\": \"District of Columbia\", \"date\": \"2020-11-02\", \"tweet_count\": 581, \"total_likes\": 21766.0, \"sentiment_avg\": 0.0145270223752151, \"total_retweets\": 6354.0, \"top_hashtag\": \"#biden\", \"top_hashtag_likes\": 16756.0, \"id\": 11, \"states_code\": \"DC\"}, {\"state\": \"District of Columbia\", \"date\": \"2020-11-03\", \"tweet_count\": 720, \"total_likes\": 14850.0, \"sentiment_avg\": 0.0237526388888888, \"total_retweets\": 4705.0, \"top_hashtag\": \"#trump\", \"top_hashtag_likes\": 8570.0, \"id\": 11, \"states_code\": \"DC\"}, {\"state\": \"District of Columbia\", \"date\": \"2020-11-04\", \"tweet_count\": 1208, \"total_likes\": 62065.0, \"sentiment_avg\": 0.0862221026490066, \"total_retweets\": 14903.0, \"top_hashtag\": \"#biden\", \"top_hashtag_likes\": 33437.0, \"id\": 11, \"states_code\": \"DC\"}, {\"state\": \"District of Columbia\", \"date\": \"2020-11-05\", \"tweet_count\": 833, \"total_likes\": 54967.0, \"sentiment_avg\": 0.0373368547418967, \"total_retweets\": 9248.0, \"top_hashtag\": \"#biden\", \"top_hashtag_likes\": 37828.0, \"id\": 11, \"states_code\": \"DC\"}, {\"state\": \"District of Columbia\", \"date\": \"2020-11-06\", \"tweet_count\": 819, \"total_likes\": 71841.0, \"sentiment_avg\": -0.0102273504273504, \"total_retweets\": 15146.0, \"top_hashtag\": \"#trump\", \"top_hashtag_likes\": 64646.0, \"id\": 11, \"states_code\": \"DC\"}, {\"state\": \"District of Columbia\", \"date\": \"2020-11-07\", \"tweet_count\": 1171, \"total_likes\": 101507.0, \"sentiment_avg\": 0.1684794192997438, \"total_retweets\": 14588.0, \"top_hashtag\": \"#biden\", \"top_hashtag_likes\": 93529.0, \"id\": 11, \"states_code\": \"DC\"}, {\"state\": \"District of Columbia\", \"date\": \"2020-11-08\", \"tweet_count\": 745, \"total_likes\": 35076.0, \"sentiment_avg\": 0.1407958389261745, \"total_retweets\": 7613.0, \"top_hashtag\": \"#biden\", \"top_hashtag_likes\": 36471.0, \"id\": 11, \"states_code\": \"DC\"}, {\"state\": \"Florida\", \"date\": \"2020-10-15\", \"tweet_count\": 727, \"total_likes\": 2051.0, \"sentiment_avg\": -0.0144149931224209, \"total_retweets\": 1042.0, \"top_hashtag\": \"#trump\", \"top_hashtag_likes\": 1205.0, \"id\": 12, \"states_code\": \"FL\"}, {\"state\": \"Florida\", \"date\": \"2020-10-16\", \"tweet_count\": 1066, \"total_likes\": 3512.0, \"sentiment_avg\": 0.008649530956848, \"total_retweets\": 713.0, \"top_hashtag\": \"#biden\", \"top_hashtag_likes\": 2630.0, \"id\": 12, \"states_code\": \"FL\"}, {\"state\": \"Florida\", \"date\": \"2020-10-17\", \"tweet_count\": 648, \"total_likes\": 2288.0, \"sentiment_avg\": 0.0132557098765432, \"total_retweets\": 672.0, \"top_hashtag\": \"#biden\", \"top_hashtag_likes\": 1758.0, \"id\": 12, \"states_code\": \"FL\"}, {\"state\": \"Florida\", \"date\": \"2020-10-18\", \"tweet_count\": 667, \"total_likes\": 1978.0, \"sentiment_avg\": -0.0582113943028485, \"total_retweets\": 1049.0, \"top_hashtag\": \"#trump\", \"top_hashtag_likes\": 1872.0, \"id\": 12, \"states_code\": \"FL\"}, {\"state\": \"Florida\", \"date\": \"2020-10-19\", \"tweet_count\": 679, \"total_likes\": 3169.0, \"sentiment_avg\": 0.0056488954344624, \"total_retweets\": 1675.0, \"top_hashtag\": \"#trump\", \"top_hashtag_likes\": 2763.0, \"id\": 12, \"states_code\": \"FL\"}, {\"state\": \"Florida\", \"date\": \"2020-10-20\", \"tweet_count\": 670, \"total_likes\": 1206.0, \"sentiment_avg\": 0.0066847761194029, \"total_retweets\": 492.0, \"top_hashtag\": \"#trump\", \"top_hashtag_likes\": 883.0, \"id\": 12, \"states_code\": \"FL\"}, {\"state\": \"Florida\", \"date\": \"2020-10-21\", \"tweet_count\": 684, \"total_likes\": 985.0, \"sentiment_avg\": 0.0221752923976608, \"total_retweets\": 310.0, \"top_hashtag\": \"#biden\", \"top_hashtag_likes\": 564.0, \"id\": 12, \"states_code\": \"FL\"}, {\"state\": \"Florida\", \"date\": \"2020-10-22\", \"tweet_count\": 943, \"total_likes\": 1833.0, \"sentiment_avg\": -0.0838856839872746, \"total_retweets\": 494.0, \"top_hashtag\": \"#trump\", \"top_hashtag_likes\": 1306.0, \"id\": 12, \"states_code\": \"FL\"}, {\"state\": \"Florida\", \"date\": \"2020-10-23\", \"tweet_count\": 1841, \"total_likes\": 4169.0, \"sentiment_avg\": 0.0172560021727322, \"total_retweets\": 989.0, \"top_hashtag\": \"#biden\", \"top_hashtag_likes\": 3065.0, \"id\": 12, \"states_code\": \"FL\"}, {\"state\": \"Florida\", \"date\": \"2020-10-24\", \"tweet_count\": 654, \"total_likes\": 2196.0, \"sentiment_avg\": 0.0268096330275229, \"total_retweets\": 814.0, \"top_hashtag\": \"#biden\", \"top_hashtag_likes\": 1769.0, \"id\": 12, \"states_code\": \"FL\"}, {\"state\": \"Florida\", \"date\": \"2020-10-25\", \"tweet_count\": 747, \"total_likes\": 2174.0, \"sentiment_avg\": 0.025741767068273, \"total_retweets\": 515.0, \"top_hashtag\": \"#trump\", \"top_hashtag_likes\": 1427.0, \"id\": 12, \"states_code\": \"FL\"}, {\"state\": \"Florida\", \"date\": \"2020-10-26\", \"tweet_count\": 668, \"total_likes\": 2240.0, \"sentiment_avg\": -0.0048356287425149, \"total_retweets\": 597.0, \"top_hashtag\": \"#trump\", \"top_hashtag_likes\": 1377.0, \"id\": 12, \"states_code\": \"FL\"}, {\"state\": \"Florida\", \"date\": \"2020-10-27\", \"tweet_count\": 765, \"total_likes\": 1890.0, \"sentiment_avg\": 0.0754545098039215, \"total_retweets\": 971.0, \"top_hashtag\": \"#trump\", \"top_hashtag_likes\": 1339.0, \"id\": 12, \"states_code\": \"FL\"}, {\"state\": \"Florida\", \"date\": \"2020-10-28\", \"tweet_count\": 765, \"total_likes\": 1833.0, \"sentiment_avg\": -0.0167624836601307, \"total_retweets\": 438.0, \"top_hashtag\": \"#biden\", \"top_hashtag_likes\": 1562.0, \"id\": 12, \"states_code\": \"FL\"}, {\"state\": \"Florida\", \"date\": \"2020-10-29\", \"tweet_count\": 805, \"total_likes\": 1936.0, \"sentiment_avg\": 0.0822813664596273, \"total_retweets\": 480.0, \"top_hashtag\": \"#trump\", \"top_hashtag_likes\": 1320.0, \"id\": 12, \"states_code\": \"FL\"}, {\"state\": \"Florida\", \"date\": \"2020-10-30\", \"tweet_count\": 749, \"total_likes\": 1432.0, \"sentiment_avg\": 0.0108234979973297, \"total_retweets\": 619.0, \"top_hashtag\": \"#biden\", \"top_hashtag_likes\": 814.0, \"id\": 12, \"states_code\": \"FL\"}, {\"state\": \"Florida\", \"date\": \"2020-10-31\", \"tweet_count\": 691, \"total_likes\": 2740.0, \"sentiment_avg\": 0.1099458755426917, \"total_retweets\": 1287.0, \"top_hashtag\": \"#biden\", \"top_hashtag_likes\": 2182.0, \"id\": 12, \"states_code\": \"FL\"}, {\"state\": \"Florida\", \"date\": \"2020-11-01\", \"tweet_count\": 777, \"total_likes\": 3043.0, \"sentiment_avg\": -0.001502574002574, \"total_retweets\": 832.0, \"top_hashtag\": \"#trump\", \"top_hashtag_likes\": 2297.0, \"id\": 12, \"states_code\": \"FL\"}, {\"state\": \"Florida\", \"date\": \"2020-11-02\", \"tweet_count\": 1052, \"total_likes\": 5475.0, \"sentiment_avg\": 0.0596092205323193, \"total_retweets\": 2316.0, \"top_hashtag\": \"#biden\", \"top_hashtag_likes\": 2954.0, \"id\": 12, \"states_code\": \"FL\"}, {\"state\": \"Florida\", \"date\": \"2020-11-03\", \"tweet_count\": 1227, \"total_likes\": 7261.0, \"sentiment_avg\": 0.1357536267318663, \"total_retweets\": 1997.0, \"top_hashtag\": \"#trump\", \"top_hashtag_likes\": 4775.0, \"id\": 12, \"states_code\": \"FL\"}, {\"state\": \"Florida\", \"date\": \"2020-11-04\", \"tweet_count\": 1382, \"total_likes\": 5748.0, \"sentiment_avg\": 0.062335528219971, \"total_retweets\": 1590.0, \"top_hashtag\": \"#biden\", \"top_hashtag_likes\": 5054.0, \"id\": 12, \"states_code\": \"FL\"}, {\"state\": \"Florida\", \"date\": \"2020-11-05\", \"tweet_count\": 973, \"total_likes\": 2030.0, \"sentiment_avg\": 0.0217038026721479, \"total_retweets\": 504.0, \"top_hashtag\": \"#trump\", \"top_hashtag_likes\": 1225.0, \"id\": 12, \"states_code\": \"FL\"}, {\"state\": \"Florida\", \"date\": \"2020-11-06\", \"tweet_count\": 1144, \"total_likes\": 2761.0, \"sentiment_avg\": 0.0114372377622377, \"total_retweets\": 548.0, \"top_hashtag\": \"#biden\", \"top_hashtag_likes\": 1872.0, \"id\": 12, \"states_code\": \"FL\"}, {\"state\": \"Florida\", \"date\": \"2020-11-07\", \"tweet_count\": 1915, \"total_likes\": 6370.0, \"sentiment_avg\": 0.1400963446475195, \"total_retweets\": 1073.0, \"top_hashtag\": \"#biden\", \"top_hashtag_likes\": 5422.0, \"id\": 12, \"states_code\": \"FL\"}, {\"state\": \"Florida\", \"date\": \"2020-11-08\", \"tweet_count\": 1287, \"total_likes\": 2685.0, \"sentiment_avg\": 0.1374909867909867, \"total_retweets\": 468.0, \"top_hashtag\": \"#biden\", \"top_hashtag_likes\": 1780.0, \"id\": 12, \"states_code\": \"FL\"}, {\"state\": \"Georgia\", \"date\": \"2020-10-15\", \"tweet_count\": 138, \"total_likes\": 758.0, \"sentiment_avg\": -0.0329608695652174, \"total_retweets\": 229.0, \"top_hashtag\": \"#trump\", \"top_hashtag_likes\": 455.0, \"id\": 13, \"states_code\": \"GA\"}, {\"state\": \"Georgia\", \"date\": \"2020-10-16\", \"tweet_count\": 198, \"total_likes\": 885.0, \"sentiment_avg\": -0.0222383838383838, \"total_retweets\": 269.0, \"top_hashtag\": \"#trump\", \"top_hashtag_likes\": 642.0, \"id\": 13, \"states_code\": \"GA\"}, {\"state\": \"Georgia\", \"date\": \"2020-10-17\", \"tweet_count\": 83, \"total_likes\": 102.0, \"sentiment_avg\": 0.0091216867469879, \"total_retweets\": 50.0, \"top_hashtag\": \"#biden\", \"top_hashtag_likes\": 57.0, \"id\": 13, \"states_code\": \"GA\"}, {\"state\": \"Georgia\", \"date\": \"2020-10-18\", \"tweet_count\": 70, \"total_likes\": 114.0, \"sentiment_avg\": 0.0187214285714285, \"total_retweets\": 22.0, \"top_hashtag\": \"#biden\", \"top_hashtag_likes\": 93.0, \"id\": 13, \"states_code\": \"GA\"}, {\"state\": \"Georgia\", \"date\": \"2020-10-19\", \"tweet_count\": 90, \"total_likes\": 1095.0, \"sentiment_avg\": -0.0883844444444444, \"total_retweets\": 407.0, \"top_hashtag\": \"#biden\", \"top_hashtag_likes\": 815.0, \"id\": 13, \"states_code\": \"GA\"}, {\"state\": \"Georgia\", \"date\": \"2020-10-20\", \"tweet_count\": 121, \"total_likes\": 1786.0, \"sentiment_avg\": 0.0558082644628099, \"total_retweets\": 532.0, \"top_hashtag\": \"#trump\", \"top_hashtag_likes\": 1177.0, \"id\": 13, \"states_code\": \"GA\"}, {\"state\": \"Georgia\", \"date\": \"2020-10-21\", \"tweet_count\": 109, \"total_likes\": 635.0, \"sentiment_avg\": -0.0478321100917431, \"total_retweets\": 130.0, \"top_hashtag\": \"#biden\", \"top_hashtag_likes\": 541.0, \"id\": 13, \"states_code\": \"GA\"}, {\"state\": \"Georgia\", \"date\": \"2020-10-22\", \"tweet_count\": 156, \"total_likes\": 1391.0, \"sentiment_avg\": 0.0070346153846153, \"total_retweets\": 394.0, \"top_hashtag\": \"#biden\", \"top_hashtag_likes\": 945.0, \"id\": 13, \"states_code\": \"GA\"}, {\"state\": \"Georgia\", \"date\": \"2020-10-23\", \"tweet_count\": 525, \"total_likes\": 3323.0, \"sentiment_avg\": 0.0320695238095238, \"total_retweets\": 832.0, \"top_hashtag\": \"#biden\", \"top_hashtag_likes\": 3160.0, \"id\": 13, \"states_code\": \"GA\"}, {\"state\": \"Georgia\", \"date\": \"2020-10-24\", \"tweet_count\": 116, \"total_likes\": 1244.0, \"sentiment_avg\": -0.0591086206896551, \"total_retweets\": 460.0, \"top_hashtag\": \"#biden\", \"top_hashtag_likes\": 1220.0, \"id\": 13, \"states_code\": \"GA\"}, {\"state\": \"Georgia\", \"date\": \"2020-10-25\", \"tweet_count\": 103, \"total_likes\": 69.0, \"sentiment_avg\": -0.0104970873786407, \"total_retweets\": 17.0, \"top_hashtag\": \"#biden\", \"top_hashtag_likes\": 59.0, \"id\": 13, \"states_code\": \"GA\"}, {\"state\": \"Georgia\", \"date\": \"2020-10-26\", \"tweet_count\": 120, \"total_likes\": 1051.0, \"sentiment_avg\": 0.0961791666666666, \"total_retweets\": 284.0, \"top_hashtag\": \"#2020election\", \"top_hashtag_likes\": 635.0, \"id\": 13, \"states_code\": \"GA\"}, {\"state\": \"Georgia\", \"date\": \"2020-10-27\", \"tweet_count\": 158, \"total_likes\": 1049.0, \"sentiment_avg\": 0.0823050632911392, \"total_retweets\": 297.0, \"top_hashtag\": \"#biden\", \"top_hashtag_likes\": 953.0, \"id\": 13, \"states_code\": \"GA\"}, {\"state\": \"Georgia\", \"date\": \"2020-10-28\", \"tweet_count\": 178, \"total_likes\": 2555.0, \"sentiment_avg\": -0.0303016853932584, \"total_retweets\": 907.0, \"top_hashtag\": \"#biden\", \"top_hashtag_likes\": 2494.0, \"id\": 13, \"states_code\": \"GA\"}, {\"state\": \"Georgia\", \"date\": \"2020-10-29\", \"tweet_count\": 122, \"total_likes\": 963.0, \"sentiment_avg\": 0.0080204918032786, \"total_retweets\": 330.0, \"top_hashtag\": \"#biden\", \"top_hashtag_likes\": 602.0, \"id\": 13, \"states_code\": \"GA\"}, {\"state\": \"Georgia\", \"date\": \"2020-10-30\", \"tweet_count\": 135, \"total_likes\": 1039.0, \"sentiment_avg\": 0.0128896296296296, \"total_retweets\": 282.0, \"top_hashtag\": \"#2020election\", \"top_hashtag_likes\": 832.0, \"id\": 13, \"states_code\": \"GA\"}, {\"state\": \"Georgia\", \"date\": \"2020-10-31\", \"tweet_count\": 95, \"total_likes\": 131.0, \"sentiment_avg\": 0.0189021052631578, \"total_retweets\": 46.0, \"top_hashtag\": \"#trump\", \"top_hashtag_likes\": 71.0, \"id\": 13, \"states_code\": \"GA\"}, {\"state\": \"Georgia\", \"date\": \"2020-11-01\", \"tweet_count\": 159, \"total_likes\": 317.0, \"sentiment_avg\": 0.0161817610062893, \"total_retweets\": 66.0, \"top_hashtag\": \"#trump\", \"top_hashtag_likes\": 171.0, \"id\": 13, \"states_code\": \"GA\"}, {\"state\": \"Georgia\", \"date\": \"2020-11-02\", \"tweet_count\": 217, \"total_likes\": 1831.0, \"sentiment_avg\": 0.1264345622119815, \"total_retweets\": 490.0, \"top_hashtag\": \"#2020election\", \"top_hashtag_likes\": 1607.0, \"id\": 13, \"states_code\": \"GA\"}, {\"state\": \"Georgia\", \"date\": \"2020-11-03\", \"tweet_count\": 231, \"total_likes\": 1148.0, \"sentiment_avg\": 0.1399034632034632, \"total_retweets\": 226.0, \"top_hashtag\": \"#trump\", \"top_hashtag_likes\": 729.0, \"id\": 13, \"states_code\": \"GA\"}, {\"state\": \"Georgia\", \"date\": \"2020-11-04\", \"tweet_count\": 459, \"total_likes\": 4317.0, \"sentiment_avg\": -0.0085468409586056, \"total_retweets\": 833.0, \"top_hashtag\": \"#biden\", \"top_hashtag_likes\": 4180.0, \"id\": 13, \"states_code\": \"GA\"}, {\"state\": \"Georgia\", \"date\": \"2020-11-05\", \"tweet_count\": 243, \"total_likes\": 1151.0, \"sentiment_avg\": 0.0587263374485596, \"total_retweets\": 260.0, \"top_hashtag\": \"#trump\", \"top_hashtag_likes\": 978.0, \"id\": 13, \"states_code\": \"GA\"}, {\"state\": \"Georgia\", \"date\": \"2020-11-06\", \"tweet_count\": 378, \"total_likes\": 1706.0, \"sentiment_avg\": 0.0391037037037037, \"total_retweets\": 296.0, \"top_hashtag\": \"#trump\", \"top_hashtag_likes\": 1280.0, \"id\": 13, \"states_code\": \"GA\"}, {\"state\": \"Georgia\", \"date\": \"2020-11-07\", \"tweet_count\": 586, \"total_likes\": 3681.0, \"sentiment_avg\": 0.180490614334471, \"total_retweets\": 728.0, \"top_hashtag\": \"#biden\", \"top_hashtag_likes\": 3060.0, \"id\": 13, \"states_code\": \"GA\"}, {\"state\": \"Georgia\", \"date\": \"2020-11-08\", \"tweet_count\": 323, \"total_likes\": 1246.0, \"sentiment_avg\": 0.1868396284829721, \"total_retweets\": 175.0, \"top_hashtag\": \"#biden\", \"top_hashtag_likes\": 844.0, \"id\": 13, \"states_code\": \"GA\"}, {\"state\": \"Hawaii\", \"date\": \"2020-10-15\", \"tweet_count\": 26, \"total_likes\": 57.0, \"sentiment_avg\": 0.0770846153846153, \"total_retweets\": 8.0, \"top_hashtag\": \"#trump\", \"top_hashtag_likes\": 52.0, \"id\": 15, \"states_code\": \"HI\"}, {\"state\": \"Hawaii\", \"date\": \"2020-10-16\", \"tweet_count\": 45, \"total_likes\": 79.0, \"sentiment_avg\": 0.0143977777777777, \"total_retweets\": 31.0, \"top_hashtag\": \"#trump\", \"top_hashtag_likes\": 61.0, \"id\": 15, \"states_code\": \"HI\"}, {\"state\": \"Hawaii\", \"date\": \"2020-10-17\", \"tweet_count\": 28, \"total_likes\": 26.0, \"sentiment_avg\": 0.0254214285714285, \"total_retweets\": 9.0, \"top_hashtag\": \"#trump\", \"top_hashtag_likes\": 24.0, \"id\": 15, \"states_code\": \"HI\"}, {\"state\": \"Hawaii\", \"date\": \"2020-10-18\", \"tweet_count\": 29, \"total_likes\": 21.0, \"sentiment_avg\": 0.012503448275862, \"total_retweets\": 6.0, \"top_hashtag\": \"#trump\", \"top_hashtag_likes\": 20.0, \"id\": 15, \"states_code\": \"HI\"}, {\"state\": \"Hawaii\", \"date\": \"2020-10-19\", \"tweet_count\": 42, \"total_likes\": 135.0, \"sentiment_avg\": 0.0826190476190476, \"total_retweets\": 21.0, \"top_hashtag\": \"#trump\", \"top_hashtag_likes\": 116.0, \"id\": 15, \"states_code\": \"HI\"}, {\"state\": \"Hawaii\", \"date\": \"2020-10-20\", \"tweet_count\": 36, \"total_likes\": 62.0, \"sentiment_avg\": -0.1789027777777777, \"total_retweets\": 18.0, \"top_hashtag\": \"#trump\", \"top_hashtag_likes\": 60.0, \"id\": 15, \"states_code\": \"HI\"}, {\"state\": \"Hawaii\", \"date\": \"2020-10-21\", \"tweet_count\": 49, \"total_likes\": 24.0, \"sentiment_avg\": -0.0672918367346938, \"total_retweets\": 8.0, \"top_hashtag\": \"#trump\", \"top_hashtag_likes\": 20.0, \"id\": 15, \"states_code\": \"HI\"}, {\"state\": \"Hawaii\", \"date\": \"2020-10-22\", \"tweet_count\": 48, \"total_likes\": 95.0, \"sentiment_avg\": -0.1232541666666666, \"total_retweets\": 14.0, \"top_hashtag\": \"#trump\", \"top_hashtag_likes\": 86.0, \"id\": 15, \"states_code\": \"HI\"}, {\"state\": \"Hawaii\", \"date\": \"2020-10-23\", \"tweet_count\": 67, \"total_likes\": 167.0, \"sentiment_avg\": 0.0593014925373134, \"total_retweets\": 32.0, \"top_hashtag\": \"#trump\", \"top_hashtag_likes\": 128.0, \"id\": 15, \"states_code\": \"HI\"}, {\"state\": \"Hawaii\", \"date\": \"2020-10-24\", \"tweet_count\": 33, \"total_likes\": 139.0, \"sentiment_avg\": -0.0222969696969696, \"total_retweets\": 20.0, \"top_hashtag\": \"#trump\", \"top_hashtag_likes\": 133.0, \"id\": 15, \"states_code\": \"HI\"}, {\"state\": \"Hawaii\", \"date\": \"2020-10-25\", \"tweet_count\": 25, \"total_likes\": 43.0, \"sentiment_avg\": -0.142832, \"total_retweets\": 21.0, \"top_hashtag\": \"#trump\", \"top_hashtag_likes\": 33.0, \"id\": 15, \"states_code\": \"HI\"}, {\"state\": \"Hawaii\", \"date\": \"2020-10-26\", \"tweet_count\": 37, \"total_likes\": 40.0, \"sentiment_avg\": 0.0075783783783783, \"total_retweets\": 11.0, \"top_hashtag\": \"#trump\", \"top_hashtag_likes\": 26.0, \"id\": 15, \"states_code\": \"HI\"}, {\"state\": \"Hawaii\", \"date\": \"2020-10-27\", \"tweet_count\": 35, \"total_likes\": 38.0, \"sentiment_avg\": 0.3021142857142857, \"total_retweets\": 13.0, \"top_hashtag\": \"#trump\", \"top_hashtag_likes\": 38.0, \"id\": 15, \"states_code\": \"HI\"}, {\"state\": \"Hawaii\", \"date\": \"2020-10-28\", \"tweet_count\": 36, \"total_likes\": 128.0, \"sentiment_avg\": 0.1540944444444444, \"total_retweets\": 28.0, \"top_hashtag\": \"#trump\", \"top_hashtag_likes\": 123.0, \"id\": 15, \"states_code\": \"HI\"}, {\"state\": \"Hawaii\", \"date\": \"2020-10-29\", \"tweet_count\": 28, \"total_likes\": 96.0, \"sentiment_avg\": 0.1814607142857142, \"total_retweets\": 18.0, \"top_hashtag\": \"#trump\", \"top_hashtag_likes\": 94.0, \"id\": 15, \"states_code\": \"HI\"}, {\"state\": \"Hawaii\", \"date\": \"2020-10-30\", \"tweet_count\": 26, \"total_likes\": 51.0, \"sentiment_avg\": 0.0106538461538461, \"total_retweets\": 10.0, \"top_hashtag\": \"#trump\", \"top_hashtag_likes\": 47.0, \"id\": 15, \"states_code\": \"HI\"}, {\"state\": \"Hawaii\", \"date\": \"2020-10-31\", \"tweet_count\": 64, \"total_likes\": 63.0, \"sentiment_avg\": -0.055225, \"total_retweets\": 22.0, \"top_hashtag\": \"#trump\", \"top_hashtag_likes\": 53.0, \"id\": 15, \"states_code\": \"HI\"}, {\"state\": \"Hawaii\", \"date\": \"2020-11-01\", \"tweet_count\": 33, \"total_likes\": 56.0, \"sentiment_avg\": 0.0681848484848484, \"total_retweets\": 10.0, \"top_hashtag\": \"#trump\", \"top_hashtag_likes\": 44.0, \"id\": 15, \"states_code\": \"HI\"}, {\"state\": \"Hawaii\", \"date\": \"2020-11-02\", \"tweet_count\": 60, \"total_likes\": 123.0, \"sentiment_avg\": -0.034015, \"total_retweets\": 30.0, \"top_hashtag\": \"#trump\", \"top_hashtag_likes\": 113.0, \"id\": 15, \"states_code\": \"HI\"}, {\"state\": \"Hawaii\", \"date\": \"2020-11-03\", \"tweet_count\": 66, \"total_likes\": 86.0, \"sentiment_avg\": 0.1145621212121212, \"total_retweets\": 16.0, \"top_hashtag\": \"#trump\", \"top_hashtag_likes\": 73.0, \"id\": 15, \"states_code\": \"HI\"}, {\"state\": \"Hawaii\", \"date\": \"2020-11-04\", \"tweet_count\": 54, \"total_likes\": 61.0, \"sentiment_avg\": 0.2185592592592592, \"total_retweets\": 15.0, \"top_hashtag\": \"#trump\", \"top_hashtag_likes\": 45.0, \"id\": 15, \"states_code\": \"HI\"}, {\"state\": \"Hawaii\", \"date\": \"2020-11-05\", \"tweet_count\": 36, \"total_likes\": 62.0, \"sentiment_avg\": 0.1099138888888889, \"total_retweets\": 11.0, \"top_hashtag\": \"#biden\", \"top_hashtag_likes\": 36.0, \"id\": 15, \"states_code\": \"HI\"}, {\"state\": \"Hawaii\", \"date\": \"2020-11-06\", \"tweet_count\": 100, \"total_likes\": 616.0, \"sentiment_avg\": -0.087448, \"total_retweets\": 155.0, \"top_hashtag\": \"#biden\", \"top_hashtag_likes\": 433.0, \"id\": 15, \"states_code\": \"HI\"}, {\"state\": \"Hawaii\", \"date\": \"2020-11-07\", \"tweet_count\": 110, \"total_likes\": 447.0, \"sentiment_avg\": 0.101480909090909, \"total_retweets\": 62.0, \"top_hashtag\": \"#trump\", \"top_hashtag_likes\": 294.0, \"id\": 15, \"states_code\": \"HI\"}, {\"state\": \"Hawaii\", \"date\": \"2020-11-08\", \"tweet_count\": 49, \"total_likes\": 213.0, \"sentiment_avg\": -0.0122979591836734, \"total_retweets\": 35.0, \"top_hashtag\": \"#trump\", \"top_hashtag_likes\": 164.0, \"id\": 15, \"states_code\": \"HI\"}, {\"state\": \"Idaho\", \"date\": \"2020-10-15\", \"tweet_count\": 34, \"total_likes\": 64.0, \"sentiment_avg\": -0.096035294117647, \"total_retweets\": 20.0, \"top_hashtag\": \"#trump\", \"top_hashtag_likes\": 46.0, \"id\": 16, \"states_code\": \"ID\"}, {\"state\": \"Idaho\", \"date\": \"2020-10-16\", \"tweet_count\": 32, \"total_likes\": 87.0, \"sentiment_avg\": -0.179965625, \"total_retweets\": 12.0, \"top_hashtag\": \"#trump\", \"top_hashtag_likes\": 69.0, \"id\": 16, \"states_code\": \"ID\"}, {\"state\": \"Idaho\", \"date\": \"2020-10-17\", \"tweet_count\": 25, \"total_likes\": 27.0, \"sentiment_avg\": 0.1278439999999999, \"total_retweets\": 9.0, \"top_hashtag\": \"#biden\", \"top_hashtag_likes\": 24.0, \"id\": 16, \"states_code\": \"ID\"}, {\"state\": \"Idaho\", \"date\": \"2020-10-18\", \"tweet_count\": 18, \"total_likes\": 123.0, \"sentiment_avg\": 0.2532944444444445, \"total_retweets\": 44.0, \"top_hashtag\": \"#biden\", \"top_hashtag_likes\": 91.0, \"id\": 16, \"states_code\": \"ID\"}, {\"state\": \"Idaho\", \"date\": \"2020-10-19\", \"tweet_count\": 17, \"total_likes\": 19.0, \"sentiment_avg\": 0.0149882352941176, \"total_retweets\": 7.0, \"top_hashtag\": \"#trump\", \"top_hashtag_likes\": 10.0, \"id\": 16, \"states_code\": \"ID\"}, {\"state\": \"Idaho\", \"date\": \"2020-10-20\", \"tweet_count\": 20, \"total_likes\": 27.0, \"sentiment_avg\": -0.0180699999999999, \"total_retweets\": 6.0, \"top_hashtag\": \"#trump\", \"top_hashtag_likes\": 14.0, \"id\": 16, \"states_code\": \"ID\"}, {\"state\": \"Idaho\", \"date\": \"2020-10-21\", \"tweet_count\": 38, \"total_likes\": 50.0, \"sentiment_avg\": 0.02645, \"total_retweets\": 17.0, \"top_hashtag\": \"#biden\", \"top_hashtag_likes\": 31.0, \"id\": 16, \"states_code\": \"ID\"}, {\"state\": \"Idaho\", \"date\": \"2020-10-22\", \"tweet_count\": 37, \"total_likes\": 17.0, \"sentiment_avg\": 0.0578648648648648, \"total_retweets\": 5.0, \"top_hashtag\": \"#trump\", \"top_hashtag_likes\": 10.0, \"id\": 16, \"states_code\": \"ID\"}, {\"state\": \"Idaho\", \"date\": \"2020-10-23\", \"tweet_count\": 76, \"total_likes\": 89.0, \"sentiment_avg\": 0.0743302631578947, \"total_retweets\": 29.0, \"top_hashtag\": \"#biden\", \"top_hashtag_likes\": 65.0, \"id\": 16, \"states_code\": \"ID\"}, {\"state\": \"Idaho\", \"date\": \"2020-10-24\", \"tweet_count\": 36, \"total_likes\": 52.0, \"sentiment_avg\": -0.0217722222222222, \"total_retweets\": 9.0, \"top_hashtag\": \"#biden\", \"top_hashtag_likes\": 33.0, \"id\": 16, \"states_code\": \"ID\"}, {\"state\": \"Idaho\", \"date\": \"2020-10-25\", \"tweet_count\": 18, \"total_likes\": 20.0, \"sentiment_avg\": -0.0668444444444444, \"total_retweets\": 5.0, \"top_hashtag\": \"#trump\", \"top_hashtag_likes\": 13.0, \"id\": 16, \"states_code\": \"ID\"}, {\"state\": \"Idaho\", \"date\": \"2020-10-26\", \"tweet_count\": 31, \"total_likes\": 63.0, \"sentiment_avg\": 0.0553, \"total_retweets\": 15.0, \"top_hashtag\": \"#biden\", \"top_hashtag_likes\": 55.0, \"id\": 16, \"states_code\": \"ID\"}, {\"state\": \"Idaho\", \"date\": \"2020-10-27\", \"tweet_count\": 34, \"total_likes\": 29.0, \"sentiment_avg\": 0.0107147058823529, \"total_retweets\": 8.0, \"top_hashtag\": \"#biden\", \"top_hashtag_likes\": 18.0, \"id\": 16, \"states_code\": \"ID\"}, {\"state\": \"Idaho\", \"date\": \"2020-10-28\", \"tweet_count\": 14, \"total_likes\": 40.0, \"sentiment_avg\": -0.2248928571428571, \"total_retweets\": 2.0, \"top_hashtag\": \"#biden\", \"top_hashtag_likes\": 28.0, \"id\": 16, \"states_code\": \"ID\"}, {\"state\": \"Idaho\", \"date\": \"2020-10-29\", \"tweet_count\": 21, \"total_likes\": 32.0, \"sentiment_avg\": -0.1819619047619047, \"total_retweets\": 4.0, \"top_hashtag\": \"#trump\", \"top_hashtag_likes\": 29.0, \"id\": 16, \"states_code\": \"ID\"}, {\"state\": \"Idaho\", \"date\": \"2020-10-30\", \"tweet_count\": 22, \"total_likes\": 31.0, \"sentiment_avg\": 0.1391, \"total_retweets\": 4.0, \"top_hashtag\": \"#trump\", \"top_hashtag_likes\": 23.0, \"id\": 16, \"states_code\": \"ID\"}, {\"state\": \"Idaho\", \"date\": \"2020-10-31\", \"tweet_count\": 24, \"total_likes\": 33.0, \"sentiment_avg\": -0.2903416666666666, \"total_retweets\": 11.0, \"top_hashtag\": \"#trump\", \"top_hashtag_likes\": 27.0, \"id\": 16, \"states_code\": \"ID\"}, {\"state\": \"Idaho\", \"date\": \"2020-11-01\", \"tweet_count\": 29, \"total_likes\": 25.0, \"sentiment_avg\": -0.1203620689655172, \"total_retweets\": 5.0, \"top_hashtag\": \"#biden\", \"top_hashtag_likes\": 14.0, \"id\": 16, \"states_code\": \"ID\"}, {\"state\": \"Idaho\", \"date\": \"2020-11-02\", \"tweet_count\": 54, \"total_likes\": 83.0, \"sentiment_avg\": 0.0487148148148148, \"total_retweets\": 14.0, \"top_hashtag\": \"#trump\", \"top_hashtag_likes\": 80.0, \"id\": 16, \"states_code\": \"ID\"}, {\"state\": \"Idaho\", \"date\": \"2020-11-03\", \"tweet_count\": 48, \"total_likes\": 31.0, \"sentiment_avg\": 0.00175625, \"total_retweets\": 1.0, \"top_hashtag\": \"#biden\", \"top_hashtag_likes\": 24.0, \"id\": 16, \"states_code\": \"ID\"}, {\"state\": \"Idaho\", \"date\": \"2020-11-04\", \"tweet_count\": 41, \"total_likes\": 107.0, \"sentiment_avg\": 0.1550048780487805, \"total_retweets\": 20.0, \"top_hashtag\": \"#biden\", \"top_hashtag_likes\": 93.0, \"id\": 16, \"states_code\": \"ID\"}, {\"state\": \"Idaho\", \"date\": \"2020-11-05\", \"tweet_count\": 39, \"total_likes\": 32.0, \"sentiment_avg\": 0.0707051282051282, \"total_retweets\": 6.0, \"top_hashtag\": \"#biden\", \"top_hashtag_likes\": 16.0, \"id\": 16, \"states_code\": \"ID\"}, {\"state\": \"Idaho\", \"date\": \"2020-11-06\", \"tweet_count\": 73, \"total_likes\": 83.0, \"sentiment_avg\": -0.0974917808219178, \"total_retweets\": 17.0, \"top_hashtag\": \"#biden\", \"top_hashtag_likes\": 63.0, \"id\": 16, \"states_code\": \"ID\"}, {\"state\": \"Idaho\", \"date\": \"2020-11-07\", \"tweet_count\": 98, \"total_likes\": 96.0, \"sentiment_avg\": 0.0185061224489795, \"total_retweets\": 21.0, \"top_hashtag\": \"#trump\", \"top_hashtag_likes\": 70.0, \"id\": 16, \"states_code\": \"ID\"}, {\"state\": \"Idaho\", \"date\": \"2020-11-08\", \"tweet_count\": 54, \"total_likes\": 72.0, \"sentiment_avg\": 0.0262037037037037, \"total_retweets\": 12.0, \"top_hashtag\": \"#biden\", \"top_hashtag_likes\": 57.0, \"id\": 16, \"states_code\": \"ID\"}, {\"state\": \"Illinois\", \"date\": \"2020-10-15\", \"tweet_count\": 313, \"total_likes\": 1509.0, \"sentiment_avg\": -0.0415111821086261, \"total_retweets\": 503.0, \"top_hashtag\": \"#biden\", \"top_hashtag_likes\": 1405.0, \"id\": 17, \"states_code\": \"IL\"}, {\"state\": \"Illinois\", \"date\": \"2020-10-16\", \"tweet_count\": 460, \"total_likes\": 3634.0, \"sentiment_avg\": -0.0456691304347826, \"total_retweets\": 973.0, \"top_hashtag\": \"#trump\", \"top_hashtag_likes\": 3055.0, \"id\": 17, \"states_code\": \"IL\"}, {\"state\": \"Illinois\", \"date\": \"2020-10-17\", \"tweet_count\": 247, \"total_likes\": 909.0, \"sentiment_avg\": -0.0001327935222672, \"total_retweets\": 458.0, \"top_hashtag\": \"#trump\", \"top_hashtag_likes\": 555.0, \"id\": 17, \"states_code\": \"IL\"}, {\"state\": \"Illinois\", \"date\": \"2020-10-18\", \"tweet_count\": 265, \"total_likes\": 4144.0, \"sentiment_avg\": -0.0206166037735849, \"total_retweets\": 1147.0, \"top_hashtag\": \"#trump\", \"top_hashtag_likes\": 2633.0, \"id\": 17, \"states_code\": \"IL\"}, {\"state\": \"Illinois\", \"date\": \"2020-10-19\", \"tweet_count\": 269, \"total_likes\": 1984.0, \"sentiment_avg\": -0.0578472118959107, \"total_retweets\": 497.0, \"top_hashtag\": \"#biden\", \"top_hashtag_likes\": 1805.0, \"id\": 17, \"states_code\": \"IL\"}, {\"state\": \"Illinois\", \"date\": \"2020-10-20\", \"tweet_count\": 259, \"total_likes\": 799.0, \"sentiment_avg\": -0.0010818532818532, \"total_retweets\": 215.0, \"top_hashtag\": \"#biden\", \"top_hashtag_likes\": 572.0, \"id\": 17, \"states_code\": \"IL\"}, {\"state\": \"Illinois\", \"date\": \"2020-10-21\", \"tweet_count\": 265, \"total_likes\": 372.0, \"sentiment_avg\": -0.0097494339622641, \"total_retweets\": 96.0, \"top_hashtag\": \"#trump\", \"top_hashtag_likes\": 250.0, \"id\": 17, \"states_code\": \"IL\"}, {\"state\": \"Illinois\", \"date\": \"2020-10-22\", \"tweet_count\": 345, \"total_likes\": 641.0, \"sentiment_avg\": -0.0235408695652173, \"total_retweets\": 184.0, \"top_hashtag\": \"#trump\", \"top_hashtag_likes\": 391.0, \"id\": 17, \"states_code\": \"IL\"}, {\"state\": \"Illinois\", \"date\": \"2020-10-23\", \"tweet_count\": 963, \"total_likes\": 1388.0, \"sentiment_avg\": 0.0408264797507788, \"total_retweets\": 322.0, \"top_hashtag\": \"#biden\", \"top_hashtag_likes\": 982.0, \"id\": 17, \"states_code\": \"IL\"}, {\"state\": \"Illinois\", \"date\": \"2020-10-24\", \"tweet_count\": 292, \"total_likes\": 997.0, \"sentiment_avg\": -0.1414842465753424, \"total_retweets\": 484.0, \"top_hashtag\": \"#trump\", \"top_hashtag_likes\": 739.0, \"id\": 17, \"states_code\": \"IL\"}, {\"state\": \"Illinois\", \"date\": \"2020-10-25\", \"tweet_count\": 272, \"total_likes\": 1308.0, \"sentiment_avg\": -0.011616544117647, \"total_retweets\": 549.0, \"top_hashtag\": \"#trump\", \"top_hashtag_likes\": 1052.0, \"id\": 17, \"states_code\": \"IL\"}, {\"state\": \"Illinois\", \"date\": \"2020-10-26\", \"tweet_count\": 332, \"total_likes\": 407.0, \"sentiment_avg\": -0.0470385542168674, \"total_retweets\": 92.0, \"top_hashtag\": \"#trump\", \"top_hashtag_likes\": 363.0, \"id\": 17, \"states_code\": \"IL\"}, {\"state\": \"Illinois\", \"date\": \"2020-10-27\", \"tweet_count\": 285, \"total_likes\": 447.0, \"sentiment_avg\": 0.0100659649122807, \"total_retweets\": 201.0, \"top_hashtag\": \"#biden\", \"top_hashtag_likes\": 278.0, \"id\": 17, \"states_code\": \"IL\"}, {\"state\": \"Illinois\", \"date\": \"2020-10-28\", \"tweet_count\": 303, \"total_likes\": 446.0, \"sentiment_avg\": -0.0387386138613861, \"total_retweets\": 110.0, \"top_hashtag\": \"#trump\", \"top_hashtag_likes\": 346.0, \"id\": 17, \"states_code\": \"IL\"}, {\"state\": \"Illinois\", \"date\": \"2020-10-29\", \"tweet_count\": 278, \"total_likes\": 371.0, \"sentiment_avg\": -0.0353615107913669, \"total_retweets\": 80.0, \"top_hashtag\": \"#biden\", \"top_hashtag_likes\": 294.0, \"id\": 17, \"states_code\": \"IL\"}, {\"state\": \"Illinois\", \"date\": \"2020-10-30\", \"tweet_count\": 289, \"total_likes\": 1309.0, \"sentiment_avg\": -0.0416709342560553, \"total_retweets\": 288.0, \"top_hashtag\": \"#trump\", \"top_hashtag_likes\": 1163.0, \"id\": 17, \"states_code\": \"IL\"}, {\"state\": \"Illinois\", \"date\": \"2020-10-31\", \"tweet_count\": 274, \"total_likes\": 1158.0, \"sentiment_avg\": -0.0622667883211678, \"total_retweets\": 393.0, \"top_hashtag\": \"#biden\", \"top_hashtag_likes\": 1010.0, \"id\": 17, \"states_code\": \"IL\"}, {\"state\": \"Illinois\", \"date\": \"2020-11-01\", \"tweet_count\": 401, \"total_likes\": 1378.0, \"sentiment_avg\": -0.0409204488778054, \"total_retweets\": 493.0, \"top_hashtag\": \"#trump\", \"top_hashtag_likes\": 1105.0, \"id\": 17, \"states_code\": \"IL\"}, {\"state\": \"Illinois\", \"date\": \"2020-11-02\", \"tweet_count\": 564, \"total_likes\": 2764.0, \"sentiment_avg\": -0.0595097517730496, \"total_retweets\": 541.0, \"top_hashtag\": \"#biden\", \"top_hashtag_likes\": 1881.0, \"id\": 17, \"states_code\": \"IL\"}, {\"state\": \"Illinois\", \"date\": \"2020-11-03\", \"tweet_count\": 484, \"total_likes\": 2886.0, \"sentiment_avg\": 0.0810347107438016, \"total_retweets\": 716.0, \"top_hashtag\": \"#trump\", \"top_hashtag_likes\": 2648.0, \"id\": 17, \"states_code\": \"IL\"}, {\"state\": \"Illinois\", \"date\": \"2020-11-04\", \"tweet_count\": 729, \"total_likes\": 4922.0, \"sentiment_avg\": 0.1033941015089163, \"total_retweets\": 964.0, \"top_hashtag\": \"#biden\", \"top_hashtag_likes\": 5999.0, \"id\": 17, \"states_code\": \"IL\"}, {\"state\": \"Illinois\", \"date\": \"2020-11-05\", \"tweet_count\": 556, \"total_likes\": 3141.0, \"sentiment_avg\": -0.0029044964028776, \"total_retweets\": 836.0, \"top_hashtag\": \"#biden\", \"top_hashtag_likes\": 2535.0, \"id\": 17, \"states_code\": \"IL\"}, {\"state\": \"Illinois\", \"date\": \"2020-11-06\", \"tweet_count\": 664, \"total_likes\": 2105.0, \"sentiment_avg\": -0.0045972891566265, \"total_retweets\": 319.0, \"top_hashtag\": \"#biden\", \"top_hashtag_likes\": 1336.0, \"id\": 17, \"states_code\": \"IL\"}, {\"state\": \"Illinois\", \"date\": \"2020-11-07\", \"tweet_count\": 1053, \"total_likes\": 6304.0, \"sentiment_avg\": 0.1165020892687559, \"total_retweets\": 1149.0, \"top_hashtag\": \"#biden\", \"top_hashtag_likes\": 5739.0, \"id\": 17, \"states_code\": \"IL\"}, {\"state\": \"Illinois\", \"date\": \"2020-11-08\", \"tweet_count\": 616, \"total_likes\": 6404.0, \"sentiment_avg\": 0.1171233766233766, \"total_retweets\": 975.0, \"top_hashtag\": \"#biden\", \"top_hashtag_likes\": 5972.0, \"id\": 17, \"states_code\": \"IL\"}, {\"state\": \"Indiana\", \"date\": \"2020-10-15\", \"tweet_count\": 71, \"total_likes\": 53.0, \"sentiment_avg\": -0.114338028169014, \"total_retweets\": 22.0, \"top_hashtag\": \"#trump\", \"top_hashtag_likes\": 37.0, \"id\": 18, \"states_code\": \"IN\"}, {\"state\": \"Indiana\", \"date\": \"2020-10-16\", \"tweet_count\": 104, \"total_likes\": 122.0, \"sentiment_avg\": 0.0177355769230769, \"total_retweets\": 25.0, \"top_hashtag\": \"#biden\", \"top_hashtag_likes\": 67.0, \"id\": 18, \"states_code\": \"IN\"}, {\"state\": \"Indiana\", \"date\": \"2020-10-17\", \"tweet_count\": 40, \"total_likes\": 165.0, \"sentiment_avg\": -0.0224425, \"total_retweets\": 46.0, \"top_hashtag\": \"#biden\", \"top_hashtag_likes\": 129.0, \"id\": 18, \"states_code\": \"IN\"}, {\"state\": \"Indiana\", \"date\": \"2020-10-18\", \"tweet_count\": 57, \"total_likes\": 59.0, \"sentiment_avg\": -0.0146631578947368, \"total_retweets\": 24.0, \"top_hashtag\": \"#biden\", \"top_hashtag_likes\": 38.0, \"id\": 18, \"states_code\": \"IN\"}, {\"state\": \"Indiana\", \"date\": \"2020-10-19\", \"tweet_count\": 54, \"total_likes\": 36.0, \"sentiment_avg\": -0.1065111111111111, \"total_retweets\": 12.0, \"top_hashtag\": \"#trump\", \"top_hashtag_likes\": 23.0, \"id\": 18, \"states_code\": \"IN\"}, {\"state\": \"Indiana\", \"date\": \"2020-10-20\", \"tweet_count\": 53, \"total_likes\": 58.0, \"sentiment_avg\": -0.0160603773584905, \"total_retweets\": 6.0, \"top_hashtag\": \"#biden\", \"top_hashtag_likes\": 39.0, \"id\": 18, \"states_code\": \"IN\"}, {\"state\": \"Indiana\", \"date\": \"2020-10-21\", \"tweet_count\": 73, \"total_likes\": 120.0, \"sentiment_avg\": -0.0560835616438356, \"total_retweets\": 35.0, \"top_hashtag\": \"#biden\", \"top_hashtag_likes\": 106.0, \"id\": 18, \"states_code\": \"IN\"}, {\"state\": \"Indiana\", \"date\": \"2020-10-22\", \"tweet_count\": 51, \"total_likes\": 55.0, \"sentiment_avg\": -0.0503509803921568, \"total_retweets\": 16.0, \"top_hashtag\": \"#trump\", \"top_hashtag_likes\": 39.0, \"id\": 18, \"states_code\": \"IN\"}, {\"state\": \"Indiana\", \"date\": \"2020-10-23\", \"tweet_count\": 195, \"total_likes\": 649.0, \"sentiment_avg\": 0.0204948717948717, \"total_retweets\": 129.0, \"top_hashtag\": \"#biden\", \"top_hashtag_likes\": 509.0, \"id\": 18, \"states_code\": \"IN\"}, {\"state\": \"Indiana\", \"date\": \"2020-10-24\", \"tweet_count\": 47, \"total_likes\": 42.0, \"sentiment_avg\": -0.0653191489361702, \"total_retweets\": 2.0, \"top_hashtag\": \"#biden\", \"top_hashtag_likes\": 37.0, \"id\": 18, \"states_code\": \"IN\"}, {\"state\": \"Indiana\", \"date\": \"2020-10-25\", \"tweet_count\": 47, \"total_likes\": 109.0, \"sentiment_avg\": -0.1004787234042553, \"total_retweets\": 39.0, \"top_hashtag\": \"#biden\", \"top_hashtag_likes\": 98.0, \"id\": 18, \"states_code\": \"IN\"}, {\"state\": \"Indiana\", \"date\": \"2020-10-26\", \"tweet_count\": 62, \"total_likes\": 76.0, \"sentiment_avg\": -0.1186225806451613, \"total_retweets\": 20.0, \"top_hashtag\": \"#vote\", \"top_hashtag_likes\": 57.0, \"id\": 18, \"states_code\": \"IN\"}, {\"state\": \"Indiana\", \"date\": \"2020-10-27\", \"tweet_count\": 60, \"total_likes\": 233.0, \"sentiment_avg\": -0.0321616666666666, \"total_retweets\": 36.0, \"top_hashtag\": \"#biden\", \"top_hashtag_likes\": 162.0, \"id\": 18, \"states_code\": \"IN\"}, {\"state\": \"Indiana\", \"date\": \"2020-10-28\", \"tweet_count\": 62, \"total_likes\": 17.0, \"sentiment_avg\": 0.0639483870967742, \"total_retweets\": 7.0, \"top_hashtag\": \"#biden\", \"top_hashtag_likes\": 15.0, \"id\": 18, \"states_code\": \"IN\"}, {\"state\": \"Indiana\", \"date\": \"2020-10-29\", \"tweet_count\": 47, \"total_likes\": 25.0, \"sentiment_avg\": -0.0993702127659574, \"total_retweets\": 7.0, \"top_hashtag\": \"#biden\", \"top_hashtag_likes\": 18.0, \"id\": 18, \"states_code\": \"IN\"}, {\"state\": \"Indiana\", \"date\": \"2020-10-30\", \"tweet_count\": 55, \"total_likes\": 48.0, \"sentiment_avg\": -0.0405981818181818, \"total_retweets\": 16.0, \"top_hashtag\": \"#biden\", \"top_hashtag_likes\": 30.0, \"id\": 18, \"states_code\": \"IN\"}, {\"state\": \"Indiana\", \"date\": \"2020-10-31\", \"tweet_count\": 42, \"total_likes\": 223.0, \"sentiment_avg\": 0.0687571428571428, \"total_retweets\": 30.0, \"top_hashtag\": \"#biden\", \"top_hashtag_likes\": 211.0, \"id\": 18, \"states_code\": \"IN\"}, {\"state\": \"Indiana\", \"date\": \"2020-11-01\", \"tweet_count\": 64, \"total_likes\": 998.0, \"sentiment_avg\": 0.1412328125, \"total_retweets\": 299.0, \"top_hashtag\": \"#trump\", \"top_hashtag_likes\": 985.0, \"id\": 18, \"states_code\": \"IN\"}, {\"state\": \"Indiana\", \"date\": \"2020-11-02\", \"tweet_count\": 85, \"total_likes\": 76.0, \"sentiment_avg\": 0.0734235294117647, \"total_retweets\": 19.0, \"top_hashtag\": \"#trump\", \"top_hashtag_likes\": 74.0, \"id\": 18, \"states_code\": \"IN\"}, {\"state\": \"Indiana\", \"date\": \"2020-11-03\", \"tweet_count\": 123, \"total_likes\": 360.0, \"sentiment_avg\": 0.0358016260162601, \"total_retweets\": 111.0, \"top_hashtag\": \"#trump\", \"top_hashtag_likes\": 300.0, \"id\": 18, \"states_code\": \"IN\"}, {\"state\": \"Indiana\", \"date\": \"2020-11-04\", \"tweet_count\": 180, \"total_likes\": 261.0, \"sentiment_avg\": 0.1307072222222222, \"total_retweets\": 30.0, \"top_hashtag\": \"#biden\", \"top_hashtag_likes\": 174.0, \"id\": 18, \"states_code\": \"IN\"}, {\"state\": \"Indiana\", \"date\": \"2020-11-05\", \"tweet_count\": 102, \"total_likes\": 158.0, \"sentiment_avg\": 0.0408245098039215, \"total_retweets\": 25.0, \"top_hashtag\": \"#trump\", \"top_hashtag_likes\": 99.0, \"id\": 18, \"states_code\": \"IN\"}, {\"state\": \"Indiana\", \"date\": \"2020-11-06\", \"tweet_count\": 118, \"total_likes\": 163.0, \"sentiment_avg\": -0.0581847457627118, \"total_retweets\": 28.0, \"top_hashtag\": \"#biden\", \"top_hashtag_likes\": 121.0, \"id\": 18, \"states_code\": \"IN\"}, {\"state\": \"Indiana\", \"date\": \"2020-11-07\", \"tweet_count\": 538, \"total_likes\": 519.0, \"sentiment_avg\": 0.3058970260223048, \"total_retweets\": 72.0, \"top_hashtag\": \"#biden\", \"top_hashtag_likes\": 450.0, \"id\": 18, \"states_code\": \"IN\"}, {\"state\": \"Indiana\", \"date\": \"2020-11-08\", \"tweet_count\": 302, \"total_likes\": 235.0, \"sentiment_avg\": 0.2929705298013245, \"total_retweets\": 26.0, \"top_hashtag\": \"#biden\", \"top_hashtag_likes\": 207.0, \"id\": 18, \"states_code\": \"IN\"}, {\"state\": \"Iowa\", \"date\": \"2020-10-15\", \"tweet_count\": 49, \"total_likes\": 80.0, \"sentiment_avg\": -0.1443142857142857, \"total_retweets\": 53.0, \"top_hashtag\": \"#trump\", \"top_hashtag_likes\": 59.0, \"id\": 19, \"states_code\": \"IA\"}, {\"state\": \"Iowa\", \"date\": \"2020-10-16\", \"tweet_count\": 64, \"total_likes\": 140.0, \"sentiment_avg\": 0.040490625, \"total_retweets\": 49.0, \"top_hashtag\": \"#trump\", \"top_hashtag_likes\": 104.0, \"id\": 19, \"states_code\": \"IA\"}, {\"state\": \"Iowa\", \"date\": \"2020-10-17\", \"tweet_count\": 27, \"total_likes\": 53.0, \"sentiment_avg\": 0.0129703703703703, \"total_retweets\": 29.0, \"top_hashtag\": \"#trump\", \"top_hashtag_likes\": 47.0, \"id\": 19, \"states_code\": \"IA\"}, {\"state\": \"Iowa\", \"date\": \"2020-10-18\", \"tweet_count\": 35, \"total_likes\": 92.0, \"sentiment_avg\": 0.0392457142857142, \"total_retweets\": 55.0, \"top_hashtag\": \"#trump\", \"top_hashtag_likes\": 81.0, \"id\": 19, \"states_code\": \"IA\"}, {\"state\": \"Iowa\", \"date\": \"2020-10-19\", \"tweet_count\": 64, \"total_likes\": 136.0, \"sentiment_avg\": 0.0544453124999999, \"total_retweets\": 52.0, \"top_hashtag\": \"#trump\", \"top_hashtag_likes\": 116.0, \"id\": 19, \"states_code\": \"IA\"}, {\"state\": \"Iowa\", \"date\": \"2020-10-20\", \"tweet_count\": 35, \"total_likes\": 76.0, \"sentiment_avg\": -0.1191514285714285, \"total_retweets\": 40.0, \"top_hashtag\": \"#trump\", \"top_hashtag_likes\": 55.0, \"id\": 19, \"states_code\": \"IA\"}, {\"state\": \"Iowa\", \"date\": \"2020-10-21\", \"tweet_count\": 46, \"total_likes\": 296.0, \"sentiment_avg\": -0.1353782608695652, \"total_retweets\": 134.0, \"top_hashtag\": \"#biden\", \"top_hashtag_likes\": 243.0, \"id\": 19, \"states_code\": \"IA\"}, {\"state\": \"Iowa\", \"date\": \"2020-10-22\", \"tweet_count\": 24, \"total_likes\": 51.0, \"sentiment_avg\": 0.0790666666666666, \"total_retweets\": 29.0, \"top_hashtag\": \"#trump\", \"top_hashtag_likes\": 48.0, \"id\": 19, \"states_code\": \"IA\"}, {\"state\": \"Iowa\", \"date\": \"2020-10-23\", \"tweet_count\": 146, \"total_likes\": 306.0, \"sentiment_avg\": -0.0867239726027397, \"total_retweets\": 91.0, \"top_hashtag\": \"#trump\", \"top_hashtag_likes\": 279.0, \"id\": 19, \"states_code\": \"IA\"}, {\"state\": \"Iowa\", \"date\": \"2020-10-24\", \"tweet_count\": 24, \"total_likes\": 90.0, \"sentiment_avg\": -0.0074874999999999, \"total_retweets\": 40.0, \"top_hashtag\": \"#trump\", \"top_hashtag_likes\": 80.0, \"id\": 19, \"states_code\": \"IA\"}, {\"state\": \"Iowa\", \"date\": \"2020-10-25\", \"tweet_count\": 30, \"total_likes\": 99.0, \"sentiment_avg\": 0.1678733333333333, \"total_retweets\": 20.0, \"top_hashtag\": \"#trump\", \"top_hashtag_likes\": 87.0, \"id\": 19, \"states_code\": \"IA\"}, {\"state\": \"Iowa\", \"date\": \"2020-10-26\", \"tweet_count\": 29, \"total_likes\": 74.0, \"sentiment_avg\": -0.1314103448275862, \"total_retweets\": 17.0, \"top_hashtag\": \"#trump\", \"top_hashtag_likes\": 70.0, \"id\": 19, \"states_code\": \"IA\"}, {\"state\": \"Iowa\", \"date\": \"2020-10-27\", \"tweet_count\": 42, \"total_likes\": 687.0, \"sentiment_avg\": -0.0663190476190476, \"total_retweets\": 291.0, \"top_hashtag\": \"#resist\", \"top_hashtag_likes\": 533.0, \"id\": 19, \"states_code\": \"IA\"}, {\"state\": \"Iowa\", \"date\": \"2020-10-28\", \"tweet_count\": 51, \"total_likes\": 188.0, \"sentiment_avg\": -0.0119764705882352, \"total_retweets\": 123.0, \"top_hashtag\": \"#biden\", \"top_hashtag_likes\": 168.0, \"id\": 19, \"states_code\": \"IA\"}, {\"state\": \"Iowa\", \"date\": \"2020-10-29\", \"tweet_count\": 19, \"total_likes\": 91.0, \"sentiment_avg\": -0.1720842105263157, \"total_retweets\": 44.0, \"top_hashtag\": \"#biden\", \"top_hashtag_likes\": 47.0, \"id\": 19, \"states_code\": \"IA\"}, {\"state\": \"Iowa\", \"date\": \"2020-10-30\", \"tweet_count\": 36, \"total_likes\": 55.0, \"sentiment_avg\": -0.1523277777777777, \"total_retweets\": 12.0, \"top_hashtag\": \"#trump\", \"top_hashtag_likes\": 51.0, \"id\": 19, \"states_code\": \"IA\"}, {\"state\": \"Iowa\", \"date\": \"2020-10-31\", \"tweet_count\": 29, \"total_likes\": 932.0, \"sentiment_avg\": 0.1090448275862069, \"total_retweets\": 140.0, \"top_hashtag\": \"#biden\", \"top_hashtag_likes\": 899.0, \"id\": 19, \"states_code\": \"IA\"}, {\"state\": \"Iowa\", \"date\": \"2020-11-01\", \"tweet_count\": 35, \"total_likes\": 121.0, \"sentiment_avg\": -0.0961571428571428, \"total_retweets\": 75.0, \"top_hashtag\": \"#trump\", \"top_hashtag_likes\": 119.0, \"id\": 19, \"states_code\": \"IA\"}, {\"state\": \"Iowa\", \"date\": \"2020-11-02\", \"tweet_count\": 54, \"total_likes\": 627.0, \"sentiment_avg\": -0.0672185185185185, \"total_retweets\": 179.0, \"top_hashtag\": \"#trump\", \"top_hashtag_likes\": 586.0, \"id\": 19, \"states_code\": \"IA\"}, {\"state\": \"Iowa\", \"date\": \"2020-11-03\", \"tweet_count\": 57, \"total_likes\": 104.0, \"sentiment_avg\": 0.1317070175438596, \"total_retweets\": 18.0, \"top_hashtag\": \"#biden\", \"top_hashtag_likes\": 56.0, \"id\": 19, \"states_code\": \"IA\"}, {\"state\": \"Iowa\", \"date\": \"2020-11-04\", \"tweet_count\": 80, \"total_likes\": 180.0, \"sentiment_avg\": 0.03816875, \"total_retweets\": 22.0, \"top_hashtag\": \"#trump\", \"top_hashtag_likes\": 109.0, \"id\": 19, \"states_code\": \"IA\"}, {\"state\": \"Iowa\", \"date\": \"2020-11-05\", \"tweet_count\": 53, \"total_likes\": 147.0, \"sentiment_avg\": -0.1199622641509434, \"total_retweets\": 28.0, \"top_hashtag\": \"#trump\", \"top_hashtag_likes\": 162.0, \"id\": 19, \"states_code\": \"IA\"}, {\"state\": \"Iowa\", \"date\": \"2020-11-06\", \"tweet_count\": 66, \"total_likes\": 126.0, \"sentiment_avg\": -0.0050954545454545, \"total_retweets\": 18.0, \"top_hashtag\": \"#trump\", \"top_hashtag_likes\": 120.0, \"id\": 19, \"states_code\": \"IA\"}, {\"state\": \"Iowa\", \"date\": \"2020-11-07\", \"tweet_count\": 81, \"total_likes\": 239.0, \"sentiment_avg\": 0.2148962962962963, \"total_retweets\": 57.0, \"top_hashtag\": \"#trump\", \"top_hashtag_likes\": 143.0, \"id\": 19, \"states_code\": \"IA\"}, {\"state\": \"Iowa\", \"date\": \"2020-11-08\", \"tweet_count\": 77, \"total_likes\": 369.0, \"sentiment_avg\": 0.0722766233766233, \"total_retweets\": 17.0, \"top_hashtag\": \"#biden\", \"top_hashtag_likes\": 347.0, \"id\": 19, \"states_code\": \"IA\"}, {\"state\": \"Kansas\", \"date\": \"2020-10-15\", \"tweet_count\": 36, \"total_likes\": 86.0, \"sentiment_avg\": 0.1001555555555555, \"total_retweets\": 101.0, \"top_hashtag\": \"#biden\", \"top_hashtag_likes\": 81.0, \"id\": 20, \"states_code\": \"KS\"}, {\"state\": \"Kansas\", \"date\": \"2020-10-16\", \"tweet_count\": 79, \"total_likes\": 364.0, \"sentiment_avg\": -0.0535582278481012, \"total_retweets\": 122.0, \"top_hashtag\": \"#trump\", \"top_hashtag_likes\": 286.0, \"id\": 20, \"states_code\": \"KS\"}, {\"state\": \"Kansas\", \"date\": \"2020-10-17\", \"tweet_count\": 25, \"total_likes\": 22.0, \"sentiment_avg\": 0.079812, \"total_retweets\": 5.0, \"top_hashtag\": \"#trump\", \"top_hashtag_likes\": 15.0, \"id\": 20, \"states_code\": \"KS\"}, {\"state\": \"Kansas\", \"date\": \"2020-10-18\", \"tweet_count\": 35, \"total_likes\": 64.0, \"sentiment_avg\": 0.0126742857142857, \"total_retweets\": 24.0, \"top_hashtag\": \"#biden\", \"top_hashtag_likes\": 47.0, \"id\": 20, \"states_code\": \"KS\"}, {\"state\": \"Kansas\", \"date\": \"2020-10-19\", \"tweet_count\": 41, \"total_likes\": 37.0, \"sentiment_avg\": 0.0221634146341463, \"total_retweets\": 13.0, \"top_hashtag\": \"#trump\", \"top_hashtag_likes\": 22.0, \"id\": 20, \"states_code\": \"KS\"}, {\"state\": \"Kansas\", \"date\": \"2020-10-20\", \"tweet_count\": 36, \"total_likes\": 79.0, \"sentiment_avg\": 0.0861916666666666, \"total_retweets\": 61.0, \"top_hashtag\": \"#biden\", \"top_hashtag_likes\": 74.0, \"id\": 20, \"states_code\": \"KS\"}, {\"state\": \"Kansas\", \"date\": \"2020-10-21\", \"tweet_count\": 52, \"total_likes\": 58.0, \"sentiment_avg\": 0.0127788461538461, \"total_retweets\": 10.0, \"top_hashtag\": \"#biden\", \"top_hashtag_likes\": 46.0, \"id\": 20, \"states_code\": \"KS\"}, {\"state\": \"Kansas\", \"date\": \"2020-10-22\", \"tweet_count\": 54, \"total_likes\": 169.0, \"sentiment_avg\": 0.2711888888888888, \"total_retweets\": 32.0, \"top_hashtag\": \"#biden\", \"top_hashtag_likes\": 145.0, \"id\": 20, \"states_code\": \"KS\"}, {\"state\": \"Kansas\", \"date\": \"2020-10-23\", \"tweet_count\": 168, \"total_likes\": 1476.0, \"sentiment_avg\": -0.0073375, \"total_retweets\": 754.0, \"top_hashtag\": \"#trump\", \"top_hashtag_likes\": 842.0, \"id\": 20, \"states_code\": \"KS\"}, {\"state\": \"Kansas\", \"date\": \"2020-10-24\", \"tweet_count\": 46, \"total_likes\": 192.0, \"sentiment_avg\": 0.1033239130434782, \"total_retweets\": 70.0, \"top_hashtag\": \"#trump\", \"top_hashtag_likes\": 168.0, \"id\": 20, \"states_code\": \"KS\"}, {\"state\": \"Kansas\", \"date\": \"2020-10-25\", \"tweet_count\": 33, \"total_likes\": 207.0, \"sentiment_avg\": -0.1421696969696969, \"total_retweets\": 134.0, \"top_hashtag\": \"#trump\", \"top_hashtag_likes\": 193.0, \"id\": 20, \"states_code\": \"KS\"}, {\"state\": \"Kansas\", \"date\": \"2020-10-26\", \"tweet_count\": 45, \"total_likes\": 28.0, \"sentiment_avg\": 0.0536911111111111, \"total_retweets\": 4.0, \"top_hashtag\": \"#trump\", \"top_hashtag_likes\": 20.0, \"id\": 20, \"states_code\": \"KS\"}, {\"state\": \"Kansas\", \"date\": \"2020-10-27\", \"tweet_count\": 43, \"total_likes\": 17.0, \"sentiment_avg\": 0.1655511627906976, \"total_retweets\": 5.0, \"top_hashtag\": \"#trump\", \"top_hashtag_likes\": 16.0, \"id\": 20, \"states_code\": \"KS\"}, {\"state\": \"Kansas\", \"date\": \"2020-10-28\", \"tweet_count\": 53, \"total_likes\": 56.0, \"sentiment_avg\": -0.041766037735849, \"total_retweets\": 15.0, \"top_hashtag\": \"#biden\", \"top_hashtag_likes\": 30.0, \"id\": 20, \"states_code\": \"KS\"}, {\"state\": \"Kansas\", \"date\": \"2020-10-29\", \"tweet_count\": 37, \"total_likes\": 174.0, \"sentiment_avg\": 0.1648567567567567, \"total_retweets\": 56.0, \"top_hashtag\": \"#biden\", \"top_hashtag_likes\": 108.0, \"id\": 20, \"states_code\": \"KS\"}, {\"state\": \"Kansas\", \"date\": \"2020-10-30\", \"tweet_count\": 40, \"total_likes\": 39.0, \"sentiment_avg\": 0.039175, \"total_retweets\": 9.0, \"top_hashtag\": \"#biden\", \"top_hashtag_likes\": 24.0, \"id\": 20, \"states_code\": \"KS\"}, {\"state\": \"Kansas\", \"date\": \"2020-10-31\", \"tweet_count\": 38, \"total_likes\": 77.0, \"sentiment_avg\": 0.0550447368421052, \"total_retweets\": 12.0, \"top_hashtag\": \"#biden\", \"top_hashtag_likes\": 56.0, \"id\": 20, \"states_code\": \"KS\"}, {\"state\": \"Kansas\", \"date\": \"2020-11-01\", \"tweet_count\": 32, \"total_likes\": 29.0, \"sentiment_avg\": -0.1488843749999999, \"total_retweets\": 5.0, \"top_hashtag\": \"#trump\", \"top_hashtag_likes\": 27.0, \"id\": 20, \"states_code\": \"KS\"}, {\"state\": \"Kansas\", \"date\": \"2020-11-02\", \"tweet_count\": 73, \"total_likes\": 91.0, \"sentiment_avg\": 0.0115657534246575, \"total_retweets\": 18.0, \"top_hashtag\": \"#trump\", \"top_hashtag_likes\": 83.0, \"id\": 20, \"states_code\": \"KS\"}, {\"state\": \"Kansas\", \"date\": \"2020-11-03\", \"tweet_count\": 115, \"total_likes\": 236.0, \"sentiment_avg\": 0.1351460869565217, \"total_retweets\": 58.0, \"top_hashtag\": \"#biden\", \"top_hashtag_likes\": 177.0, \"id\": 20, \"states_code\": \"KS\"}, {\"state\": \"Kansas\", \"date\": \"2020-11-04\", \"tweet_count\": 105, \"total_likes\": 303.0, \"sentiment_avg\": 0.0645047619047619, \"total_retweets\": 40.0, \"top_hashtag\": \"#biden\", \"top_hashtag_likes\": 283.0, \"id\": 20, \"states_code\": \"KS\"}, {\"state\": \"Kansas\", \"date\": \"2020-11-05\", \"tweet_count\": 81, \"total_likes\": 105.0, \"sentiment_avg\": -0.0075567901234567, \"total_retweets\": 29.0, \"top_hashtag\": \"#trump\", \"top_hashtag_likes\": 78.0, \"id\": 20, \"states_code\": \"KS\"}, {\"state\": \"Kansas\", \"date\": \"2020-11-06\", \"tweet_count\": 67, \"total_likes\": 40.0, \"sentiment_avg\": 0.1145940298507462, \"total_retweets\": 13.0, \"top_hashtag\": \"#trump\", \"top_hashtag_likes\": 31.0, \"id\": 20, \"states_code\": \"KS\"}, {\"state\": \"Kansas\", \"date\": \"2020-11-07\", \"tweet_count\": 159, \"total_likes\": 510.0, \"sentiment_avg\": 0.2009100628930817, \"total_retweets\": 59.0, \"top_hashtag\": \"#biden\", \"top_hashtag_likes\": 321.0, \"id\": 20, \"states_code\": \"KS\"}, {\"state\": \"Kansas\", \"date\": \"2020-11-08\", \"tweet_count\": 95, \"total_likes\": 189.0, \"sentiment_avg\": 0.1788526315789473, \"total_retweets\": 21.0, \"top_hashtag\": \"#biden\", \"top_hashtag_likes\": 172.0, \"id\": 20, \"states_code\": \"KS\"}, {\"state\": \"Kentucky\", \"date\": \"2020-10-15\", \"tweet_count\": 33, \"total_likes\": 69.0, \"sentiment_avg\": -0.0095878787878787, \"total_retweets\": 13.0, \"top_hashtag\": \"#trump\", \"top_hashtag_likes\": 64.0, \"id\": 21, \"states_code\": \"KY\"}, {\"state\": \"Kentucky\", \"date\": \"2020-10-16\", \"tweet_count\": 93, \"total_likes\": 114.0, \"sentiment_avg\": -0.0393870967741935, \"total_retweets\": 44.0, \"top_hashtag\": \"#trump\", \"top_hashtag_likes\": 107.0, \"id\": 21, \"states_code\": \"KY\"}, {\"state\": \"Kentucky\", \"date\": \"2020-10-17\", \"tweet_count\": 55, \"total_likes\": 209.0, \"sentiment_avg\": -0.0994727272727272, \"total_retweets\": 43.0, \"top_hashtag\": \"#biden\", \"top_hashtag_likes\": 138.0, \"id\": 21, \"states_code\": \"KY\"}, {\"state\": \"Kentucky\", \"date\": \"2020-10-18\", \"tweet_count\": 59, \"total_likes\": 509.0, \"sentiment_avg\": 0.1826474576271186, \"total_retweets\": 436.0, \"top_hashtag\": \"#trump\", \"top_hashtag_likes\": 504.0, \"id\": 21, \"states_code\": \"KY\"}, {\"state\": \"Kentucky\", \"date\": \"2020-10-19\", \"tweet_count\": 39, \"total_likes\": 221.0, \"sentiment_avg\": 0.0900871794871794, \"total_retweets\": 247.0, \"top_hashtag\": \"#trump\", \"top_hashtag_likes\": 213.0, \"id\": 21, \"states_code\": \"KY\"}, {\"state\": \"Kentucky\", \"date\": \"2020-10-20\", \"tweet_count\": 46, \"total_likes\": 408.0, \"sentiment_avg\": 0.0189717391304347, \"total_retweets\": 338.0, \"top_hashtag\": \"#trump\", \"top_hashtag_likes\": 403.0, \"id\": 21, \"states_code\": \"KY\"}, {\"state\": \"Kentucky\", \"date\": \"2020-10-21\", \"tweet_count\": 63, \"total_likes\": 76.0, \"sentiment_avg\": 0.0188333333333333, \"total_retweets\": 22.0, \"top_hashtag\": \"#trump\", \"top_hashtag_likes\": 61.0, \"id\": 21, \"states_code\": \"KY\"}, {\"state\": \"Kentucky\", \"date\": \"2020-10-22\", \"tweet_count\": 59, \"total_likes\": 150.0, \"sentiment_avg\": -0.0063983050847457, \"total_retweets\": 47.0, \"top_hashtag\": \"#biden\", \"top_hashtag_likes\": 91.0, \"id\": 21, \"states_code\": \"KY\"}, {\"state\": \"Kentucky\", \"date\": \"2020-10-23\", \"tweet_count\": 232, \"total_likes\": 1805.0, \"sentiment_avg\": 0.0210508620689655, \"total_retweets\": 1171.0, \"top_hashtag\": \"#biden\", \"top_hashtag_likes\": 1109.0, \"id\": 21, \"states_code\": \"KY\"}, {\"state\": \"Kentucky\", \"date\": \"2020-10-24\", \"tweet_count\": 56, \"total_likes\": 648.0, \"sentiment_avg\": -0.0160214285714285, \"total_retweets\": 470.0, \"top_hashtag\": \"#trump\", \"top_hashtag_likes\": 648.0, \"id\": 21, \"states_code\": \"KY\"}, {\"state\": \"Kentucky\", \"date\": \"2020-10-25\", \"tweet_count\": 47, \"total_likes\": 73.0, \"sentiment_avg\": 0.0362872340425532, \"total_retweets\": 18.0, \"top_hashtag\": \"#trump\", \"top_hashtag_likes\": 50.0, \"id\": 21, \"states_code\": \"KY\"}, {\"state\": \"Kentucky\", \"date\": \"2020-10-26\", \"tweet_count\": 72, \"total_likes\": 269.0, \"sentiment_avg\": -0.0244, \"total_retweets\": 283.0, \"top_hashtag\": \"#biden\", \"top_hashtag_likes\": 244.0, \"id\": 21, \"states_code\": \"KY\"}, {\"state\": \"Kentucky\", \"date\": \"2020-10-27\", \"tweet_count\": 78, \"total_likes\": 118.0, \"sentiment_avg\": -0.0039346153846153, \"total_retweets\": 29.0, \"top_hashtag\": \"#trump\", \"top_hashtag_likes\": 75.0, \"id\": 21, \"states_code\": \"KY\"}, {\"state\": \"Kentucky\", \"date\": \"2020-10-28\", \"tweet_count\": 92, \"total_likes\": 580.0, \"sentiment_avg\": -0.0428184782608695, \"total_retweets\": 512.0, \"top_hashtag\": \"#trump\", \"top_hashtag_likes\": 565.0, \"id\": 21, \"states_code\": \"KY\"}, {\"state\": \"Kentucky\", \"date\": \"2020-10-29\", \"tweet_count\": 53, \"total_likes\": 83.0, \"sentiment_avg\": -0.0162509433962264, \"total_retweets\": 14.0, \"top_hashtag\": \"#trump\", \"top_hashtag_likes\": 77.0, \"id\": 21, \"states_code\": \"KY\"}, {\"state\": \"Kentucky\", \"date\": \"2020-10-30\", \"tweet_count\": 54, \"total_likes\": 43.0, \"sentiment_avg\": -0.0472833333333333, \"total_retweets\": 9.0, \"top_hashtag\": \"#biden\", \"top_hashtag_likes\": 30.0, \"id\": 21, \"states_code\": \"KY\"}, {\"state\": \"Kentucky\", \"date\": \"2020-10-31\", \"tweet_count\": 42, \"total_likes\": 662.0, \"sentiment_avg\": 0.0838428571428571, \"total_retweets\": 679.0, \"top_hashtag\": \"#trump\", \"top_hashtag_likes\": 643.0, \"id\": 21, \"states_code\": \"KY\"}, {\"state\": \"Kentucky\", \"date\": \"2020-11-01\", \"tweet_count\": 63, \"total_likes\": 128.0, \"sentiment_avg\": 0.1117015873015873, \"total_retweets\": 15.0, \"top_hashtag\": \"#trump\", \"top_hashtag_likes\": 104.0, \"id\": 21, \"states_code\": \"KY\"}, {\"state\": \"Kentucky\", \"date\": \"2020-11-02\", \"tweet_count\": 108, \"total_likes\": 506.0, \"sentiment_avg\": 0.0570435185185185, \"total_retweets\": 328.0, \"top_hashtag\": \"#trump\", \"top_hashtag_likes\": 479.0, \"id\": 21, \"states_code\": \"KY\"}, {\"state\": \"Kentucky\", \"date\": \"2020-11-03\", \"tweet_count\": 97, \"total_likes\": 183.0, \"sentiment_avg\": 0.097261855670103, \"total_retweets\": 139.0, \"top_hashtag\": \"#electionday\", \"top_hashtag_likes\": 119.0, \"id\": 21, \"states_code\": \"KY\"}, {\"state\": \"Kentucky\", \"date\": \"2020-11-04\", \"tweet_count\": 138, \"total_likes\": 437.0, \"sentiment_avg\": 0.1155144927536231, \"total_retweets\": 70.0, \"top_hashtag\": \"#trump\", \"top_hashtag_likes\": 319.0, \"id\": 21, \"states_code\": \"KY\"}, {\"state\": \"Kentucky\", \"date\": \"2020-11-05\", \"tweet_count\": 121, \"total_likes\": 721.0, \"sentiment_avg\": -0.0379661157024793, \"total_retweets\": 121.0, \"top_hashtag\": \"#trump\", \"top_hashtag_likes\": 685.0, \"id\": 21, \"states_code\": \"KY\"}, {\"state\": \"Kentucky\", \"date\": \"2020-11-06\", \"tweet_count\": 186, \"total_likes\": 3025.0, \"sentiment_avg\": 0.0145752688172043, \"total_retweets\": 425.0, \"top_hashtag\": \"#trump\", \"top_hashtag_likes\": 2922.0, \"id\": 21, \"states_code\": \"KY\"}, {\"state\": \"Kentucky\", \"date\": \"2020-11-07\", \"tweet_count\": 172, \"total_likes\": 508.0, \"sentiment_avg\": 0.1233581395348837, \"total_retweets\": 130.0, \"top_hashtag\": \"#trump\", \"top_hashtag_likes\": 328.0, \"id\": 21, \"states_code\": \"KY\"}, {\"state\": \"Kentucky\", \"date\": \"2020-11-08\", \"tweet_count\": 152, \"total_likes\": 668.0, \"sentiment_avg\": 0.1373736842105263, \"total_retweets\": 56.0, \"top_hashtag\": \"#biden\", \"top_hashtag_likes\": 480.0, \"id\": 21, \"states_code\": \"KY\"}, {\"state\": \"Louisiana\", \"date\": \"2020-10-15\", \"tweet_count\": 65, \"total_likes\": 246.0, \"sentiment_avg\": -0.0513061538461538, \"total_retweets\": 52.0, \"top_hashtag\": \"#biden\", \"top_hashtag_likes\": 140.0, \"id\": 22, \"states_code\": \"LA\"}, {\"state\": \"Louisiana\", \"date\": \"2020-10-16\", \"tweet_count\": 66, \"total_likes\": 209.0, \"sentiment_avg\": -0.0616121212121212, \"total_retweets\": 63.0, \"top_hashtag\": \"#biden\", \"top_hashtag_likes\": 160.0, \"id\": 22, \"states_code\": \"LA\"}, {\"state\": \"Louisiana\", \"date\": \"2020-10-17\", \"tweet_count\": 29, \"total_likes\": 455.0, \"sentiment_avg\": -0.0193448275862068, \"total_retweets\": 143.0, \"top_hashtag\": \"#biden\", \"top_hashtag_likes\": 350.0, \"id\": 22, \"states_code\": \"LA\"}, {\"state\": \"Louisiana\", \"date\": \"2020-10-18\", \"tweet_count\": 33, \"total_likes\": 217.0, \"sentiment_avg\": 0.1747424242424242, \"total_retweets\": 42.0, \"top_hashtag\": \"#biden\", \"top_hashtag_likes\": 172.0, \"id\": 22, \"states_code\": \"LA\"}, {\"state\": \"Louisiana\", \"date\": \"2020-10-19\", \"tweet_count\": 61, \"total_likes\": 63.0, \"sentiment_avg\": -0.0570901639344262, \"total_retweets\": 25.0, \"top_hashtag\": \"#trump\", \"top_hashtag_likes\": 41.0, \"id\": 22, \"states_code\": \"LA\"}, {\"state\": \"Louisiana\", \"date\": \"2020-10-20\", \"tweet_count\": 45, \"total_likes\": 207.0, \"sentiment_avg\": -0.0054355555555555, \"total_retweets\": 29.0, \"top_hashtag\": \"#trump\", \"top_hashtag_likes\": 123.0, \"id\": 22, \"states_code\": \"LA\"}, {\"state\": \"Louisiana\", \"date\": \"2020-10-21\", \"tweet_count\": 61, \"total_likes\": 707.0, \"sentiment_avg\": 0.0225688524590163, \"total_retweets\": 205.0, \"top_hashtag\": \"#biden\", \"top_hashtag_likes\": 689.0, \"id\": 22, \"states_code\": \"LA\"}, {\"state\": \"Louisiana\", \"date\": \"2020-10-22\", \"tweet_count\": 57, \"total_likes\": 262.0, \"sentiment_avg\": 0.0016035087719298, \"total_retweets\": 71.0, \"top_hashtag\": \"#trump\", \"top_hashtag_likes\": 233.0, \"id\": 22, \"states_code\": \"LA\"}, {\"state\": \"Louisiana\", \"date\": \"2020-10-23\", \"tweet_count\": 189, \"total_likes\": 173.0, \"sentiment_avg\": -0.00585291005291, \"total_retweets\": 37.0, \"top_hashtag\": \"#biden\", \"top_hashtag_likes\": 103.0, \"id\": 22, \"states_code\": \"LA\"}, {\"state\": \"Louisiana\", \"date\": \"2020-10-24\", \"tweet_count\": 64, \"total_likes\": 171.0, \"sentiment_avg\": -0.0725953125, \"total_retweets\": 27.0, \"top_hashtag\": \"#biden\", \"top_hashtag_likes\": 140.0, \"id\": 22, \"states_code\": \"LA\"}, {\"state\": \"Louisiana\", \"date\": \"2020-10-25\", \"tweet_count\": 49, \"total_likes\": 32.0, \"sentiment_avg\": 0.0034061224489795, \"total_retweets\": 8.0, \"top_hashtag\": \"#biden\", \"top_hashtag_likes\": 19.0, \"id\": 22, \"states_code\": \"LA\"}, {\"state\": \"Louisiana\", \"date\": \"2020-10-26\", \"tweet_count\": 51, \"total_likes\": 350.0, \"sentiment_avg\": -0.0129901960784313, \"total_retweets\": 106.0, \"top_hashtag\": \"#60minutesinterview\", \"top_hashtag_likes\": 470.0, \"id\": 22, \"states_code\": \"LA\"}, {\"state\": \"Louisiana\", \"date\": \"2020-10-27\", \"tweet_count\": 66, \"total_likes\": 362.0, \"sentiment_avg\": -0.0174515151515151, \"total_retweets\": 35.0, \"top_hashtag\": \"#biden\", \"top_hashtag_likes\": 328.0, \"id\": 22, \"states_code\": \"LA\"}, {\"state\": \"Louisiana\", \"date\": \"2020-10-28\", \"tweet_count\": 69, \"total_likes\": 390.0, \"sentiment_avg\": 0.0274086956521739, \"total_retweets\": 90.0, \"top_hashtag\": \"#biden\", \"top_hashtag_likes\": 368.0, \"id\": 22, \"states_code\": \"LA\"}, {\"state\": \"Louisiana\", \"date\": \"2020-10-29\", \"tweet_count\": 41, \"total_likes\": 138.0, \"sentiment_avg\": 0.1335121951219512, \"total_retweets\": 23.0, \"top_hashtag\": \"#biden\", \"top_hashtag_likes\": 105.0, \"id\": 22, \"states_code\": \"LA\"}, {\"state\": \"Louisiana\", \"date\": \"2020-10-30\", \"tweet_count\": 52, \"total_likes\": 219.0, \"sentiment_avg\": 0.035926923076923, \"total_retweets\": 28.0, \"top_hashtag\": \"#trump\", \"top_hashtag_likes\": 128.0, \"id\": 22, \"states_code\": \"LA\"}, {\"state\": \"Louisiana\", \"date\": \"2020-10-31\", \"tweet_count\": 56, \"total_likes\": 927.0, \"sentiment_avg\": 0.1731517857142857, \"total_retweets\": 126.0, \"top_hashtag\": \"#biden\", \"top_hashtag_likes\": 804.0, \"id\": 22, \"states_code\": \"LA\"}, {\"state\": \"Louisiana\", \"date\": \"2020-11-01\", \"tweet_count\": 40, \"total_likes\": 749.0, \"sentiment_avg\": -0.0300724999999999, \"total_retweets\": 100.0, \"top_hashtag\": \"#trump\", \"top_hashtag_likes\": 642.0, \"id\": 22, \"states_code\": \"LA\"}, {\"state\": \"Louisiana\", \"date\": \"2020-11-02\", \"tweet_count\": 79, \"total_likes\": 673.0, \"sentiment_avg\": 0.0119126582278481, \"total_retweets\": 103.0, \"top_hashtag\": \"#biden\", \"top_hashtag_likes\": 570.0, \"id\": 22, \"states_code\": \"LA\"}, {\"state\": \"Louisiana\", \"date\": \"2020-11-03\", \"tweet_count\": 83, \"total_likes\": 176.0, \"sentiment_avg\": 0.1985530120481927, \"total_retweets\": 42.0, \"top_hashtag\": \"#biden\", \"top_hashtag_likes\": 105.0, \"id\": 22, \"states_code\": \"LA\"}, {\"state\": \"Louisiana\", \"date\": \"2020-11-04\", \"tweet_count\": 152, \"total_likes\": 233.0, \"sentiment_avg\": 0.1084111842105263, \"total_retweets\": 40.0, \"top_hashtag\": \"#biden\", \"top_hashtag_likes\": 167.0, \"id\": 22, \"states_code\": \"LA\"}, {\"state\": \"Louisiana\", \"date\": \"2020-11-05\", \"tweet_count\": 88, \"total_likes\": 303.0, \"sentiment_avg\": 0.0425386363636363, \"total_retweets\": 53.0, \"top_hashtag\": \"#biden\", \"top_hashtag_likes\": 233.0, \"id\": 22, \"states_code\": \"LA\"}, {\"state\": \"Louisiana\", \"date\": \"2020-11-06\", \"tweet_count\": 90, \"total_likes\": 414.0, \"sentiment_avg\": 0.0828666666666666, \"total_retweets\": 62.0, \"top_hashtag\": \"#trump\", \"top_hashtag_likes\": 351.0, \"id\": 22, \"states_code\": \"LA\"}, {\"state\": \"Louisiana\", \"date\": \"2020-11-07\", \"tweet_count\": 174, \"total_likes\": 3602.0, \"sentiment_avg\": 0.1913367816091954, \"total_retweets\": 533.0, \"top_hashtag\": \"#trump\", \"top_hashtag_likes\": 2972.0, \"id\": 22, \"states_code\": \"LA\"}, {\"state\": \"Louisiana\", \"date\": \"2020-11-08\", \"tweet_count\": 102, \"total_likes\": 1830.0, \"sentiment_avg\": 0.0762245098039215, \"total_retweets\": 134.0, \"top_hashtag\": \"#trump\", \"top_hashtag_likes\": 1713.0, \"id\": 22, \"states_code\": \"LA\"}, {\"state\": \"Maine\", \"date\": \"2020-10-15\", \"tweet_count\": 17, \"total_likes\": 14.0, \"sentiment_avg\": -0.1966588235294117, \"total_retweets\": 6.0, \"top_hashtag\": \"#biden\", \"top_hashtag_likes\": 13.0, \"id\": 23, \"states_code\": \"ME\"}, {\"state\": \"Maine\", \"date\": \"2020-10-16\", \"tweet_count\": 18, \"total_likes\": 31.0, \"sentiment_avg\": 0.0417777777777777, \"total_retweets\": 8.0, \"top_hashtag\": \"#biden\", \"top_hashtag_likes\": 24.0, \"id\": 23, \"states_code\": \"ME\"}, {\"state\": \"Maine\", \"date\": \"2020-10-17\", \"tweet_count\": 14, \"total_likes\": 5.0, \"sentiment_avg\": 0.0500785714285714, \"total_retweets\": 4.0, \"top_hashtag\": \"#trump\", \"top_hashtag_likes\": 4.0, \"id\": 23, \"states_code\": \"ME\"}, {\"state\": \"Maine\", \"date\": \"2020-10-18\", \"tweet_count\": 11, \"total_likes\": 5.0, \"sentiment_avg\": 0.0266818181818181, \"total_retweets\": 2.0, \"top_hashtag\": \"#trump\", \"top_hashtag_likes\": 3.0, \"id\": 23, \"states_code\": \"ME\"}, {\"state\": \"Maine\", \"date\": \"2020-10-19\", \"tweet_count\": 22, \"total_likes\": 6.0, \"sentiment_avg\": 0.0484409090909091, \"total_retweets\": 3.0, \"top_hashtag\": \"#biden\", \"top_hashtag_likes\": 3.0, \"id\": 23, \"states_code\": \"ME\"}, {\"state\": \"Maine\", \"date\": \"2020-10-20\", \"tweet_count\": 7, \"total_likes\": 11.0, \"sentiment_avg\": 0.0438714285714285, \"total_retweets\": 11.0, \"top_hashtag\": \"#biden\", \"top_hashtag_likes\": 11.0, \"id\": 23, \"states_code\": \"ME\"}, {\"state\": \"Maine\", \"date\": \"2020-10-21\", \"tweet_count\": 32, \"total_likes\": 29.0, \"sentiment_avg\": 0.07430625, \"total_retweets\": 11.0, \"top_hashtag\": \"#biden\", \"top_hashtag_likes\": 19.0, \"id\": 23, \"states_code\": \"ME\"}, {\"state\": \"Maine\", \"date\": \"2020-10-22\", \"tweet_count\": 25, \"total_likes\": 27.0, \"sentiment_avg\": 0.057492, \"total_retweets\": 14.0, \"top_hashtag\": \"#biden\", \"top_hashtag_likes\": 17.0, \"id\": 23, \"states_code\": \"ME\"}, {\"state\": \"Maine\", \"date\": \"2020-10-23\", \"tweet_count\": 61, \"total_likes\": 47.0, \"sentiment_avg\": 0.0424016393442623, \"total_retweets\": 12.0, \"top_hashtag\": \"#trump\", \"top_hashtag_likes\": 27.0, \"id\": 23, \"states_code\": \"ME\"}, {\"state\": \"Maine\", \"date\": \"2020-10-24\", \"tweet_count\": 19, \"total_likes\": 31.0, \"sentiment_avg\": -0.0335684210526315, \"total_retweets\": 7.0, \"top_hashtag\": \"#biden\", \"top_hashtag_likes\": 21.0, \"id\": 23, \"states_code\": \"ME\"}, {\"state\": \"Maine\", \"date\": \"2020-10-25\", \"tweet_count\": 45, \"total_likes\": 149.0, \"sentiment_avg\": 0.0463955555555555, \"total_retweets\": 28.0, \"top_hashtag\": \"#trump\", \"top_hashtag_likes\": 149.0, \"id\": 23, \"states_code\": \"ME\"}, {\"state\": \"Maine\", \"date\": \"2020-10-26\", \"tweet_count\": 29, \"total_likes\": 25.0, \"sentiment_avg\": -0.0334862068965517, \"total_retweets\": 3.0, \"top_hashtag\": \"#trump\", \"top_hashtag_likes\": 25.0, \"id\": 23, \"states_code\": \"ME\"}, {\"state\": \"Maine\", \"date\": \"2020-10-27\", \"tweet_count\": 20, \"total_likes\": 47.0, \"sentiment_avg\": 0.15954, \"total_retweets\": 10.0, \"top_hashtag\": \"#biden\", \"top_hashtag_likes\": 29.0, \"id\": 23, \"states_code\": \"ME\"}, {\"state\": \"Maine\", \"date\": \"2020-10-28\", \"tweet_count\": 18, \"total_likes\": 19.0, \"sentiment_avg\": -0.1048388888888889, \"total_retweets\": 1.0, \"top_hashtag\": \"#trump\", \"top_hashtag_likes\": 19.0, \"id\": 23, \"states_code\": \"ME\"}, {\"state\": \"Maine\", \"date\": \"2020-10-29\", \"tweet_count\": 12, \"total_likes\": 2.0, \"sentiment_avg\": 0.2381166666666666, \"total_retweets\": 1.0, \"top_hashtag\": \"#trump\", \"top_hashtag_likes\": 2.0, \"id\": 23, \"states_code\": \"ME\"}, {\"state\": \"Maine\", \"date\": \"2020-10-30\", \"tweet_count\": 12, \"total_likes\": 3.0, \"sentiment_avg\": -0.0631916666666666, \"total_retweets\": 1.0, \"top_hashtag\": \"#trump\", \"top_hashtag_likes\": 3.0, \"id\": 23, \"states_code\": \"ME\"}, {\"state\": \"Maine\", \"date\": \"2020-10-31\", \"tweet_count\": 11, \"total_likes\": 23.0, \"sentiment_avg\": -0.1226545454545454, \"total_retweets\": 6.0, \"top_hashtag\": \"#biden\", \"top_hashtag_likes\": 18.0, \"id\": 23, \"states_code\": \"ME\"}, {\"state\": \"Maine\", \"date\": \"2020-11-01\", \"tweet_count\": 14, \"total_likes\": 21.0, \"sentiment_avg\": 0.1459142857142857, \"total_retweets\": 2.0, \"top_hashtag\": \"#trump\", \"top_hashtag_likes\": 20.0, \"id\": 23, \"states_code\": \"ME\"}, {\"state\": \"Maine\", \"date\": \"2020-11-02\", \"tweet_count\": 28, \"total_likes\": 19.0, \"sentiment_avg\": 0.0591035714285714, \"total_retweets\": 3.0, \"top_hashtag\": \"#trump\", \"top_hashtag_likes\": 12.0, \"id\": 23, \"states_code\": \"ME\"}, {\"state\": \"Maine\", \"date\": \"2020-11-03\", \"tweet_count\": 39, \"total_likes\": 176.0, \"sentiment_avg\": 0.0196384615384615, \"total_retweets\": 30.0, \"top_hashtag\": \"#trump\", \"top_hashtag_likes\": 107.0, \"id\": 23, \"states_code\": \"ME\"}, {\"state\": \"Maine\", \"date\": \"2020-11-04\", \"tweet_count\": 37, \"total_likes\": 316.0, \"sentiment_avg\": 0.0397108108108108, \"total_retweets\": 66.0, \"top_hashtag\": \"#biden\", \"top_hashtag_likes\": 380.0, \"id\": 23, \"states_code\": \"ME\"}, {\"state\": \"Maine\", \"date\": \"2020-11-05\", \"tweet_count\": 26, \"total_likes\": 30.0, \"sentiment_avg\": 0.1869115384615384, \"total_retweets\": 5.0, \"top_hashtag\": \"#trump\", \"top_hashtag_likes\": 29.0, \"id\": 23, \"states_code\": \"ME\"}, {\"state\": \"Maine\", \"date\": \"2020-11-06\", \"tweet_count\": 12, \"total_likes\": 15.0, \"sentiment_avg\": -0.13395, \"total_retweets\": 3.0, \"top_hashtag\": \"#trump\", \"top_hashtag_likes\": 14.0, \"id\": 23, \"states_code\": \"ME\"}, {\"state\": \"Maine\", \"date\": \"2020-11-07\", \"tweet_count\": 32, \"total_likes\": 33.0, \"sentiment_avg\": 0.3751875, \"total_retweets\": 7.0, \"top_hashtag\": \"#biden\", \"top_hashtag_likes\": 31.0, \"id\": 23, \"states_code\": \"ME\"}, {\"state\": \"Maine\", \"date\": \"2020-11-08\", \"tweet_count\": 25, \"total_likes\": 31.0, \"sentiment_avg\": 0.1888, \"total_retweets\": 3.0, \"top_hashtag\": \"#trump\", \"top_hashtag_likes\": 20.0, \"id\": 23, \"states_code\": \"ME\"}, {\"state\": \"Maryland\", \"date\": \"2020-10-15\", \"tweet_count\": 94, \"total_likes\": 207.0, \"sentiment_avg\": 0.017545744680851, \"total_retweets\": 31.0, \"top_hashtag\": \"#trump\", \"top_hashtag_likes\": 176.0, \"id\": 24, \"states_code\": \"MD\"}, {\"state\": \"Maryland\", \"date\": \"2020-10-16\", \"tweet_count\": 181, \"total_likes\": 371.0, \"sentiment_avg\": -0.04386408839779, \"total_retweets\": 261.0, \"top_hashtag\": \"#trump\", \"top_hashtag_likes\": 243.0, \"id\": 24, \"states_code\": \"MD\"}, {\"state\": \"Maryland\", \"date\": \"2020-10-17\", \"tweet_count\": 84, \"total_likes\": 85.0, \"sentiment_avg\": -0.0605821428571428, \"total_retweets\": 21.0, \"top_hashtag\": \"#trump\", \"top_hashtag_likes\": 46.0, \"id\": 24, \"states_code\": \"MD\"}, {\"state\": \"Maryland\", \"date\": \"2020-10-18\", \"tweet_count\": 85, \"total_likes\": 65.0, \"sentiment_avg\": -0.0643694117647058, \"total_retweets\": 33.0, \"top_hashtag\": \"#biden\", \"top_hashtag_likes\": 59.0, \"id\": 24, \"states_code\": \"MD\"}, {\"state\": \"Maryland\", \"date\": \"2020-10-19\", \"tweet_count\": 107, \"total_likes\": 92.0, \"sentiment_avg\": 0.0365214953271028, \"total_retweets\": 19.0, \"top_hashtag\": \"#biden\", \"top_hashtag_likes\": 87.0, \"id\": 24, \"states_code\": \"MD\"}, {\"state\": \"Maryland\", \"date\": \"2020-10-20\", \"tweet_count\": 101, \"total_likes\": 118.0, \"sentiment_avg\": 0.0378168316831683, \"total_retweets\": 31.0, \"top_hashtag\": \"#biden\", \"top_hashtag_likes\": 96.0, \"id\": 24, \"states_code\": \"MD\"}, {\"state\": \"Maryland\", \"date\": \"2020-10-21\", \"tweet_count\": 107, \"total_likes\": 137.0, \"sentiment_avg\": -0.0174626168224299, \"total_retweets\": 81.0, \"top_hashtag\": \"#biden\", \"top_hashtag_likes\": 94.0, \"id\": 24, \"states_code\": \"MD\"}, {\"state\": \"Maryland\", \"date\": \"2020-10-22\", \"tweet_count\": 137, \"total_likes\": 357.0, \"sentiment_avg\": -0.0213481751824817, \"total_retweets\": 75.0, \"top_hashtag\": \"#biden\", \"top_hashtag_likes\": 306.0, \"id\": 24, \"states_code\": \"MD\"}, {\"state\": \"Maryland\", \"date\": \"2020-10-23\", \"tweet_count\": 315, \"total_likes\": 474.0, \"sentiment_avg\": -0.0036584126984126, \"total_retweets\": 124.0, \"top_hashtag\": \"#biden\", \"top_hashtag_likes\": 362.0, \"id\": 24, \"states_code\": \"MD\"}, {\"state\": \"Maryland\", \"date\": \"2020-10-24\", \"tweet_count\": 94, \"total_likes\": 389.0, \"sentiment_avg\": -0.001381914893617, \"total_retweets\": 53.0, \"top_hashtag\": \"#biden\", \"top_hashtag_likes\": 340.0, \"id\": 24, \"states_code\": \"MD\"}, {\"state\": \"Maryland\", \"date\": \"2020-10-25\", \"tweet_count\": 99, \"total_likes\": 164.0, \"sentiment_avg\": -0.0520484848484848, \"total_retweets\": 42.0, \"top_hashtag\": \"#trump\", \"top_hashtag_likes\": 133.0, \"id\": 24, \"states_code\": \"MD\"}, {\"state\": \"Maryland\", \"date\": \"2020-10-26\", \"tweet_count\": 95, \"total_likes\": 203.0, \"sentiment_avg\": -0.0067610526315789, \"total_retweets\": 55.0, \"top_hashtag\": \"#trump\", \"top_hashtag_likes\": 122.0, \"id\": 24, \"states_code\": \"MD\"}, {\"state\": \"Maryland\", \"date\": \"2020-10-27\", \"tweet_count\": 122, \"total_likes\": 64.0, \"sentiment_avg\": 0.0085229508196721, \"total_retweets\": 26.0, \"top_hashtag\": \"#biden\", \"top_hashtag_likes\": 46.0, \"id\": 24, \"states_code\": \"MD\"}, {\"state\": \"Maryland\", \"date\": \"2020-10-28\", \"tweet_count\": 96, \"total_likes\": 100.0, \"sentiment_avg\": 0.0757864583333333, \"total_retweets\": 41.0, \"top_hashtag\": \"#biden\", \"top_hashtag_likes\": 57.0, \"id\": 24, \"states_code\": \"MD\"}, {\"state\": \"Maryland\", \"date\": \"2020-10-29\", \"tweet_count\": 98, \"total_likes\": 129.0, \"sentiment_avg\": 0.0557989795918367, \"total_retweets\": 52.0, \"top_hashtag\": \"#trump\", \"top_hashtag_likes\": 118.0, \"id\": 24, \"states_code\": \"MD\"}, {\"state\": \"Maryland\", \"date\": \"2020-10-30\", \"tweet_count\": 109, \"total_likes\": 124.0, \"sentiment_avg\": 0.091088990825688, \"total_retweets\": 24.0, \"top_hashtag\": \"#biden\", \"top_hashtag_likes\": 91.0, \"id\": 24, \"states_code\": \"MD\"}, {\"state\": \"Maryland\", \"date\": \"2020-10-31\", \"tweet_count\": 91, \"total_likes\": 793.0, \"sentiment_avg\": -0.0339692307692307, \"total_retweets\": 227.0, \"top_hashtag\": \"#trump\", \"top_hashtag_likes\": 772.0, \"id\": 24, \"states_code\": \"MD\"}, {\"state\": \"Maryland\", \"date\": \"2020-11-01\", \"tweet_count\": 114, \"total_likes\": 351.0, \"sentiment_avg\": -0.064359649122807, \"total_retweets\": 78.0, \"top_hashtag\": \"#trump\", \"top_hashtag_likes\": 243.0, \"id\": 24, \"states_code\": \"MD\"}, {\"state\": \"Maryland\", \"date\": \"2020-11-02\", \"tweet_count\": 176, \"total_likes\": 179.0, \"sentiment_avg\": -0.0020238636363636, \"total_retweets\": 61.0, \"top_hashtag\": \"#trump\", \"top_hashtag_likes\": 145.0, \"id\": 24, \"states_code\": \"MD\"}, {\"state\": \"Maryland\", \"date\": \"2020-11-03\", \"tweet_count\": 205, \"total_likes\": 517.0, \"sentiment_avg\": 0.0486160975609756, \"total_retweets\": 99.0, \"top_hashtag\": \"#trump\", \"top_hashtag_likes\": 372.0, \"id\": 24, \"states_code\": \"MD\"}, {\"state\": \"Maryland\", \"date\": \"2020-11-04\", \"tweet_count\": 206, \"total_likes\": 247.0, \"sentiment_avg\": 0.1484145631067961, \"total_retweets\": 38.0, \"top_hashtag\": \"#biden\", \"top_hashtag_likes\": 175.0, \"id\": 24, \"states_code\": \"MD\"}, {\"state\": \"Maryland\", \"date\": \"2020-11-05\", \"tweet_count\": 202, \"total_likes\": 179.0, \"sentiment_avg\": 0.009339108910891, \"total_retweets\": 31.0, \"top_hashtag\": \"#trump\", \"top_hashtag_likes\": 132.0, \"id\": 24, \"states_code\": \"MD\"}, {\"state\": \"Maryland\", \"date\": \"2020-11-06\", \"tweet_count\": 251, \"total_likes\": 337.0, \"sentiment_avg\": -0.0268601593625497, \"total_retweets\": 71.0, \"top_hashtag\": \"#trump\", \"top_hashtag_likes\": 300.0, \"id\": 24, \"states_code\": \"MD\"}, {\"state\": \"Maryland\", \"date\": \"2020-11-07\", \"tweet_count\": 354, \"total_likes\": 1081.0, \"sentiment_avg\": 0.1249748587570621, \"total_retweets\": 224.0, \"top_hashtag\": \"#biden\", \"top_hashtag_likes\": 962.0, \"id\": 24, \"states_code\": \"MD\"}, {\"state\": \"Maryland\", \"date\": \"2020-11-08\", \"tweet_count\": 229, \"total_likes\": 604.0, \"sentiment_avg\": 0.0936842794759825, \"total_retweets\": 109.0, \"top_hashtag\": \"#biden\", \"top_hashtag_likes\": 446.0, \"id\": 24, \"states_code\": \"MD\"}, {\"state\": \"Massachusetts\", \"date\": \"2020-10-15\", \"tweet_count\": 168, \"total_likes\": 167.0, \"sentiment_avg\": -0.0674809523809523, \"total_retweets\": 46.0, \"top_hashtag\": \"#trump\", \"top_hashtag_likes\": 106.0, \"id\": 25, \"states_code\": \"MA\"}, {\"state\": \"Massachusetts\", \"date\": \"2020-10-16\", \"tweet_count\": 289, \"total_likes\": 399.0, \"sentiment_avg\": 0.0263633217993079, \"total_retweets\": 128.0, \"top_hashtag\": \"#trump\", \"top_hashtag_likes\": 311.0, \"id\": 25, \"states_code\": \"MA\"}, {\"state\": \"Massachusetts\", \"date\": \"2020-10-17\", \"tweet_count\": 154, \"total_likes\": 312.0, \"sentiment_avg\": -0.0458266233766233, \"total_retweets\": 133.0, \"top_hashtag\": \"#trump\", \"top_hashtag_likes\": 274.0, \"id\": 25, \"states_code\": \"MA\"}, {\"state\": \"Massachusetts\", \"date\": \"2020-10-18\", \"tweet_count\": 139, \"total_likes\": 184.0, \"sentiment_avg\": 0.0213856115107913, \"total_retweets\": 80.0, \"top_hashtag\": \"#trump\", \"top_hashtag_likes\": 129.0, \"id\": 25, \"states_code\": \"MA\"}, {\"state\": \"Massachusetts\", \"date\": \"2020-10-19\", \"tweet_count\": 167, \"total_likes\": 360.0, \"sentiment_avg\": -0.0644778443113772, \"total_retweets\": 135.0, \"top_hashtag\": \"#biden\", \"top_hashtag_likes\": 360.0, \"id\": 25, \"states_code\": \"MA\"}, {\"state\": \"Massachusetts\", \"date\": \"2020-10-20\", \"tweet_count\": 166, \"total_likes\": 182.0, \"sentiment_avg\": -0.1039644578313253, \"total_retweets\": 68.0, \"top_hashtag\": \"#biden\", \"top_hashtag_likes\": 110.0, \"id\": 25, \"states_code\": \"MA\"}, {\"state\": \"Massachusetts\", \"date\": \"2020-10-21\", \"tweet_count\": 205, \"total_likes\": 377.0, \"sentiment_avg\": -0.0064643902439024, \"total_retweets\": 79.0, \"top_hashtag\": \"#trump\", \"top_hashtag_likes\": 266.0, \"id\": 25, \"states_code\": \"MA\"}, {\"state\": \"Massachusetts\", \"date\": \"2020-10-22\", \"tweet_count\": 196, \"total_likes\": 520.0, \"sentiment_avg\": 0.0198959183673469, \"total_retweets\": 188.0, \"top_hashtag\": \"#trump\", \"top_hashtag_likes\": 440.0, \"id\": 25, \"states_code\": \"MA\"}, {\"state\": \"Massachusetts\", \"date\": \"2020-10-23\", \"tweet_count\": 650, \"total_likes\": 1988.0, \"sentiment_avg\": -0.0002312307692307, \"total_retweets\": 597.0, \"top_hashtag\": \"#trump\", \"top_hashtag_likes\": 1607.0, \"id\": 25, \"states_code\": \"MA\"}, {\"state\": \"Massachusetts\", \"date\": \"2020-10-24\", \"tweet_count\": 264, \"total_likes\": 281.0, \"sentiment_avg\": 0.0025503787878787, \"total_retweets\": 65.0, \"top_hashtag\": \"#trump\", \"top_hashtag_likes\": 213.0, \"id\": 25, \"states_code\": \"MA\"}, {\"state\": \"Massachusetts\", \"date\": \"2020-10-25\", \"tweet_count\": 251, \"total_likes\": 548.0, \"sentiment_avg\": -0.0508350597609561, \"total_retweets\": 205.0, \"top_hashtag\": \"#biden\", \"top_hashtag_likes\": 318.0, \"id\": 25, \"states_code\": \"MA\"}, {\"state\": \"Massachusetts\", \"date\": \"2020-10-26\", \"tweet_count\": 227, \"total_likes\": 1079.0, \"sentiment_avg\": -0.0473295154185021, \"total_retweets\": 194.0, \"top_hashtag\": \"#biden\", \"top_hashtag_likes\": 936.0, \"id\": 25, \"states_code\": \"MA\"}, {\"state\": \"Massachusetts\", \"date\": \"2020-10-27\", \"tweet_count\": 228, \"total_likes\": 279.0, \"sentiment_avg\": -0.0169495614035087, \"total_retweets\": 58.0, \"top_hashtag\": \"#trump\", \"top_hashtag_likes\": 218.0, \"id\": 25, \"states_code\": \"MA\"}, {\"state\": \"Massachusetts\", \"date\": \"2020-10-28\", \"tweet_count\": 317, \"total_likes\": 801.0, \"sentiment_avg\": -0.056388643533123, \"total_retweets\": 337.0, \"top_hashtag\": \"#biden\", \"top_hashtag_likes\": 662.0, \"id\": 25, \"states_code\": \"MA\"}, {\"state\": \"Massachusetts\", \"date\": \"2020-10-29\", \"tweet_count\": 205, \"total_likes\": 276.0, \"sentiment_avg\": 0.0645780487804878, \"total_retweets\": 85.0, \"top_hashtag\": \"#trump\", \"top_hashtag_likes\": 237.0, \"id\": 25, \"states_code\": \"MA\"}, {\"state\": \"Massachusetts\", \"date\": \"2020-10-30\", \"tweet_count\": 195, \"total_likes\": 557.0, \"sentiment_avg\": -0.0279528205128205, \"total_retweets\": 101.0, \"top_hashtag\": \"#biden\", \"top_hashtag_likes\": 462.0, \"id\": 25, \"states_code\": \"MA\"}, {\"state\": \"Massachusetts\", \"date\": \"2020-10-31\", \"tweet_count\": 189, \"total_likes\": 281.0, \"sentiment_avg\": 0.0628984126984127, \"total_retweets\": 43.0, \"top_hashtag\": \"#trump\", \"top_hashtag_likes\": 207.0, \"id\": 25, \"states_code\": \"MA\"}, {\"state\": \"Massachusetts\", \"date\": \"2020-11-01\", \"tweet_count\": 226, \"total_likes\": 304.0, \"sentiment_avg\": -0.0337911504424778, \"total_retweets\": 55.0, \"top_hashtag\": \"#trump\", \"top_hashtag_likes\": 219.0, \"id\": 25, \"states_code\": \"MA\"}, {\"state\": \"Massachusetts\", \"date\": \"2020-11-02\", \"tweet_count\": 338, \"total_likes\": 3258.0, \"sentiment_avg\": -0.0100029585798816, \"total_retweets\": 2586.0, \"top_hashtag\": \"#biden\", \"top_hashtag_likes\": 3125.0, \"id\": 25, \"states_code\": \"MA\"}, {\"state\": \"Massachusetts\", \"date\": \"2020-11-03\", \"tweet_count\": 315, \"total_likes\": 647.0, \"sentiment_avg\": 0.0454819047619047, \"total_retweets\": 126.0, \"top_hashtag\": \"#trump\", \"top_hashtag_likes\": 475.0, \"id\": 25, \"states_code\": \"MA\"}, {\"state\": \"Massachusetts\", \"date\": \"2020-11-04\", \"tweet_count\": 505, \"total_likes\": 2798.0, \"sentiment_avg\": 0.0667328712871287, \"total_retweets\": 352.0, \"top_hashtag\": \"#biden\", \"top_hashtag_likes\": 2594.0, \"id\": 25, \"states_code\": \"MA\"}, {\"state\": \"Massachusetts\", \"date\": \"2020-11-05\", \"tweet_count\": 324, \"total_likes\": 431.0, \"sentiment_avg\": -0.0570379629629629, \"total_retweets\": 72.0, \"top_hashtag\": \"#trump\", \"top_hashtag_likes\": 330.0, \"id\": 25, \"states_code\": \"MA\"}, {\"state\": \"Massachusetts\", \"date\": \"2020-11-06\", \"tweet_count\": 408, \"total_likes\": 1936.0, \"sentiment_avg\": -0.0054840686274509, \"total_retweets\": 209.0, \"top_hashtag\": \"#biden\", \"top_hashtag_likes\": 1722.0, \"id\": 25, \"states_code\": \"MA\"}, {\"state\": \"Massachusetts\", \"date\": \"2020-11-07\", \"tweet_count\": 628, \"total_likes\": 3765.0, \"sentiment_avg\": 0.183648407643312, \"total_retweets\": 490.0, \"top_hashtag\": \"#biden\", \"top_hashtag_likes\": 3471.0, \"id\": 25, \"states_code\": \"MA\"}, {\"state\": \"Massachusetts\", \"date\": \"2020-11-08\", \"tweet_count\": 403, \"total_likes\": 3122.0, \"sentiment_avg\": 0.1577692307692307, \"total_retweets\": 291.0, \"top_hashtag\": \"#biden\", \"top_hashtag_likes\": 2995.0, \"id\": 25, \"states_code\": \"MA\"}, {\"state\": \"Michigan\", \"date\": \"2020-10-15\", \"tweet_count\": 137, \"total_likes\": 124.0, \"sentiment_avg\": -0.1074846715328467, \"total_retweets\": 25.0, \"top_hashtag\": \"#biden\", \"top_hashtag_likes\": 79.0, \"id\": 26, \"states_code\": \"MI\"}, {\"state\": \"Michigan\", \"date\": \"2020-10-16\", \"tweet_count\": 208, \"total_likes\": 388.0, \"sentiment_avg\": -0.0206149038461538, \"total_retweets\": 139.0, \"top_hashtag\": \"#trump\", \"top_hashtag_likes\": 252.0, \"id\": 26, \"states_code\": \"MI\"}, {\"state\": \"Michigan\", \"date\": \"2020-10-17\", \"tweet_count\": 157, \"total_likes\": 300.0, \"sentiment_avg\": -0.0811993630573248, \"total_retweets\": 117.0, \"top_hashtag\": \"#biden\", \"top_hashtag_likes\": 223.0, \"id\": 26, \"states_code\": \"MI\"}, {\"state\": \"Michigan\", \"date\": \"2020-10-18\", \"tweet_count\": 134, \"total_likes\": 108.0, \"sentiment_avg\": -0.1984843283582089, \"total_retweets\": 24.0, \"top_hashtag\": \"#trump\", \"top_hashtag_likes\": 68.0, \"id\": 26, \"states_code\": \"MI\"}, {\"state\": \"Michigan\", \"date\": \"2020-10-19\", \"tweet_count\": 120, \"total_likes\": 126.0, \"sentiment_avg\": -0.1025566666666666, \"total_retweets\": 29.0, \"top_hashtag\": \"#trump\", \"top_hashtag_likes\": 87.0, \"id\": 26, \"states_code\": \"MI\"}, {\"state\": \"Michigan\", \"date\": \"2020-10-20\", \"tweet_count\": 138, \"total_likes\": 263.0, \"sentiment_avg\": -0.0070471014492753, \"total_retweets\": 90.0, \"top_hashtag\": \"#biden\", \"top_hashtag_likes\": 194.0, \"id\": 26, \"states_code\": \"MI\"}, {\"state\": \"Michigan\", \"date\": \"2020-10-21\", \"tweet_count\": 122, \"total_likes\": 107.0, \"sentiment_avg\": -0.1024163934426229, \"total_retweets\": 33.0, \"top_hashtag\": \"#biden\", \"top_hashtag_likes\": 68.0, \"id\": 26, \"states_code\": \"MI\"}, {\"state\": \"Michigan\", \"date\": \"2020-10-22\", \"tweet_count\": 175, \"total_likes\": 271.0, \"sentiment_avg\": -0.0788251428571428, \"total_retweets\": 71.0, \"top_hashtag\": \"#biden\", \"top_hashtag_likes\": 190.0, \"id\": 26, \"states_code\": \"MI\"}, {\"state\": \"Michigan\", \"date\": \"2020-10-23\", \"tweet_count\": 407, \"total_likes\": 660.0, \"sentiment_avg\": -0.0299626535626535, \"total_retweets\": 167.0, \"top_hashtag\": \"#biden\", \"top_hashtag_likes\": 474.0, \"id\": 26, \"states_code\": \"MI\"}, {\"state\": \"Michigan\", \"date\": \"2020-10-24\", \"tweet_count\": 122, \"total_likes\": 254.0, \"sentiment_avg\": 0.0635311475409836, \"total_retweets\": 149.0, \"top_hashtag\": \"#biden\", \"top_hashtag_likes\": 151.0, \"id\": 26, \"states_code\": \"MI\"}, {\"state\": \"Michigan\", \"date\": \"2020-10-25\", \"tweet_count\": 167, \"total_likes\": 172.0, \"sentiment_avg\": 0.0635023952095808, \"total_retweets\": 50.0, \"top_hashtag\": \"#biden\", \"top_hashtag_likes\": 131.0, \"id\": 26, \"states_code\": \"MI\"}, {\"state\": \"Michigan\", \"date\": \"2020-10-26\", \"tweet_count\": 130, \"total_likes\": 407.0, \"sentiment_avg\": -0.0665346153846153, \"total_retweets\": 88.0, \"top_hashtag\": \"#trump\", \"top_hashtag_likes\": 335.0, \"id\": 26, \"states_code\": \"MI\"}, {\"state\": \"Michigan\", \"date\": \"2020-10-27\", \"tweet_count\": 197, \"total_likes\": 615.0, \"sentiment_avg\": -0.0426573604060913, \"total_retweets\": 265.0, \"top_hashtag\": \"#trump\", \"top_hashtag_likes\": 463.0, \"id\": 26, \"states_code\": \"MI\"}, {\"state\": \"Michigan\", \"date\": \"2020-10-28\", \"tweet_count\": 178, \"total_likes\": 879.0, \"sentiment_avg\": -0.0507196629213483, \"total_retweets\": 784.0, \"top_hashtag\": \"#biden\", \"top_hashtag_likes\": 647.0, \"id\": 26, \"states_code\": \"MI\"}, {\"state\": \"Michigan\", \"date\": \"2020-10-29\", \"tweet_count\": 147, \"total_likes\": 137.0, \"sentiment_avg\": -0.0518659863945578, \"total_retweets\": 41.0, \"top_hashtag\": \"#trump\", \"top_hashtag_likes\": 105.0, \"id\": 26, \"states_code\": \"MI\"}, {\"state\": \"Michigan\", \"date\": \"2020-10-30\", \"tweet_count\": 152, \"total_likes\": 123.0, \"sentiment_avg\": 0.0145098684210526, \"total_retweets\": 52.0, \"top_hashtag\": \"#trump\", \"top_hashtag_likes\": 96.0, \"id\": 26, \"states_code\": \"MI\"}, {\"state\": \"Michigan\", \"date\": \"2020-10-31\", \"tweet_count\": 157, \"total_likes\": 206.0, \"sentiment_avg\": -0.0149433121019108, \"total_retweets\": 34.0, \"top_hashtag\": \"#biden\", \"top_hashtag_likes\": 158.0, \"id\": 26, \"states_code\": \"MI\"}, {\"state\": \"Michigan\", \"date\": \"2020-11-01\", \"tweet_count\": 163, \"total_likes\": 456.0, \"sentiment_avg\": -0.0548177914110429, \"total_retweets\": 121.0, \"top_hashtag\": \"#trump\", \"top_hashtag_likes\": 271.0, \"id\": 26, \"states_code\": \"MI\"}, {\"state\": \"Michigan\", \"date\": \"2020-11-02\", \"tweet_count\": 235, \"total_likes\": 292.0, \"sentiment_avg\": 0.0381693617021276, \"total_retweets\": 67.0, \"top_hashtag\": \"#biden\", \"top_hashtag_likes\": 226.0, \"id\": 26, \"states_code\": \"MI\"}, {\"state\": \"Michigan\", \"date\": \"2020-11-03\", \"tweet_count\": 245, \"total_likes\": 316.0, \"sentiment_avg\": 0.096478775510204, \"total_retweets\": 70.0, \"top_hashtag\": \"#trump\", \"top_hashtag_likes\": 214.0, \"id\": 26, \"states_code\": \"MI\"}, {\"state\": \"Michigan\", \"date\": \"2020-11-04\", \"tweet_count\": 446, \"total_likes\": 1503.0, \"sentiment_avg\": 0.0933670403587444, \"total_retweets\": 201.0, \"top_hashtag\": \"#biden\", \"top_hashtag_likes\": 1279.0, \"id\": 26, \"states_code\": \"MI\"}, {\"state\": \"Michigan\", \"date\": \"2020-11-05\", \"tweet_count\": 287, \"total_likes\": 395.0, \"sentiment_avg\": -0.0306170731707317, \"total_retweets\": 61.0, \"top_hashtag\": \"#biden\", \"top_hashtag_likes\": 248.0, \"id\": 26, \"states_code\": \"MI\"}, {\"state\": \"Michigan\", \"date\": \"2020-11-06\", \"tweet_count\": 285, \"total_likes\": 384.0, \"sentiment_avg\": -0.0146421052631578, \"total_retweets\": 71.0, \"top_hashtag\": \"#trump\", \"top_hashtag_likes\": 241.0, \"id\": 26, \"states_code\": \"MI\"}, {\"state\": \"Michigan\", \"date\": \"2020-11-07\", \"tweet_count\": 422, \"total_likes\": 871.0, \"sentiment_avg\": 0.0205580568720379, \"total_retweets\": 114.0, \"top_hashtag\": \"#biden\", \"top_hashtag_likes\": 706.0, \"id\": 26, \"states_code\": \"MI\"}, {\"state\": \"Michigan\", \"date\": \"2020-11-08\", \"tweet_count\": 289, \"total_likes\": 2869.0, \"sentiment_avg\": 0.0506899653979238, \"total_retweets\": 514.0, \"top_hashtag\": \"#biden\", \"top_hashtag_likes\": 1499.0, \"id\": 26, \"states_code\": \"MI\"}, {\"state\": \"Minnesota\", \"date\": \"2020-10-15\", \"tweet_count\": 75, \"total_likes\": 57.0, \"sentiment_avg\": 0.0367693333333333, \"total_retweets\": 17.0, \"top_hashtag\": \"#biden\", \"top_hashtag_likes\": 46.0, \"id\": 27, \"states_code\": \"MN\"}, {\"state\": \"Minnesota\", \"date\": \"2020-10-16\", \"tweet_count\": 118, \"total_likes\": 174.0, \"sentiment_avg\": 0.0642237288135593, \"total_retweets\": 36.0, \"top_hashtag\": \"#trump\", \"top_hashtag_likes\": 129.0, \"id\": 27, \"states_code\": \"MN\"}, {\"state\": \"Minnesota\", \"date\": \"2020-10-17\", \"tweet_count\": 66, \"total_likes\": 90.0, \"sentiment_avg\": 0.2201924242424242, \"total_retweets\": 23.0, \"top_hashtag\": \"#trump\", \"top_hashtag_likes\": 64.0, \"id\": 27, \"states_code\": \"MN\"}, {\"state\": \"Minnesota\", \"date\": \"2020-10-18\", \"tweet_count\": 53, \"total_likes\": 58.0, \"sentiment_avg\": -0.0005698113207547, \"total_retweets\": 14.0, \"top_hashtag\": \"#trump\", \"top_hashtag_likes\": 43.0, \"id\": 27, \"states_code\": \"MN\"}, {\"state\": \"Minnesota\", \"date\": \"2020-10-19\", \"tweet_count\": 86, \"total_likes\": 85.0, \"sentiment_avg\": -0.061703488372093, \"total_retweets\": 28.0, \"top_hashtag\": \"#trump\", \"top_hashtag_likes\": 50.0, \"id\": 27, \"states_code\": \"MN\"}, {\"state\": \"Minnesota\", \"date\": \"2020-10-20\", \"tweet_count\": 81, \"total_likes\": 112.0, \"sentiment_avg\": -0.018353086419753, \"total_retweets\": 32.0, \"top_hashtag\": \"#trump\", \"top_hashtag_likes\": 83.0, \"id\": 27, \"states_code\": \"MN\"}, {\"state\": \"Minnesota\", \"date\": \"2020-10-21\", \"tweet_count\": 101, \"total_likes\": 296.0, \"sentiment_avg\": 0.0109207920792079, \"total_retweets\": 60.0, \"top_hashtag\": \"#trump\", \"top_hashtag_likes\": 183.0, \"id\": 27, \"states_code\": \"MN\"}, {\"state\": \"Minnesota\", \"date\": \"2020-10-22\", \"tweet_count\": 109, \"total_likes\": 131.0, \"sentiment_avg\": 0.0212348623853211, \"total_retweets\": 29.0, \"top_hashtag\": \"#trump\", \"top_hashtag_likes\": 84.0, \"id\": 27, \"states_code\": \"MN\"}, {\"state\": \"Minnesota\", \"date\": \"2020-10-23\", \"tweet_count\": 284, \"total_likes\": 1027.0, \"sentiment_avg\": -0.0176665492957746, \"total_retweets\": 402.0, \"top_hashtag\": \"#biden\", \"top_hashtag_likes\": 894.0, \"id\": 27, \"states_code\": \"MN\"}, {\"state\": \"Minnesota\", \"date\": \"2020-10-24\", \"tweet_count\": 83, \"total_likes\": 218.0, \"sentiment_avg\": -0.0519734939759036, \"total_retweets\": 45.0, \"top_hashtag\": \"#trump\", \"top_hashtag_likes\": 136.0, \"id\": 27, \"states_code\": \"MN\"}, {\"state\": \"Minnesota\", \"date\": \"2020-10-25\", \"tweet_count\": 73, \"total_likes\": 705.0, \"sentiment_avg\": 0.2381575342465753, \"total_retweets\": 328.0, \"top_hashtag\": \"#trump\", \"top_hashtag_likes\": 606.0, \"id\": 27, \"states_code\": \"MN\"}, {\"state\": \"Minnesota\", \"date\": \"2020-10-26\", \"tweet_count\": 62, \"total_likes\": 76.0, \"sentiment_avg\": -0.0157322580645161, \"total_retweets\": 23.0, \"top_hashtag\": \"#biden\", \"top_hashtag_likes\": 55.0, \"id\": 27, \"states_code\": \"MN\"}, {\"state\": \"Minnesota\", \"date\": \"2020-10-27\", \"tweet_count\": 97, \"total_likes\": 139.0, \"sentiment_avg\": 0.0895659793814433, \"total_retweets\": 29.0, \"top_hashtag\": \"#trump\", \"top_hashtag_likes\": 91.0, \"id\": 27, \"states_code\": \"MN\"}, {\"state\": \"Minnesota\", \"date\": \"2020-10-28\", \"tweet_count\": 107, \"total_likes\": 155.0, \"sentiment_avg\": -0.0338738317757009, \"total_retweets\": 41.0, \"top_hashtag\": \"#biden\", \"top_hashtag_likes\": 107.0, \"id\": 27, \"states_code\": \"MN\"}, {\"state\": \"Minnesota\", \"date\": \"2020-10-29\", \"tweet_count\": 76, \"total_likes\": 171.0, \"sentiment_avg\": 0.0111802631578947, \"total_retweets\": 16.0, \"top_hashtag\": \"#trump\", \"top_hashtag_likes\": 112.0, \"id\": 27, \"states_code\": \"MN\"}, {\"state\": \"Minnesota\", \"date\": \"2020-10-30\", \"tweet_count\": 132, \"total_likes\": 404.0, \"sentiment_avg\": -0.0913393939393939, \"total_retweets\": 120.0, \"top_hashtag\": \"#biden\", \"top_hashtag_likes\": 266.0, \"id\": 27, \"states_code\": \"MN\"}, {\"state\": \"Minnesota\", \"date\": \"2020-10-31\", \"tweet_count\": 81, \"total_likes\": 109.0, \"sentiment_avg\": 0.085037037037037, \"total_retweets\": 26.0, \"top_hashtag\": \"#biden\", \"top_hashtag_likes\": 88.0, \"id\": 27, \"states_code\": \"MN\"}, {\"state\": \"Minnesota\", \"date\": \"2020-11-01\", \"tweet_count\": 137, \"total_likes\": 120.0, \"sentiment_avg\": 0.1986598540145985, \"total_retweets\": 16.0, \"top_hashtag\": \"#biden\", \"top_hashtag_likes\": 77.0, \"id\": 27, \"states_code\": \"MN\"}, {\"state\": \"Minnesota\", \"date\": \"2020-11-02\", \"tweet_count\": 116, \"total_likes\": 195.0, \"sentiment_avg\": -0.0304724137931034, \"total_retweets\": 43.0, \"top_hashtag\": \"#trump\", \"top_hashtag_likes\": 113.0, \"id\": 27, \"states_code\": \"MN\"}, {\"state\": \"Minnesota\", \"date\": \"2020-11-03\", \"tweet_count\": 163, \"total_likes\": 348.0, \"sentiment_avg\": 0.0454539877300613, \"total_retweets\": 37.0, \"top_hashtag\": \"#biden\", \"top_hashtag_likes\": 272.0, \"id\": 27, \"states_code\": \"MN\"}, {\"state\": \"Minnesota\", \"date\": \"2020-11-04\", \"tweet_count\": 210, \"total_likes\": 368.0, \"sentiment_avg\": 0.083335238095238, \"total_retweets\": 27.0, \"top_hashtag\": \"#trump\", \"top_hashtag_likes\": 226.0, \"id\": 27, \"states_code\": \"MN\"}, {\"state\": \"Minnesota\", \"date\": \"2020-11-05\", \"tweet_count\": 110, \"total_likes\": 285.0, \"sentiment_avg\": 0.0264, \"total_retweets\": 34.0, \"top_hashtag\": \"#trump\", \"top_hashtag_likes\": 164.0, \"id\": 27, \"states_code\": \"MN\"}, {\"state\": \"Minnesota\", \"date\": \"2020-11-06\", \"tweet_count\": 146, \"total_likes\": 414.0, \"sentiment_avg\": -0.0307849315068493, \"total_retweets\": 39.0, \"top_hashtag\": \"#trump\", \"top_hashtag_likes\": 309.0, \"id\": 27, \"states_code\": \"MN\"}, {\"state\": \"Minnesota\", \"date\": \"2020-11-07\", \"tweet_count\": 255, \"total_likes\": 1292.0, \"sentiment_avg\": 0.1143741176470588, \"total_retweets\": 127.0, \"top_hashtag\": \"#biden\", \"top_hashtag_likes\": 1188.0, \"id\": 27, \"states_code\": \"MN\"}, {\"state\": \"Minnesota\", \"date\": \"2020-11-08\", \"tweet_count\": 152, \"total_likes\": 258.0, \"sentiment_avg\": 0.1736440789473684, \"total_retweets\": 41.0, \"top_hashtag\": \"#biden\", \"top_hashtag_likes\": 216.0, \"id\": 27, \"states_code\": \"MN\"}, {\"state\": \"Mississippi\", \"date\": \"2020-10-15\", \"tweet_count\": 5, \"total_likes\": 14.0, \"sentiment_avg\": -0.23224, \"total_retweets\": 2.0, \"top_hashtag\": \"#biden\", \"top_hashtag_likes\": 14.0, \"id\": 28, \"states_code\": \"MS\"}, {\"state\": \"Mississippi\", \"date\": \"2020-10-16\", \"tweet_count\": 12, \"total_likes\": 9.0, \"sentiment_avg\": -0.0147333333333333, \"total_retweets\": 3.0, \"top_hashtag\": \"#biden\", \"top_hashtag_likes\": 5.0, \"id\": 28, \"states_code\": \"MS\"}, {\"state\": \"Mississippi\", \"date\": \"2020-10-17\", \"tweet_count\": 4, \"total_likes\": 3.0, \"sentiment_avg\": -0.095525, \"total_retweets\": 1.0, \"top_hashtag\": \"#trump\", \"top_hashtag_likes\": 3.0, \"id\": 28, \"states_code\": \"MS\"}, {\"state\": \"Mississippi\", \"date\": \"2020-10-18\", \"tweet_count\": 6, \"total_likes\": 64.0, \"sentiment_avg\": -0.30715, \"total_retweets\": 6.0, \"top_hashtag\": \"#biden\", \"top_hashtag_likes\": 63.0, \"id\": 28, \"states_code\": \"MS\"}, {\"state\": \"Mississippi\", \"date\": \"2020-10-19\", \"tweet_count\": 9, \"total_likes\": 65.0, \"sentiment_avg\": -0.005, \"total_retweets\": 6.0, \"top_hashtag\": \"#trump\", \"top_hashtag_likes\": 65.0, \"id\": 28, \"states_code\": \"MS\"}, {\"state\": \"Mississippi\", \"date\": \"2020-10-20\", \"tweet_count\": 12, \"total_likes\": 45.0, \"sentiment_avg\": 0.1027166666666666, \"total_retweets\": 6.0, \"top_hashtag\": \"#biden\", \"top_hashtag_likes\": 45.0, \"id\": 28, \"states_code\": \"MS\"}, {\"state\": \"Mississippi\", \"date\": \"2020-10-21\", \"tweet_count\": 16, \"total_likes\": 14.0, \"sentiment_avg\": -0.26910625, \"total_retweets\": 3.0, \"top_hashtag\": \"#biden\", \"top_hashtag_likes\": 14.0, \"id\": 28, \"states_code\": \"MS\"}, {\"state\": \"Mississippi\", \"date\": \"2020-10-22\", \"tweet_count\": 21, \"total_likes\": 57.0, \"sentiment_avg\": 0.1391714285714285, \"total_retweets\": 54.0, \"top_hashtag\": \"#trump\", \"top_hashtag_likes\": 47.0, \"id\": 28, \"states_code\": \"MS\"}, {\"state\": \"Mississippi\", \"date\": \"2020-10-23\", \"tweet_count\": 69, \"total_likes\": 55.0, \"sentiment_avg\": 0.0450420289855072, \"total_retweets\": 28.0, \"top_hashtag\": \"#biden\", \"top_hashtag_likes\": 52.0, \"id\": 28, \"states_code\": \"MS\"}, {\"state\": \"Mississippi\", \"date\": \"2020-10-24\", \"tweet_count\": 25, \"total_likes\": 37.0, \"sentiment_avg\": 0.142508, \"total_retweets\": 9.0, \"top_hashtag\": \"#biden\", \"top_hashtag_likes\": 44.0, \"id\": 28, \"states_code\": \"MS\"}, {\"state\": \"Mississippi\", \"date\": \"2020-10-25\", \"tweet_count\": 14, \"total_likes\": 26.0, \"sentiment_avg\": -0.2028714285714285, \"total_retweets\": 14.0, \"top_hashtag\": \"#biden\", \"top_hashtag_likes\": 24.0, \"id\": 28, \"states_code\": \"MS\"}, {\"state\": \"Mississippi\", \"date\": \"2020-10-26\", \"tweet_count\": 8, \"total_likes\": 10.0, \"sentiment_avg\": 0.1768375, \"total_retweets\": 5.0, \"top_hashtag\": \"#biden\", \"top_hashtag_likes\": 10.0, \"id\": 28, \"states_code\": \"MS\"}, {\"state\": \"Mississippi\", \"date\": \"2020-10-27\", \"tweet_count\": 5, \"total_likes\": 17.0, \"sentiment_avg\": 0.0837, \"total_retweets\": 24.0, \"top_hashtag\": \"#trump\", \"top_hashtag_likes\": 17.0, \"id\": 28, \"states_code\": \"MS\"}, {\"state\": \"Mississippi\", \"date\": \"2020-10-28\", \"tweet_count\": 9, \"total_likes\": 59.0, \"sentiment_avg\": 0.1666, \"total_retweets\": 22.0, \"top_hashtag\": \"#biden\", \"top_hashtag_likes\": 72.0, \"id\": 28, \"states_code\": \"MS\"}, {\"state\": \"Mississippi\", \"date\": \"2020-10-29\", \"tweet_count\": 11, \"total_likes\": 4.0, \"sentiment_avg\": 0.0891636363636363, \"total_retweets\": 2.0, \"top_hashtag\": \"#trump\", \"top_hashtag_likes\": 4.0, \"id\": 28, \"states_code\": \"MS\"}, {\"state\": \"Mississippi\", \"date\": \"2020-10-30\", \"tweet_count\": 8, \"total_likes\": 15.0, \"sentiment_avg\": -0.1824625, \"total_retweets\": 8.0, \"top_hashtag\": \"#biden\", \"top_hashtag_likes\": 17.0, \"id\": 28, \"states_code\": \"MS\"}, {\"state\": \"Mississippi\", \"date\": \"2020-10-31\", \"tweet_count\": 6, \"total_likes\": 7.0, \"sentiment_avg\": 0.1927833333333333, \"total_retweets\": 1.0, \"top_hashtag\": \"#biden\", \"top_hashtag_likes\": 6.0, \"id\": 28, \"states_code\": \"MS\"}, {\"state\": \"Mississippi\", \"date\": \"2020-11-01\", \"tweet_count\": 12, \"total_likes\": 10.0, \"sentiment_avg\": 0.2408, \"total_retweets\": 6.0, \"top_hashtag\": \"#biden\", \"top_hashtag_likes\": 7.0, \"id\": 28, \"states_code\": \"MS\"}, {\"state\": \"Mississippi\", \"date\": \"2020-11-02\", \"tweet_count\": 19, \"total_likes\": 37.0, \"sentiment_avg\": 0.0957421052631579, \"total_retweets\": 7.0, \"top_hashtag\": \"#biden\", \"top_hashtag_likes\": 29.0, \"id\": 28, \"states_code\": \"MS\"}, {\"state\": \"Mississippi\", \"date\": \"2020-11-03\", \"tweet_count\": 24, \"total_likes\": 23.0, \"sentiment_avg\": 0.0367583333333333, \"total_retweets\": 3.0, \"top_hashtag\": \"#trump\", \"top_hashtag_likes\": 15.0, \"id\": 28, \"states_code\": \"MS\"}, {\"state\": \"Mississippi\", \"date\": \"2020-11-04\", \"tweet_count\": 23, \"total_likes\": 24.0, \"sentiment_avg\": -0.2258086956521739, \"total_retweets\": 6.0, \"top_hashtag\": \"#trump\", \"top_hashtag_likes\": 23.0, \"id\": 28, \"states_code\": \"MS\"}, {\"state\": \"Mississippi\", \"date\": \"2020-11-05\", \"tweet_count\": 25, \"total_likes\": 37.0, \"sentiment_avg\": -0.0021799999999999, \"total_retweets\": 13.0, \"top_hashtag\": \"#trump\", \"top_hashtag_likes\": 34.0, \"id\": 28, \"states_code\": \"MS\"}, {\"state\": \"Mississippi\", \"date\": \"2020-11-06\", \"tweet_count\": 21, \"total_likes\": 288.0, \"sentiment_avg\": 0.1689333333333333, \"total_retweets\": 57.0, \"top_hashtag\": \"#trump\", \"top_hashtag_likes\": 287.0, \"id\": 28, \"states_code\": \"MS\"}, {\"state\": \"Mississippi\", \"date\": \"2020-11-07\", \"tweet_count\": 46, \"total_likes\": 343.0, \"sentiment_avg\": -0.0369130434782608, \"total_retweets\": 86.0, \"top_hashtag\": \"#biden\", \"top_hashtag_likes\": 342.0, \"id\": 28, \"states_code\": \"MS\"}, {\"state\": \"Mississippi\", \"date\": \"2020-11-08\", \"tweet_count\": 22, \"total_likes\": 37.0, \"sentiment_avg\": -0.0368272727272727, \"total_retweets\": 11.0, \"top_hashtag\": \"#biden\", \"top_hashtag_likes\": 29.0, \"id\": 28, \"states_code\": \"MS\"}, {\"state\": \"Missouri\", \"date\": \"2020-10-15\", \"tweet_count\": 61, \"total_likes\": 1054.0, \"sentiment_avg\": 0.040783606557377, \"total_retweets\": 259.0, \"top_hashtag\": \"#biden\", \"top_hashtag_likes\": 1042.0, \"id\": 29, \"states_code\": \"MO\"}, {\"state\": \"Missouri\", \"date\": \"2020-10-16\", \"tweet_count\": 131, \"total_likes\": 260.0, \"sentiment_avg\": -0.019430534351145, \"total_retweets\": 50.0, \"top_hashtag\": \"#biden\", \"top_hashtag_likes\": 231.0, \"id\": 29, \"states_code\": \"MO\"}, {\"state\": \"Missouri\", \"date\": \"2020-10-17\", \"tweet_count\": 68, \"total_likes\": 101.0, \"sentiment_avg\": 0.0382426470588235, \"total_retweets\": 41.0, \"top_hashtag\": \"#trump\", \"top_hashtag_likes\": 67.0, \"id\": 29, \"states_code\": \"MO\"}, {\"state\": \"Missouri\", \"date\": \"2020-10-18\", \"tweet_count\": 93, \"total_likes\": 37.0, \"sentiment_avg\": -0.0307129032258064, \"total_retweets\": 14.0, \"top_hashtag\": \"#trump\", \"top_hashtag_likes\": 29.0, \"id\": 29, \"states_code\": \"MO\"}, {\"state\": \"Missouri\", \"date\": \"2020-10-19\", \"tweet_count\": 93, \"total_likes\": 62.0, \"sentiment_avg\": -0.0603086021505376, \"total_retweets\": 13.0, \"top_hashtag\": \"#trump\", \"top_hashtag_likes\": 47.0, \"id\": 29, \"states_code\": \"MO\"}, {\"state\": \"Missouri\", \"date\": \"2020-10-20\", \"tweet_count\": 114, \"total_likes\": 218.0, \"sentiment_avg\": -0.0059377192982456, \"total_retweets\": 76.0, \"top_hashtag\": \"#biden\", \"top_hashtag_likes\": 186.0, \"id\": 29, \"states_code\": \"MO\"}, {\"state\": \"Missouri\", \"date\": \"2020-10-21\", \"tweet_count\": 79, \"total_likes\": 55.0, \"sentiment_avg\": -0.0204974683544303, \"total_retweets\": 18.0, \"top_hashtag\": \"#trump\", \"top_hashtag_likes\": 34.0, \"id\": 29, \"states_code\": \"MO\"}, {\"state\": \"Missouri\", \"date\": \"2020-10-22\", \"tweet_count\": 122, \"total_likes\": 654.0, \"sentiment_avg\": -0.0932483606557377, \"total_retweets\": 176.0, \"top_hashtag\": \"#biden\", \"top_hashtag_likes\": 618.0, \"id\": 29, \"states_code\": \"MO\"}, {\"state\": \"Missouri\", \"date\": \"2020-10-23\", \"tweet_count\": 326, \"total_likes\": 3710.0, \"sentiment_avg\": -0.0284141104294478, \"total_retweets\": 422.0, \"top_hashtag\": \"#biden\", \"top_hashtag_likes\": 3601.0, \"id\": 29, \"states_code\": \"MO\"}, {\"state\": \"Missouri\", \"date\": \"2020-10-24\", \"tweet_count\": 82, \"total_likes\": 253.0, \"sentiment_avg\": -0.0600341463414634, \"total_retweets\": 92.0, \"top_hashtag\": \"#biden\", \"top_hashtag_likes\": 197.0, \"id\": 29, \"states_code\": \"MO\"}, {\"state\": \"Missouri\", \"date\": \"2020-10-25\", \"tweet_count\": 89, \"total_likes\": 488.0, \"sentiment_avg\": -0.0814494382022472, \"total_retweets\": 127.0, \"top_hashtag\": \"#biden\", \"top_hashtag_likes\": 341.0, \"id\": 29, \"states_code\": \"MO\"}, {\"state\": \"Missouri\", \"date\": \"2020-10-26\", \"tweet_count\": 115, \"total_likes\": 77.0, \"sentiment_avg\": -0.0705321739130434, \"total_retweets\": 27.0, \"top_hashtag\": \"#biden\", \"top_hashtag_likes\": 47.0, \"id\": 29, \"states_code\": \"MO\"}, {\"state\": \"Missouri\", \"date\": \"2020-10-27\", \"tweet_count\": 87, \"total_likes\": 91.0, \"sentiment_avg\": 0.0938137931034482, \"total_retweets\": 13.0, \"top_hashtag\": \"#trump\", \"top_hashtag_likes\": 82.0, \"id\": 29, \"states_code\": \"MO\"}, {\"state\": \"Missouri\", \"date\": \"2020-10-28\", \"tweet_count\": 132, \"total_likes\": 152.0, \"sentiment_avg\": 0.0588628787878787, \"total_retweets\": 61.0, \"top_hashtag\": \"#biden\", \"top_hashtag_likes\": 109.0, \"id\": 29, \"states_code\": \"MO\"}, {\"state\": \"Missouri\", \"date\": \"2020-10-29\", \"tweet_count\": 83, \"total_likes\": 73.0, \"sentiment_avg\": -0.0088746987951807, \"total_retweets\": 26.0, \"top_hashtag\": \"#trump\", \"top_hashtag_likes\": 52.0, \"id\": 29, \"states_code\": \"MO\"}, {\"state\": \"Missouri\", \"date\": \"2020-10-30\", \"tweet_count\": 73, \"total_likes\": 59.0, \"sentiment_avg\": -0.052317808219178, \"total_retweets\": 36.0, \"top_hashtag\": \"#trump\", \"top_hashtag_likes\": 52.0, \"id\": 29, \"states_code\": \"MO\"}, {\"state\": \"Missouri\", \"date\": \"2020-10-31\", \"tweet_count\": 113, \"total_likes\": 109.0, \"sentiment_avg\": 0.0172858407079646, \"total_retweets\": 46.0, \"top_hashtag\": \"#trump\", \"top_hashtag_likes\": 62.0, \"id\": 29, \"states_code\": \"MO\"}, {\"state\": \"Missouri\", \"date\": \"2020-11-01\", \"tweet_count\": 136, \"total_likes\": 56.0, \"sentiment_avg\": -0.0270110294117647, \"total_retweets\": 12.0, \"top_hashtag\": \"#trump\", \"top_hashtag_likes\": 33.0, \"id\": 29, \"states_code\": \"MO\"}, {\"state\": \"Missouri\", \"date\": \"2020-11-02\", \"tweet_count\": 178, \"total_likes\": 67.0, \"sentiment_avg\": 0.0026168539325842, \"total_retweets\": 22.0, \"top_hashtag\": \"#trump\", \"top_hashtag_likes\": 42.0, \"id\": 29, \"states_code\": \"MO\"}, {\"state\": \"Missouri\", \"date\": \"2020-11-03\", \"tweet_count\": 190, \"total_likes\": 191.0, \"sentiment_avg\": 0.1077910526315789, \"total_retweets\": 30.0, \"top_hashtag\": \"#trump\", \"top_hashtag_likes\": 126.0, \"id\": 29, \"states_code\": \"MO\"}, {\"state\": \"Missouri\", \"date\": \"2020-11-04\", \"tweet_count\": 300, \"total_likes\": 304.0, \"sentiment_avg\": 0.0277196666666666, \"total_retweets\": 109.0, \"top_hashtag\": \"#trump\", \"top_hashtag_likes\": 240.0, \"id\": 29, \"states_code\": \"MO\"}, {\"state\": \"Missouri\", \"date\": \"2020-11-05\", \"tweet_count\": 142, \"total_likes\": 188.0, \"sentiment_avg\": 0.0394887323943662, \"total_retweets\": 34.0, \"top_hashtag\": \"#trump\", \"top_hashtag_likes\": 158.0, \"id\": 29, \"states_code\": \"MO\"}, {\"state\": \"Missouri\", \"date\": \"2020-11-06\", \"tweet_count\": 251, \"total_likes\": 592.0, \"sentiment_avg\": -0.0289677290836653, \"total_retweets\": 106.0, \"top_hashtag\": \"#biden\", \"top_hashtag_likes\": 455.0, \"id\": 29, \"states_code\": \"MO\"}, {\"state\": \"Missouri\", \"date\": \"2020-11-07\", \"tweet_count\": 271, \"total_likes\": 480.0, \"sentiment_avg\": 0.0601250922509225, \"total_retweets\": 62.0, \"top_hashtag\": \"#biden\", \"top_hashtag_likes\": 415.0, \"id\": 29, \"states_code\": \"MO\"}, {\"state\": \"Missouri\", \"date\": \"2020-11-08\", \"tweet_count\": 190, \"total_likes\": 456.0, \"sentiment_avg\": 0.1054984210526315, \"total_retweets\": 69.0, \"top_hashtag\": \"#biden\", \"top_hashtag_likes\": 385.0, \"id\": 29, \"states_code\": \"MO\"}, {\"state\": \"Montana\", \"date\": \"2020-10-15\", \"tweet_count\": 25, \"total_likes\": 34.0, \"sentiment_avg\": -0.210912, \"total_retweets\": 12.0, \"top_hashtag\": \"#biden\", \"top_hashtag_likes\": 33.0, \"id\": 30, \"states_code\": \"MT\"}, {\"state\": \"Montana\", \"date\": \"2020-10-16\", \"tweet_count\": 22, \"total_likes\": 8.0, \"sentiment_avg\": -0.0408727272727272, \"total_retweets\": 3.0, \"top_hashtag\": \"#trump\", \"top_hashtag_likes\": 6.0, \"id\": 30, \"states_code\": \"MT\"}, {\"state\": \"Montana\", \"date\": \"2020-10-17\", \"tweet_count\": 11, \"total_likes\": 2.0, \"sentiment_avg\": -0.1482363636363636, \"total_retweets\": 0.0, \"top_hashtag\": \"#trump\", \"top_hashtag_likes\": 4.0, \"id\": 30, \"states_code\": \"MT\"}, {\"state\": \"Montana\", \"date\": \"2020-10-18\", \"tweet_count\": 12, \"total_likes\": 7.0, \"sentiment_avg\": 0.06995, \"total_retweets\": 1.0, \"top_hashtag\": \"#election2020\", \"top_hashtag_likes\": 6.0, \"id\": 30, \"states_code\": \"MT\"}, {\"state\": \"Montana\", \"date\": \"2020-10-19\", \"tweet_count\": 11, \"total_likes\": 7.0, \"sentiment_avg\": 0.1357090909090909, \"total_retweets\": 1.0, \"top_hashtag\": \"#biden\", \"top_hashtag_likes\": 6.0, \"id\": 30, \"states_code\": \"MT\"}, {\"state\": \"Montana\", \"date\": \"2020-10-20\", \"tweet_count\": 15, \"total_likes\": 24.0, \"sentiment_avg\": 0.3254533333333333, \"total_retweets\": 4.0, \"top_hashtag\": \"#biden\", \"top_hashtag_likes\": 15.0, \"id\": 30, \"states_code\": \"MT\"}, {\"state\": \"Montana\", \"date\": \"2020-10-21\", \"tweet_count\": 13, \"total_likes\": 9.0, \"sentiment_avg\": 0.042176923076923, \"total_retweets\": 5.0, \"top_hashtag\": \"#biden\", \"top_hashtag_likes\": 5.0, \"id\": 30, \"states_code\": \"MT\"}, {\"state\": \"Montana\", \"date\": \"2020-10-22\", \"tweet_count\": 13, \"total_likes\": 12.0, \"sentiment_avg\": 0.0315384615384615, \"total_retweets\": 11.0, \"top_hashtag\": \"#biden\", \"top_hashtag_likes\": 6.0, \"id\": 30, \"states_code\": \"MT\"}, {\"state\": \"Montana\", \"date\": \"2020-10-23\", \"tweet_count\": 33, \"total_likes\": 43.0, \"sentiment_avg\": -0.0774666666666666, \"total_retweets\": 10.0, \"top_hashtag\": \"#biden\", \"top_hashtag_likes\": 34.0, \"id\": 30, \"states_code\": \"MT\"}, {\"state\": \"Montana\", \"date\": \"2020-10-24\", \"tweet_count\": 14, \"total_likes\": 21.0, \"sentiment_avg\": 0.1617642857142857, \"total_retweets\": 2.0, \"top_hashtag\": \"#biden\", \"top_hashtag_likes\": 20.0, \"id\": 30, \"states_code\": \"MT\"}, {\"state\": \"Montana\", \"date\": \"2020-10-25\", \"tweet_count\": 11, \"total_likes\": 9.0, \"sentiment_avg\": 0.1400454545454545, \"total_retweets\": 1.0, \"top_hashtag\": \"#trump\", \"top_hashtag_likes\": 6.0, \"id\": 30, \"states_code\": \"MT\"}, {\"state\": \"Montana\", \"date\": \"2020-10-26\", \"tweet_count\": 12, \"total_likes\": 12.0, \"sentiment_avg\": 0.0821666666666666, \"total_retweets\": 2.0, \"top_hashtag\": \"#biden\", \"top_hashtag_likes\": 12.0, \"id\": 30, \"states_code\": \"MT\"}, {\"state\": \"Montana\", \"date\": \"2020-10-27\", \"tweet_count\": 9, \"total_likes\": 12.0, \"sentiment_avg\": -0.0473, \"total_retweets\": 3.0, \"top_hashtag\": \"#trump\", \"top_hashtag_likes\": 10.0, \"id\": 30, \"states_code\": \"MT\"}, {\"state\": \"Montana\", \"date\": \"2020-10-28\", \"tweet_count\": 19, \"total_likes\": 25.0, \"sentiment_avg\": 0.0821526315789473, \"total_retweets\": 4.0, \"top_hashtag\": \"#biden\", \"top_hashtag_likes\": 23.0, \"id\": 30, \"states_code\": \"MT\"}, {\"state\": \"Montana\", \"date\": \"2020-10-29\", \"tweet_count\": 15, \"total_likes\": 1649.0, \"sentiment_avg\": 0.1560666666666667, \"total_retweets\": 705.0, \"top_hashtag\": \"#biden\", \"top_hashtag_likes\": 1649.0, \"id\": 30, \"states_code\": \"MT\"}, {\"state\": \"Montana\", \"date\": \"2020-10-30\", \"tweet_count\": 16, \"total_likes\": 10.0, \"sentiment_avg\": 0.21414375, \"total_retweets\": 1.0, \"top_hashtag\": \"#trump\", \"top_hashtag_likes\": 8.0, \"id\": 30, \"states_code\": \"MT\"}, {\"state\": \"Montana\", \"date\": \"2020-10-31\", \"tweet_count\": 9, \"total_likes\": 17.0, \"sentiment_avg\": -0.1194444444444444, \"total_retweets\": 2.0, \"top_hashtag\": \"#biden\", \"top_hashtag_likes\": 23.0, \"id\": 30, \"states_code\": \"MT\"}, {\"state\": \"Montana\", \"date\": \"2020-11-01\", \"tweet_count\": 12, \"total_likes\": 5.0, \"sentiment_avg\": 0.0904333333333333, \"total_retweets\": 0.0, \"top_hashtag\": \"#biden\", \"top_hashtag_likes\": 5.0, \"id\": 30, \"states_code\": \"MT\"}, {\"state\": \"Montana\", \"date\": \"2020-11-02\", \"tweet_count\": 22, \"total_likes\": 7.0, \"sentiment_avg\": -0.0111318181818181, \"total_retweets\": 0.0, \"top_hashtag\": \"#trump\", \"top_hashtag_likes\": 6.0, \"id\": 30, \"states_code\": \"MT\"}, {\"state\": \"Montana\", \"date\": \"2020-11-03\", \"tweet_count\": 16, \"total_likes\": 6.0, \"sentiment_avg\": 0.0398125, \"total_retweets\": 0.0, \"top_hashtag\": \"#trump\", \"top_hashtag_likes\": 5.0, \"id\": 30, \"states_code\": \"MT\"}, {\"state\": \"Montana\", \"date\": \"2020-11-04\", \"tweet_count\": 15, \"total_likes\": 23.0, \"sentiment_avg\": 0.0994533333333333, \"total_retweets\": 0.0, \"top_hashtag\": \"#biden\", \"top_hashtag_likes\": 23.0, \"id\": 30, \"states_code\": \"MT\"}, {\"state\": \"Montana\", \"date\": \"2020-11-05\", \"tweet_count\": 18, \"total_likes\": 41.0, \"sentiment_avg\": 0.0155055555555555, \"total_retweets\": 11.0, \"top_hashtag\": \"#trump\", \"top_hashtag_likes\": 34.0, \"id\": 30, \"states_code\": \"MT\"}, {\"state\": \"Montana\", \"date\": \"2020-11-06\", \"tweet_count\": 15, \"total_likes\": 14.0, \"sentiment_avg\": -0.12136, \"total_retweets\": 1.0, \"top_hashtag\": \"#biden\", \"top_hashtag_likes\": 8.0, \"id\": 30, \"states_code\": \"MT\"}, {\"state\": \"Montana\", \"date\": \"2020-11-07\", \"tweet_count\": 17, \"total_likes\": 30.0, \"sentiment_avg\": -0.0395058823529411, \"total_retweets\": 4.0, \"top_hashtag\": \"#biden\", \"top_hashtag_likes\": 24.0, \"id\": 30, \"states_code\": \"MT\"}, {\"state\": \"Montana\", \"date\": \"2020-11-08\", \"tweet_count\": 16, \"total_likes\": 46.0, \"sentiment_avg\": -0.12648125, \"total_retweets\": 5.0, \"top_hashtag\": \"#biden\", \"top_hashtag_likes\": 33.0, \"id\": 30, \"states_code\": \"MT\"}, {\"state\": \"Nebraska\", \"date\": \"2020-10-15\", \"tweet_count\": 21, \"total_likes\": 10.0, \"sentiment_avg\": -0.158947619047619, \"total_retweets\": 5.0, \"top_hashtag\": \"#trump\", \"top_hashtag_likes\": 9.0, \"id\": 31, \"states_code\": \"NE\"}, {\"state\": \"Nebraska\", \"date\": \"2020-10-16\", \"tweet_count\": 49, \"total_likes\": 17.0, \"sentiment_avg\": 0.0490448979591836, \"total_retweets\": 9.0, \"top_hashtag\": \"#trump\", \"top_hashtag_likes\": 12.0, \"id\": 31, \"states_code\": \"NE\"}, {\"state\": \"Nebraska\", \"date\": \"2020-10-17\", \"tweet_count\": 14, \"total_likes\": 8.0, \"sentiment_avg\": 0.2840571428571428, \"total_retweets\": 2.0, \"top_hashtag\": \"#biden\", \"top_hashtag_likes\": 5.0, \"id\": 31, \"states_code\": \"NE\"}, {\"state\": \"Nebraska\", \"date\": \"2020-10-18\", \"tweet_count\": 13, \"total_likes\": 5.0, \"sentiment_avg\": 0.1115153846153846, \"total_retweets\": 1.0, \"top_hashtag\": \"#biden\", \"top_hashtag_likes\": 3.0, \"id\": 31, \"states_code\": \"NE\"}, {\"state\": \"Nebraska\", \"date\": \"2020-10-19\", \"tweet_count\": 22, \"total_likes\": 19.0, \"sentiment_avg\": -0.1134863636363636, \"total_retweets\": 7.0, \"top_hashtag\": \"#trump\", \"top_hashtag_likes\": 12.0, \"id\": 31, \"states_code\": \"NE\"}, {\"state\": \"Nebraska\", \"date\": \"2020-10-20\", \"tweet_count\": 34, \"total_likes\": 25.0, \"sentiment_avg\": 0.0510029411764705, \"total_retweets\": 15.0, \"top_hashtag\": \"#trump\", \"top_hashtag_likes\": 21.0, \"id\": 31, \"states_code\": \"NE\"}, {\"state\": \"Nebraska\", \"date\": \"2020-10-21\", \"tweet_count\": 18, \"total_likes\": 13.0, \"sentiment_avg\": -0.0599, \"total_retweets\": 4.0, \"top_hashtag\": \"#trump\", \"top_hashtag_likes\": 12.0, \"id\": 31, \"states_code\": \"NE\"}, {\"state\": \"Nebraska\", \"date\": \"2020-10-22\", \"tweet_count\": 25, \"total_likes\": 22.0, \"sentiment_avg\": 0.337292, \"total_retweets\": 1.0, \"top_hashtag\": \"#trump\", \"top_hashtag_likes\": 21.0, \"id\": 31, \"states_code\": \"NE\"}, {\"state\": \"Nebraska\", \"date\": \"2020-10-23\", \"tweet_count\": 47, \"total_likes\": 38.0, \"sentiment_avg\": 0.1803106382978723, \"total_retweets\": 14.0, \"top_hashtag\": \"#biden\", \"top_hashtag_likes\": 26.0, \"id\": 31, \"states_code\": \"NE\"}, {\"state\": \"Nebraska\", \"date\": \"2020-10-24\", \"tweet_count\": 25, \"total_likes\": 29.0, \"sentiment_avg\": 0.040008, \"total_retweets\": 2.0, \"top_hashtag\": \"#trump\", \"top_hashtag_likes\": 25.0, \"id\": 31, \"states_code\": \"NE\"}, {\"state\": \"Nebraska\", \"date\": \"2020-10-25\", \"tweet_count\": 11, \"total_likes\": 7.0, \"sentiment_avg\": 0.1992272727272727, \"total_retweets\": 4.0, \"top_hashtag\": \"#trump\", \"top_hashtag_likes\": 6.0, \"id\": 31, \"states_code\": \"NE\"}, {\"state\": \"Nebraska\", \"date\": \"2020-10-26\", \"tweet_count\": 14, \"total_likes\": 16.0, \"sentiment_avg\": 0.1602714285714286, \"total_retweets\": 6.0, \"top_hashtag\": \"#trump\", \"top_hashtag_likes\": 13.0, \"id\": 31, \"states_code\": \"NE\"}, {\"state\": \"Nebraska\", \"date\": \"2020-10-27\", \"tweet_count\": 22, \"total_likes\": 69.0, \"sentiment_avg\": -0.1016772727272727, \"total_retweets\": 13.0, \"top_hashtag\": \"#biden\", \"top_hashtag_likes\": 54.0, \"id\": 31, \"states_code\": \"NE\"}, {\"state\": \"Nebraska\", \"date\": \"2020-10-28\", \"tweet_count\": 24, \"total_likes\": 37.0, \"sentiment_avg\": -0.005825, \"total_retweets\": 27.0, \"top_hashtag\": \"#trump\", \"top_hashtag_likes\": 37.0, \"id\": 31, \"states_code\": \"NE\"}, {\"state\": \"Nebraska\", \"date\": \"2020-10-29\", \"tweet_count\": 14, \"total_likes\": 4.0, \"sentiment_avg\": 0.0466071428571428, \"total_retweets\": 1.0, \"top_hashtag\": \"#trump\", \"top_hashtag_likes\": 4.0, \"id\": 31, \"states_code\": \"NE\"}, {\"state\": \"Nebraska\", \"date\": \"2020-10-30\", \"tweet_count\": 17, \"total_likes\": 12.0, \"sentiment_avg\": 0.1411058823529412, \"total_retweets\": 2.0, \"top_hashtag\": \"#trump\", \"top_hashtag_likes\": 8.0, \"id\": 31, \"states_code\": \"NE\"}, {\"state\": \"Nebraska\", \"date\": \"2020-10-31\", \"tweet_count\": 19, \"total_likes\": 11.0, \"sentiment_avg\": 0.1279421052631579, \"total_retweets\": 2.0, \"top_hashtag\": \"#trump\", \"top_hashtag_likes\": 12.0, \"id\": 31, \"states_code\": \"NE\"}, {\"state\": \"Nebraska\", \"date\": \"2020-11-01\", \"tweet_count\": 19, \"total_likes\": 18.0, \"sentiment_avg\": 0.2337526315789473, \"total_retweets\": 1.0, \"top_hashtag\": \"#biden\", \"top_hashtag_likes\": 12.0, \"id\": 31, \"states_code\": \"NE\"}, {\"state\": \"Nebraska\", \"date\": \"2020-11-02\", \"tweet_count\": 32, \"total_likes\": 33.0, \"sentiment_avg\": 0.0673, \"total_retweets\": 10.0, \"top_hashtag\": \"#trump\", \"top_hashtag_likes\": 31.0, \"id\": 31, \"states_code\": \"NE\"}, {\"state\": \"Nebraska\", \"date\": \"2020-11-03\", \"tweet_count\": 27, \"total_likes\": 23.0, \"sentiment_avg\": 0.1297555555555555, \"total_retweets\": 7.0, \"top_hashtag\": \"#biden\", \"top_hashtag_likes\": 14.0, \"id\": 31, \"states_code\": \"NE\"}, {\"state\": \"Nebraska\", \"date\": \"2020-11-04\", \"tweet_count\": 38, \"total_likes\": 677.0, \"sentiment_avg\": 0.0271131578947368, \"total_retweets\": 65.0, \"top_hashtag\": \"#trump\", \"top_hashtag_likes\": 666.0, \"id\": 31, \"states_code\": \"NE\"}, {\"state\": \"Nebraska\", \"date\": \"2020-11-05\", \"tweet_count\": 25, \"total_likes\": 37.0, \"sentiment_avg\": 0.0766319999999999, \"total_retweets\": 1.0, \"top_hashtag\": \"#biden\", \"top_hashtag_likes\": 30.0, \"id\": 31, \"states_code\": \"NE\"}, {\"state\": \"Nebraska\", \"date\": \"2020-11-06\", \"tweet_count\": 36, \"total_likes\": 44.0, \"sentiment_avg\": 0.1009083333333333, \"total_retweets\": 6.0, \"top_hashtag\": \"#biden\", \"top_hashtag_likes\": 37.0, \"id\": 31, \"states_code\": \"NE\"}, {\"state\": \"Nebraska\", \"date\": \"2020-11-07\", \"tweet_count\": 59, \"total_likes\": 164.0, \"sentiment_avg\": -0.0133237288135593, \"total_retweets\": 21.0, \"top_hashtag\": \"#biden\", \"top_hashtag_likes\": 144.0, \"id\": 31, \"states_code\": \"NE\"}, {\"state\": \"Nebraska\", \"date\": \"2020-11-08\", \"tweet_count\": 38, \"total_likes\": 122.0, \"sentiment_avg\": 0.163228947368421, \"total_retweets\": 14.0, \"top_hashtag\": \"#biden\", \"top_hashtag_likes\": 113.0, \"id\": 31, \"states_code\": \"NE\"}, {\"state\": \"Nevada\", \"date\": \"2020-10-15\", \"tweet_count\": 136, \"total_likes\": 647.0, \"sentiment_avg\": -0.0044698529411764, \"total_retweets\": 417.0, \"top_hashtag\": \"#biden\", \"top_hashtag_likes\": 371.0, \"id\": 32, \"states_code\": \"NV\"}, {\"state\": \"Nevada\", \"date\": \"2020-10-16\", \"tweet_count\": 145, \"total_likes\": 313.0, \"sentiment_avg\": 0.0434337931034482, \"total_retweets\": 323.0, \"top_hashtag\": \"#biden\", \"top_hashtag_likes\": 266.0, \"id\": 32, \"states_code\": \"NV\"}, {\"state\": \"Nevada\", \"date\": \"2020-10-17\", \"tweet_count\": 77, \"total_likes\": 206.0, \"sentiment_avg\": -0.015012987012987, \"total_retweets\": 221.0, \"top_hashtag\": \"#biden\", \"top_hashtag_likes\": 118.0, \"id\": 32, \"states_code\": \"NV\"}, {\"state\": \"Nevada\", \"date\": \"2020-10-18\", \"tweet_count\": 109, \"total_likes\": 839.0, \"sentiment_avg\": 0.0984082568807339, \"total_retweets\": 248.0, \"top_hashtag\": \"#biden\", \"top_hashtag_likes\": 463.0, \"id\": 32, \"states_code\": \"NV\"}, {\"state\": \"Nevada\", \"date\": \"2020-10-19\", \"tweet_count\": 103, \"total_likes\": 146.0, \"sentiment_avg\": 0.1168932038834951, \"total_retweets\": 109.0, \"top_hashtag\": \"#trump\", \"top_hashtag_likes\": 115.0, \"id\": 32, \"states_code\": \"NV\"}, {\"state\": \"Nevada\", \"date\": \"2020-10-20\", \"tweet_count\": 118, \"total_likes\": 199.0, \"sentiment_avg\": 0.0363338983050847, \"total_retweets\": 41.0, \"top_hashtag\": \"#biden\", \"top_hashtag_likes\": 157.0, \"id\": 32, \"states_code\": \"NV\"}, {\"state\": \"Nevada\", \"date\": \"2020-10-21\", \"tweet_count\": 134, \"total_likes\": 501.0, \"sentiment_avg\": 0.0521611940298507, \"total_retweets\": 169.0, \"top_hashtag\": \"#biden\", \"top_hashtag_likes\": 366.0, \"id\": 32, \"states_code\": \"NV\"}, {\"state\": \"Nevada\", \"date\": \"2020-10-22\", \"tweet_count\": 107, \"total_likes\": 202.0, \"sentiment_avg\": -0.018626168224299, \"total_retweets\": 179.0, \"top_hashtag\": \"#biden\", \"top_hashtag_likes\": 160.0, \"id\": 32, \"states_code\": \"NV\"}, {\"state\": \"Nevada\", \"date\": \"2020-10-23\", \"tweet_count\": 295, \"total_likes\": 1397.0, \"sentiment_avg\": 0.0550935593220339, \"total_retweets\": 300.0, \"top_hashtag\": \"#biden\", \"top_hashtag_likes\": 1266.0, \"id\": 32, \"states_code\": \"NV\"}, {\"state\": \"Nevada\", \"date\": \"2020-10-24\", \"tweet_count\": 104, \"total_likes\": 229.0, \"sentiment_avg\": 0.1149317307692307, \"total_retweets\": 70.0, \"top_hashtag\": \"#biden\", \"top_hashtag_likes\": 192.0, \"id\": 32, \"states_code\": \"NV\"}, {\"state\": \"Nevada\", \"date\": \"2020-10-25\", \"tweet_count\": 87, \"total_likes\": 256.0, \"sentiment_avg\": 0.2136080459770115, \"total_retweets\": 106.0, \"top_hashtag\": \"#biden\", \"top_hashtag_likes\": 201.0, \"id\": 32, \"states_code\": \"NV\"}, {\"state\": \"Nevada\", \"date\": \"2020-10-26\", \"tweet_count\": 113, \"total_likes\": 1064.0, \"sentiment_avg\": 0.1550026548672566, \"total_retweets\": 367.0, \"top_hashtag\": \"#trump\", \"top_hashtag_likes\": 1017.0, \"id\": 32, \"states_code\": \"NV\"}, {\"state\": \"Nevada\", \"date\": \"2020-10-27\", \"tweet_count\": 84, \"total_likes\": 460.0, \"sentiment_avg\": 0.1013428571428571, \"total_retweets\": 50.0, \"top_hashtag\": \"#biden\", \"top_hashtag_likes\": 433.0, \"id\": 32, \"states_code\": \"NV\"}, {\"state\": \"Nevada\", \"date\": \"2020-10-28\", \"tweet_count\": 157, \"total_likes\": 590.0, \"sentiment_avg\": 0.1221407643312102, \"total_retweets\": 394.0, \"top_hashtag\": \"#trump\", \"top_hashtag_likes\": 471.0, \"id\": 32, \"states_code\": \"NV\"}, {\"state\": \"Nevada\", \"date\": \"2020-10-29\", \"tweet_count\": 112, \"total_likes\": 515.0, \"sentiment_avg\": 0.0063973214285714, \"total_retweets\": 125.0, \"top_hashtag\": \"#trump\", \"top_hashtag_likes\": 404.0, \"id\": 32, \"states_code\": \"NV\"}, {\"state\": \"Nevada\", \"date\": \"2020-10-30\", \"tweet_count\": 138, \"total_likes\": 801.0, \"sentiment_avg\": 0.0423833333333333, \"total_retweets\": 428.0, \"top_hashtag\": \"#biden\", \"top_hashtag_likes\": 600.0, \"id\": 32, \"states_code\": \"NV\"}, {\"state\": \"Nevada\", \"date\": \"2020-10-31\", \"tweet_count\": 130, \"total_likes\": 347.0, \"sentiment_avg\": 0.0715830769230769, \"total_retweets\": 259.0, \"top_hashtag\": \"#trump\", \"top_hashtag_likes\": 267.0, \"id\": 32, \"states_code\": \"NV\"}, {\"state\": \"Nevada\", \"date\": \"2020-11-01\", \"tweet_count\": 114, \"total_likes\": 764.0, \"sentiment_avg\": 0.0198228070175438, \"total_retweets\": 176.0, \"top_hashtag\": \"#biden\", \"top_hashtag_likes\": 705.0, \"id\": 32, \"states_code\": \"NV\"}, {\"state\": \"Nevada\", \"date\": \"2020-11-02\", \"tweet_count\": 182, \"total_likes\": 445.0, \"sentiment_avg\": 0.0583280219780219, \"total_retweets\": 182.0, \"top_hashtag\": \"#biden\", \"top_hashtag_likes\": 307.0, \"id\": 32, \"states_code\": \"NV\"}, {\"state\": \"Nevada\", \"date\": \"2020-11-03\", \"tweet_count\": 204, \"total_likes\": 23946.0, \"sentiment_avg\": 0.0823362745098039, \"total_retweets\": 2751.0, \"top_hashtag\": \"#biden\", \"top_hashtag_likes\": 23173.0, \"id\": 32, \"states_code\": \"NV\"}, {\"state\": \"Nevada\", \"date\": \"2020-11-04\", \"tweet_count\": 310, \"total_likes\": 1177.0, \"sentiment_avg\": 0.1097035483870967, \"total_retweets\": 215.0, \"top_hashtag\": \"#biden\", \"top_hashtag_likes\": 806.0, \"id\": 32, \"states_code\": \"NV\"}, {\"state\": \"Nevada\", \"date\": \"2020-11-05\", \"tweet_count\": 208, \"total_likes\": 825.0, \"sentiment_avg\": 0.0522793269230769, \"total_retweets\": 232.0, \"top_hashtag\": \"#trump\", \"top_hashtag_likes\": 669.0, \"id\": 32, \"states_code\": \"NV\"}, {\"state\": \"Nevada\", \"date\": \"2020-11-06\", \"tweet_count\": 288, \"total_likes\": 766.0, \"sentiment_avg\": -0.0249190972222222, \"total_retweets\": 106.0, \"top_hashtag\": \"#biden\", \"top_hashtag_likes\": 622.0, \"id\": 32, \"states_code\": \"NV\"}, {\"state\": \"Nevada\", \"date\": \"2020-11-07\", \"tweet_count\": 356, \"total_likes\": 3371.0, \"sentiment_avg\": 0.1182455056179775, \"total_retweets\": 269.0, \"top_hashtag\": \"#biden\", \"top_hashtag_likes\": 3109.0, \"id\": 32, \"states_code\": \"NV\"}, {\"state\": \"Nevada\", \"date\": \"2020-11-08\", \"tweet_count\": 204, \"total_likes\": 1964.0, \"sentiment_avg\": 0.1510245098039215, \"total_retweets\": 278.0, \"top_hashtag\": \"#biden\", \"top_hashtag_likes\": 1430.0, \"id\": 32, \"states_code\": \"NV\"}, {\"state\": \"New Hampshire\", \"date\": \"2020-10-15\", \"tweet_count\": 10, \"total_likes\": 7.0, \"sentiment_avg\": -0.2958699999999999, \"total_retweets\": 4.0, \"top_hashtag\": \"#biden\", \"top_hashtag_likes\": 5.0, \"id\": 33, \"states_code\": \"NH\"}, {\"state\": \"New Hampshire\", \"date\": \"2020-10-16\", \"tweet_count\": 19, \"total_likes\": 27.0, \"sentiment_avg\": 0.0105684210526315, \"total_retweets\": 4.0, \"top_hashtag\": \"#biden\", \"top_hashtag_likes\": 24.0, \"id\": 33, \"states_code\": \"NH\"}, {\"state\": \"New Hampshire\", \"date\": \"2020-10-17\", \"tweet_count\": 11, \"total_likes\": 16.0, \"sentiment_avg\": -0.1524181818181818, \"total_retweets\": 3.0, \"top_hashtag\": \"#biden\", \"top_hashtag_likes\": 14.0, \"id\": 33, \"states_code\": \"NH\"}, {\"state\": \"New Hampshire\", \"date\": \"2020-10-18\", \"tweet_count\": 12, \"total_likes\": 31.0, \"sentiment_avg\": 0.0245, \"total_retweets\": 8.0, \"top_hashtag\": \"#biden\", \"top_hashtag_likes\": 30.0, \"id\": 33, \"states_code\": \"NH\"}, {\"state\": \"New Hampshire\", \"date\": \"2020-10-19\", \"tweet_count\": 11, \"total_likes\": 36.0, \"sentiment_avg\": 0.2789545454545454, \"total_retweets\": 6.0, \"top_hashtag\": \"#biden\", \"top_hashtag_likes\": 28.0, \"id\": 33, \"states_code\": \"NH\"}, {\"state\": \"New Hampshire\", \"date\": \"2020-10-20\", \"tweet_count\": 17, \"total_likes\": 311.0, \"sentiment_avg\": 0.1002764705882352, \"total_retweets\": 130.0, \"top_hashtag\": \"#trump\", \"top_hashtag_likes\": 308.0, \"id\": 33, \"states_code\": \"NH\"}, {\"state\": \"New Hampshire\", \"date\": \"2020-10-21\", \"tweet_count\": 33, \"total_likes\": 41.0, \"sentiment_avg\": -0.2776242424242424, \"total_retweets\": 9.0, \"top_hashtag\": \"#trump\", \"top_hashtag_likes\": 31.0, \"id\": 33, \"states_code\": \"NH\"}, {\"state\": \"New Hampshire\", \"date\": \"2020-10-22\", \"tweet_count\": 44, \"total_likes\": 48.0, \"sentiment_avg\": -0.2125136363636363, \"total_retweets\": 13.0, \"top_hashtag\": \"#biden\", \"top_hashtag_likes\": 45.0, \"id\": 33, \"states_code\": \"NH\"}, {\"state\": \"New Hampshire\", \"date\": \"2020-10-23\", \"tweet_count\": 33, \"total_likes\": 63.0, \"sentiment_avg\": -0.0190272727272727, \"total_retweets\": 55.0, \"top_hashtag\": \"#trump\", \"top_hashtag_likes\": 56.0, \"id\": 33, \"states_code\": \"NH\"}, {\"state\": \"New Hampshire\", \"date\": \"2020-10-24\", \"tweet_count\": 14, \"total_likes\": 18.0, \"sentiment_avg\": 0.1575857142857142, \"total_retweets\": 2.0, \"top_hashtag\": \"#biden\", \"top_hashtag_likes\": 17.0, \"id\": 33, \"states_code\": \"NH\"}, {\"state\": \"New Hampshire\", \"date\": \"2020-10-25\", \"tweet_count\": 14, \"total_likes\": 42.0, \"sentiment_avg\": 0.0269499999999999, \"total_retweets\": 8.0, \"top_hashtag\": \"#trump\", \"top_hashtag_likes\": 42.0, \"id\": 33, \"states_code\": \"NH\"}, {\"state\": \"New Hampshire\", \"date\": \"2020-10-26\", \"tweet_count\": 8, \"total_likes\": 2.0, \"sentiment_avg\": -0.0189875, \"total_retweets\": 0.0, \"top_hashtag\": \"#trump\", \"top_hashtag_likes\": 2.0, \"id\": 33, \"states_code\": \"NH\"}, {\"state\": \"New Hampshire\", \"date\": \"2020-10-27\", \"tweet_count\": 8, \"total_likes\": 2.0, \"sentiment_avg\": -0.208675, \"total_retweets\": 0.0, \"top_hashtag\": \"#biden\", \"top_hashtag_likes\": 2.0, \"id\": 33, \"states_code\": \"NH\"}, {\"state\": \"New Hampshire\", \"date\": \"2020-10-28\", \"tweet_count\": 17, \"total_likes\": 52.0, \"sentiment_avg\": 0.298, \"total_retweets\": 11.0, \"top_hashtag\": \"#biden\", \"top_hashtag_likes\": 40.0, \"id\": 33, \"states_code\": \"NH\"}, {\"state\": \"New Hampshire\", \"date\": \"2020-10-29\", \"tweet_count\": 15, \"total_likes\": 87.0, \"sentiment_avg\": 0.1599, \"total_retweets\": 21.0, \"top_hashtag\": \"#biden\", \"top_hashtag_likes\": 86.0, \"id\": 33, \"states_code\": \"NH\"}, {\"state\": \"New Hampshire\", \"date\": \"2020-10-30\", \"tweet_count\": 18, \"total_likes\": 50.0, \"sentiment_avg\": -0.0578333333333333, \"total_retweets\": 11.0, \"top_hashtag\": \"#biden\", \"top_hashtag_likes\": 46.0, \"id\": 33, \"states_code\": \"NH\"}, {\"state\": \"New Hampshire\", \"date\": \"2020-10-31\", \"tweet_count\": 17, \"total_likes\": 22.0, \"sentiment_avg\": -0.0269117647058823, \"total_retweets\": 6.0, \"top_hashtag\": \"#trump\", \"top_hashtag_likes\": 23.0, \"id\": 33, \"states_code\": \"NH\"}, {\"state\": \"New Hampshire\", \"date\": \"2020-11-01\", \"tweet_count\": 12, \"total_likes\": 7.0, \"sentiment_avg\": -0.06775, \"total_retweets\": 0.0, \"top_hashtag\": \"#biden\", \"top_hashtag_likes\": 5.0, \"id\": 33, \"states_code\": \"NH\"}, {\"state\": \"New Hampshire\", \"date\": \"2020-11-02\", \"tweet_count\": 31, \"total_likes\": 152.0, \"sentiment_avg\": 0.1804677419354838, \"total_retweets\": 19.0, \"top_hashtag\": \"#trump\", \"top_hashtag_likes\": 99.0, \"id\": 33, \"states_code\": \"NH\"}, {\"state\": \"New Hampshire\", \"date\": \"2020-11-03\", \"tweet_count\": 31, \"total_likes\": 146.0, \"sentiment_avg\": 0.3114483870967742, \"total_retweets\": 25.0, \"top_hashtag\": \"#biden\", \"top_hashtag_likes\": 114.0, \"id\": 33, \"states_code\": \"NH\"}, {\"state\": \"New Hampshire\", \"date\": \"2020-11-04\", \"tweet_count\": 31, \"total_likes\": 24.0, \"sentiment_avg\": 0.264458064516129, \"total_retweets\": 4.0, \"top_hashtag\": \"#biden\", \"top_hashtag_likes\": 15.0, \"id\": 33, \"states_code\": \"NH\"}, {\"state\": \"New Hampshire\", \"date\": \"2020-11-05\", \"tweet_count\": 33, \"total_likes\": 52.0, \"sentiment_avg\": 0.0765242424242424, \"total_retweets\": 11.0, \"top_hashtag\": \"#trump\", \"top_hashtag_likes\": 35.0, \"id\": 33, \"states_code\": \"NH\"}, {\"state\": \"New Hampshire\", \"date\": \"2020-11-06\", \"tweet_count\": 25, \"total_likes\": 52.0, \"sentiment_avg\": 0.134044, \"total_retweets\": 3.0, \"top_hashtag\": \"#biden\", \"top_hashtag_likes\": 47.0, \"id\": 33, \"states_code\": \"NH\"}, {\"state\": \"New Hampshire\", \"date\": \"2020-11-07\", \"tweet_count\": 46, \"total_likes\": 80.0, \"sentiment_avg\": 0.274791304347826, \"total_retweets\": 9.0, \"top_hashtag\": \"#biden\", \"top_hashtag_likes\": 61.0, \"id\": 33, \"states_code\": \"NH\"}, {\"state\": \"New Hampshire\", \"date\": \"2020-11-08\", \"tweet_count\": 31, \"total_likes\": 48.0, \"sentiment_avg\": 0.1758290322580645, \"total_retweets\": 7.0, \"top_hashtag\": \"#biden\", \"top_hashtag_likes\": 44.0, \"id\": 33, \"states_code\": \"NH\"}, {\"state\": \"New Jersey\", \"date\": \"2020-10-15\", \"tweet_count\": 244, \"total_likes\": 2031.0, \"sentiment_avg\": -0.0786176229508196, \"total_retweets\": 1245.0, \"top_hashtag\": \"#biden\", \"top_hashtag_likes\": 1770.0, \"id\": 34, \"states_code\": \"NJ\"}, {\"state\": \"New Jersey\", \"date\": \"2020-10-16\", \"tweet_count\": 311, \"total_likes\": 3088.0, \"sentiment_avg\": 0.0236877813504823, \"total_retweets\": 1417.0, \"top_hashtag\": \"#biden\", \"top_hashtag_likes\": 2521.0, \"id\": 34, \"states_code\": \"NJ\"}, {\"state\": \"New Jersey\", \"date\": \"2020-10-17\", \"tweet_count\": 167, \"total_likes\": 1022.0, \"sentiment_avg\": 0.0089413173652694, \"total_retweets\": 766.0, \"top_hashtag\": \"#trump\", \"top_hashtag_likes\": 824.0, \"id\": 34, \"states_code\": \"NJ\"}, {\"state\": \"New Jersey\", \"date\": \"2020-10-18\", \"tweet_count\": 136, \"total_likes\": 1592.0, \"sentiment_avg\": -0.050485294117647, \"total_retweets\": 1138.0, \"top_hashtag\": \"#trump\", \"top_hashtag_likes\": 1544.0, \"id\": 34, \"states_code\": \"NJ\"}, {\"state\": \"New Jersey\", \"date\": \"2020-10-19\", \"tweet_count\": 197, \"total_likes\": 576.0, \"sentiment_avg\": 0.0341634517766497, \"total_retweets\": 168.0, \"top_hashtag\": \"#trump\", \"top_hashtag_likes\": 429.0, \"id\": 34, \"states_code\": \"NJ\"}, {\"state\": \"New Jersey\", \"date\": \"2020-10-20\", \"tweet_count\": 201, \"total_likes\": 1832.0, \"sentiment_avg\": 0.0140741293532338, \"total_retweets\": 462.0, \"top_hashtag\": \"#trump\", \"top_hashtag_likes\": 1382.0, \"id\": 34, \"states_code\": \"NJ\"}, {\"state\": \"New Jersey\", \"date\": \"2020-10-21\", \"tweet_count\": 201, \"total_likes\": 829.0, \"sentiment_avg\": 0.0479532338308457, \"total_retweets\": 240.0, \"top_hashtag\": \"#trump\", \"top_hashtag_likes\": 685.0, \"id\": 34, \"states_code\": \"NJ\"}, {\"state\": \"New Jersey\", \"date\": \"2020-10-22\", \"tweet_count\": 249, \"total_likes\": 1924.0, \"sentiment_avg\": 0.0237751004016064, \"total_retweets\": 496.0, \"top_hashtag\": \"#trump\", \"top_hashtag_likes\": 1944.0, \"id\": 34, \"states_code\": \"NJ\"}, {\"state\": \"New Jersey\", \"date\": \"2020-10-23\", \"tweet_count\": 590, \"total_likes\": 8633.0, \"sentiment_avg\": 0.0331879661016949, \"total_retweets\": 2785.0, \"top_hashtag\": \"#biden\", \"top_hashtag_likes\": 6409.0, \"id\": 34, \"states_code\": \"NJ\"}, {\"state\": \"New Jersey\", \"date\": \"2020-10-24\", \"tweet_count\": 181, \"total_likes\": 284.0, \"sentiment_avg\": -0.0350790055248618, \"total_retweets\": 156.0, \"top_hashtag\": \"#biden\", \"top_hashtag_likes\": 226.0, \"id\": 34, \"states_code\": \"NJ\"}, {\"state\": \"New Jersey\", \"date\": \"2020-10-25\", \"tweet_count\": 232, \"total_likes\": 1756.0, \"sentiment_avg\": -0.2398564655172413, \"total_retweets\": 1330.0, \"top_hashtag\": \"#biden\", \"top_hashtag_likes\": 1346.0, \"id\": 34, \"states_code\": \"NJ\"}, {\"state\": \"New Jersey\", \"date\": \"2020-10-26\", \"tweet_count\": 236, \"total_likes\": 4324.0, \"sentiment_avg\": 0.0165004237288135, \"total_retweets\": 1251.0, \"top_hashtag\": \"#trump\", \"top_hashtag_likes\": 2682.0, \"id\": 34, \"states_code\": \"NJ\"}, {\"state\": \"New Jersey\", \"date\": \"2020-10-27\", \"tweet_count\": 236, \"total_likes\": 2414.0, \"sentiment_avg\": 0.0245483050847457, \"total_retweets\": 1433.0, \"top_hashtag\": \"#biden\", \"top_hashtag_likes\": 1858.0, \"id\": 34, \"states_code\": \"NJ\"}, {\"state\": \"New Jersey\", \"date\": \"2020-10-28\", \"tweet_count\": 260, \"total_likes\": 1208.0, \"sentiment_avg\": 0.0049080769230769, \"total_retweets\": 295.0, \"top_hashtag\": \"#trump\", \"top_hashtag_likes\": 1086.0, \"id\": 34, \"states_code\": \"NJ\"}, {\"state\": \"New Jersey\", \"date\": \"2020-10-29\", \"tweet_count\": 201, \"total_likes\": 2331.0, \"sentiment_avg\": -0.0160054726368159, \"total_retweets\": 947.0, \"top_hashtag\": \"#trump\", \"top_hashtag_likes\": 1559.0, \"id\": 34, \"states_code\": \"NJ\"}, {\"state\": \"New Jersey\", \"date\": \"2020-10-30\", \"tweet_count\": 244, \"total_likes\": 3320.0, \"sentiment_avg\": -0.0394979508196721, \"total_retweets\": 2134.0, \"top_hashtag\": \"#biden\", \"top_hashtag_likes\": 2375.0, \"id\": 34, \"states_code\": \"NJ\"}, {\"state\": \"New Jersey\", \"date\": \"2020-10-31\", \"tweet_count\": 245, \"total_likes\": 1342.0, \"sentiment_avg\": -0.029774693877551, \"total_retweets\": 361.0, \"top_hashtag\": \"#trump\", \"top_hashtag_likes\": 1246.0, \"id\": 34, \"states_code\": \"NJ\"}, {\"state\": \"New Jersey\", \"date\": \"2020-11-01\", \"tweet_count\": 413, \"total_likes\": 944.0, \"sentiment_avg\": 0.0091547215496368, \"total_retweets\": 142.0, \"top_hashtag\": \"#trump\", \"top_hashtag_likes\": 640.0, \"id\": 34, \"states_code\": \"NJ\"}, {\"state\": \"New Jersey\", \"date\": \"2020-11-02\", \"tweet_count\": 366, \"total_likes\": 2402.0, \"sentiment_avg\": -0.0038612021857923, \"total_retweets\": 1181.0, \"top_hashtag\": \"#biden\", \"top_hashtag_likes\": 1308.0, \"id\": 34, \"states_code\": \"NJ\"}, {\"state\": \"New Jersey\", \"date\": \"2020-11-03\", \"tweet_count\": 378, \"total_likes\": 2142.0, \"sentiment_avg\": 0.1175798941798941, \"total_retweets\": 741.0, \"top_hashtag\": \"#trump\", \"top_hashtag_likes\": 1781.0, \"id\": 34, \"states_code\": \"NJ\"}, {\"state\": \"New Jersey\", \"date\": \"2020-11-04\", \"tweet_count\": 455, \"total_likes\": 3623.0, \"sentiment_avg\": 0.0393386813186813, \"total_retweets\": 1418.0, \"top_hashtag\": \"#biden\", \"top_hashtag_likes\": 2492.0, \"id\": 34, \"states_code\": \"NJ\"}, {\"state\": \"New Jersey\", \"date\": \"2020-11-05\", \"tweet_count\": 317, \"total_likes\": 1720.0, \"sentiment_avg\": 0.0317015772870662, \"total_retweets\": 421.0, \"top_hashtag\": \"#trump\", \"top_hashtag_likes\": 1177.0, \"id\": 34, \"states_code\": \"NJ\"}, {\"state\": \"New Jersey\", \"date\": \"2020-11-06\", \"tweet_count\": 435, \"total_likes\": 3236.0, \"sentiment_avg\": 0.0422694252873563, \"total_retweets\": 917.0, \"top_hashtag\": \"#biden\", \"top_hashtag_likes\": 2637.0, \"id\": 34, \"states_code\": \"NJ\"}, {\"state\": \"New Jersey\", \"date\": \"2020-11-07\", \"tweet_count\": 740, \"total_likes\": 6538.0, \"sentiment_avg\": 0.1369255405405405, \"total_retweets\": 1924.0, \"top_hashtag\": \"#biden\", \"top_hashtag_likes\": 5814.0, \"id\": 34, \"states_code\": \"NJ\"}, {\"state\": \"New Jersey\", \"date\": \"2020-11-08\", \"tweet_count\": 426, \"total_likes\": 5885.0, \"sentiment_avg\": 0.0753424882629108, \"total_retweets\": 1343.0, \"top_hashtag\": \"#biden\", \"top_hashtag_likes\": 3424.0, \"id\": 34, \"states_code\": \"NJ\"}, {\"state\": \"New Mexico\", \"date\": \"2020-10-15\", \"tweet_count\": 22, \"total_likes\": 15.0, \"sentiment_avg\": -0.0196272727272727, \"total_retweets\": 11.0, \"top_hashtag\": \"#biden\", \"top_hashtag_likes\": 13.0, \"id\": 35, \"states_code\": \"NM\"}, {\"state\": \"New Mexico\", \"date\": \"2020-10-16\", \"tweet_count\": 35, \"total_likes\": 28.0, \"sentiment_avg\": 0.0306885714285714, \"total_retweets\": 5.0, \"top_hashtag\": \"#biden\", \"top_hashtag_likes\": 37.0, \"id\": 35, \"states_code\": \"NM\"}, {\"state\": \"New Mexico\", \"date\": \"2020-10-17\", \"tweet_count\": 27, \"total_likes\": 48.0, \"sentiment_avg\": 0.0728518518518518, \"total_retweets\": 27.0, \"top_hashtag\": \"#biden\", \"top_hashtag_likes\": 31.0, \"id\": 35, \"states_code\": \"NM\"}, {\"state\": \"New Mexico\", \"date\": \"2020-10-18\", \"tweet_count\": 22, \"total_likes\": 14.0, \"sentiment_avg\": -0.058290909090909, \"total_retweets\": 6.0, \"top_hashtag\": \"#biden\", \"top_hashtag_likes\": 7.0, \"id\": 35, \"states_code\": \"NM\"}, {\"state\": \"New Mexico\", \"date\": \"2020-10-19\", \"tweet_count\": 15, \"total_likes\": 10.0, \"sentiment_avg\": 0.0342199999999999, \"total_retweets\": 4.0, \"top_hashtag\": \"#biden\", \"top_hashtag_likes\": 12.0, \"id\": 35, \"states_code\": \"NM\"}, {\"state\": \"New Mexico\", \"date\": \"2020-10-20\", \"tweet_count\": 23, \"total_likes\": 10.0, \"sentiment_avg\": 0.0618217391304347, \"total_retweets\": 4.0, \"top_hashtag\": \"#trump\", \"top_hashtag_likes\": 9.0, \"id\": 35, \"states_code\": \"NM\"}, {\"state\": \"New Mexico\", \"date\": \"2020-10-21\", \"tweet_count\": 15, \"total_likes\": 36.0, \"sentiment_avg\": -0.049, \"total_retweets\": 4.0, \"top_hashtag\": \"#trump\", \"top_hashtag_likes\": 35.0, \"id\": 35, \"states_code\": \"NM\"}, {\"state\": \"New Mexico\", \"date\": \"2020-10-22\", \"tweet_count\": 27, \"total_likes\": 107.0, \"sentiment_avg\": -0.0030296296296296, \"total_retweets\": 18.0, \"top_hashtag\": \"#biden\", \"top_hashtag_likes\": 100.0, \"id\": 35, \"states_code\": \"NM\"}, {\"state\": \"New Mexico\", \"date\": \"2020-10-23\", \"tweet_count\": 60, \"total_likes\": 73.0, \"sentiment_avg\": 0.0858366666666666, \"total_retweets\": 9.0, \"top_hashtag\": \"#biden\", \"top_hashtag_likes\": 54.0, \"id\": 35, \"states_code\": \"NM\"}, {\"state\": \"New Mexico\", \"date\": \"2020-10-24\", \"tweet_count\": 17, \"total_likes\": 9.0, \"sentiment_avg\": 0.0155470588235294, \"total_retweets\": 9.0, \"top_hashtag\": \"#trump\", \"top_hashtag_likes\": 9.0, \"id\": 35, \"states_code\": \"NM\"}, {\"state\": \"New Mexico\", \"date\": \"2020-10-25\", \"tweet_count\": 18, \"total_likes\": 6.0, \"sentiment_avg\": 0.0018499999999999, \"total_retweets\": 2.0, \"top_hashtag\": \"#trump\", \"top_hashtag_likes\": 5.0, \"id\": 35, \"states_code\": \"NM\"}, {\"state\": \"New Mexico\", \"date\": \"2020-10-26\", \"tweet_count\": 20, \"total_likes\": 75.0, \"sentiment_avg\": 0.00066, \"total_retweets\": 27.0, \"top_hashtag\": \"#trump\", \"top_hashtag_likes\": 71.0, \"id\": 35, \"states_code\": \"NM\"}, {\"state\": \"New Mexico\", \"date\": \"2020-10-27\", \"tweet_count\": 17, \"total_likes\": 1.0, \"sentiment_avg\": -0.0774058823529411, \"total_retweets\": 0.0, \"top_hashtag\": \"#acb\", \"top_hashtag_likes\": 1.0, \"id\": 35, \"states_code\": \"NM\"}, {\"state\": \"New Mexico\", \"date\": \"2020-10-28\", \"tweet_count\": 29, \"total_likes\": 31.0, \"sentiment_avg\": 0.0014999999999999, \"total_retweets\": 6.0, \"top_hashtag\": \"#trump\", \"top_hashtag_likes\": 29.0, \"id\": 35, \"states_code\": \"NM\"}, {\"state\": \"New Mexico\", \"date\": \"2020-10-29\", \"tweet_count\": 17, \"total_likes\": 46.0, \"sentiment_avg\": 0.0435, \"total_retweets\": 18.0, \"top_hashtag\": \"#trump\", \"top_hashtag_likes\": 46.0, \"id\": 35, \"states_code\": \"NM\"}, {\"state\": \"New Mexico\", \"date\": \"2020-10-30\", \"tweet_count\": 27, \"total_likes\": 13.0, \"sentiment_avg\": 0.0792888888888889, \"total_retweets\": 2.0, \"top_hashtag\": \"#trump\", \"top_hashtag_likes\": 9.0, \"id\": 35, \"states_code\": \"NM\"}, {\"state\": \"New Mexico\", \"date\": \"2020-10-31\", \"tweet_count\": 21, \"total_likes\": 12.0, \"sentiment_avg\": -0.1837761904761904, \"total_retweets\": 1.0, \"top_hashtag\": \"#trump\", \"top_hashtag_likes\": 8.0, \"id\": 35, \"states_code\": \"NM\"}, {\"state\": \"New Mexico\", \"date\": \"2020-11-01\", \"tweet_count\": 20, \"total_likes\": 22.0, \"sentiment_avg\": 0.1087399999999999, \"total_retweets\": 11.0, \"top_hashtag\": \"#trump\", \"top_hashtag_likes\": 17.0, \"id\": 35, \"states_code\": \"NM\"}, {\"state\": \"New Mexico\", \"date\": \"2020-11-02\", \"tweet_count\": 32, \"total_likes\": 11.0, \"sentiment_avg\": -0.009953125, \"total_retweets\": 2.0, \"top_hashtag\": \"#trump\", \"top_hashtag_likes\": 9.0, \"id\": 35, \"states_code\": \"NM\"}, {\"state\": \"New Mexico\", \"date\": \"2020-11-03\", \"tweet_count\": 33, \"total_likes\": 66.0, \"sentiment_avg\": -0.0109848484848484, \"total_retweets\": 23.0, \"top_hashtag\": \"#trump\", \"top_hashtag_likes\": 59.0, \"id\": 35, \"states_code\": \"NM\"}, {\"state\": \"New Mexico\", \"date\": \"2020-11-04\", \"tweet_count\": 65, \"total_likes\": 72.0, \"sentiment_avg\": 0.19476, \"total_retweets\": 14.0, \"top_hashtag\": \"#biden\", \"top_hashtag_likes\": 60.0, \"id\": 35, \"states_code\": \"NM\"}, {\"state\": \"New Mexico\", \"date\": \"2020-11-05\", \"tweet_count\": 31, \"total_likes\": 15.0, \"sentiment_avg\": -0.1010032258064516, \"total_retweets\": 1.0, \"top_hashtag\": \"#biden\", \"top_hashtag_likes\": 12.0, \"id\": 35, \"states_code\": \"NM\"}, {\"state\": \"New Mexico\", \"date\": \"2020-11-06\", \"tweet_count\": 55, \"total_likes\": 42.0, \"sentiment_avg\": 0.0316436363636363, \"total_retweets\": 3.0, \"top_hashtag\": \"#biden\", \"top_hashtag_likes\": 22.0, \"id\": 35, \"states_code\": \"NM\"}, {\"state\": \"New Mexico\", \"date\": \"2020-11-07\", \"tweet_count\": 99, \"total_likes\": 290.0, \"sentiment_avg\": 0.2197939393939393, \"total_retweets\": 54.0, \"top_hashtag\": \"#biden\", \"top_hashtag_likes\": 187.0, \"id\": 35, \"states_code\": \"NM\"}, {\"state\": \"New Mexico\", \"date\": \"2020-11-08\", \"tweet_count\": 54, \"total_likes\": 51.0, \"sentiment_avg\": 0.2916, \"total_retweets\": 6.0, \"top_hashtag\": \"#biden\", \"top_hashtag_likes\": 40.0, \"id\": 35, \"states_code\": \"NM\"}, {\"state\": \"New York\", \"date\": \"2020-10-15\", \"tweet_count\": 1022, \"total_likes\": 45702.0, \"sentiment_avg\": -0.0701720156555773, \"total_retweets\": 14916.0, \"top_hashtag\": \"#trump\", \"top_hashtag_likes\": 36315.0, \"id\": 36, \"states_code\": \"NY\"}, {\"state\": \"New York\", \"date\": \"2020-10-16\", \"tweet_count\": 1677, \"total_likes\": 285893.0, \"sentiment_avg\": -0.0239618366129994, \"total_retweets\": 41101.0, \"top_hashtag\": \"#biden\", \"top_hashtag_likes\": 232937.0, \"id\": 36, \"states_code\": \"NY\"}, {\"state\": \"New York\", \"date\": \"2020-10-17\", \"tweet_count\": 927, \"total_likes\": 18358.0, \"sentiment_avg\": -0.2056955771305285, \"total_retweets\": 7325.0, \"top_hashtag\": \"#trump\", \"top_hashtag_likes\": 11758.0, \"id\": 36, \"states_code\": \"NY\"}, {\"state\": \"New York\", \"date\": \"2020-10-18\", \"tweet_count\": 756, \"total_likes\": 44965.0, \"sentiment_avg\": -0.0486115079365079, \"total_retweets\": 12348.0, \"top_hashtag\": \"#trump\", \"top_hashtag_likes\": 40611.0, \"id\": 36, \"states_code\": \"NY\"}, {\"state\": \"New York\", \"date\": \"2020-10-19\", \"tweet_count\": 915, \"total_likes\": 22210.0, \"sentiment_avg\": -0.0873089617486338, \"total_retweets\": 8141.0, \"top_hashtag\": \"#trump\", \"top_hashtag_likes\": 19095.0, \"id\": 36, \"states_code\": \"NY\"}, {\"state\": \"New York\", \"date\": \"2020-10-20\", \"tweet_count\": 954, \"total_likes\": 17080.0, \"sentiment_avg\": -0.0341781970649895, \"total_retweets\": 6220.0, \"top_hashtag\": \"#biden\", \"top_hashtag_likes\": 9315.0, \"id\": 36, \"states_code\": \"NY\"}, {\"state\": \"New York\", \"date\": \"2020-10-21\", \"tweet_count\": 1086, \"total_likes\": 34140.0, \"sentiment_avg\": -0.0822898710865561, \"total_retweets\": 9437.0, \"top_hashtag\": \"#biden\", \"top_hashtag_likes\": 23080.0, \"id\": 36, \"states_code\": \"NY\"}, {\"state\": \"New York\", \"date\": \"2020-10-22\", \"tweet_count\": 1133, \"total_likes\": 15783.0, \"sentiment_avg\": -0.0240008826125331, \"total_retweets\": 4680.0, \"top_hashtag\": \"#trump\", \"top_hashtag_likes\": 11047.0, \"id\": 36, \"states_code\": \"NY\"}, {\"state\": \"New York\", \"date\": \"2020-10-23\", \"tweet_count\": 2881, \"total_likes\": 106366.0, \"sentiment_avg\": 0.0017897604998264, \"total_retweets\": 25797.0, \"top_hashtag\": \"#biden\", \"top_hashtag_likes\": 71998.0, \"id\": 36, \"states_code\": \"NY\"}, {\"state\": \"New York\", \"date\": \"2020-10-24\", \"tweet_count\": 904, \"total_likes\": 52156.0, \"sentiment_avg\": -0.0458727876106194, \"total_retweets\": 9606.0, \"top_hashtag\": \"#trump\", \"top_hashtag_likes\": 47584.0, \"id\": 36, \"states_code\": \"NY\"}, {\"state\": \"New York\", \"date\": \"2020-10-25\", \"tweet_count\": 874, \"total_likes\": 42069.0, \"sentiment_avg\": -0.0063770022883295, \"total_retweets\": 9512.0, \"top_hashtag\": \"#trump\", \"top_hashtag_likes\": 33907.0, \"id\": 36, \"states_code\": \"NY\"}, {\"state\": \"New York\", \"date\": \"2020-10-26\", \"tweet_count\": 1054, \"total_likes\": 35794.0, \"sentiment_avg\": -0.0171105313092979, \"total_retweets\": 8761.0, \"top_hashtag\": \"#trump\", \"top_hashtag_likes\": 23888.0, \"id\": 36, \"states_code\": \"NY\"}, {\"state\": \"New York\", \"date\": \"2020-10-27\", \"tweet_count\": 1222, \"total_likes\": 88486.0, \"sentiment_avg\": -0.0044436988543371, \"total_retweets\": 15583.0, \"top_hashtag\": \"#biden\", \"top_hashtag_likes\": 80967.0, \"id\": 36, \"states_code\": \"NY\"}, {\"state\": \"New York\", \"date\": \"2020-10-28\", \"tweet_count\": 1254, \"total_likes\": 18844.0, \"sentiment_avg\": 0.0041537480063795, \"total_retweets\": 5705.0, \"top_hashtag\": \"#biden\", \"top_hashtag_likes\": 13763.0, \"id\": 36, \"states_code\": \"NY\"}, {\"state\": \"New York\", \"date\": \"2020-10-29\", \"tweet_count\": 1009, \"total_likes\": 23423.0, \"sentiment_avg\": -0.0093435084241823, \"total_retweets\": 8786.0, \"top_hashtag\": \"#biden\", \"top_hashtag_likes\": 18584.0, \"id\": 36, \"states_code\": \"NY\"}, {\"state\": \"New York\", \"date\": \"2020-10-30\", \"tweet_count\": 1045, \"total_likes\": 28366.0, \"sentiment_avg\": 0.0084078468899521, \"total_retweets\": 9391.0, \"top_hashtag\": \"#trump\", \"top_hashtag_likes\": 21165.0, \"id\": 36, \"states_code\": \"NY\"}, {\"state\": \"New York\", \"date\": \"2020-10-31\", \"tweet_count\": 999, \"total_likes\": 16937.0, \"sentiment_avg\": 0.0202856856856856, \"total_retweets\": 4057.0, \"top_hashtag\": \"#trump\", \"top_hashtag_likes\": 13706.0, \"id\": 36, \"states_code\": \"NY\"}, {\"state\": \"New York\", \"date\": \"2020-11-01\", \"tweet_count\": 1350, \"total_likes\": 72683.0, \"sentiment_avg\": 0.047683037037037, \"total_retweets\": 13859.0, \"top_hashtag\": \"#biden\", \"top_hashtag_likes\": 60447.0, \"id\": 36, \"states_code\": \"NY\"}, {\"state\": \"New York\", \"date\": \"2020-11-02\", \"tweet_count\": 1615, \"total_likes\": 40525.0, \"sentiment_avg\": 0.0153682352941176, \"total_retweets\": 9095.0, \"top_hashtag\": \"#trump\", \"top_hashtag_likes\": 28862.0, \"id\": 36, \"states_code\": \"NY\"}, {\"state\": \"New York\", \"date\": \"2020-11-03\", \"tweet_count\": 1847, \"total_likes\": 48872.0, \"sentiment_avg\": 0.0824625879805089, \"total_retweets\": 8317.0, \"top_hashtag\": \"#trump\", \"top_hashtag_likes\": 37565.0, \"id\": 36, \"states_code\": \"NY\"}, {\"state\": \"New York\", \"date\": \"2020-11-04\", \"tweet_count\": 2564, \"total_likes\": 71589.0, \"sentiment_avg\": 0.0746123244929797, \"total_retweets\": 10176.0, \"top_hashtag\": \"#biden\", \"top_hashtag_likes\": 64773.0, \"id\": 36, \"states_code\": \"NY\"}, {\"state\": \"New York\", \"date\": \"2020-11-05\", \"tweet_count\": 1823, \"total_likes\": 42264.0, \"sentiment_avg\": 0.006645584201865, \"total_retweets\": 7095.0, \"top_hashtag\": \"#trump\", \"top_hashtag_likes\": 39775.0, \"id\": 36, \"states_code\": \"NY\"}, {\"state\": \"New York\", \"date\": \"2020-11-06\", \"tweet_count\": 2172, \"total_likes\": 36478.0, \"sentiment_avg\": -0.0055346224677716, \"total_retweets\": 6192.0, \"top_hashtag\": \"#trump\", \"top_hashtag_likes\": 25314.0, \"id\": 36, \"states_code\": \"NY\"}, {\"state\": \"New York\", \"date\": \"2020-11-07\", \"tweet_count\": 3453, \"total_likes\": 79540.0, \"sentiment_avg\": 0.1554809730668983, \"total_retweets\": 11492.0, \"top_hashtag\": \"#biden\", \"top_hashtag_likes\": 47035.0, \"id\": 36, \"states_code\": \"NY\"}, {\"state\": \"New York\", \"date\": \"2020-11-08\", \"tweet_count\": 2213, \"total_likes\": 103443.0, \"sentiment_avg\": 0.1462167645729778, \"total_retweets\": 9422.0, \"top_hashtag\": \"#biden\", \"top_hashtag_likes\": 95583.0, \"id\": 36, \"states_code\": \"NY\"}, {\"state\": \"North Carolina\", \"date\": \"2020-10-15\", \"tweet_count\": 204, \"total_likes\": 303.0, \"sentiment_avg\": -0.0643730392156862, \"total_retweets\": 139.0, \"top_hashtag\": \"#biden\", \"top_hashtag_likes\": 207.0, \"id\": 37, \"states_code\": \"NC\"}, {\"state\": \"North Carolina\", \"date\": \"2020-10-16\", \"tweet_count\": 213, \"total_likes\": 198.0, \"sentiment_avg\": 0.0437652582159624, \"total_retweets\": 67.0, \"top_hashtag\": \"#biden\", \"top_hashtag_likes\": 126.0, \"id\": 37, \"states_code\": \"NC\"}, {\"state\": \"North Carolina\", \"date\": \"2020-10-17\", \"tweet_count\": 143, \"total_likes\": 153.0, \"sentiment_avg\": -0.0649090909090909, \"total_retweets\": 47.0, \"top_hashtag\": \"#biden\", \"top_hashtag_likes\": 108.0, \"id\": 37, \"states_code\": \"NC\"}, {\"state\": \"North Carolina\", \"date\": \"2020-10-18\", \"tweet_count\": 128, \"total_likes\": 316.0, \"sentiment_avg\": 0.05471875, \"total_retweets\": 102.0, \"top_hashtag\": \"#biden\", \"top_hashtag_likes\": 269.0, \"id\": 37, \"states_code\": \"NC\"}, {\"state\": \"North Carolina\", \"date\": \"2020-10-19\", \"tweet_count\": 164, \"total_likes\": 182.0, \"sentiment_avg\": -0.0318768292682926, \"total_retweets\": 61.0, \"top_hashtag\": \"#biden\", \"top_hashtag_likes\": 113.0, \"id\": 37, \"states_code\": \"NC\"}, {\"state\": \"North Carolina\", \"date\": \"2020-10-20\", \"tweet_count\": 130, \"total_likes\": 134.0, \"sentiment_avg\": -0.0047253846153846, \"total_retweets\": 32.0, \"top_hashtag\": \"#trump\", \"top_hashtag_likes\": 112.0, \"id\": 37, \"states_code\": \"NC\"}, {\"state\": \"North Carolina\", \"date\": \"2020-10-21\", \"tweet_count\": 171, \"total_likes\": 325.0, \"sentiment_avg\": 0.0182719298245614, \"total_retweets\": 141.0, \"top_hashtag\": \"#trump\", \"top_hashtag_likes\": 240.0, \"id\": 37, \"states_code\": \"NC\"}, {\"state\": \"North Carolina\", \"date\": \"2020-10-22\", \"tweet_count\": 188, \"total_likes\": 444.0, \"sentiment_avg\": -0.0085021276595744, \"total_retweets\": 192.0, \"top_hashtag\": \"#biden\", \"top_hashtag_likes\": 355.0, \"id\": 37, \"states_code\": \"NC\"}, {\"state\": \"North Carolina\", \"date\": \"2020-10-23\", \"tweet_count\": 511, \"total_likes\": 1929.0, \"sentiment_avg\": 0.0175097847358121, \"total_retweets\": 665.0, \"top_hashtag\": \"#biden\", \"top_hashtag_likes\": 1429.0, \"id\": 37, \"states_code\": \"NC\"}, {\"state\": \"North Carolina\", \"date\": \"2020-10-24\", \"tweet_count\": 156, \"total_likes\": 279.0, \"sentiment_avg\": -0.0630923076923076, \"total_retweets\": 96.0, \"top_hashtag\": \"#trump\", \"top_hashtag_likes\": 168.0, \"id\": 37, \"states_code\": \"NC\"}, {\"state\": \"North Carolina\", \"date\": \"2020-10-25\", \"tweet_count\": 122, \"total_likes\": 517.0, \"sentiment_avg\": -0.0140704918032786, \"total_retweets\": 247.0, \"top_hashtag\": \"#biden\", \"top_hashtag_likes\": 341.0, \"id\": 37, \"states_code\": \"NC\"}, {\"state\": \"North Carolina\", \"date\": \"2020-10-26\", \"tweet_count\": 138, \"total_likes\": 329.0, \"sentiment_avg\": -0.0364673913043478, \"total_retweets\": 113.0, \"top_hashtag\": \"#biden\", \"top_hashtag_likes\": 204.0, \"id\": 37, \"states_code\": \"NC\"}, {\"state\": \"North Carolina\", \"date\": \"2020-10-27\", \"tweet_count\": 149, \"total_likes\": 332.0, \"sentiment_avg\": 0.0226657718120805, \"total_retweets\": 169.0, \"top_hashtag\": \"#trump\", \"top_hashtag_likes\": 182.0, \"id\": 37, \"states_code\": \"NC\"}, {\"state\": \"North Carolina\", \"date\": \"2020-10-28\", \"tweet_count\": 192, \"total_likes\": 353.0, \"sentiment_avg\": 0.0470640625, \"total_retweets\": 132.0, \"top_hashtag\": \"#trump\", \"top_hashtag_likes\": 278.0, \"id\": 37, \"states_code\": \"NC\"}, {\"state\": \"North Carolina\", \"date\": \"2020-10-29\", \"tweet_count\": 155, \"total_likes\": 200.0, \"sentiment_avg\": 0.0569645161290322, \"total_retweets\": 79.0, \"top_hashtag\": \"#trump\", \"top_hashtag_likes\": 106.0, \"id\": 37, \"states_code\": \"NC\"}, {\"state\": \"North Carolina\", \"date\": \"2020-10-30\", \"tweet_count\": 130, \"total_likes\": 4168.0, \"sentiment_avg\": 0.0601476923076923, \"total_retweets\": 720.0, \"top_hashtag\": \"#trump\", \"top_hashtag_likes\": 4131.0, \"id\": 37, \"states_code\": \"NC\"}, {\"state\": \"North Carolina\", \"date\": \"2020-10-31\", \"tweet_count\": 146, \"total_likes\": 442.0, \"sentiment_avg\": 0.0095623287671232, \"total_retweets\": 161.0, \"top_hashtag\": \"#trump\", \"top_hashtag_likes\": 356.0, \"id\": 37, \"states_code\": \"NC\"}, {\"state\": \"North Carolina\", \"date\": \"2020-11-01\", \"tweet_count\": 202, \"total_likes\": 541.0, \"sentiment_avg\": 0.0630361386138613, \"total_retweets\": 190.0, \"top_hashtag\": \"#biden\", \"top_hashtag_likes\": 371.0, \"id\": 37, \"states_code\": \"NC\"}, {\"state\": \"North Carolina\", \"date\": \"2020-11-02\", \"tweet_count\": 276, \"total_likes\": 419.0, \"sentiment_avg\": 0.0770152173913043, \"total_retweets\": 114.0, \"top_hashtag\": \"#trump\", \"top_hashtag_likes\": 320.0, \"id\": 37, \"states_code\": \"NC\"}, {\"state\": \"North Carolina\", \"date\": \"2020-11-03\", \"tweet_count\": 272, \"total_likes\": 463.0, \"sentiment_avg\": 0.1263584558823529, \"total_retweets\": 158.0, \"top_hashtag\": \"#trump\", \"top_hashtag_likes\": 344.0, \"id\": 37, \"states_code\": \"NC\"}, {\"state\": \"North Carolina\", \"date\": \"2020-11-04\", \"tweet_count\": 328, \"total_likes\": 940.0, \"sentiment_avg\": 0.0948390243902439, \"total_retweets\": 225.0, \"top_hashtag\": \"#biden\", \"top_hashtag_likes\": 815.0, \"id\": 37, \"states_code\": \"NC\"}, {\"state\": \"North Carolina\", \"date\": \"2020-11-05\", \"tweet_count\": 305, \"total_likes\": 830.0, \"sentiment_avg\": 0.0541101639344262, \"total_retweets\": 265.0, \"top_hashtag\": \"#trump\", \"top_hashtag_likes\": 732.0, \"id\": 37, \"states_code\": \"NC\"}, {\"state\": \"North Carolina\", \"date\": \"2020-11-06\", \"tweet_count\": 287, \"total_likes\": 438.0, \"sentiment_avg\": 0.0153195121951219, \"total_retweets\": 77.0, \"top_hashtag\": \"#biden\", \"top_hashtag_likes\": 290.0, \"id\": 37, \"states_code\": \"NC\"}, {\"state\": \"North Carolina\", \"date\": \"2020-11-07\", \"tweet_count\": 524, \"total_likes\": 2435.0, \"sentiment_avg\": 0.1215845419847328, \"total_retweets\": 496.0, \"top_hashtag\": \"#biden\", \"top_hashtag_likes\": 2452.0, \"id\": 37, \"states_code\": \"NC\"}, {\"state\": \"North Carolina\", \"date\": \"2020-11-08\", \"tweet_count\": 296, \"total_likes\": 1028.0, \"sentiment_avg\": 0.1523564189189189, \"total_retweets\": 208.0, \"top_hashtag\": \"#biden\", \"top_hashtag_likes\": 1060.0, \"id\": 37, \"states_code\": \"NC\"}, {\"state\": \"North Dakota\", \"date\": \"2020-10-15\", \"tweet_count\": 40, \"total_likes\": 58.0, \"sentiment_avg\": -0.0370025, \"total_retweets\": 9.0, \"top_hashtag\": \"#trump\", \"top_hashtag_likes\": 83.0, \"id\": 38, \"states_code\": \"ND\"}, {\"state\": \"North Dakota\", \"date\": \"2020-10-16\", \"tweet_count\": 39, \"total_likes\": 43.0, \"sentiment_avg\": -0.1834846153846153, \"total_retweets\": 9.0, \"top_hashtag\": \"#trump\", \"top_hashtag_likes\": 47.0, \"id\": 38, \"states_code\": \"ND\"}, {\"state\": \"North Dakota\", \"date\": \"2020-10-17\", \"tweet_count\": 11, \"total_likes\": 4.0, \"sentiment_avg\": -0.1434727272727272, \"total_retweets\": 2.0, \"top_hashtag\": \"#biden\", \"top_hashtag_likes\": 4.0, \"id\": 38, \"states_code\": \"ND\"}, {\"state\": \"North Dakota\", \"date\": \"2020-10-18\", \"tweet_count\": 10, \"total_likes\": 6.0, \"sentiment_avg\": -0.00337, \"total_retweets\": 4.0, \"top_hashtag\": \"#trump\", \"top_hashtag_likes\": 4.0, \"id\": 38, \"states_code\": \"ND\"}, {\"state\": \"North Dakota\", \"date\": \"2020-10-19\", \"tweet_count\": 17, \"total_likes\": 15.0, \"sentiment_avg\": -0.2294705882352941, \"total_retweets\": 3.0, \"top_hashtag\": \"#trump\", \"top_hashtag_likes\": 9.0, \"id\": 38, \"states_code\": \"ND\"}, {\"state\": \"North Dakota\", \"date\": \"2020-10-20\", \"tweet_count\": 11, \"total_likes\": 21.0, \"sentiment_avg\": -0.0306727272727272, \"total_retweets\": 16.0, \"top_hashtag\": \"#biden\", \"top_hashtag_likes\": 18.0, \"id\": 38, \"states_code\": \"ND\"}, {\"state\": \"North Dakota\", \"date\": \"2020-10-21\", \"tweet_count\": 34, \"total_likes\": 24.0, \"sentiment_avg\": 0.2662235294117647, \"total_retweets\": 5.0, \"top_hashtag\": \"#trump\", \"top_hashtag_likes\": 16.0, \"id\": 38, \"states_code\": \"ND\"}, {\"state\": \"North Dakota\", \"date\": \"2020-10-22\", \"tweet_count\": 45, \"total_likes\": 39.0, \"sentiment_avg\": -0.1315844444444444, \"total_retweets\": 6.0, \"top_hashtag\": \"#trump\", \"top_hashtag_likes\": 35.0, \"id\": 38, \"states_code\": \"ND\"}, {\"state\": \"North Dakota\", \"date\": \"2020-10-23\", \"tweet_count\": 56, \"total_likes\": 78.0, \"sentiment_avg\": 0.0115446428571428, \"total_retweets\": 8.0, \"top_hashtag\": \"#trump\", \"top_hashtag_likes\": 63.0, \"id\": 38, \"states_code\": \"ND\"}, {\"state\": \"North Dakota\", \"date\": \"2020-10-24\", \"tweet_count\": 11, \"total_likes\": 21.0, \"sentiment_avg\": -0.0909, \"total_retweets\": 2.0, \"top_hashtag\": \"#trump\", \"top_hashtag_likes\": 23.0, \"id\": 38, \"states_code\": \"ND\"}, {\"state\": \"North Dakota\", \"date\": \"2020-10-25\", \"tweet_count\": 5, \"total_likes\": 8.0, \"sentiment_avg\": 0.0972599999999999, \"total_retweets\": 0.0, \"top_hashtag\": \"#trump\", \"top_hashtag_likes\": 7.0, \"id\": 38, \"states_code\": \"ND\"}, {\"state\": \"North Dakota\", \"date\": \"2020-10-26\", \"tweet_count\": 30, \"total_likes\": 12.0, \"sentiment_avg\": -0.1152833333333333, \"total_retweets\": 0.0, \"top_hashtag\": \"#trumpsawhinybitch\", \"top_hashtag_likes\": 12.0, \"id\": 38, \"states_code\": \"ND\"}, {\"state\": \"North Dakota\", \"date\": \"2020-10-27\", \"tweet_count\": 22, \"total_likes\": 16.0, \"sentiment_avg\": -0.0234045454545454, \"total_retweets\": 4.0, \"top_hashtag\": \"#biden\", \"top_hashtag_likes\": 11.0, \"id\": 38, \"states_code\": \"ND\"}, {\"state\": \"North Dakota\", \"date\": \"2020-10-28\", \"tweet_count\": 25, \"total_likes\": 12.0, \"sentiment_avg\": -0.073748, \"total_retweets\": 4.0, \"top_hashtag\": \"#biden\", \"top_hashtag_likes\": 10.0, \"id\": 38, \"states_code\": \"ND\"}, {\"state\": \"North Dakota\", \"date\": \"2020-10-29\", \"tweet_count\": 17, \"total_likes\": 11.0, \"sentiment_avg\": -0.0654, \"total_retweets\": 4.0, \"top_hashtag\": \"#trump\", \"top_hashtag_likes\": 6.0, \"id\": 38, \"states_code\": \"ND\"}, {\"state\": \"North Dakota\", \"date\": \"2020-10-30\", \"tweet_count\": 25, \"total_likes\": 92.0, \"sentiment_avg\": -0.521972, \"total_retweets\": 20.0, \"top_hashtag\": \"#trump\", \"top_hashtag_likes\": 69.0, \"id\": 38, \"states_code\": \"ND\"}, {\"state\": \"North Dakota\", \"date\": \"2020-10-31\", \"tweet_count\": 14, \"total_likes\": 23.0, \"sentiment_avg\": -0.4358285714285714, \"total_retweets\": 5.0, \"top_hashtag\": \"#trump\", \"top_hashtag_likes\": 17.0, \"id\": 38, \"states_code\": \"ND\"}, {\"state\": \"North Dakota\", \"date\": \"2020-11-01\", \"tweet_count\": 17, \"total_likes\": 57.0, \"sentiment_avg\": -0.1921, \"total_retweets\": 15.0, \"top_hashtag\": \"#trump\", \"top_hashtag_likes\": 55.0, \"id\": 38, \"states_code\": \"ND\"}, {\"state\": \"North Dakota\", \"date\": \"2020-11-02\", \"tweet_count\": 24, \"total_likes\": 35.0, \"sentiment_avg\": 0.3078708333333333, \"total_retweets\": 5.0, \"top_hashtag\": \"#trump\", \"top_hashtag_likes\": 24.0, \"id\": 38, \"states_code\": \"ND\"}, {\"state\": \"North Dakota\", \"date\": \"2020-11-03\", \"tweet_count\": 31, \"total_likes\": 48.0, \"sentiment_avg\": -0.017916129032258, \"total_retweets\": 5.0, \"top_hashtag\": \"#trump\", \"top_hashtag_likes\": 44.0, \"id\": 38, \"states_code\": \"ND\"}, {\"state\": \"North Dakota\", \"date\": \"2020-11-04\", \"tweet_count\": 30, \"total_likes\": 120.0, \"sentiment_avg\": 0.1209499999999999, \"total_retweets\": 21.0, \"top_hashtag\": \"#biden\", \"top_hashtag_likes\": 109.0, \"id\": 38, \"states_code\": \"ND\"}, {\"state\": \"North Dakota\", \"date\": \"2020-11-05\", \"tweet_count\": 19, \"total_likes\": 23.0, \"sentiment_avg\": 0.013078947368421, \"total_retweets\": 0.0, \"top_hashtag\": \"#trump\", \"top_hashtag_likes\": 22.0, \"id\": 38, \"states_code\": \"ND\"}, {\"state\": \"North Dakota\", \"date\": \"2020-11-06\", \"tweet_count\": 55, \"total_likes\": 41.0, \"sentiment_avg\": -0.0860781818181818, \"total_retweets\": 6.0, \"top_hashtag\": \"#trump\", \"top_hashtag_likes\": 32.0, \"id\": 38, \"states_code\": \"ND\"}, {\"state\": \"North Dakota\", \"date\": \"2020-11-07\", \"tweet_count\": 79, \"total_likes\": 118.0, \"sentiment_avg\": 0.1157848101265822, \"total_retweets\": 18.0, \"top_hashtag\": \"#trump\", \"top_hashtag_likes\": 83.0, \"id\": 38, \"states_code\": \"ND\"}, {\"state\": \"North Dakota\", \"date\": \"2020-11-08\", \"tweet_count\": 23, \"total_likes\": 30.0, \"sentiment_avg\": 0.1412739130434782, \"total_retweets\": 5.0, \"top_hashtag\": \"#biden\", \"top_hashtag_likes\": 24.0, \"id\": 38, \"states_code\": \"ND\"}, {\"state\": \"Ohio\", \"date\": \"2020-10-15\", \"tweet_count\": 185, \"total_likes\": 313.0, \"sentiment_avg\": -0.1131075675675675, \"total_retweets\": 163.0, \"top_hashtag\": \"#biden\", \"top_hashtag_likes\": 191.0, \"id\": 39, \"states_code\": \"OH\"}, {\"state\": \"Ohio\", \"date\": \"2020-10-16\", \"tweet_count\": 283, \"total_likes\": 947.0, \"sentiment_avg\": -0.0319996466431095, \"total_retweets\": 321.0, \"top_hashtag\": \"#biden\", \"top_hashtag_likes\": 674.0, \"id\": 39, \"states_code\": \"OH\"}, {\"state\": \"Ohio\", \"date\": \"2020-10-17\", \"tweet_count\": 143, \"total_likes\": 1679.0, \"sentiment_avg\": -0.1130944055944055, \"total_retweets\": 768.0, \"top_hashtag\": \"#biden\", \"top_hashtag_likes\": 1573.0, \"id\": 39, \"states_code\": \"OH\"}, {\"state\": \"Ohio\", \"date\": \"2020-10-18\", \"tweet_count\": 145, \"total_likes\": 188.0, \"sentiment_avg\": -0.01566, \"total_retweets\": 100.0, \"top_hashtag\": \"#trump\", \"top_hashtag_likes\": 122.0, \"id\": 39, \"states_code\": \"OH\"}, {\"state\": \"Ohio\", \"date\": \"2020-10-19\", \"tweet_count\": 182, \"total_likes\": 171.0, \"sentiment_avg\": -0.0608758241758241, \"total_retweets\": 86.0, \"top_hashtag\": \"#biden\", \"top_hashtag_likes\": 109.0, \"id\": 39, \"states_code\": \"OH\"}, {\"state\": \"Ohio\", \"date\": \"2020-10-20\", \"tweet_count\": 216, \"total_likes\": 218.0, \"sentiment_avg\": -0.0510513888888888, \"total_retweets\": 72.0, \"top_hashtag\": \"#biden\", \"top_hashtag_likes\": 176.0, \"id\": 39, \"states_code\": \"OH\"}, {\"state\": \"Ohio\", \"date\": \"2020-10-21\", \"tweet_count\": 175, \"total_likes\": 380.0, \"sentiment_avg\": -0.0431085714285714, \"total_retweets\": 129.0, \"top_hashtag\": \"#biden\", \"top_hashtag_likes\": 242.0, \"id\": 39, \"states_code\": \"OH\"}, {\"state\": \"Ohio\", \"date\": \"2020-10-22\", \"tweet_count\": 233, \"total_likes\": 345.0, \"sentiment_avg\": -0.0179785407725321, \"total_retweets\": 74.0, \"top_hashtag\": \"#trump\", \"top_hashtag_likes\": 212.0, \"id\": 39, \"states_code\": \"OH\"}, {\"state\": \"Ohio\", \"date\": \"2020-10-23\", \"tweet_count\": 441, \"total_likes\": 931.0, \"sentiment_avg\": -0.0031154195011337, \"total_retweets\": 312.0, \"top_hashtag\": \"#biden\", \"top_hashtag_likes\": 868.0, \"id\": 39, \"states_code\": \"OH\"}, {\"state\": \"Ohio\", \"date\": \"2020-10-24\", \"tweet_count\": 165, \"total_likes\": 3033.0, \"sentiment_avg\": 0.0711393939393939, \"total_retweets\": 595.0, \"top_hashtag\": \"#biden\", \"top_hashtag_likes\": 2823.0, \"id\": 39, \"states_code\": \"OH\"}, {\"state\": \"Ohio\", \"date\": \"2020-10-25\", \"tweet_count\": 155, \"total_likes\": 361.0, \"sentiment_avg\": -0.0023006451612903, \"total_retweets\": 121.0, \"top_hashtag\": \"#biden\", \"top_hashtag_likes\": 316.0, \"id\": 39, \"states_code\": \"OH\"}, {\"state\": \"Ohio\", \"date\": \"2020-10-26\", \"tweet_count\": 189, \"total_likes\": 521.0, \"sentiment_avg\": -0.0231095238095238, \"total_retweets\": 116.0, \"top_hashtag\": \"#trump\", \"top_hashtag_likes\": 357.0, \"id\": 39, \"states_code\": \"OH\"}, {\"state\": \"Ohio\", \"date\": \"2020-10-27\", \"tweet_count\": 172, \"total_likes\": 132.0, \"sentiment_avg\": 0.0921116279069767, \"total_retweets\": 41.0, \"top_hashtag\": \"#trump\", \"top_hashtag_likes\": 90.0, \"id\": 39, \"states_code\": \"OH\"}, {\"state\": \"Ohio\", \"date\": \"2020-10-28\", \"tweet_count\": 217, \"total_likes\": 207.0, \"sentiment_avg\": -0.0803889400921659, \"total_retweets\": 82.0, \"top_hashtag\": \"#biden\", \"top_hashtag_likes\": 160.0, \"id\": 39, \"states_code\": \"OH\"}, {\"state\": \"Ohio\", \"date\": \"2020-10-29\", \"tweet_count\": 161, \"total_likes\": 467.0, \"sentiment_avg\": 0.003655900621118, \"total_retweets\": 95.0, \"top_hashtag\": \"#trump\", \"top_hashtag_likes\": 373.0, \"id\": 39, \"states_code\": \"OH\"}, {\"state\": \"Ohio\", \"date\": \"2020-10-30\", \"tweet_count\": 148, \"total_likes\": 481.0, \"sentiment_avg\": -0.0086932432432432, \"total_retweets\": 152.0, \"top_hashtag\": \"#trump\", \"top_hashtag_likes\": 409.0, \"id\": 39, \"states_code\": \"OH\"}, {\"state\": \"Ohio\", \"date\": \"2020-10-31\", \"tweet_count\": 170, \"total_likes\": 288.0, \"sentiment_avg\": 0.0540788235294117, \"total_retweets\": 83.0, \"top_hashtag\": \"#trump\", \"top_hashtag_likes\": 203.0, \"id\": 39, \"states_code\": \"OH\"}, {\"state\": \"Ohio\", \"date\": \"2020-11-01\", \"tweet_count\": 223, \"total_likes\": 331.0, \"sentiment_avg\": 0.0216354260089686, \"total_retweets\": 102.0, \"top_hashtag\": \"#trump\", \"top_hashtag_likes\": 198.0, \"id\": 39, \"states_code\": \"OH\"}, {\"state\": \"Ohio\", \"date\": \"2020-11-02\", \"tweet_count\": 555, \"total_likes\": 758.0, \"sentiment_avg\": 0.2332899099099099, \"total_retweets\": 388.0, \"top_hashtag\": \"#wtpblue\", \"top_hashtag_likes\": 553.0, \"id\": 39, \"states_code\": \"OH\"}, {\"state\": \"Ohio\", \"date\": \"2020-11-03\", \"tweet_count\": 486, \"total_likes\": 1039.0, \"sentiment_avg\": 0.0470703703703703, \"total_retweets\": 252.0, \"top_hashtag\": \"#trump\", \"top_hashtag_likes\": 602.0, \"id\": 39, \"states_code\": \"OH\"}, {\"state\": \"Ohio\", \"date\": \"2020-11-04\", \"tweet_count\": 500, \"total_likes\": 1738.0, \"sentiment_avg\": 0.1191578, \"total_retweets\": 144.0, \"top_hashtag\": \"#biden\", \"top_hashtag_likes\": 1040.0, \"id\": 39, \"states_code\": \"OH\"}, {\"state\": \"Ohio\", \"date\": \"2020-11-05\", \"tweet_count\": 305, \"total_likes\": 614.0, \"sentiment_avg\": -0.0358347540983606, \"total_retweets\": 76.0, \"top_hashtag\": \"#trump\", \"top_hashtag_likes\": 494.0, \"id\": 39, \"states_code\": \"OH\"}, {\"state\": \"Ohio\", \"date\": \"2020-11-06\", \"tweet_count\": 333, \"total_likes\": 627.0, \"sentiment_avg\": -0.0087738738738738, \"total_retweets\": 129.0, \"top_hashtag\": \"#biden\", \"top_hashtag_likes\": 376.0, \"id\": 39, \"states_code\": \"OH\"}, {\"state\": \"Ohio\", \"date\": \"2020-11-07\", \"tweet_count\": 526, \"total_likes\": 2313.0, \"sentiment_avg\": 0.14742072243346, \"total_retweets\": 262.0, \"top_hashtag\": \"#biden\", \"top_hashtag_likes\": 2132.0, \"id\": 39, \"states_code\": \"OH\"}, {\"state\": \"Ohio\", \"date\": \"2020-11-08\", \"tweet_count\": 317, \"total_likes\": 550.0, \"sentiment_avg\": 0.184864668769716, \"total_retweets\": 85.0, \"top_hashtag\": \"#biden\", \"top_hashtag_likes\": 387.0, \"id\": 39, \"states_code\": \"OH\"}, {\"state\": \"Oklahoma\", \"date\": \"2020-10-15\", \"tweet_count\": 26, \"total_likes\": 37.0, \"sentiment_avg\": 0.0850384615384615, \"total_retweets\": 36.0, \"top_hashtag\": \"#biden\", \"top_hashtag_likes\": 37.0, \"id\": 40, \"states_code\": \"OK\"}, {\"state\": \"Oklahoma\", \"date\": \"2020-10-16\", \"tweet_count\": 46, \"total_likes\": 79.0, \"sentiment_avg\": 0.0051391304347825, \"total_retweets\": 26.0, \"top_hashtag\": \"#biden\", \"top_hashtag_likes\": 71.0, \"id\": 40, \"states_code\": \"OK\"}, {\"state\": \"Oklahoma\", \"date\": \"2020-10-17\", \"tweet_count\": 18, \"total_likes\": 19.0, \"sentiment_avg\": 0.0957555555555555, \"total_retweets\": 15.0, \"top_hashtag\": \"#biden\", \"top_hashtag_likes\": 14.0, \"id\": 40, \"states_code\": \"OK\"}, {\"state\": \"Oklahoma\", \"date\": \"2020-10-18\", \"tweet_count\": 38, \"total_likes\": 33.0, \"sentiment_avg\": 0.0292578947368421, \"total_retweets\": 15.0, \"top_hashtag\": \"#trump\", \"top_hashtag_likes\": 28.0, \"id\": 40, \"states_code\": \"OK\"}, {\"state\": \"Oklahoma\", \"date\": \"2020-10-19\", \"tweet_count\": 28, \"total_likes\": 18.0, \"sentiment_avg\": 0.0044321428571428, \"total_retweets\": 9.0, \"top_hashtag\": \"#trump\", \"top_hashtag_likes\": 18.0, \"id\": 40, \"states_code\": \"OK\"}, {\"state\": \"Oklahoma\", \"date\": \"2020-10-20\", \"tweet_count\": 46, \"total_likes\": 65.0, \"sentiment_avg\": 0.0186195652173913, \"total_retweets\": 13.0, \"top_hashtag\": \"#biden\", \"top_hashtag_likes\": 44.0, \"id\": 40, \"states_code\": \"OK\"}, {\"state\": \"Oklahoma\", \"date\": \"2020-10-21\", \"tweet_count\": 31, \"total_likes\": 47.0, \"sentiment_avg\": -0.0590612903225806, \"total_retweets\": 34.0, \"top_hashtag\": \"#biden\", \"top_hashtag_likes\": 42.0, \"id\": 40, \"states_code\": \"OK\"}, {\"state\": \"Oklahoma\", \"date\": \"2020-10-22\", \"tweet_count\": 53, \"total_likes\": 43.0, \"sentiment_avg\": -0.0314566037735849, \"total_retweets\": 22.0, \"top_hashtag\": \"#trump\", \"top_hashtag_likes\": 40.0, \"id\": 40, \"states_code\": \"OK\"}, {\"state\": \"Oklahoma\", \"date\": \"2020-10-23\", \"tweet_count\": 96, \"total_likes\": 102.0, \"sentiment_avg\": -0.0550416666666666, \"total_retweets\": 27.0, \"top_hashtag\": \"#biden\", \"top_hashtag_likes\": 91.0, \"id\": 40, \"states_code\": \"OK\"}, {\"state\": \"Oklahoma\", \"date\": \"2020-10-24\", \"tweet_count\": 37, \"total_likes\": 51.0, \"sentiment_avg\": 0.1266621621621621, \"total_retweets\": 24.0, \"top_hashtag\": \"#biden\", \"top_hashtag_likes\": 33.0, \"id\": 40, \"states_code\": \"OK\"}, {\"state\": \"Oklahoma\", \"date\": \"2020-10-25\", \"tweet_count\": 26, \"total_likes\": 29.0, \"sentiment_avg\": -0.0032961538461538, \"total_retweets\": 12.0, \"top_hashtag\": \"#trump\", \"top_hashtag_likes\": 25.0, \"id\": 40, \"states_code\": \"OK\"}, {\"state\": \"Oklahoma\", \"date\": \"2020-10-26\", \"tweet_count\": 55, \"total_likes\": 111.0, \"sentiment_avg\": -0.0027690909090909, \"total_retweets\": 43.0, \"top_hashtag\": \"#trump\", \"top_hashtag_likes\": 124.0, \"id\": 40, \"states_code\": \"OK\"}, {\"state\": \"Oklahoma\", \"date\": \"2020-10-27\", \"tweet_count\": 38, \"total_likes\": 16.0, \"sentiment_avg\": -0.1135342105263157, \"total_retweets\": 6.0, \"top_hashtag\": \"#trump\", \"top_hashtag_likes\": 11.0, \"id\": 40, \"states_code\": \"OK\"}, {\"state\": \"Oklahoma\", \"date\": \"2020-10-28\", \"tweet_count\": 51, \"total_likes\": 36.0, \"sentiment_avg\": -0.0691823529411764, \"total_retweets\": 6.0, \"top_hashtag\": \"#trump\", \"top_hashtag_likes\": 24.0, \"id\": 40, \"states_code\": \"OK\"}, {\"state\": \"Oklahoma\", \"date\": \"2020-10-29\", \"tweet_count\": 43, \"total_likes\": 63.0, \"sentiment_avg\": -0.0714139534883721, \"total_retweets\": 38.0, \"top_hashtag\": \"#biden\", \"top_hashtag_likes\": 33.0, \"id\": 40, \"states_code\": \"OK\"}, {\"state\": \"Oklahoma\", \"date\": \"2020-10-30\", \"tweet_count\": 44, \"total_likes\": 102.0, \"sentiment_avg\": -0.0522181818181818, \"total_retweets\": 37.0, \"top_hashtag\": \"#biden\", \"top_hashtag_likes\": 67.0, \"id\": 40, \"states_code\": \"OK\"}, {\"state\": \"Oklahoma\", \"date\": \"2020-10-31\", \"tweet_count\": 46, \"total_likes\": 29.0, \"sentiment_avg\": -0.1627608695652174, \"total_retweets\": 16.0, \"top_hashtag\": \"#trump\", \"top_hashtag_likes\": 30.0, \"id\": 40, \"states_code\": \"OK\"}, {\"state\": \"Oklahoma\", \"date\": \"2020-11-01\", \"tweet_count\": 62, \"total_likes\": 69.0, \"sentiment_avg\": -0.0988225806451612, \"total_retweets\": 31.0, \"top_hashtag\": \"#trump\", \"top_hashtag_likes\": 71.0, \"id\": 40, \"states_code\": \"OK\"}, {\"state\": \"Oklahoma\", \"date\": \"2020-11-02\", \"tweet_count\": 70, \"total_likes\": 101.0, \"sentiment_avg\": 0.1018242857142857, \"total_retweets\": 33.0, \"top_hashtag\": \"#biden\", \"top_hashtag_likes\": 88.0, \"id\": 40, \"states_code\": \"OK\"}, {\"state\": \"Oklahoma\", \"date\": \"2020-11-03\", \"tweet_count\": 75, \"total_likes\": 79.0, \"sentiment_avg\": 0.065476, \"total_retweets\": 13.0, \"top_hashtag\": \"#trump\", \"top_hashtag_likes\": 69.0, \"id\": 40, \"states_code\": \"OK\"}, {\"state\": \"Oklahoma\", \"date\": \"2020-11-04\", \"tweet_count\": 81, \"total_likes\": 268.0, \"sentiment_avg\": 0.1020691358024691, \"total_retweets\": 44.0, \"top_hashtag\": \"#biden\", \"top_hashtag_likes\": 252.0, \"id\": 40, \"states_code\": \"OK\"}, {\"state\": \"Oklahoma\", \"date\": \"2020-11-05\", \"tweet_count\": 80, \"total_likes\": 99.0, \"sentiment_avg\": -0.045015, \"total_retweets\": 36.0, \"top_hashtag\": \"#trump\", \"top_hashtag_likes\": 80.0, \"id\": 40, \"states_code\": \"OK\"}, {\"state\": \"Oklahoma\", \"date\": \"2020-11-06\", \"tweet_count\": 72, \"total_likes\": 172.0, \"sentiment_avg\": 0.0836152777777777, \"total_retweets\": 57.0, \"top_hashtag\": \"#trump\", \"top_hashtag_likes\": 176.0, \"id\": 40, \"states_code\": \"OK\"}, {\"state\": \"Oklahoma\", \"date\": \"2020-11-07\", \"tweet_count\": 140, \"total_likes\": 449.0, \"sentiment_avg\": 0.1541314285714285, \"total_retweets\": 145.0, \"top_hashtag\": \"#trump\", \"top_hashtag_likes\": 345.0, \"id\": 40, \"states_code\": \"OK\"}, {\"state\": \"Oklahoma\", \"date\": \"2020-11-08\", \"tweet_count\": 102, \"total_likes\": 325.0, \"sentiment_avg\": 0.0826872549019607, \"total_retweets\": 78.0, \"top_hashtag\": \"#trump\", \"top_hashtag_likes\": 206.0, \"id\": 40, \"states_code\": \"OK\"}, {\"state\": \"Oregon\", \"date\": \"2020-10-15\", \"tweet_count\": 179, \"total_likes\": 339.0, \"sentiment_avg\": 0.0099608938547486, \"total_retweets\": 179.0, \"top_hashtag\": \"#biden\", \"top_hashtag_likes\": 215.0, \"id\": 41, \"states_code\": \"OR\"}, {\"state\": \"Oregon\", \"date\": \"2020-10-16\", \"tweet_count\": 270, \"total_likes\": 503.0, \"sentiment_avg\": -0.0852492592592592, \"total_retweets\": 201.0, \"top_hashtag\": \"#biden\", \"top_hashtag_likes\": 315.0, \"id\": 41, \"states_code\": \"OR\"}, {\"state\": \"Oregon\", \"date\": \"2020-10-17\", \"tweet_count\": 131, \"total_likes\": 255.0, \"sentiment_avg\": 0.0280832061068702, \"total_retweets\": 136.0, \"top_hashtag\": \"#biden\", \"top_hashtag_likes\": 153.0, \"id\": 41, \"states_code\": \"OR\"}, {\"state\": \"Oregon\", \"date\": \"2020-10-18\", \"tweet_count\": 141, \"total_likes\": 645.0, \"sentiment_avg\": -0.1131510638297872, \"total_retweets\": 278.0, \"top_hashtag\": \"#biden\", \"top_hashtag_likes\": 597.0, \"id\": 41, \"states_code\": \"OR\"}, {\"state\": \"Oregon\", \"date\": \"2020-10-19\", \"tweet_count\": 158, \"total_likes\": 839.0, \"sentiment_avg\": -0.1125215189873417, \"total_retweets\": 451.0, \"top_hashtag\": \"#biden\", \"top_hashtag_likes\": 811.0, \"id\": 41, \"states_code\": \"OR\"}, {\"state\": \"Oregon\", \"date\": \"2020-10-20\", \"tweet_count\": 206, \"total_likes\": 240.0, \"sentiment_avg\": 0.139802427184466, \"total_retweets\": 100.0, \"top_hashtag\": \"#trump\", \"top_hashtag_likes\": 164.0, \"id\": 41, \"states_code\": \"OR\"}, {\"state\": \"Oregon\", \"date\": \"2020-10-21\", \"tweet_count\": 255, \"total_likes\": 456.0, \"sentiment_avg\": -0.0366627450980392, \"total_retweets\": 282.0, \"top_hashtag\": \"#trump\", \"top_hashtag_likes\": 333.0, \"id\": 41, \"states_code\": \"OR\"}, {\"state\": \"Oregon\", \"date\": \"2020-10-22\", \"tweet_count\": 176, \"total_likes\": 601.0, \"sentiment_avg\": -0.0503323863636363, \"total_retweets\": 228.0, \"top_hashtag\": \"#biden\", \"top_hashtag_likes\": 500.0, \"id\": 41, \"states_code\": \"OR\"}, {\"state\": \"Oregon\", \"date\": \"2020-10-23\", \"tweet_count\": 424, \"total_likes\": 576.0, \"sentiment_avg\": -0.0032202830188679, \"total_retweets\": 263.0, \"top_hashtag\": \"#biden\", \"top_hashtag_likes\": 453.0, \"id\": 41, \"states_code\": \"OR\"}, {\"state\": \"Oregon\", \"date\": \"2020-10-24\", \"tweet_count\": 131, \"total_likes\": 385.0, \"sentiment_avg\": -0.1241129770992366, \"total_retweets\": 109.0, \"top_hashtag\": \"#biden\", \"top_hashtag_likes\": 328.0, \"id\": 41, \"states_code\": \"OR\"}, {\"state\": \"Oregon\", \"date\": \"2020-10-25\", \"tweet_count\": 163, \"total_likes\": 466.0, \"sentiment_avg\": -0.0633699386503067, \"total_retweets\": 159.0, \"top_hashtag\": \"#biden\", \"top_hashtag_likes\": 418.0, \"id\": 41, \"states_code\": \"OR\"}, {\"state\": \"Oregon\", \"date\": \"2020-10-26\", \"tweet_count\": 172, \"total_likes\": 394.0, \"sentiment_avg\": -0.1120145348837209, \"total_retweets\": 170.0, \"top_hashtag\": \"#biden\", \"top_hashtag_likes\": 353.0, \"id\": 41, \"states_code\": \"OR\"}, {\"state\": \"Oregon\", \"date\": \"2020-10-27\", \"tweet_count\": 161, \"total_likes\": 480.0, \"sentiment_avg\": -0.1311217391304348, \"total_retweets\": 105.0, \"top_hashtag\": \"#biden\", \"top_hashtag_likes\": 425.0, \"id\": 41, \"states_code\": \"OR\"}, {\"state\": \"Oregon\", \"date\": \"2020-10-28\", \"tweet_count\": 173, \"total_likes\": 415.0, \"sentiment_avg\": -0.2096329479768786, \"total_retweets\": 140.0, \"top_hashtag\": \"#biden\", \"top_hashtag_likes\": 360.0, \"id\": 41, \"states_code\": \"OR\"}, {\"state\": \"Oregon\", \"date\": \"2020-10-29\", \"tweet_count\": 128, \"total_likes\": 1435.0, \"sentiment_avg\": -0.0589234375, \"total_retweets\": 479.0, \"top_hashtag\": \"#biden\", \"top_hashtag_likes\": 1386.0, \"id\": 41, \"states_code\": \"OR\"}, {\"state\": \"Oregon\", \"date\": \"2020-10-30\", \"tweet_count\": 138, \"total_likes\": 697.0, \"sentiment_avg\": -0.0998659420289855, \"total_retweets\": 200.0, \"top_hashtag\": \"#biden\", \"top_hashtag_likes\": 652.0, \"id\": 41, \"states_code\": \"OR\"}, {\"state\": \"Oregon\", \"date\": \"2020-10-31\", \"tweet_count\": 127, \"total_likes\": 378.0, \"sentiment_avg\": 0.0523645669291338, \"total_retweets\": 126.0, \"top_hashtag\": \"#biden\", \"top_hashtag_likes\": 327.0, \"id\": 41, \"states_code\": \"OR\"}, {\"state\": \"Oregon\", \"date\": \"2020-11-01\", \"tweet_count\": 177, \"total_likes\": 683.0, \"sentiment_avg\": -0.0619039548022598, \"total_retweets\": 260.0, \"top_hashtag\": \"#biden\", \"top_hashtag_likes\": 623.0, \"id\": 41, \"states_code\": \"OR\"}, {\"state\": \"Oregon\", \"date\": \"2020-11-02\", \"tweet_count\": 171, \"total_likes\": 493.0, \"sentiment_avg\": 0.0046304093567251, \"total_retweets\": 200.0, \"top_hashtag\": \"#biden\", \"top_hashtag_likes\": 408.0, \"id\": 41, \"states_code\": \"OR\"}, {\"state\": \"Oregon\", \"date\": \"2020-11-03\", \"tweet_count\": 243, \"total_likes\": 2120.0, \"sentiment_avg\": 0.1028975308641975, \"total_retweets\": 413.0, \"top_hashtag\": \"#biden\", \"top_hashtag_likes\": 1870.0, \"id\": 41, \"states_code\": \"OR\"}, {\"state\": \"Oregon\", \"date\": \"2020-11-04\", \"tweet_count\": 206, \"total_likes\": 688.0, \"sentiment_avg\": 0.0944771844660194, \"total_retweets\": 109.0, \"top_hashtag\": \"#biden\", \"top_hashtag_likes\": 560.0, \"id\": 41, \"states_code\": \"OR\"}, {\"state\": \"Oregon\", \"date\": \"2020-11-05\", \"tweet_count\": 182, \"total_likes\": 214.0, \"sentiment_avg\": -0.0408203296703296, \"total_retweets\": 35.0, \"top_hashtag\": \"#trump\", \"top_hashtag_likes\": 169.0, \"id\": 41, \"states_code\": \"OR\"}, {\"state\": \"Oregon\", \"date\": \"2020-11-06\", \"tweet_count\": 209, \"total_likes\": 390.0, \"sentiment_avg\": -0.0513330143540669, \"total_retweets\": 81.0, \"top_hashtag\": \"#trump\", \"top_hashtag_likes\": 239.0, \"id\": 41, \"states_code\": \"OR\"}, {\"state\": \"Oregon\", \"date\": \"2020-11-07\", \"tweet_count\": 333, \"total_likes\": 827.0, \"sentiment_avg\": 0.2385117117117117, \"total_retweets\": 138.0, \"top_hashtag\": \"#biden\", \"top_hashtag_likes\": 679.0, \"id\": 41, \"states_code\": \"OR\"}, {\"state\": \"Oregon\", \"date\": \"2020-11-08\", \"tweet_count\": 237, \"total_likes\": 243.0, \"sentiment_avg\": 0.2013113924050633, \"total_retweets\": 54.0, \"top_hashtag\": \"#biden\", \"top_hashtag_likes\": 168.0, \"id\": 41, \"states_code\": \"OR\"}, {\"state\": \"Pennsylvania\", \"date\": \"2020-10-15\", \"tweet_count\": 252, \"total_likes\": 357.0, \"sentiment_avg\": -0.0613777777777777, \"total_retweets\": 125.0, \"top_hashtag\": \"#trump\", \"top_hashtag_likes\": 324.0, \"id\": 42, \"states_code\": \"PA\"}, {\"state\": \"Pennsylvania\", \"date\": \"2020-10-16\", \"tweet_count\": 443, \"total_likes\": 2095.0, \"sentiment_avg\": 0.0512812641083521, \"total_retweets\": 529.0, \"top_hashtag\": \"#trump\", \"top_hashtag_likes\": 1437.0, \"id\": 42, \"states_code\": \"PA\"}, {\"state\": \"Pennsylvania\", \"date\": \"2020-10-17\", \"tweet_count\": 249, \"total_likes\": 596.0, \"sentiment_avg\": -0.0348650602409638, \"total_retweets\": 196.0, \"top_hashtag\": \"#trump\", \"top_hashtag_likes\": 458.0, \"id\": 42, \"states_code\": \"PA\"}, {\"state\": \"Pennsylvania\", \"date\": \"2020-10-18\", \"tweet_count\": 224, \"total_likes\": 335.0, \"sentiment_avg\": -0.1019995535714285, \"total_retweets\": 168.0, \"top_hashtag\": \"#trump\", \"top_hashtag_likes\": 216.0, \"id\": 42, \"states_code\": \"PA\"}, {\"state\": \"Pennsylvania\", \"date\": \"2020-10-19\", \"tweet_count\": 312, \"total_likes\": 902.0, \"sentiment_avg\": -0.0914935897435897, \"total_retweets\": 286.0, \"top_hashtag\": \"#trump\", \"top_hashtag_likes\": 742.0, \"id\": 42, \"states_code\": \"PA\"}, {\"state\": \"Pennsylvania\", \"date\": \"2020-10-20\", \"tweet_count\": 366, \"total_likes\": 625.0, \"sentiment_avg\": -0.1699986338797814, \"total_retweets\": 230.0, \"top_hashtag\": \"#trump\", \"top_hashtag_likes\": 535.0, \"id\": 42, \"states_code\": \"PA\"}, {\"state\": \"Pennsylvania\", \"date\": \"2020-10-21\", \"tweet_count\": 305, \"total_likes\": 416.0, \"sentiment_avg\": -0.1315652459016393, \"total_retweets\": 119.0, \"top_hashtag\": \"#biden\", \"top_hashtag_likes\": 281.0, \"id\": 42, \"states_code\": \"PA\"}, {\"state\": \"Pennsylvania\", \"date\": \"2020-10-22\", \"tweet_count\": 349, \"total_likes\": 960.0, \"sentiment_avg\": 0.0133469914040114, \"total_retweets\": 288.0, \"top_hashtag\": \"#trump\", \"top_hashtag_likes\": 905.0, \"id\": 42, \"states_code\": \"PA\"}, {\"state\": \"Pennsylvania\", \"date\": \"2020-10-23\", \"tweet_count\": 756, \"total_likes\": 7024.0, \"sentiment_avg\": 0.0297654761904761, \"total_retweets\": 1121.0, \"top_hashtag\": \"#trump\", \"top_hashtag_likes\": 6205.0, \"id\": 42, \"states_code\": \"PA\"}, {\"state\": \"Pennsylvania\", \"date\": \"2020-10-24\", \"tweet_count\": 296, \"total_likes\": 1099.0, \"sentiment_avg\": -0.096354054054054, \"total_retweets\": 332.0, \"top_hashtag\": \"#biden\", \"top_hashtag_likes\": 747.0, \"id\": 42, \"states_code\": \"PA\"}, {\"state\": \"Pennsylvania\", \"date\": \"2020-10-25\", \"tweet_count\": 267, \"total_likes\": 1238.0, \"sentiment_avg\": -0.0248853932584269, \"total_retweets\": 534.0, \"top_hashtag\": \"#biden\", \"top_hashtag_likes\": 1032.0, \"id\": 42, \"states_code\": \"PA\"}, {\"state\": \"Pennsylvania\", \"date\": \"2020-10-26\", \"tweet_count\": 454, \"total_likes\": 1252.0, \"sentiment_avg\": 0.1250022026431718, \"total_retweets\": 343.0, \"top_hashtag\": \"#biden\", \"top_hashtag_likes\": 1042.0, \"id\": 42, \"states_code\": \"PA\"}, {\"state\": \"Pennsylvania\", \"date\": \"2020-10-27\", \"tweet_count\": 331, \"total_likes\": 749.0, \"sentiment_avg\": -0.0029259818731117, \"total_retweets\": 163.0, \"top_hashtag\": \"#trump\", \"top_hashtag_likes\": 452.0, \"id\": 42, \"states_code\": \"PA\"}, {\"state\": \"Pennsylvania\", \"date\": \"2020-10-28\", \"tweet_count\": 436, \"total_likes\": 1336.0, \"sentiment_avg\": -0.2391555045871559, \"total_retweets\": 268.0, \"top_hashtag\": \"#biden\", \"top_hashtag_likes\": 1142.0, \"id\": 42, \"states_code\": \"PA\"}, {\"state\": \"Pennsylvania\", \"date\": \"2020-10-29\", \"tweet_count\": 463, \"total_likes\": 666.0, \"sentiment_avg\": -0.1911330453563715, \"total_retweets\": 202.0, \"top_hashtag\": \"#trump\", \"top_hashtag_likes\": 588.0, \"id\": 42, \"states_code\": \"PA\"}, {\"state\": \"Pennsylvania\", \"date\": \"2020-10-30\", \"tweet_count\": 265, \"total_likes\": 1599.0, \"sentiment_avg\": -0.0269094339622641, \"total_retweets\": 571.0, \"top_hashtag\": \"#trump\", \"top_hashtag_likes\": 1235.0, \"id\": 42, \"states_code\": \"PA\"}, {\"state\": \"Pennsylvania\", \"date\": \"2020-10-31\", \"tweet_count\": 272, \"total_likes\": 930.0, \"sentiment_avg\": -0.0562470588235294, \"total_retweets\": 239.0, \"top_hashtag\": \"#trump\", \"top_hashtag_likes\": 518.0, \"id\": 42, \"states_code\": \"PA\"}, {\"state\": \"Pennsylvania\", \"date\": \"2020-11-01\", \"tweet_count\": 372, \"total_likes\": 1344.0, \"sentiment_avg\": 0.0019045698924731, \"total_retweets\": 216.0, \"top_hashtag\": \"#biden\", \"top_hashtag_likes\": 1063.0, \"id\": 42, \"states_code\": \"PA\"}, {\"state\": \"Pennsylvania\", \"date\": \"2020-11-02\", \"tweet_count\": 528, \"total_likes\": 1934.0, \"sentiment_avg\": -0.05010625, \"total_retweets\": 425.0, \"top_hashtag\": \"#biden\", \"top_hashtag_likes\": 1243.0, \"id\": 42, \"states_code\": \"PA\"}, {\"state\": \"Pennsylvania\", \"date\": \"2020-11-03\", \"tweet_count\": 546, \"total_likes\": 5377.0, \"sentiment_avg\": 0.0905957875457875, \"total_retweets\": 1344.0, \"top_hashtag\": \"#vote\", \"top_hashtag_likes\": 3384.0, \"id\": 42, \"states_code\": \"PA\"}, {\"state\": \"Pennsylvania\", \"date\": \"2020-11-04\", \"tweet_count\": 620, \"total_likes\": 8082.0, \"sentiment_avg\": 0.0933535483870967, \"total_retweets\": 1004.0, \"top_hashtag\": \"#biden\", \"top_hashtag_likes\": 5241.0, \"id\": 42, \"states_code\": \"PA\"}, {\"state\": \"Pennsylvania\", \"date\": \"2020-11-05\", \"tweet_count\": 488, \"total_likes\": 5052.0, \"sentiment_avg\": 0.0062407786885245, \"total_retweets\": 583.0, \"top_hashtag\": \"#biden\", \"top_hashtag_likes\": 4353.0, \"id\": 42, \"states_code\": \"PA\"}, {\"state\": \"Pennsylvania\", \"date\": \"2020-11-06\", \"tweet_count\": 657, \"total_likes\": 4919.0, \"sentiment_avg\": -0.005393607305936, \"total_retweets\": 642.0, \"top_hashtag\": \"#biden\", \"top_hashtag_likes\": 3474.0, \"id\": 42, \"states_code\": \"PA\"}, {\"state\": \"Pennsylvania\", \"date\": \"2020-11-07\", \"tweet_count\": 829, \"total_likes\": 9358.0, \"sentiment_avg\": 0.1146501809408926, \"total_retweets\": 1859.0, \"top_hashtag\": \"#election2020\", \"top_hashtag_likes\": 6384.0, \"id\": 42, \"states_code\": \"PA\"}, {\"state\": \"Pennsylvania\", \"date\": \"2020-11-08\", \"tweet_count\": 643, \"total_likes\": 2197.0, \"sentiment_avg\": 0.1353802488335925, \"total_retweets\": 412.0, \"top_hashtag\": \"#biden\", \"top_hashtag_likes\": 1315.0, \"id\": 42, \"states_code\": \"PA\"}, {\"state\": \"Puerto Rico\", \"date\": \"2020-10-15\", \"tweet_count\": 12, \"total_likes\": 23.0, \"sentiment_avg\": 0.1823, \"total_retweets\": 6.0, \"top_hashtag\": \"#biden\", \"top_hashtag_likes\": 19.0, \"id\": 72, \"states_code\": \"PR\"}, {\"state\": \"Puerto Rico\", \"date\": \"2020-10-16\", \"tweet_count\": 21, \"total_likes\": 33.0, \"sentiment_avg\": 0.1373523809523809, \"total_retweets\": 3.0, \"top_hashtag\": \"#trump\", \"top_hashtag_likes\": 30.0, \"id\": 72, \"states_code\": \"PR\"}, {\"state\": \"Puerto Rico\", \"date\": \"2020-10-17\", \"tweet_count\": 11, \"total_likes\": 5.0, \"sentiment_avg\": -0.0376727272727272, \"total_retweets\": 1.0, \"top_hashtag\": \"#biden\", \"top_hashtag_likes\": 3.0, \"id\": 72, \"states_code\": \"PR\"}, {\"state\": \"Puerto Rico\", \"date\": \"2020-10-18\", \"tweet_count\": 8, \"total_likes\": 81.0, \"sentiment_avg\": -0.2977, \"total_retweets\": 38.0, \"top_hashtag\": \"#trump\", \"top_hashtag_likes\": 81.0, \"id\": 72, \"states_code\": \"PR\"}, {\"state\": \"Puerto Rico\", \"date\": \"2020-10-19\", \"tweet_count\": 18, \"total_likes\": 12.0, \"sentiment_avg\": -0.3512111111111111, \"total_retweets\": 0.0, \"top_hashtag\": \"#horrible\", \"top_hashtag_likes\": 20.0, \"id\": 72, \"states_code\": \"PR\"}, {\"state\": \"Puerto Rico\", \"date\": \"2020-10-20\", \"tweet_count\": 18, \"total_likes\": 33.0, \"sentiment_avg\": 0.0935555555555555, \"total_retweets\": 10.0, \"top_hashtag\": \"#trump\", \"top_hashtag_likes\": 27.0, \"id\": 72, \"states_code\": \"PR\"}, {\"state\": \"Puerto Rico\", \"date\": \"2020-10-21\", \"tweet_count\": 16, \"total_likes\": 22.0, \"sentiment_avg\": 0.1085875, \"total_retweets\": 7.0, \"top_hashtag\": \"#biden\", \"top_hashtag_likes\": 18.0, \"id\": 72, \"states_code\": \"PR\"}, {\"state\": \"Puerto Rico\", \"date\": \"2020-10-22\", \"tweet_count\": 14, \"total_likes\": 10.0, \"sentiment_avg\": -0.1116142857142857, \"total_retweets\": 3.0, \"top_hashtag\": \"#biden\", \"top_hashtag_likes\": 5.0, \"id\": 72, \"states_code\": \"PR\"}, {\"state\": \"Puerto Rico\", \"date\": \"2020-10-23\", \"tweet_count\": 43, \"total_likes\": 50.0, \"sentiment_avg\": -0.0489906976744186, \"total_retweets\": 8.0, \"top_hashtag\": \"#trump\", \"top_hashtag_likes\": 47.0, \"id\": 72, \"states_code\": \"PR\"}, {\"state\": \"Puerto Rico\", \"date\": \"2020-10-24\", \"tweet_count\": 17, \"total_likes\": 5.0, \"sentiment_avg\": -0.3134411764705882, \"total_retweets\": 3.0, \"top_hashtag\": \"#trump\", \"top_hashtag_likes\": 4.0, \"id\": 72, \"states_code\": \"PR\"}, {\"state\": \"Puerto Rico\", \"date\": \"2020-10-25\", \"tweet_count\": 24, \"total_likes\": 14.0, \"sentiment_avg\": 0.0001499999999999, \"total_retweets\": 4.0, \"top_hashtag\": \"#trump\", \"top_hashtag_likes\": 9.0, \"id\": 72, \"states_code\": \"PR\"}, {\"state\": \"Puerto Rico\", \"date\": \"2020-10-26\", \"tweet_count\": 22, \"total_likes\": 38.0, \"sentiment_avg\": -0.1290318181818182, \"total_retweets\": 10.0, \"top_hashtag\": \"#trump\", \"top_hashtag_likes\": 36.0, \"id\": 72, \"states_code\": \"PR\"}, {\"state\": \"Puerto Rico\", \"date\": \"2020-10-27\", \"tweet_count\": 23, \"total_likes\": 36.0, \"sentiment_avg\": -0.1128782608695652, \"total_retweets\": 16.0, \"top_hashtag\": \"#trump\", \"top_hashtag_likes\": 35.0, \"id\": 72, \"states_code\": \"PR\"}, {\"state\": \"Puerto Rico\", \"date\": \"2020-10-28\", \"tweet_count\": 27, \"total_likes\": 19.0, \"sentiment_avg\": 0.1666296296296296, \"total_retweets\": 9.0, \"top_hashtag\": \"#trump\", \"top_hashtag_likes\": 18.0, \"id\": 72, \"states_code\": \"PR\"}, {\"state\": \"Puerto Rico\", \"date\": \"2020-10-29\", \"tweet_count\": 21, \"total_likes\": 10.0, \"sentiment_avg\": -0.0795666666666666, \"total_retweets\": 1.0, \"top_hashtag\": \"#biden\", \"top_hashtag_likes\": 9.0, \"id\": 72, \"states_code\": \"PR\"}, {\"state\": \"Puerto Rico\", \"date\": \"2020-10-30\", \"tweet_count\": 14, \"total_likes\": 9.0, \"sentiment_avg\": -0.1645642857142857, \"total_retweets\": 6.0, \"top_hashtag\": \"#trump\", \"top_hashtag_likes\": 10.0, \"id\": 72, \"states_code\": \"PR\"}, {\"state\": \"Puerto Rico\", \"date\": \"2020-10-31\", \"tweet_count\": 14, \"total_likes\": 34.0, \"sentiment_avg\": -0.0043285714285714, \"total_retweets\": 9.0, \"top_hashtag\": \"#trump\", \"top_hashtag_likes\": 33.0, \"id\": 72, \"states_code\": \"PR\"}, {\"state\": \"Puerto Rico\", \"date\": \"2020-11-01\", \"tweet_count\": 20, \"total_likes\": 6.0, \"sentiment_avg\": 0.13799, \"total_retweets\": 0.0, \"top_hashtag\": \"#biden\", \"top_hashtag_likes\": 6.0, \"id\": 72, \"states_code\": \"PR\"}, {\"state\": \"Puerto Rico\", \"date\": \"2020-11-02\", \"tweet_count\": 34, \"total_likes\": 17.0, \"sentiment_avg\": 0.1217235294117647, \"total_retweets\": 3.0, \"top_hashtag\": \"#trump\", \"top_hashtag_likes\": 11.0, \"id\": 72, \"states_code\": \"PR\"}, {\"state\": \"Puerto Rico\", \"date\": \"2020-11-03\", \"tweet_count\": 42, \"total_likes\": 33.0, \"sentiment_avg\": 0.1358833333333333, \"total_retweets\": 12.0, \"top_hashtag\": \"#trump\", \"top_hashtag_likes\": 27.0, \"id\": 72, \"states_code\": \"PR\"}, {\"state\": \"Puerto Rico\", \"date\": \"2020-11-04\", \"tweet_count\": 55, \"total_likes\": 168.0, \"sentiment_avg\": 0.0457218181818181, \"total_retweets\": 55.0, \"top_hashtag\": \"#biden\", \"top_hashtag_likes\": 157.0, \"id\": 72, \"states_code\": \"PR\"}, {\"state\": \"Puerto Rico\", \"date\": \"2020-11-05\", \"tweet_count\": 25, \"total_likes\": 63.0, \"sentiment_avg\": -0.022564, \"total_retweets\": 8.0, \"top_hashtag\": \"#trump\", \"top_hashtag_likes\": 42.0, \"id\": 72, \"states_code\": \"PR\"}, {\"state\": \"Puerto Rico\", \"date\": \"2020-11-06\", \"tweet_count\": 25, \"total_likes\": 53.0, \"sentiment_avg\": 0.182944, \"total_retweets\": 10.0, \"top_hashtag\": \"#trump\", \"top_hashtag_likes\": 42.0, \"id\": 72, \"states_code\": \"PR\"}, {\"state\": \"Puerto Rico\", \"date\": \"2020-11-07\", \"tweet_count\": 53, \"total_likes\": 113.0, \"sentiment_avg\": 0.1055754716981132, \"total_retweets\": 27.0, \"top_hashtag\": \"#biden\", \"top_hashtag_likes\": 104.0, \"id\": 72, \"states_code\": \"PR\"}, {\"state\": \"Puerto Rico\", \"date\": \"2020-11-08\", \"tweet_count\": 28, \"total_likes\": 80.0, \"sentiment_avg\": 0.1552142857142857, \"total_retweets\": 11.0, \"top_hashtag\": \"#biden\", \"top_hashtag_likes\": 61.0, \"id\": 72, \"states_code\": \"PR\"}, {\"state\": \"Rhode Island\", \"date\": \"2020-10-15\", \"tweet_count\": 5, \"total_likes\": 282.0, \"sentiment_avg\": -0.33378, \"total_retweets\": 99.0, \"top_hashtag\": \"#trump\", \"top_hashtag_likes\": 281.0, \"id\": 44, \"states_code\": \"RI\"}, {\"state\": \"Rhode Island\", \"date\": \"2020-10-16\", \"tweet_count\": 9, \"total_likes\": 4.0, \"sentiment_avg\": 0.0947666666666666, \"total_retweets\": 2.0, \"top_hashtag\": \"#biden\", \"top_hashtag_likes\": 2.0, \"id\": 44, \"states_code\": \"RI\"}, {\"state\": \"Rhode Island\", \"date\": \"2020-10-17\", \"tweet_count\": 14, \"total_likes\": 521.0, \"sentiment_avg\": -0.0152142857142857, \"total_retweets\": 355.0, \"top_hashtag\": \"#biden\", \"top_hashtag_likes\": 519.0, \"id\": 44, \"states_code\": \"RI\"}, {\"state\": \"Rhode Island\", \"date\": \"2020-10-18\", \"tweet_count\": 7, \"total_likes\": 8.0, \"sentiment_avg\": -0.0691285714285714, \"total_retweets\": 0.0, \"top_hashtag\": \"#trump\", \"top_hashtag_likes\": 7.0, \"id\": 44, \"states_code\": \"RI\"}, {\"state\": \"Rhode Island\", \"date\": \"2020-10-19\", \"tweet_count\": 6, \"total_likes\": 7.0, \"sentiment_avg\": 0.4300166666666666, \"total_retweets\": 4.0, \"top_hashtag\": \"#covid19\", \"top_hashtag_likes\": 5.0, \"id\": 44, \"states_code\": \"RI\"}, {\"state\": \"Rhode Island\", \"date\": \"2020-10-20\", \"tweet_count\": 7, \"total_likes\": 5.0, \"sentiment_avg\": 0.0716285714285714, \"total_retweets\": 2.0, \"top_hashtag\": \"#biden\", \"top_hashtag_likes\": 4.0, \"id\": 44, \"states_code\": \"RI\"}, {\"state\": \"Rhode Island\", \"date\": \"2020-10-21\", \"tweet_count\": 20, \"total_likes\": 353.0, \"sentiment_avg\": 0.03448, \"total_retweets\": 224.0, \"top_hashtag\": \"#trump\", \"top_hashtag_likes\": 297.0, \"id\": 44, \"states_code\": \"RI\"}, {\"state\": \"Rhode Island\", \"date\": \"2020-10-22\", \"tweet_count\": 6, \"total_likes\": 5.0, \"sentiment_avg\": 0.3614166666666666, \"total_retweets\": 2.0, \"top_hashtag\": \"#trump\", \"top_hashtag_likes\": 5.0, \"id\": 44, \"states_code\": \"RI\"}, {\"state\": \"Rhode Island\", \"date\": \"2020-10-23\", \"tweet_count\": 49, \"total_likes\": 310.0, \"sentiment_avg\": -0.0332612244897959, \"total_retweets\": 129.0, \"top_hashtag\": \"#trump\", \"top_hashtag_likes\": 297.0, \"id\": 44, \"states_code\": \"RI\"}, {\"state\": \"Rhode Island\", \"date\": \"2020-10-24\", \"tweet_count\": 20, \"total_likes\": 169.0, \"sentiment_avg\": 0.08557, \"total_retweets\": 88.0, \"top_hashtag\": \"#trump\", \"top_hashtag_likes\": 163.0, \"id\": 44, \"states_code\": \"RI\"}, {\"state\": \"Rhode Island\", \"date\": \"2020-10-25\", \"tweet_count\": 10, \"total_likes\": 4.0, \"sentiment_avg\": 0.19372, \"total_retweets\": 2.0, \"top_hashtag\": \"#biden\", \"top_hashtag_likes\": 4.0, \"id\": 44, \"states_code\": \"RI\"}, {\"state\": \"Rhode Island\", \"date\": \"2020-10-26\", \"tweet_count\": 7, \"total_likes\": 61.0, \"sentiment_avg\": 0.0807, \"total_retweets\": 20.0, \"top_hashtag\": \"#trump\", \"top_hashtag_likes\": 59.0, \"id\": 44, \"states_code\": \"RI\"}, {\"state\": \"Rhode Island\", \"date\": \"2020-10-27\", \"tweet_count\": 17, \"total_likes\": 189.0, \"sentiment_avg\": 0.0093647058823529, \"total_retweets\": 85.0, \"top_hashtag\": \"#trump\", \"top_hashtag_likes\": 188.0, \"id\": 44, \"states_code\": \"RI\"}, {\"state\": \"Rhode Island\", \"date\": \"2020-10-28\", \"tweet_count\": 17, \"total_likes\": 168.0, \"sentiment_avg\": -0.0098647058823529, \"total_retweets\": 37.0, \"top_hashtag\": \"#trump\", \"top_hashtag_likes\": 155.0, \"id\": 44, \"states_code\": \"RI\"}, {\"state\": \"Rhode Island\", \"date\": \"2020-10-29\", \"tweet_count\": 15, \"total_likes\": 701.0, \"sentiment_avg\": 0.0388333333333333, \"total_retweets\": 510.0, \"top_hashtag\": \"#trump\", \"top_hashtag_likes\": 703.0, \"id\": 44, \"states_code\": \"RI\"}, {\"state\": \"Rhode Island\", \"date\": \"2020-10-30\", \"tweet_count\": 14, \"total_likes\": 14.0, \"sentiment_avg\": -0.1325714285714286, \"total_retweets\": 7.0, \"top_hashtag\": \"#trumpvirus\", \"top_hashtag_likes\": 16.0, \"id\": 44, \"states_code\": \"RI\"}, {\"state\": \"Rhode Island\", \"date\": \"2020-10-31\", \"tweet_count\": 12, \"total_likes\": 244.0, \"sentiment_avg\": 0.0746, \"total_retweets\": 103.0, \"top_hashtag\": \"#trump\", \"top_hashtag_likes\": 238.0, \"id\": 44, \"states_code\": \"RI\"}, {\"state\": \"Rhode Island\", \"date\": \"2020-11-01\", \"tweet_count\": 19, \"total_likes\": 1554.0, \"sentiment_avg\": -0.0190999999999999, \"total_retweets\": 617.0, \"top_hashtag\": \"#trump\", \"top_hashtag_likes\": 1542.0, \"id\": 44, \"states_code\": \"RI\"}, {\"state\": \"Rhode Island\", \"date\": \"2020-11-02\", \"tweet_count\": 20, \"total_likes\": 403.0, \"sentiment_avg\": -0.0020949999999999, \"total_retweets\": 228.0, \"top_hashtag\": \"#trump\", \"top_hashtag_likes\": 401.0, \"id\": 44, \"states_code\": \"RI\"}, {\"state\": \"Rhode Island\", \"date\": \"2020-11-03\", \"tweet_count\": 18, \"total_likes\": 93.0, \"sentiment_avg\": 0.0472888888888888, \"total_retweets\": 31.0, \"top_hashtag\": \"#trump\", \"top_hashtag_likes\": 90.0, \"id\": 44, \"states_code\": \"RI\"}, {\"state\": \"Rhode Island\", \"date\": \"2020-11-04\", \"tweet_count\": 21, \"total_likes\": 31.0, \"sentiment_avg\": 0.1470904761904762, \"total_retweets\": 2.0, \"top_hashtag\": \"#biden\", \"top_hashtag_likes\": 27.0, \"id\": 44, \"states_code\": \"RI\"}, {\"state\": \"Rhode Island\", \"date\": \"2020-11-05\", \"tweet_count\": 18, \"total_likes\": 165.0, \"sentiment_avg\": 0.0133111111111111, \"total_retweets\": 59.0, \"top_hashtag\": \"#trump\", \"top_hashtag_likes\": 164.0, \"id\": 44, \"states_code\": \"RI\"}, {\"state\": \"Rhode Island\", \"date\": \"2020-11-06\", \"tweet_count\": 18, \"total_likes\": 443.0, \"sentiment_avg\": 0.0236111111111111, \"total_retweets\": 107.0, \"top_hashtag\": \"#trump\", \"top_hashtag_likes\": 437.0, \"id\": 44, \"states_code\": \"RI\"}, {\"state\": \"Rhode Island\", \"date\": \"2020-11-07\", \"tweet_count\": 38, \"total_likes\": 351.0, \"sentiment_avg\": 0.1870157894736842, \"total_retweets\": 60.0, \"top_hashtag\": \"#trump\", \"top_hashtag_likes\": 312.0, \"id\": 44, \"states_code\": \"RI\"}, {\"state\": \"Rhode Island\", \"date\": \"2020-11-08\", \"tweet_count\": 27, \"total_likes\": 18.0, \"sentiment_avg\": 0.2476333333333333, \"total_retweets\": 4.0, \"top_hashtag\": \"#biden\", \"top_hashtag_likes\": 13.0, \"id\": 44, \"states_code\": \"RI\"}, {\"state\": \"South Carolina\", \"date\": \"2020-10-15\", \"tweet_count\": 58, \"total_likes\": 584.0, \"sentiment_avg\": -0.1538637931034482, \"total_retweets\": 326.0, \"top_hashtag\": \"#biden\", \"top_hashtag_likes\": 541.0, \"id\": 45, \"states_code\": \"SC\"}, {\"state\": \"South Carolina\", \"date\": \"2020-10-16\", \"tweet_count\": 84, \"total_likes\": 661.0, \"sentiment_avg\": 0.0258285714285714, \"total_retweets\": 140.0, \"top_hashtag\": \"#trump\", \"top_hashtag_likes\": 618.0, \"id\": 45, \"states_code\": \"SC\"}, {\"state\": \"South Carolina\", \"date\": \"2020-10-17\", \"tweet_count\": 44, \"total_likes\": 392.0, \"sentiment_avg\": -0.0239113636363636, \"total_retweets\": 242.0, \"top_hashtag\": \"#biden\", \"top_hashtag_likes\": 376.0, \"id\": 45, \"states_code\": \"SC\"}, {\"state\": \"South Carolina\", \"date\": \"2020-10-18\", \"tweet_count\": 58, \"total_likes\": 332.0, \"sentiment_avg\": -0.1091758620689655, \"total_retweets\": 152.0, \"top_hashtag\": \"#biden\", \"top_hashtag_likes\": 202.0, \"id\": 45, \"states_code\": \"SC\"}, {\"state\": \"South Carolina\", \"date\": \"2020-10-19\", \"tweet_count\": 42, \"total_likes\": 214.0, \"sentiment_avg\": -0.0603904761904761, \"total_retweets\": 121.0, \"top_hashtag\": \"#biden\", \"top_hashtag_likes\": 178.0, \"id\": 45, \"states_code\": \"SC\"}, {\"state\": \"South Carolina\", \"date\": \"2020-10-20\", \"tweet_count\": 47, \"total_likes\": 461.0, \"sentiment_avg\": 0.0320787234042553, \"total_retweets\": 227.0, \"top_hashtag\": \"#trump\", \"top_hashtag_likes\": 303.0, \"id\": 45, \"states_code\": \"SC\"}, {\"state\": \"South Carolina\", \"date\": \"2020-10-21\", \"tweet_count\": 40, \"total_likes\": 246.0, \"sentiment_avg\": -0.03584, \"total_retweets\": 107.0, \"top_hashtag\": \"#biden\", \"top_hashtag_likes\": 223.0, \"id\": 45, \"states_code\": \"SC\"}, {\"state\": \"South Carolina\", \"date\": \"2020-10-22\", \"tweet_count\": 74, \"total_likes\": 934.0, \"sentiment_avg\": 0.0152391891891891, \"total_retweets\": 302.0, \"top_hashtag\": \"#trump\", \"top_hashtag_likes\": 836.0, \"id\": 45, \"states_code\": \"SC\"}, {\"state\": \"South Carolina\", \"date\": \"2020-10-23\", \"tweet_count\": 215, \"total_likes\": 542.0, \"sentiment_avg\": -0.0676083720930232, \"total_retweets\": 255.0, \"top_hashtag\": \"#biden\", \"top_hashtag_likes\": 537.0, \"id\": 45, \"states_code\": \"SC\"}, {\"state\": \"South Carolina\", \"date\": \"2020-10-24\", \"tweet_count\": 63, \"total_likes\": 591.0, \"sentiment_avg\": -0.1047714285714285, \"total_retweets\": 179.0, \"top_hashtag\": \"#trump\", \"top_hashtag_likes\": 497.0, \"id\": 45, \"states_code\": \"SC\"}, {\"state\": \"South Carolina\", \"date\": \"2020-10-25\", \"tweet_count\": 67, \"total_likes\": 941.0, \"sentiment_avg\": -0.0215417910447761, \"total_retweets\": 346.0, \"top_hashtag\": \"#trump\", \"top_hashtag_likes\": 757.0, \"id\": 45, \"states_code\": \"SC\"}, {\"state\": \"South Carolina\", \"date\": \"2020-10-26\", \"tweet_count\": 53, \"total_likes\": 831.0, \"sentiment_avg\": -0.0043867924528301, \"total_retweets\": 303.0, \"top_hashtag\": \"#trump\", \"top_hashtag_likes\": 740.0, \"id\": 45, \"states_code\": \"SC\"}, {\"state\": \"South Carolina\", \"date\": \"2020-10-27\", \"tweet_count\": 68, \"total_likes\": 408.0, \"sentiment_avg\": 0.0350941176470588, \"total_retweets\": 134.0, \"top_hashtag\": \"#biden\", \"top_hashtag_likes\": 349.0, \"id\": 45, \"states_code\": \"SC\"}, {\"state\": \"South Carolina\", \"date\": \"2020-10-28\", \"tweet_count\": 117, \"total_likes\": 887.0, \"sentiment_avg\": -0.1800264957264957, \"total_retweets\": 214.0, \"top_hashtag\": \"#trump\", \"top_hashtag_likes\": 841.0, \"id\": 45, \"states_code\": \"SC\"}, {\"state\": \"South Carolina\", \"date\": \"2020-10-29\", \"tweet_count\": 60, \"total_likes\": 377.0, \"sentiment_avg\": -0.1202283333333333, \"total_retweets\": 207.0, \"top_hashtag\": \"#biden\", \"top_hashtag_likes\": 342.0, \"id\": 45, \"states_code\": \"SC\"}, {\"state\": \"South Carolina\", \"date\": \"2020-10-30\", \"tweet_count\": 54, \"total_likes\": 1030.0, \"sentiment_avg\": 0.0809462962962963, \"total_retweets\": 219.0, \"top_hashtag\": \"#trump\", \"top_hashtag_likes\": 793.0, \"id\": 45, \"states_code\": \"SC\"}, {\"state\": \"South Carolina\", \"date\": \"2020-10-31\", \"tweet_count\": 43, \"total_likes\": 31.0, \"sentiment_avg\": -0.0194279069767441, \"total_retweets\": 4.0, \"top_hashtag\": \"#biden\", \"top_hashtag_likes\": 16.0, \"id\": 45, \"states_code\": \"SC\"}, {\"state\": \"South Carolina\", \"date\": \"2020-11-01\", \"tweet_count\": 50, \"total_likes\": 107.0, \"sentiment_avg\": -0.0352099999999999, \"total_retweets\": 23.0, \"top_hashtag\": \"#trump\", \"top_hashtag_likes\": 87.0, \"id\": 45, \"states_code\": \"SC\"}, {\"state\": \"South Carolina\", \"date\": \"2020-11-02\", \"tweet_count\": 77, \"total_likes\": 87.0, \"sentiment_avg\": -0.1458103896103896, \"total_retweets\": 23.0, \"top_hashtag\": \"#trump\", \"top_hashtag_likes\": 94.0, \"id\": 45, \"states_code\": \"SC\"}, {\"state\": \"South Carolina\", \"date\": \"2020-11-03\", \"tweet_count\": 85, \"total_likes\": 569.0, \"sentiment_avg\": 0.0733882352941176, \"total_retweets\": 165.0, \"top_hashtag\": \"#biden\", \"top_hashtag_likes\": 348.0, \"id\": 45, \"states_code\": \"SC\"}, {\"state\": \"South Carolina\", \"date\": \"2020-11-04\", \"tweet_count\": 96, \"total_likes\": 1568.0, \"sentiment_avg\": 0.0615697916666666, \"total_retweets\": 207.0, \"top_hashtag\": \"#trump\", \"top_hashtag_likes\": 1528.0, \"id\": 45, \"states_code\": \"SC\"}, {\"state\": \"South Carolina\", \"date\": \"2020-11-05\", \"tweet_count\": 86, \"total_likes\": 321.0, \"sentiment_avg\": -0.0585511627906976, \"total_retweets\": 52.0, \"top_hashtag\": \"#biden\", \"top_hashtag_likes\": 247.0, \"id\": 45, \"states_code\": \"SC\"}, {\"state\": \"South Carolina\", \"date\": \"2020-11-06\", \"tweet_count\": 97, \"total_likes\": 857.0, \"sentiment_avg\": -0.042821649484536, \"total_retweets\": 358.0, \"top_hashtag\": \"#biden\", \"top_hashtag_likes\": 661.0, \"id\": 45, \"states_code\": \"SC\"}, {\"state\": \"South Carolina\", \"date\": \"2020-11-07\", \"tweet_count\": 151, \"total_likes\": 551.0, \"sentiment_avg\": 0.1065278145695364, \"total_retweets\": 167.0, \"top_hashtag\": \"#trump\", \"top_hashtag_likes\": 344.0, \"id\": 45, \"states_code\": \"SC\"}, {\"state\": \"South Carolina\", \"date\": \"2020-11-08\", \"tweet_count\": 101, \"total_likes\": 977.0, \"sentiment_avg\": -0.0037207920792079, \"total_retweets\": 414.0, \"top_hashtag\": \"#biden\", \"top_hashtag_likes\": 912.0, \"id\": 45, \"states_code\": \"SC\"}, {\"state\": \"South Dakota\", \"date\": \"2020-10-15\", \"tweet_count\": 2, \"total_likes\": 6.0, \"sentiment_avg\": 0.47965, \"total_retweets\": 0.0, \"top_hashtag\": \"#trump\", \"top_hashtag_likes\": 6.0, \"id\": 46, \"states_code\": \"SD\"}, {\"state\": \"South Dakota\", \"date\": \"2020-10-16\", \"tweet_count\": 7, \"total_likes\": 8.0, \"sentiment_avg\": 0.1120285714285714, \"total_retweets\": 3.0, \"top_hashtag\": \"#biden\", \"top_hashtag_likes\": 10.0, \"id\": 46, \"states_code\": \"SD\"}, {\"state\": \"South Dakota\", \"date\": \"2020-10-17\", \"tweet_count\": 2, \"total_likes\": 1.0, \"sentiment_avg\": -0.0362, \"total_retweets\": 1.0, \"top_hashtag\": \"#biden\", \"top_hashtag_likes\": 1.0, \"id\": 46, \"states_code\": \"SD\"}, {\"state\": \"South Dakota\", \"date\": \"2020-10-19\", \"tweet_count\": 2, \"total_likes\": 0.0, \"sentiment_avg\": 0.3062, \"total_retweets\": 0.0, \"top_hashtag\": \"#2020election\", \"top_hashtag_likes\": 0.0, \"id\": 46, \"states_code\": \"SD\"}, {\"state\": \"South Dakota\", \"date\": \"2020-10-20\", \"tweet_count\": 2, \"total_likes\": 0.0, \"sentiment_avg\": 0.8439, \"total_retweets\": 0.0, \"top_hashtag\": \"#biden\", \"top_hashtag_likes\": 0.0, \"id\": 46, \"states_code\": \"SD\"}, {\"state\": \"South Dakota\", \"date\": \"2020-10-21\", \"tweet_count\": 5, \"total_likes\": 6.0, \"sentiment_avg\": 0.24798, \"total_retweets\": 0.0, \"top_hashtag\": \"#biden\", \"top_hashtag_likes\": 6.0, \"id\": 46, \"states_code\": \"SD\"}, {\"state\": \"South Dakota\", \"date\": \"2020-10-22\", \"tweet_count\": 2, \"total_likes\": 0.0, \"sentiment_avg\": -0.60785, \"total_retweets\": 0.0, \"top_hashtag\": \"#biden\", \"top_hashtag_likes\": 0.0, \"id\": 46, \"states_code\": \"SD\"}, {\"state\": \"South Dakota\", \"date\": \"2020-10-23\", \"tweet_count\": 10, \"total_likes\": 2.0, \"sentiment_avg\": 0.07542, \"total_retweets\": 0.0, \"top_hashtag\": \"#biden\", \"top_hashtag_likes\": 2.0, \"id\": 46, \"states_code\": \"SD\"}, {\"state\": \"South Dakota\", \"date\": \"2020-10-24\", \"tweet_count\": 5, \"total_likes\": 7.0, \"sentiment_avg\": 0.0908999999999999, \"total_retweets\": 0.0, \"top_hashtag\": \"#democrat\", \"top_hashtag_likes\": 12.0, \"id\": 46, \"states_code\": \"SD\"}, {\"state\": \"South Dakota\", \"date\": \"2020-10-25\", \"tweet_count\": 3, \"total_likes\": 0.0, \"sentiment_avg\": -0.2688666666666666, \"total_retweets\": 0.0, \"top_hashtag\": \"#biden\", \"top_hashtag_likes\": 0.0, \"id\": 46, \"states_code\": \"SD\"}, {\"state\": \"South Dakota\", \"date\": \"2020-10-26\", \"tweet_count\": 3, \"total_likes\": 0.0, \"sentiment_avg\": 0.2568, \"total_retweets\": 0.0, \"top_hashtag\": \"#biden\", \"top_hashtag_likes\": 0.0, \"id\": 46, \"states_code\": \"SD\"}, {\"state\": \"South Dakota\", \"date\": \"2020-10-27\", \"tweet_count\": 2, \"total_likes\": 1.0, \"sentiment_avg\": 0.1169999999999999, \"total_retweets\": 0.0, \"top_hashtag\": \"#trump\", \"top_hashtag_likes\": 1.0, \"id\": 46, \"states_code\": \"SD\"}, {\"state\": \"South Dakota\", \"date\": \"2020-10-28\", \"tweet_count\": 10, \"total_likes\": 48.0, \"sentiment_avg\": 0.0706499999999999, \"total_retweets\": 3.0, \"top_hashtag\": \"#biden\", \"top_hashtag_likes\": 46.0, \"id\": 46, \"states_code\": \"SD\"}, {\"state\": \"South Dakota\", \"date\": \"2020-10-29\", \"tweet_count\": 4, \"total_likes\": 2.0, \"sentiment_avg\": 0.53535, \"total_retweets\": 0.0, \"top_hashtag\": \"#biden\", \"top_hashtag_likes\": 2.0, \"id\": 46, \"states_code\": \"SD\"}, {\"state\": \"South Dakota\", \"date\": \"2020-10-30\", \"tweet_count\": 1, \"total_likes\": 0.0, \"sentiment_avg\": 0.7481, \"total_retweets\": 0.0, \"top_hashtag\": \"#madametussauds\", \"top_hashtag_likes\": 0.0, \"id\": 46, \"states_code\": \"SD\"}, {\"state\": \"South Dakota\", \"date\": \"2020-10-31\", \"tweet_count\": 1, \"total_likes\": 1.0, \"sentiment_avg\": 0.8481, \"total_retweets\": 0.0, \"top_hashtag\": \"#trump\", \"top_hashtag_likes\": 1.0, \"id\": 46, \"states_code\": \"SD\"}, {\"state\": \"South Dakota\", \"date\": \"2020-11-01\", \"tweet_count\": 6, \"total_likes\": 50.0, \"sentiment_avg\": 0.1945833333333333, \"total_retweets\": 3.0, \"top_hashtag\": \"#biden\", \"top_hashtag_likes\": 50.0, \"id\": 46, \"states_code\": \"SD\"}, {\"state\": \"South Dakota\", \"date\": \"2020-11-02\", \"tweet_count\": 3, \"total_likes\": 1.0, \"sentiment_avg\": -0.3891666666666666, \"total_retweets\": 0.0, \"top_hashtag\": \"#biden\", \"top_hashtag_likes\": 1.0, \"id\": 46, \"states_code\": \"SD\"}, {\"state\": \"South Dakota\", \"date\": \"2020-11-03\", \"tweet_count\": 1, \"total_likes\": 3.0, \"sentiment_avg\": 0.5859, \"total_retweets\": 0.0, \"top_hashtag\": \"#biden\", \"top_hashtag_likes\": 3.0, \"id\": 46, \"states_code\": \"SD\"}, {\"state\": \"South Dakota\", \"date\": \"2020-11-04\", \"tweet_count\": 13, \"total_likes\": 3.0, \"sentiment_avg\": -0.1557846153846153, \"total_retweets\": 1.0, \"top_hashtag\": \"#biden\", \"top_hashtag_likes\": 3.0, \"id\": 46, \"states_code\": \"SD\"}, {\"state\": \"South Dakota\", \"date\": \"2020-11-05\", \"tweet_count\": 10, \"total_likes\": 10.0, \"sentiment_avg\": -0.08517, \"total_retweets\": 6.0, \"top_hashtag\": \"#biden\", \"top_hashtag_likes\": 10.0, \"id\": 46, \"states_code\": \"SD\"}, {\"state\": \"South Dakota\", \"date\": \"2020-11-06\", \"tweet_count\": 25, \"total_likes\": 4.0, \"sentiment_avg\": 0.115556, \"total_retweets\": 0.0, \"top_hashtag\": \"#california\", \"top_hashtag_likes\": 3.0, \"id\": 46, \"states_code\": \"SD\"}, {\"state\": \"South Dakota\", \"date\": \"2020-11-07\", \"tweet_count\": 12, \"total_likes\": 38.0, \"sentiment_avg\": 0.2036166666666666, \"total_retweets\": 3.0, \"top_hashtag\": \"#biden\", \"top_hashtag_likes\": 26.0, \"id\": 46, \"states_code\": \"SD\"}, {\"state\": \"South Dakota\", \"date\": \"2020-11-08\", \"tweet_count\": 5, \"total_likes\": 12.0, \"sentiment_avg\": 0.05874, \"total_retweets\": 1.0, \"top_hashtag\": \"#trump\", \"top_hashtag_likes\": 7.0, \"id\": 46, \"states_code\": \"SD\"}, {\"state\": \"Tennessee\", \"date\": \"2020-10-15\", \"tweet_count\": 118, \"total_likes\": 287.0, \"sentiment_avg\": -0.1023711864406779, \"total_retweets\": 125.0, \"top_hashtag\": \"#trump\", \"top_hashtag_likes\": 169.0, \"id\": 47, \"states_code\": \"TN\"}, {\"state\": \"Tennessee\", \"date\": \"2020-10-16\", \"tweet_count\": 178, \"total_likes\": 372.0, \"sentiment_avg\": 0.0308741573033707, \"total_retweets\": 132.0, \"top_hashtag\": \"#trump\", \"top_hashtag_likes\": 307.0, \"id\": 47, \"states_code\": \"TN\"}, {\"state\": \"Tennessee\", \"date\": \"2020-10-17\", \"tweet_count\": 63, \"total_likes\": 164.0, \"sentiment_avg\": 0.0624571428571428, \"total_retweets\": 83.0, \"top_hashtag\": \"#biden\", \"top_hashtag_likes\": 123.0, \"id\": 47, \"states_code\": \"TN\"}, {\"state\": \"Tennessee\", \"date\": \"2020-10-18\", \"tweet_count\": 79, \"total_likes\": 72.0, \"sentiment_avg\": 0.2312443037974683, \"total_retweets\": 45.0, \"top_hashtag\": \"#trump\", \"top_hashtag_likes\": 60.0, \"id\": 47, \"states_code\": \"TN\"}, {\"state\": \"Tennessee\", \"date\": \"2020-10-19\", \"tweet_count\": 103, \"total_likes\": 791.0, \"sentiment_avg\": -0.0446650485436893, \"total_retweets\": 271.0, \"top_hashtag\": \"#trump\", \"top_hashtag_likes\": 782.0, \"id\": 47, \"states_code\": \"TN\"}, {\"state\": \"Tennessee\", \"date\": \"2020-10-20\", \"tweet_count\": 70, \"total_likes\": 183.0, \"sentiment_avg\": 0.0964028571428571, \"total_retweets\": 70.0, \"top_hashtag\": \"#trump\", \"top_hashtag_likes\": 177.0, \"id\": 47, \"states_code\": \"TN\"}, {\"state\": \"Tennessee\", \"date\": \"2020-10-21\", \"tweet_count\": 94, \"total_likes\": 440.0, \"sentiment_avg\": -0.0450489361702127, \"total_retweets\": 184.0, \"top_hashtag\": \"#trump\", \"top_hashtag_likes\": 408.0, \"id\": 47, \"states_code\": \"TN\"}, {\"state\": \"Tennessee\", \"date\": \"2020-10-22\", \"tweet_count\": 122, \"total_likes\": 310.0, \"sentiment_avg\": 0.0654737704918032, \"total_retweets\": 118.0, \"top_hashtag\": \"#trump\", \"top_hashtag_likes\": 244.0, \"id\": 47, \"states_code\": \"TN\"}, {\"state\": \"Tennessee\", \"date\": \"2020-10-23\", \"tweet_count\": 290, \"total_likes\": 425.0, \"sentiment_avg\": 0.0453675862068965, \"total_retweets\": 141.0, \"top_hashtag\": \"#trump\", \"top_hashtag_likes\": 375.0, \"id\": 47, \"states_code\": \"TN\"}, {\"state\": \"Tennessee\", \"date\": \"2020-10-24\", \"tweet_count\": 86, \"total_likes\": 271.0, \"sentiment_avg\": 0.0311186046511627, \"total_retweets\": 89.0, \"top_hashtag\": \"#trump\", \"top_hashtag_likes\": 471.0, \"id\": 47, \"states_code\": \"TN\"}, {\"state\": \"Tennessee\", \"date\": \"2020-10-25\", \"tweet_count\": 66, \"total_likes\": 6466.0, \"sentiment_avg\": -0.018490909090909, \"total_retweets\": 1421.0, \"top_hashtag\": \"#biden\", \"top_hashtag_likes\": 5890.0, \"id\": 47, \"states_code\": \"TN\"}, {\"state\": \"Tennessee\", \"date\": \"2020-10-26\", \"tweet_count\": 141, \"total_likes\": 520.0, \"sentiment_avg\": -0.2358609929078014, \"total_retweets\": 203.0, \"top_hashtag\": \"#trump\", \"top_hashtag_likes\": 596.0, \"id\": 47, \"states_code\": \"TN\"}, {\"state\": \"Tennessee\", \"date\": \"2020-10-27\", \"tweet_count\": 99, \"total_likes\": 825.0, \"sentiment_avg\": -0.0398383838383838, \"total_retweets\": 151.0, \"top_hashtag\": \"#trump\", \"top_hashtag_likes\": 812.0, \"id\": 47, \"states_code\": \"TN\"}, {\"state\": \"Tennessee\", \"date\": \"2020-10-28\", \"tweet_count\": 133, \"total_likes\": 259.0, \"sentiment_avg\": -0.0336052631578947, \"total_retweets\": 78.0, \"top_hashtag\": \"#trump\", \"top_hashtag_likes\": 226.0, \"id\": 47, \"states_code\": \"TN\"}, {\"state\": \"Tennessee\", \"date\": \"2020-10-29\", \"tweet_count\": 119, \"total_likes\": 492.0, \"sentiment_avg\": 0.0759546218487395, \"total_retweets\": 163.0, \"top_hashtag\": \"#trump\", \"top_hashtag_likes\": 467.0, \"id\": 47, \"states_code\": \"TN\"}, {\"state\": \"Tennessee\", \"date\": \"2020-10-30\", \"tweet_count\": 98, \"total_likes\": 188.0, \"sentiment_avg\": 0.0501877551020408, \"total_retweets\": 66.0, \"top_hashtag\": \"#trump\", \"top_hashtag_likes\": 303.0, \"id\": 47, \"states_code\": \"TN\"}, {\"state\": \"Tennessee\", \"date\": \"2020-10-31\", \"tweet_count\": 184, \"total_likes\": 209.0, \"sentiment_avg\": 0.1346391304347826, \"total_retweets\": 45.0, \"top_hashtag\": \"#biden\", \"top_hashtag_likes\": 293.0, \"id\": 47, \"states_code\": \"TN\"}, {\"state\": \"Tennessee\", \"date\": \"2020-11-01\", \"tweet_count\": 89, \"total_likes\": 1266.0, \"sentiment_avg\": -0.0119539325842696, \"total_retweets\": 486.0, \"top_hashtag\": \"#trump\", \"top_hashtag_likes\": 729.0, \"id\": 47, \"states_code\": \"TN\"}, {\"state\": \"Tennessee\", \"date\": \"2020-11-02\", \"tweet_count\": 232, \"total_likes\": 854.0, \"sentiment_avg\": 0.0382418103448275, \"total_retweets\": 398.0, \"top_hashtag\": \"#trump\", \"top_hashtag_likes\": 937.0, \"id\": 47, \"states_code\": \"TN\"}, {\"state\": \"Tennessee\", \"date\": \"2020-11-03\", \"tweet_count\": 227, \"total_likes\": 2962.0, \"sentiment_avg\": 0.1185541850220264, \"total_retweets\": 537.0, \"top_hashtag\": \"#biden\", \"top_hashtag_likes\": 2560.0, \"id\": 47, \"states_code\": \"TN\"}, {\"state\": \"Tennessee\", \"date\": \"2020-11-04\", \"tweet_count\": 228, \"total_likes\": 3002.0, \"sentiment_avg\": 0.0458666666666666, \"total_retweets\": 332.0, \"top_hashtag\": \"#biden\", \"top_hashtag_likes\": 2249.0, \"id\": 47, \"states_code\": \"TN\"}, {\"state\": \"Tennessee\", \"date\": \"2020-11-05\", \"tweet_count\": 176, \"total_likes\": 527.0, \"sentiment_avg\": -0.0260244318181818, \"total_retweets\": 97.0, \"top_hashtag\": \"#biden\", \"top_hashtag_likes\": 442.0, \"id\": 47, \"states_code\": \"TN\"}, {\"state\": \"Tennessee\", \"date\": \"2020-11-06\", \"tweet_count\": 186, \"total_likes\": 952.0, \"sentiment_avg\": -0.0097999999999999, \"total_retweets\": 229.0, \"top_hashtag\": \"#trump\", \"top_hashtag_likes\": 1042.0, \"id\": 47, \"states_code\": \"TN\"}, {\"state\": \"Tennessee\", \"date\": \"2020-11-07\", \"tweet_count\": 268, \"total_likes\": 1194.0, \"sentiment_avg\": 0.0886369402985074, \"total_retweets\": 218.0, \"top_hashtag\": \"#biden\", \"top_hashtag_likes\": 1029.0, \"id\": 47, \"states_code\": \"TN\"}, {\"state\": \"Tennessee\", \"date\": \"2020-11-08\", \"tweet_count\": 204, \"total_likes\": 2476.0, \"sentiment_avg\": 0.085278431372549, \"total_retweets\": 443.0, \"top_hashtag\": \"#biden\", \"top_hashtag_likes\": 2310.0, \"id\": 47, \"states_code\": \"TN\"}, {\"state\": \"Texas\", \"date\": \"2020-10-15\", \"tweet_count\": 775, \"total_likes\": 6343.0, \"sentiment_avg\": -0.0675541935483871, \"total_retweets\": 3293.0, \"top_hashtag\": \"#biden\", \"top_hashtag_likes\": 5147.0, \"id\": 48, \"states_code\": \"TX\"}, {\"state\": \"Texas\", \"date\": \"2020-10-16\", \"tweet_count\": 1013, \"total_likes\": 9033.0, \"sentiment_avg\": 0.0338873642645607, \"total_retweets\": 2877.0, \"top_hashtag\": \"#biden\", \"top_hashtag_likes\": 5071.0, \"id\": 48, \"states_code\": \"TX\"}, {\"state\": \"Texas\", \"date\": \"2020-10-17\", \"tweet_count\": 615, \"total_likes\": 5527.0, \"sentiment_avg\": -0.0064154471544715, \"total_retweets\": 2702.0, \"top_hashtag\": \"#biden\", \"top_hashtag_likes\": 3311.0, \"id\": 48, \"states_code\": \"TX\"}, {\"state\": \"Texas\", \"date\": \"2020-10-18\", \"tweet_count\": 705, \"total_likes\": 1720.0, \"sentiment_avg\": 0.0957658156028368, \"total_retweets\": 815.0, \"top_hashtag\": \"#biden\", \"top_hashtag_likes\": 1056.0, \"id\": 48, \"states_code\": \"TX\"}, {\"state\": \"Texas\", \"date\": \"2020-10-19\", \"tweet_count\": 676, \"total_likes\": 3768.0, \"sentiment_avg\": -0.0620656804733727, \"total_retweets\": 1709.0, \"top_hashtag\": \"#biden\", \"top_hashtag_likes\": 2359.0, \"id\": 48, \"states_code\": \"TX\"}, {\"state\": \"Texas\", \"date\": \"2020-10-20\", \"tweet_count\": 755, \"total_likes\": 8094.0, \"sentiment_avg\": -0.1099909933774834, \"total_retweets\": 3981.0, \"top_hashtag\": \"#biden\", \"top_hashtag_likes\": 5748.0, \"id\": 48, \"states_code\": \"TX\"}, {\"state\": \"Texas\", \"date\": \"2020-10-21\", \"tweet_count\": 670, \"total_likes\": 5709.0, \"sentiment_avg\": 0.0320553731343283, \"total_retweets\": 2125.0, \"top_hashtag\": \"#biden\", \"top_hashtag_likes\": 3670.0, \"id\": 48, \"states_code\": \"TX\"}, {\"state\": \"Texas\", \"date\": \"2020-10-22\", \"tweet_count\": 816, \"total_likes\": 8967.0, \"sentiment_avg\": 0.0173220588235294, \"total_retweets\": 3506.0, \"top_hashtag\": \"#trump\", \"top_hashtag_likes\": 6080.0, \"id\": 48, \"states_code\": \"TX\"}, {\"state\": \"Texas\", \"date\": \"2020-10-23\", \"tweet_count\": 2069, \"total_likes\": 13932.0, \"sentiment_avg\": 0.0169545674238762, \"total_retweets\": 4909.0, \"top_hashtag\": \"#biden\", \"top_hashtag_likes\": 9822.0, \"id\": 48, \"states_code\": \"TX\"}, {\"state\": \"Texas\", \"date\": \"2020-10-24\", \"tweet_count\": 794, \"total_likes\": 5750.0, \"sentiment_avg\": -0.0808803526448362, \"total_retweets\": 2171.0, \"top_hashtag\": \"#biden\", \"top_hashtag_likes\": 3503.0, \"id\": 48, \"states_code\": \"TX\"}, {\"state\": \"Texas\", \"date\": \"2020-10-25\", \"tweet_count\": 679, \"total_likes\": 4223.0, \"sentiment_avg\": -0.0264350515463917, \"total_retweets\": 1451.0, \"top_hashtag\": \"#biden\", \"top_hashtag_likes\": 4496.0, \"id\": 48, \"states_code\": \"TX\"}, {\"state\": \"Texas\", \"date\": \"2020-10-26\", \"tweet_count\": 715, \"total_likes\": 3945.0, \"sentiment_avg\": 0.0289716083916083, \"total_retweets\": 1421.0, \"top_hashtag\": \"#biden\", \"top_hashtag_likes\": 2438.0, \"id\": 48, \"states_code\": \"TX\"}, {\"state\": \"Texas\", \"date\": \"2020-10-27\", \"tweet_count\": 682, \"total_likes\": 4203.0, \"sentiment_avg\": 0.0503234604105571, \"total_retweets\": 1711.0, \"top_hashtag\": \"#trump\", \"top_hashtag_likes\": 3363.0, \"id\": 48, \"states_code\": \"TX\"}, {\"state\": \"Texas\", \"date\": \"2020-10-28\", \"tweet_count\": 909, \"total_likes\": 11329.0, \"sentiment_avg\": -0.0026196919691969, \"total_retweets\": 4632.0, \"top_hashtag\": \"#biden\", \"top_hashtag_likes\": 9151.0, \"id\": 48, \"states_code\": \"TX\"}, {\"state\": \"Texas\", \"date\": \"2020-10-29\", \"tweet_count\": 652, \"total_likes\": 2814.0, \"sentiment_avg\": 0.0477314417177914, \"total_retweets\": 902.0, \"top_hashtag\": \"#biden\", \"top_hashtag_likes\": 2135.0, \"id\": 48, \"states_code\": \"TX\"}, {\"state\": \"Texas\", \"date\": \"2020-10-30\", \"tweet_count\": 798, \"total_likes\": 6391.0, \"sentiment_avg\": -0.0731491228070175, \"total_retweets\": 2970.0, \"top_hashtag\": \"#trump\", \"top_hashtag_likes\": 4393.0, \"id\": 48, \"states_code\": \"TX\"}, {\"state\": \"Texas\", \"date\": \"2020-10-31\", \"tweet_count\": 648, \"total_likes\": 3108.0, \"sentiment_avg\": -0.0012391975308641, \"total_retweets\": 1574.0, \"top_hashtag\": \"#biden\", \"top_hashtag_likes\": 2571.0, \"id\": 48, \"states_code\": \"TX\"}, {\"state\": \"Texas\", \"date\": \"2020-11-01\", \"tweet_count\": 941, \"total_likes\": 8628.0, \"sentiment_avg\": 0.0062696068012752, \"total_retweets\": 3293.0, \"top_hashtag\": \"#biden\", \"top_hashtag_likes\": 6430.0, \"id\": 48, \"states_code\": \"TX\"}, {\"state\": \"Texas\", \"date\": \"2020-11-02\", \"tweet_count\": 1242, \"total_likes\": 3532.0, \"sentiment_avg\": 0.022857729468599, \"total_retweets\": 961.0, \"top_hashtag\": \"#trump\", \"top_hashtag_likes\": 2805.0, \"id\": 48, \"states_code\": \"TX\"}, {\"state\": \"Texas\", \"date\": \"2020-11-03\", \"tweet_count\": 1343, \"total_likes\": 10914.0, \"sentiment_avg\": 0.0734064035740878, \"total_retweets\": 3500.0, \"top_hashtag\": \"#trump\", \"top_hashtag_likes\": 9849.0, \"id\": 48, \"states_code\": \"TX\"}, {\"state\": \"Texas\", \"date\": \"2020-11-04\", \"tweet_count\": 1753, \"total_likes\": 9239.0, \"sentiment_avg\": 0.0802922989161437, \"total_retweets\": 1949.0, \"top_hashtag\": \"#biden\", \"top_hashtag_likes\": 5497.0, \"id\": 48, \"states_code\": \"TX\"}, {\"state\": \"Texas\", \"date\": \"2020-11-05\", \"tweet_count\": 1361, \"total_likes\": 5394.0, \"sentiment_avg\": 0.0207041146216017, \"total_retweets\": 1268.0, \"top_hashtag\": \"#biden\", \"top_hashtag_likes\": 4168.0, \"id\": 48, \"states_code\": \"TX\"}, {\"state\": \"Texas\", \"date\": \"2020-11-06\", \"tweet_count\": 1553, \"total_likes\": 5107.0, \"sentiment_avg\": 0.0013997424339987, \"total_retweets\": 1862.0, \"top_hashtag\": \"#trump\", \"top_hashtag_likes\": 3534.0, \"id\": 48, \"states_code\": \"TX\"}, {\"state\": \"Texas\", \"date\": \"2020-11-07\", \"tweet_count\": 2367, \"total_likes\": 9521.0, \"sentiment_avg\": 0.1030220109843684, \"total_retweets\": 2105.0, \"top_hashtag\": \"#biden\", \"top_hashtag_likes\": 6659.0, \"id\": 48, \"states_code\": \"TX\"}, {\"state\": \"Texas\", \"date\": \"2020-11-08\", \"tweet_count\": 1523, \"total_likes\": 11140.0, \"sentiment_avg\": 0.0554714379514116, \"total_retweets\": 2192.0, \"top_hashtag\": \"#biden\", \"top_hashtag_likes\": 8299.0, \"id\": 48, \"states_code\": \"TX\"}, {\"state\": \"Utah\", \"date\": \"2020-10-15\", \"tweet_count\": 52, \"total_likes\": 29.0, \"sentiment_avg\": 0.0401442307692307, \"total_retweets\": 5.0, \"top_hashtag\": \"#biden\", \"top_hashtag_likes\": 21.0, \"id\": 49, \"states_code\": \"UT\"}, {\"state\": \"Utah\", \"date\": \"2020-10-16\", \"tweet_count\": 65, \"total_likes\": 131.0, \"sentiment_avg\": 0.1141, \"total_retweets\": 15.0, \"top_hashtag\": \"#biden\", \"top_hashtag_likes\": 99.0, \"id\": 49, \"states_code\": \"UT\"}, {\"state\": \"Utah\", \"date\": \"2020-10-17\", \"tweet_count\": 29, \"total_likes\": 33.0, \"sentiment_avg\": -0.0887448275862068, \"total_retweets\": 15.0, \"top_hashtag\": \"#trump\", \"top_hashtag_likes\": 24.0, \"id\": 49, \"states_code\": \"UT\"}, {\"state\": \"Utah\", \"date\": \"2020-10-18\", \"tweet_count\": 41, \"total_likes\": 190.0, \"sentiment_avg\": 0.0055512195121951, \"total_retweets\": 12.0, \"top_hashtag\": \"#biden\", \"top_hashtag_likes\": 174.0, \"id\": 49, \"states_code\": \"UT\"}, {\"state\": \"Utah\", \"date\": \"2020-10-19\", \"tweet_count\": 24, \"total_likes\": 28.0, \"sentiment_avg\": -0.1153583333333333, \"total_retweets\": 3.0, \"top_hashtag\": \"#trump\", \"top_hashtag_likes\": 26.0, \"id\": 49, \"states_code\": \"UT\"}, {\"state\": \"Utah\", \"date\": \"2020-10-20\", \"tweet_count\": 24, \"total_likes\": 16.0, \"sentiment_avg\": 0.1705666666666666, \"total_retweets\": 2.0, \"top_hashtag\": \"#biden\", \"top_hashtag_likes\": 8.0, \"id\": 49, \"states_code\": \"UT\"}, {\"state\": \"Utah\", \"date\": \"2020-10-21\", \"tweet_count\": 64, \"total_likes\": 31.0, \"sentiment_avg\": -0.078778125, \"total_retweets\": 5.0, \"top_hashtag\": \"#trump\", \"top_hashtag_likes\": 24.0, \"id\": 49, \"states_code\": \"UT\"}, {\"state\": \"Utah\", \"date\": \"2020-10-22\", \"tweet_count\": 107, \"total_likes\": 14.0, \"sentiment_avg\": 0.0130700934579439, \"total_retweets\": 3.0, \"top_hashtag\": \"#biden\", \"top_hashtag_likes\": 12.0, \"id\": 49, \"states_code\": \"UT\"}, {\"state\": \"Utah\", \"date\": \"2020-10-23\", \"tweet_count\": 137, \"total_likes\": 144.0, \"sentiment_avg\": -0.0244729927007299, \"total_retweets\": 20.0, \"top_hashtag\": \"#trump\", \"top_hashtag_likes\": 91.0, \"id\": 49, \"states_code\": \"UT\"}, {\"state\": \"Utah\", \"date\": \"2020-10-24\", \"tweet_count\": 66, \"total_likes\": 1107.0, \"sentiment_avg\": -0.0298242424242424, \"total_retweets\": 241.0, \"top_hashtag\": \"#biden\", \"top_hashtag_likes\": 1100.0, \"id\": 49, \"states_code\": \"UT\"}, {\"state\": \"Utah\", \"date\": \"2020-10-25\", \"tweet_count\": 50, \"total_likes\": 25.0, \"sentiment_avg\": 0.0087579999999999, \"total_retweets\": 8.0, \"top_hashtag\": \"#trump\", \"top_hashtag_likes\": 15.0, \"id\": 49, \"states_code\": \"UT\"}, {\"state\": \"Utah\", \"date\": \"2020-10-26\", \"tweet_count\": 56, \"total_likes\": 46.0, \"sentiment_avg\": -0.0627839285714285, \"total_retweets\": 18.0, \"top_hashtag\": \"#trump\", \"top_hashtag_likes\": 41.0, \"id\": 49, \"states_code\": \"UT\"}, {\"state\": \"Utah\", \"date\": \"2020-10-27\", \"tweet_count\": 38, \"total_likes\": 8.0, \"sentiment_avg\": 0.0951552631578947, \"total_retweets\": 3.0, \"top_hashtag\": \"#trump\", \"top_hashtag_likes\": 6.0, \"id\": 49, \"states_code\": \"UT\"}, {\"state\": \"Utah\", \"date\": \"2020-10-28\", \"tweet_count\": 56, \"total_likes\": 50.0, \"sentiment_avg\": 0.0008267857142857, \"total_retweets\": 18.0, \"top_hashtag\": \"#trump\", \"top_hashtag_likes\": 39.0, \"id\": 49, \"states_code\": \"UT\"}, {\"state\": \"Utah\", \"date\": \"2020-10-29\", \"tweet_count\": 74, \"total_likes\": 59.0, \"sentiment_avg\": -0.0196662162162162, \"total_retweets\": 24.0, \"top_hashtag\": \"#trump\", \"top_hashtag_likes\": 35.0, \"id\": 49, \"states_code\": \"UT\"}, {\"state\": \"Utah\", \"date\": \"2020-10-30\", \"tweet_count\": 46, \"total_likes\": 25.0, \"sentiment_avg\": -0.1408543478260869, \"total_retweets\": 3.0, \"top_hashtag\": \"#trump\", \"top_hashtag_likes\": 16.0, \"id\": 49, \"states_code\": \"UT\"}, {\"state\": \"Utah\", \"date\": \"2020-10-31\", \"tweet_count\": 35, \"total_likes\": 45.0, \"sentiment_avg\": 0.0166171428571428, \"total_retweets\": 3.0, \"top_hashtag\": \"#biden\", \"top_hashtag_likes\": 32.0, \"id\": 49, \"states_code\": \"UT\"}, {\"state\": \"Utah\", \"date\": \"2020-11-01\", \"tweet_count\": 46, \"total_likes\": 20.0, \"sentiment_avg\": -0.1218391304347826, \"total_retweets\": 9.0, \"top_hashtag\": \"#trump\", \"top_hashtag_likes\": 17.0, \"id\": 49, \"states_code\": \"UT\"}, {\"state\": \"Utah\", \"date\": \"2020-11-02\", \"tweet_count\": 49, \"total_likes\": 43.0, \"sentiment_avg\": 0.0922102040816326, \"total_retweets\": 11.0, \"top_hashtag\": \"#trump\", \"top_hashtag_likes\": 29.0, \"id\": 49, \"states_code\": \"UT\"}, {\"state\": \"Utah\", \"date\": \"2020-11-03\", \"tweet_count\": 111, \"total_likes\": 137.0, \"sentiment_avg\": 0.2739126126126126, \"total_retweets\": 46.0, \"top_hashtag\": \"#trump\", \"top_hashtag_likes\": 104.0, \"id\": 49, \"states_code\": \"UT\"}, {\"state\": \"Utah\", \"date\": \"2020-11-04\", \"tweet_count\": 92, \"total_likes\": 77.0, \"sentiment_avg\": 0.0054391304347826, \"total_retweets\": 11.0, \"top_hashtag\": \"#biden\", \"top_hashtag_likes\": 60.0, \"id\": 49, \"states_code\": \"UT\"}, {\"state\": \"Utah\", \"date\": \"2020-11-05\", \"tweet_count\": 69, \"total_likes\": 126.0, \"sentiment_avg\": -0.0704811594202898, \"total_retweets\": 27.0, \"top_hashtag\": \"#biden\", \"top_hashtag_likes\": 91.0, \"id\": 49, \"states_code\": \"UT\"}, {\"state\": \"Utah\", \"date\": \"2020-11-06\", \"tweet_count\": 77, \"total_likes\": 232.0, \"sentiment_avg\": -0.0295025974025974, \"total_retweets\": 13.0, \"top_hashtag\": \"#trump\", \"top_hashtag_likes\": 198.0, \"id\": 49, \"states_code\": \"UT\"}, {\"state\": \"Utah\", \"date\": \"2020-11-07\", \"tweet_count\": 84, \"total_likes\": 118.0, \"sentiment_avg\": 0.0574357142857142, \"total_retweets\": 13.0, \"top_hashtag\": \"#biden\", \"top_hashtag_likes\": 89.0, \"id\": 49, \"states_code\": \"UT\"}, {\"state\": \"Utah\", \"date\": \"2020-11-08\", \"tweet_count\": 51, \"total_likes\": 85.0, \"sentiment_avg\": 0.0730627450980392, \"total_retweets\": 6.0, \"top_hashtag\": \"#trump\", \"top_hashtag_likes\": 64.0, \"id\": 49, \"states_code\": \"UT\"}, {\"state\": \"Vermont\", \"date\": \"2020-10-15\", \"tweet_count\": 30, \"total_likes\": 43.0, \"sentiment_avg\": -0.1666033333333333, \"total_retweets\": 20.0, \"top_hashtag\": \"#trump\", \"top_hashtag_likes\": 49.0, \"id\": 50, \"states_code\": \"VT\"}, {\"state\": \"Vermont\", \"date\": \"2020-10-16\", \"tweet_count\": 65, \"total_likes\": 50.0, \"sentiment_avg\": -0.0978061538461538, \"total_retweets\": 5.0, \"top_hashtag\": \"#trump\", \"top_hashtag_likes\": 48.0, \"id\": 50, \"states_code\": \"VT\"}, {\"state\": \"Vermont\", \"date\": \"2020-10-17\", \"tweet_count\": 40, \"total_likes\": 52.0, \"sentiment_avg\": -0.125185, \"total_retweets\": 10.0, \"top_hashtag\": \"#trump\", \"top_hashtag_likes\": 50.0, \"id\": 50, \"states_code\": \"VT\"}, {\"state\": \"Vermont\", \"date\": \"2020-10-18\", \"tweet_count\": 31, \"total_likes\": 19.0, \"sentiment_avg\": -0.2266548387096774, \"total_retweets\": 4.0, \"top_hashtag\": \"#trump\", \"top_hashtag_likes\": 19.0, \"id\": 50, \"states_code\": \"VT\"}, {\"state\": \"Vermont\", \"date\": \"2020-10-19\", \"tweet_count\": 43, \"total_likes\": 37.0, \"sentiment_avg\": -0.0234302325581395, \"total_retweets\": 11.0, \"top_hashtag\": \"#trump\", \"top_hashtag_likes\": 37.0, \"id\": 50, \"states_code\": \"VT\"}, {\"state\": \"Vermont\", \"date\": \"2020-10-20\", \"tweet_count\": 32, \"total_likes\": 127.0, \"sentiment_avg\": -0.24029375, \"total_retweets\": 27.0, \"top_hashtag\": \"#trump\", \"top_hashtag_likes\": 127.0, \"id\": 50, \"states_code\": \"VT\"}, {\"state\": \"Vermont\", \"date\": \"2020-10-21\", \"tweet_count\": 65, \"total_likes\": 52.0, \"sentiment_avg\": -0.1162261538461538, \"total_retweets\": 11.0, \"top_hashtag\": \"#trump\", \"top_hashtag_likes\": 47.0, \"id\": 50, \"states_code\": \"VT\"}, {\"state\": \"Vermont\", \"date\": \"2020-10-22\", \"tweet_count\": 65, \"total_likes\": 56.0, \"sentiment_avg\": -0.1099107692307692, \"total_retweets\": 10.0, \"top_hashtag\": \"#trump\", \"top_hashtag_likes\": 53.0, \"id\": 50, \"states_code\": \"VT\"}, {\"state\": \"Vermont\", \"date\": \"2020-10-23\", \"tweet_count\": 84, \"total_likes\": 53.0, \"sentiment_avg\": -0.0178761904761904, \"total_retweets\": 14.0, \"top_hashtag\": \"#trump\", \"top_hashtag_likes\": 54.0, \"id\": 50, \"states_code\": \"VT\"}, {\"state\": \"Vermont\", \"date\": \"2020-10-24\", \"tweet_count\": 41, \"total_likes\": 71.0, \"sentiment_avg\": -0.1379926829268292, \"total_retweets\": 18.0, \"top_hashtag\": \"#trump\", \"top_hashtag_likes\": 73.0, \"id\": 50, \"states_code\": \"VT\"}, {\"state\": \"Vermont\", \"date\": \"2020-10-25\", \"tweet_count\": 16, \"total_likes\": 7.0, \"sentiment_avg\": -0.2016375, \"total_retweets\": 2.0, \"top_hashtag\": \"#trump\", \"top_hashtag_likes\": 6.0, \"id\": 50, \"states_code\": \"VT\"}, {\"state\": \"Vermont\", \"date\": \"2020-10-26\", \"tweet_count\": 42, \"total_likes\": 40.0, \"sentiment_avg\": -0.0125619047619047, \"total_retweets\": 6.0, \"top_hashtag\": \"#trump\", \"top_hashtag_likes\": 35.0, \"id\": 50, \"states_code\": \"VT\"}, {\"state\": \"Vermont\", \"date\": \"2020-10-27\", \"tweet_count\": 25, \"total_likes\": 12.0, \"sentiment_avg\": -0.195952, \"total_retweets\": 5.0, \"top_hashtag\": \"#trump\", \"top_hashtag_likes\": 12.0, \"id\": 50, \"states_code\": \"VT\"}, {\"state\": \"Vermont\", \"date\": \"2020-10-28\", \"tweet_count\": 67, \"total_likes\": 52.0, \"sentiment_avg\": -0.179776119402985, \"total_retweets\": 8.0, \"top_hashtag\": \"#trump\", \"top_hashtag_likes\": 53.0, \"id\": 50, \"states_code\": \"VT\"}, {\"state\": \"Vermont\", \"date\": \"2020-10-29\", \"tweet_count\": 38, \"total_likes\": 84.0, \"sentiment_avg\": 0.0159578947368421, \"total_retweets\": 15.0, \"top_hashtag\": \"#trump\", \"top_hashtag_likes\": 81.0, \"id\": 50, \"states_code\": \"VT\"}, {\"state\": \"Vermont\", \"date\": \"2020-10-30\", \"tweet_count\": 48, \"total_likes\": 75.0, \"sentiment_avg\": -0.1822395833333333, \"total_retweets\": 8.0, \"top_hashtag\": \"#trump\", \"top_hashtag_likes\": 73.0, \"id\": 50, \"states_code\": \"VT\"}, {\"state\": \"Vermont\", \"date\": \"2020-10-31\", \"tweet_count\": 34, \"total_likes\": 33.0, \"sentiment_avg\": -0.1710147058823529, \"total_retweets\": 8.0, \"top_hashtag\": \"#trump\", \"top_hashtag_likes\": 30.0, \"id\": 50, \"states_code\": \"VT\"}, {\"state\": \"Vermont\", \"date\": \"2020-11-01\", \"tweet_count\": 29, \"total_likes\": 32.0, \"sentiment_avg\": -0.2884, \"total_retweets\": 11.0, \"top_hashtag\": \"#trump\", \"top_hashtag_likes\": 31.0, \"id\": 50, \"states_code\": \"VT\"}, {\"state\": \"Vermont\", \"date\": \"2020-11-02\", \"tweet_count\": 27, \"total_likes\": 9.0, \"sentiment_avg\": -0.0802777777777777, \"total_retweets\": 3.0, \"top_hashtag\": \"#trump\", \"top_hashtag_likes\": 9.0, \"id\": 50, \"states_code\": \"VT\"}, {\"state\": \"Vermont\", \"date\": \"2020-11-03\", \"tweet_count\": 29, \"total_likes\": 18.0, \"sentiment_avg\": -0.1205689655172413, \"total_retweets\": 3.0, \"top_hashtag\": \"#trump\", \"top_hashtag_likes\": 14.0, \"id\": 50, \"states_code\": \"VT\"}, {\"state\": \"Vermont\", \"date\": \"2020-11-04\", \"tweet_count\": 24, \"total_likes\": 40.0, \"sentiment_avg\": -0.0801166666666666, \"total_retweets\": 3.0, \"top_hashtag\": \"#biden\", \"top_hashtag_likes\": 24.0, \"id\": 50, \"states_code\": \"VT\"}, {\"state\": \"Vermont\", \"date\": \"2020-11-05\", \"tweet_count\": 34, \"total_likes\": 26.0, \"sentiment_avg\": -0.0749323529411764, \"total_retweets\": 5.0, \"top_hashtag\": \"#trump\", \"top_hashtag_likes\": 17.0, \"id\": 50, \"states_code\": \"VT\"}, {\"state\": \"Vermont\", \"date\": \"2020-11-06\", \"tweet_count\": 32, \"total_likes\": 204.0, \"sentiment_avg\": 0.0036031249999999, \"total_retweets\": 10.0, \"top_hashtag\": \"#trump\", \"top_hashtag_likes\": 200.0, \"id\": 50, \"states_code\": \"VT\"}, {\"state\": \"Vermont\", \"date\": \"2020-11-07\", \"tweet_count\": 59, \"total_likes\": 90.0, \"sentiment_avg\": 0.0627457627118644, \"total_retweets\": 8.0, \"top_hashtag\": \"#trump\", \"top_hashtag_likes\": 59.0, \"id\": 50, \"states_code\": \"VT\"}, {\"state\": \"Vermont\", \"date\": \"2020-11-08\", \"tweet_count\": 50, \"total_likes\": 92.0, \"sentiment_avg\": 0.0002459999999999, \"total_retweets\": 16.0, \"top_hashtag\": \"#trump\", \"top_hashtag_likes\": 58.0, \"id\": 50, \"states_code\": \"VT\"}, {\"state\": \"Virginia\", \"date\": \"2020-10-15\", \"tweet_count\": 112, \"total_likes\": 223.0, \"sentiment_avg\": 0.0854133928571428, \"total_retweets\": 66.0, \"top_hashtag\": \"#biden\", \"top_hashtag_likes\": 151.0, \"id\": 51, \"states_code\": \"VA\"}, {\"state\": \"Virginia\", \"date\": \"2020-10-16\", \"tweet_count\": 178, \"total_likes\": 600.0, \"sentiment_avg\": 0.0462219101123595, \"total_retweets\": 443.0, \"top_hashtag\": \"#trump\", \"top_hashtag_likes\": 512.0, \"id\": 51, \"states_code\": \"VA\"}, {\"state\": \"Virginia\", \"date\": \"2020-10-17\", \"tweet_count\": 78, \"total_likes\": 37.0, \"sentiment_avg\": -0.119801282051282, \"total_retweets\": 13.0, \"top_hashtag\": \"#trump\", \"top_hashtag_likes\": 27.0, \"id\": 51, \"states_code\": \"VA\"}, {\"state\": \"Virginia\", \"date\": \"2020-10-18\", \"tweet_count\": 79, \"total_likes\": 45.0, \"sentiment_avg\": -0.0360632911392405, \"total_retweets\": 10.0, \"top_hashtag\": \"#trump\", \"top_hashtag_likes\": 33.0, \"id\": 51, \"states_code\": \"VA\"}, {\"state\": \"Virginia\", \"date\": \"2020-10-19\", \"tweet_count\": 120, \"total_likes\": 178.0, \"sentiment_avg\": 0.0051316666666666, \"total_retweets\": 57.0, \"top_hashtag\": \"#trump\", \"top_hashtag_likes\": 129.0, \"id\": 51, \"states_code\": \"VA\"}, {\"state\": \"Virginia\", \"date\": \"2020-10-20\", \"tweet_count\": 107, \"total_likes\": 104.0, \"sentiment_avg\": 0.0669383177570093, \"total_retweets\": 43.0, \"top_hashtag\": \"#biden\", \"top_hashtag_likes\": 66.0, \"id\": 51, \"states_code\": \"VA\"}, {\"state\": \"Virginia\", \"date\": \"2020-10-21\", \"tweet_count\": 112, \"total_likes\": 317.0, \"sentiment_avg\": -0.1806964285714285, \"total_retweets\": 57.0, \"top_hashtag\": \"#biden\", \"top_hashtag_likes\": 199.0, \"id\": 51, \"states_code\": \"VA\"}, {\"state\": \"Virginia\", \"date\": \"2020-10-22\", \"tweet_count\": 162, \"total_likes\": 1593.0, \"sentiment_avg\": -0.0844493827160493, \"total_retweets\": 383.0, \"top_hashtag\": \"#biden\", \"top_hashtag_likes\": 1491.0, \"id\": 51, \"states_code\": \"VA\"}, {\"state\": \"Virginia\", \"date\": \"2020-10-23\", \"tweet_count\": 279, \"total_likes\": 1337.0, \"sentiment_avg\": -0.0448297491039426, \"total_retweets\": 239.0, \"top_hashtag\": \"#biden\", \"top_hashtag_likes\": 1176.0, \"id\": 51, \"states_code\": \"VA\"}, {\"state\": \"Virginia\", \"date\": \"2020-10-24\", \"tweet_count\": 87, \"total_likes\": 134.0, \"sentiment_avg\": 0.043919540229885, \"total_retweets\": 42.0, \"top_hashtag\": \"#trump\", \"top_hashtag_likes\": 95.0, \"id\": 51, \"states_code\": \"VA\"}, {\"state\": \"Virginia\", \"date\": \"2020-10-25\", \"tweet_count\": 113, \"total_likes\": 432.0, \"sentiment_avg\": 0.0606796460176991, \"total_retweets\": 110.0, \"top_hashtag\": \"#trump\", \"top_hashtag_likes\": 366.0, \"id\": 51, \"states_code\": \"VA\"}, {\"state\": \"Virginia\", \"date\": \"2020-10-26\", \"tweet_count\": 94, \"total_likes\": 90.0, \"sentiment_avg\": -0.115381914893617, \"total_retweets\": 24.0, \"top_hashtag\": \"#biden\", \"top_hashtag_likes\": 52.0, \"id\": 51, \"states_code\": \"VA\"}, {\"state\": \"Virginia\", \"date\": \"2020-10-27\", \"tweet_count\": 147, \"total_likes\": 105.0, \"sentiment_avg\": -0.0421034013605442, \"total_retweets\": 40.0, \"top_hashtag\": \"#trump\", \"top_hashtag_likes\": 82.0, \"id\": 51, \"states_code\": \"VA\"}, {\"state\": \"Virginia\", \"date\": \"2020-10-28\", \"tweet_count\": 130, \"total_likes\": 311.0, \"sentiment_avg\": -0.1117761538461538, \"total_retweets\": 96.0, \"top_hashtag\": \"#trump\", \"top_hashtag_likes\": 205.0, \"id\": 51, \"states_code\": \"VA\"}, {\"state\": \"Virginia\", \"date\": \"2020-10-29\", \"tweet_count\": 95, \"total_likes\": 264.0, \"sentiment_avg\": 0.0528515789473684, \"total_retweets\": 62.0, \"top_hashtag\": \"#biden\", \"top_hashtag_likes\": 222.0, \"id\": 51, \"states_code\": \"VA\"}, {\"state\": \"Virginia\", \"date\": \"2020-10-30\", \"tweet_count\": 110, \"total_likes\": 267.0, \"sentiment_avg\": 0.0258254545454545, \"total_retweets\": 239.0, \"top_hashtag\": \"#trump\", \"top_hashtag_likes\": 238.0, \"id\": 51, \"states_code\": \"VA\"}, {\"state\": \"Virginia\", \"date\": \"2020-10-31\", \"tweet_count\": 86, \"total_likes\": 125.0, \"sentiment_avg\": 0.0018197674418604, \"total_retweets\": 40.0, \"top_hashtag\": \"#trump\", \"top_hashtag_likes\": 81.0, \"id\": 51, \"states_code\": \"VA\"}, {\"state\": \"Virginia\", \"date\": \"2020-11-01\", \"tweet_count\": 112, \"total_likes\": 213.0, \"sentiment_avg\": -0.0468133928571428, \"total_retweets\": 51.0, \"top_hashtag\": \"#trump\", \"top_hashtag_likes\": 171.0, \"id\": 51, \"states_code\": \"VA\"}, {\"state\": \"Virginia\", \"date\": \"2020-11-02\", \"tweet_count\": 187, \"total_likes\": 328.0, \"sentiment_avg\": 0.0074379679144385, \"total_retweets\": 68.0, \"top_hashtag\": \"#trump\", \"top_hashtag_likes\": 190.0, \"id\": 51, \"states_code\": \"VA\"}, {\"state\": \"Virginia\", \"date\": \"2020-11-03\", \"tweet_count\": 179, \"total_likes\": 787.0, \"sentiment_avg\": 0.1080167597765363, \"total_retweets\": 216.0, \"top_hashtag\": \"#trump\", \"top_hashtag_likes\": 679.0, \"id\": 51, \"states_code\": \"VA\"}, {\"state\": \"Virginia\", \"date\": \"2020-11-04\", \"tweet_count\": 329, \"total_likes\": 1355.0, \"sentiment_avg\": 0.0914723404255319, \"total_retweets\": 255.0, \"top_hashtag\": \"#biden\", \"top_hashtag_likes\": 887.0, \"id\": 51, \"states_code\": \"VA\"}, {\"state\": \"Virginia\", \"date\": \"2020-11-05\", \"tweet_count\": 268, \"total_likes\": 657.0, \"sentiment_avg\": -0.0438130597014925, \"total_retweets\": 146.0, \"top_hashtag\": \"#trump\", \"top_hashtag_likes\": 480.0, \"id\": 51, \"states_code\": \"VA\"}, {\"state\": \"Virginia\", \"date\": \"2020-11-06\", \"tweet_count\": 219, \"total_likes\": 1515.0, \"sentiment_avg\": 0.0511470319634703, \"total_retweets\": 323.0, \"top_hashtag\": \"#trump\", \"top_hashtag_likes\": 1343.0, \"id\": 51, \"states_code\": \"VA\"}, {\"state\": \"Virginia\", \"date\": \"2020-11-07\", \"tweet_count\": 450, \"total_likes\": 1435.0, \"sentiment_avg\": 0.1437415555555555, \"total_retweets\": 355.0, \"top_hashtag\": \"#biden\", \"top_hashtag_likes\": 1108.0, \"id\": 51, \"states_code\": \"VA\"}, {\"state\": \"Virginia\", \"date\": \"2020-11-08\", \"tweet_count\": 281, \"total_likes\": 5049.0, \"sentiment_avg\": 0.1426644128113879, \"total_retweets\": 589.0, \"top_hashtag\": \"#biden\", \"top_hashtag_likes\": 4873.0, \"id\": 51, \"states_code\": \"VA\"}, {\"state\": \"Washington\", \"date\": \"2020-10-15\", \"tweet_count\": 125, \"total_likes\": 109.0, \"sentiment_avg\": -0.12988, \"total_retweets\": 37.0, \"top_hashtag\": \"#biden\", \"top_hashtag_likes\": 89.0, \"id\": 53, \"states_code\": \"WA\"}, {\"state\": \"Washington\", \"date\": \"2020-10-16\", \"tweet_count\": 191, \"total_likes\": 454.0, \"sentiment_avg\": -0.0033638743455497, \"total_retweets\": 84.0, \"top_hashtag\": \"#trump\", \"top_hashtag_likes\": 355.0, \"id\": 53, \"states_code\": \"WA\"}, {\"state\": \"Washington\", \"date\": \"2020-10-17\", \"tweet_count\": 109, \"total_likes\": 217.0, \"sentiment_avg\": -0.0882853211009174, \"total_retweets\": 42.0, \"top_hashtag\": \"#biden\", \"top_hashtag_likes\": 198.0, \"id\": 53, \"states_code\": \"WA\"}, {\"state\": \"Washington\", \"date\": \"2020-10-18\", \"tweet_count\": 125, \"total_likes\": 85.0, \"sentiment_avg\": -0.0012784, \"total_retweets\": 30.0, \"top_hashtag\": \"#trump\", \"top_hashtag_likes\": 56.0, \"id\": 53, \"states_code\": \"WA\"}, {\"state\": \"Washington\", \"date\": \"2020-10-19\", \"tweet_count\": 121, \"total_likes\": 174.0, \"sentiment_avg\": -0.0787082644628099, \"total_retweets\": 73.0, \"top_hashtag\": \"#biden\", \"top_hashtag_likes\": 111.0, \"id\": 53, \"states_code\": \"WA\"}, {\"state\": \"Washington\", \"date\": \"2020-10-20\", \"tweet_count\": 116, \"total_likes\": 187.0, \"sentiment_avg\": -0.0496043103448275, \"total_retweets\": 40.0, \"top_hashtag\": \"#biden\", \"top_hashtag_likes\": 146.0, \"id\": 53, \"states_code\": \"WA\"}, {\"state\": \"Washington\", \"date\": \"2020-10-21\", \"tweet_count\": 122, \"total_likes\": 124.0, \"sentiment_avg\": 0.0218475409836065, \"total_retweets\": 43.0, \"top_hashtag\": \"#biden\", \"top_hashtag_likes\": 91.0, \"id\": 53, \"states_code\": \"WA\"}, {\"state\": \"Washington\", \"date\": \"2020-10-22\", \"tweet_count\": 130, \"total_likes\": 166.0, \"sentiment_avg\": -0.1310092307692307, \"total_retweets\": 58.0, \"top_hashtag\": \"#biden\", \"top_hashtag_likes\": 115.0, \"id\": 53, \"states_code\": \"WA\"}, {\"state\": \"Washington\", \"date\": \"2020-10-23\", \"tweet_count\": 299, \"total_likes\": 476.0, \"sentiment_avg\": -0.0480086956521739, \"total_retweets\": 133.0, \"top_hashtag\": \"#biden\", \"top_hashtag_likes\": 372.0, \"id\": 53, \"states_code\": \"WA\"}, {\"state\": \"Washington\", \"date\": \"2020-10-24\", \"tweet_count\": 115, \"total_likes\": 220.0, \"sentiment_avg\": -0.0480669565217391, \"total_retweets\": 77.0, \"top_hashtag\": \"#trump\", \"top_hashtag_likes\": 164.0, \"id\": 53, \"states_code\": \"WA\"}, {\"state\": \"Washington\", \"date\": \"2020-10-25\", \"tweet_count\": 94, \"total_likes\": 111.0, \"sentiment_avg\": -0.0614510638297872, \"total_retweets\": 24.0, \"top_hashtag\": \"#trump\", \"top_hashtag_likes\": 82.0, \"id\": 53, \"states_code\": \"WA\"}, {\"state\": \"Washington\", \"date\": \"2020-10-26\", \"tweet_count\": 169, \"total_likes\": 128.0, \"sentiment_avg\": 0.1125426035502958, \"total_retweets\": 92.0, \"top_hashtag\": \"#trump\", \"top_hashtag_likes\": 110.0, \"id\": 53, \"states_code\": \"WA\"}, {\"state\": \"Washington\", \"date\": \"2020-10-27\", \"tweet_count\": 112, \"total_likes\": 155.0, \"sentiment_avg\": -0.0369857142857142, \"total_retweets\": 81.0, \"top_hashtag\": \"#trump\", \"top_hashtag_likes\": 126.0, \"id\": 53, \"states_code\": \"WA\"}, {\"state\": \"Washington\", \"date\": \"2020-10-28\", \"tweet_count\": 132, \"total_likes\": 114.0, \"sentiment_avg\": -0.0905636363636363, \"total_retweets\": 54.0, \"top_hashtag\": \"#trump\", \"top_hashtag_likes\": 89.0, \"id\": 53, \"states_code\": \"WA\"}, {\"state\": \"Washington\", \"date\": \"2020-10-29\", \"tweet_count\": 193, \"total_likes\": 124.0, \"sentiment_avg\": 0.1527051813471502, \"total_retweets\": 41.0, \"top_hashtag\": \"#trump\", \"top_hashtag_likes\": 75.0, \"id\": 53, \"states_code\": \"WA\"}, {\"state\": \"Washington\", \"date\": \"2020-10-30\", \"tweet_count\": 112, \"total_likes\": 83.0, \"sentiment_avg\": 0.0153732142857142, \"total_retweets\": 26.0, \"top_hashtag\": \"#trump\", \"top_hashtag_likes\": 66.0, \"id\": 53, \"states_code\": \"WA\"}, {\"state\": \"Washington\", \"date\": \"2020-10-31\", \"tweet_count\": 144, \"total_likes\": 157.0, \"sentiment_avg\": -0.0060923611111111, \"total_retweets\": 50.0, \"top_hashtag\": \"#biden\", \"top_hashtag_likes\": 101.0, \"id\": 53, \"states_code\": \"WA\"}, {\"state\": \"Washington\", \"date\": \"2020-11-01\", \"tweet_count\": 118, \"total_likes\": 148.0, \"sentiment_avg\": -0.0339203389830508, \"total_retweets\": 35.0, \"top_hashtag\": \"#trump\", \"top_hashtag_likes\": 102.0, \"id\": 53, \"states_code\": \"WA\"}, {\"state\": \"Washington\", \"date\": \"2020-11-02\", \"tweet_count\": 195, \"total_likes\": 135.0, \"sentiment_avg\": 0.03184, \"total_retweets\": 83.0, \"top_hashtag\": \"#trump\", \"top_hashtag_likes\": 117.0, \"id\": 53, \"states_code\": \"WA\"}, {\"state\": \"Washington\", \"date\": \"2020-11-03\", \"tweet_count\": 166, \"total_likes\": 287.0, \"sentiment_avg\": 0.0235753012048192, \"total_retweets\": 51.0, \"top_hashtag\": \"#trump\", \"top_hashtag_likes\": 192.0, \"id\": 53, \"states_code\": \"WA\"}, {\"state\": \"Washington\", \"date\": \"2020-11-04\", \"tweet_count\": 257, \"total_likes\": 456.0, \"sentiment_avg\": 0.1047509727626459, \"total_retweets\": 124.0, \"top_hashtag\": \"#biden\", \"top_hashtag_likes\": 331.0, \"id\": 53, \"states_code\": \"WA\"}, {\"state\": \"Washington\", \"date\": \"2020-11-05\", \"tweet_count\": 207, \"total_likes\": 258.0, \"sentiment_avg\": -0.0381086956521739, \"total_retweets\": 47.0, \"top_hashtag\": \"#trump\", \"top_hashtag_likes\": 193.0, \"id\": 53, \"states_code\": \"WA\"}, {\"state\": \"Washington\", \"date\": \"2020-11-06\", \"tweet_count\": 254, \"total_likes\": 279.0, \"sentiment_avg\": -0.0159937007874015, \"total_retweets\": 54.0, \"top_hashtag\": \"#trump\", \"top_hashtag_likes\": 207.0, \"id\": 53, \"states_code\": \"WA\"}, {\"state\": \"Washington\", \"date\": \"2020-11-07\", \"tweet_count\": 450, \"total_likes\": 1258.0, \"sentiment_avg\": 0.1366333333333333, \"total_retweets\": 139.0, \"top_hashtag\": \"#biden\", \"top_hashtag_likes\": 972.0, \"id\": 53, \"states_code\": \"WA\"}, {\"state\": \"Washington\", \"date\": \"2020-11-08\", \"tweet_count\": 256, \"total_likes\": 470.0, \"sentiment_avg\": 0.087163671875, \"total_retweets\": 80.0, \"top_hashtag\": \"#trump\", \"top_hashtag_likes\": 330.0, \"id\": 53, \"states_code\": \"WA\"}, {\"state\": \"West Virginia\", \"date\": \"2020-10-15\", \"tweet_count\": 23, \"total_likes\": 57.0, \"sentiment_avg\": 0.0676652173913043, \"total_retweets\": 24.0, \"top_hashtag\": \"#biden\", \"top_hashtag_likes\": 46.0, \"id\": 54, \"states_code\": \"WV\"}, {\"state\": \"West Virginia\", \"date\": \"2020-10-16\", \"tweet_count\": 37, \"total_likes\": 111.0, \"sentiment_avg\": 0.0292702702702702, \"total_retweets\": 57.0, \"top_hashtag\": \"#biden\", \"top_hashtag_likes\": 99.0, \"id\": 54, \"states_code\": \"WV\"}, {\"state\": \"West Virginia\", \"date\": \"2020-10-17\", \"tweet_count\": 19, \"total_likes\": 9.0, \"sentiment_avg\": 0.0599263157894736, \"total_retweets\": 1.0, \"top_hashtag\": \"#biden\", \"top_hashtag_likes\": 5.0, \"id\": 54, \"states_code\": \"WV\"}, {\"state\": \"West Virginia\", \"date\": \"2020-10-18\", \"tweet_count\": 5, \"total_likes\": 19.0, \"sentiment_avg\": 0.0840799999999999, \"total_retweets\": 6.0, \"top_hashtag\": \"#trump\", \"top_hashtag_likes\": 19.0, \"id\": 54, \"states_code\": \"WV\"}, {\"state\": \"West Virginia\", \"date\": \"2020-10-19\", \"tweet_count\": 14, \"total_likes\": 4.0, \"sentiment_avg\": 0.2142285714285714, \"total_retweets\": 0.0, \"top_hashtag\": \"#hunterbiden\", \"top_hashtag_likes\": 4.0, \"id\": 54, \"states_code\": \"WV\"}, {\"state\": \"West Virginia\", \"date\": \"2020-10-20\", \"tweet_count\": 20, \"total_likes\": 16.0, \"sentiment_avg\": 0.18059, \"total_retweets\": 5.0, \"top_hashtag\": \"#biden\", \"top_hashtag_likes\": 12.0, \"id\": 54, \"states_code\": \"WV\"}, {\"state\": \"West Virginia\", \"date\": \"2020-10-21\", \"tweet_count\": 11, \"total_likes\": 64.0, \"sentiment_avg\": 0.2795, \"total_retweets\": 37.0, \"top_hashtag\": \"#biden\", \"top_hashtag_likes\": 64.0, \"id\": 54, \"states_code\": \"WV\"}, {\"state\": \"West Virginia\", \"date\": \"2020-10-22\", \"tweet_count\": 14, \"total_likes\": 5.0, \"sentiment_avg\": -0.1775, \"total_retweets\": 1.0, \"top_hashtag\": \"#biden\", \"top_hashtag_likes\": 5.0, \"id\": 54, \"states_code\": \"WV\"}, {\"state\": \"West Virginia\", \"date\": \"2020-10-23\", \"tweet_count\": 54, \"total_likes\": 57.0, \"sentiment_avg\": -0.0656074074074074, \"total_retweets\": 11.0, \"top_hashtag\": \"#biden\", \"top_hashtag_likes\": 42.0, \"id\": 54, \"states_code\": \"WV\"}, {\"state\": \"West Virginia\", \"date\": \"2020-10-24\", \"tweet_count\": 10, \"total_likes\": 18.0, \"sentiment_avg\": 0.4048199999999999, \"total_retweets\": 4.0, \"top_hashtag\": \"#biden\", \"top_hashtag_likes\": 12.0, \"id\": 54, \"states_code\": \"WV\"}, {\"state\": \"West Virginia\", \"date\": \"2020-10-25\", \"tweet_count\": 12, \"total_likes\": 6.0, \"sentiment_avg\": -0.1426333333333333, \"total_retweets\": 1.0, \"top_hashtag\": \"#biden\", \"top_hashtag_likes\": 3.0, \"id\": 54, \"states_code\": \"WV\"}, {\"state\": \"West Virginia\", \"date\": \"2020-10-26\", \"tweet_count\": 20, \"total_likes\": 16.0, \"sentiment_avg\": 0.108475, \"total_retweets\": 2.0, \"top_hashtag\": \"#trump\", \"top_hashtag_likes\": 11.0, \"id\": 54, \"states_code\": \"WV\"}, {\"state\": \"West Virginia\", \"date\": \"2020-10-27\", \"tweet_count\": 22, \"total_likes\": 12.0, \"sentiment_avg\": -0.0247681818181818, \"total_retweets\": 2.0, \"top_hashtag\": \"#trump\", \"top_hashtag_likes\": 12.0, \"id\": 54, \"states_code\": \"WV\"}, {\"state\": \"West Virginia\", \"date\": \"2020-10-28\", \"tweet_count\": 14, \"total_likes\": 9.0, \"sentiment_avg\": -0.1142071428571428, \"total_retweets\": 3.0, \"top_hashtag\": \"#biden\", \"top_hashtag_likes\": 5.0, \"id\": 54, \"states_code\": \"WV\"}, {\"state\": \"West Virginia\", \"date\": \"2020-10-29\", \"tweet_count\": 15, \"total_likes\": 10.0, \"sentiment_avg\": 0.1201866666666666, \"total_retweets\": 3.0, \"top_hashtag\": \"#trump\", \"top_hashtag_likes\": 6.0, \"id\": 54, \"states_code\": \"WV\"}, {\"state\": \"West Virginia\", \"date\": \"2020-10-30\", \"tweet_count\": 14, \"total_likes\": 14.0, \"sentiment_avg\": -0.0082285714285714, \"total_retweets\": 11.0, \"top_hashtag\": \"#trump\", \"top_hashtag_likes\": 10.0, \"id\": 54, \"states_code\": \"WV\"}, {\"state\": \"West Virginia\", \"date\": \"2020-10-31\", \"tweet_count\": 16, \"total_likes\": 3.0, \"sentiment_avg\": 0.0531749999999999, \"total_retweets\": 2.0, \"top_hashtag\": \"#trump\", \"top_hashtag_likes\": 2.0, \"id\": 54, \"states_code\": \"WV\"}, {\"state\": \"West Virginia\", \"date\": \"2020-11-01\", \"tweet_count\": 25, \"total_likes\": 14.0, \"sentiment_avg\": -0.0190319999999999, \"total_retweets\": 1.0, \"top_hashtag\": \"#biden\", \"top_hashtag_likes\": 12.0, \"id\": 54, \"states_code\": \"WV\"}, {\"state\": \"West Virginia\", \"date\": \"2020-11-02\", \"tweet_count\": 18, \"total_likes\": 29.0, \"sentiment_avg\": 0.0237111111111111, \"total_retweets\": 26.0, \"top_hashtag\": \"#trump\", \"top_hashtag_likes\": 24.0, \"id\": 54, \"states_code\": \"WV\"}, {\"state\": \"West Virginia\", \"date\": \"2020-11-03\", \"tweet_count\": 19, \"total_likes\": 12.0, \"sentiment_avg\": 0.0621210526315789, \"total_retweets\": 7.0, \"top_hashtag\": \"#biden\", \"top_hashtag_likes\": 11.0, \"id\": 54, \"states_code\": \"WV\"}, {\"state\": \"West Virginia\", \"date\": \"2020-11-04\", \"tweet_count\": 32, \"total_likes\": 41.0, \"sentiment_avg\": 0.043896875, \"total_retweets\": 4.0, \"top_hashtag\": \"#biden\", \"top_hashtag_likes\": 27.0, \"id\": 54, \"states_code\": \"WV\"}, {\"state\": \"West Virginia\", \"date\": \"2020-11-05\", \"tweet_count\": 20, \"total_likes\": 16.0, \"sentiment_avg\": 0.139285, \"total_retweets\": 2.0, \"top_hashtag\": \"#trump\", \"top_hashtag_likes\": 12.0, \"id\": 54, \"states_code\": \"WV\"}, {\"state\": \"West Virginia\", \"date\": \"2020-11-06\", \"tweet_count\": 29, \"total_likes\": 7.0, \"sentiment_avg\": -0.1277586206896551, \"total_retweets\": 0.0, \"top_hashtag\": \"#biden\", \"top_hashtag_likes\": 5.0, \"id\": 54, \"states_code\": \"WV\"}, {\"state\": \"West Virginia\", \"date\": \"2020-11-07\", \"tweet_count\": 40, \"total_likes\": 33.0, \"sentiment_avg\": 0.19779, \"total_retweets\": 1.0, \"top_hashtag\": \"#biden\", \"top_hashtag_likes\": 34.0, \"id\": 54, \"states_code\": \"WV\"}, {\"state\": \"West Virginia\", \"date\": \"2020-11-08\", \"tweet_count\": 20, \"total_likes\": 35.0, \"sentiment_avg\": 0.02081, \"total_retweets\": 13.0, \"top_hashtag\": \"#trump\", \"top_hashtag_likes\": 31.0, \"id\": 54, \"states_code\": \"WV\"}, {\"state\": \"Wisconsin\", \"date\": \"2020-10-15\", \"tweet_count\": 75, \"total_likes\": 153.0, \"sentiment_avg\": 0.036516, \"total_retweets\": 54.0, \"top_hashtag\": \"#trump\", \"top_hashtag_likes\": 123.0, \"id\": 55, \"states_code\": \"WI\"}, {\"state\": \"Wisconsin\", \"date\": \"2020-10-16\", \"tweet_count\": 100, \"total_likes\": 357.0, \"sentiment_avg\": -0.02974, \"total_retweets\": 112.0, \"top_hashtag\": \"#biden\", \"top_hashtag_likes\": 239.0, \"id\": 55, \"states_code\": \"WI\"}, {\"state\": \"Wisconsin\", \"date\": \"2020-10-17\", \"tweet_count\": 96, \"total_likes\": 1122.0, \"sentiment_avg\": 0.0301302083333333, \"total_retweets\": 406.0, \"top_hashtag\": \"#biden\", \"top_hashtag_likes\": 762.0, \"id\": 55, \"states_code\": \"WI\"}, {\"state\": \"Wisconsin\", \"date\": \"2020-10-18\", \"tweet_count\": 78, \"total_likes\": 156.0, \"sentiment_avg\": 0.0165871794871794, \"total_retweets\": 38.0, \"top_hashtag\": \"#trump\", \"top_hashtag_likes\": 113.0, \"id\": 55, \"states_code\": \"WI\"}, {\"state\": \"Wisconsin\", \"date\": \"2020-10-19\", \"tweet_count\": 59, \"total_likes\": 107.0, \"sentiment_avg\": -0.1476338983050847, \"total_retweets\": 47.0, \"top_hashtag\": \"#vote\", \"top_hashtag_likes\": 155.0, \"id\": 55, \"states_code\": \"WI\"}, {\"state\": \"Wisconsin\", \"date\": \"2020-10-20\", \"tweet_count\": 75, \"total_likes\": 41.0, \"sentiment_avg\": 0.0836613333333333, \"total_retweets\": 13.0, \"top_hashtag\": \"#biden\", \"top_hashtag_likes\": 40.0, \"id\": 55, \"states_code\": \"WI\"}, {\"state\": \"Wisconsin\", \"date\": \"2020-10-21\", \"tweet_count\": 84, \"total_likes\": 301.0, \"sentiment_avg\": -0.0019607142857142, \"total_retweets\": 142.0, \"top_hashtag\": \"#biden\", \"top_hashtag_likes\": 177.0, \"id\": 55, \"states_code\": \"WI\"}, {\"state\": \"Wisconsin\", \"date\": \"2020-10-22\", \"tweet_count\": 80, \"total_likes\": 111.0, \"sentiment_avg\": 0.04426, \"total_retweets\": 50.0, \"top_hashtag\": \"#biden\", \"top_hashtag_likes\": 102.0, \"id\": 55, \"states_code\": \"WI\"}, {\"state\": \"Wisconsin\", \"date\": \"2020-10-23\", \"tweet_count\": 183, \"total_likes\": 139.0, \"sentiment_avg\": 0.0074683060109289, \"total_retweets\": 18.0, \"top_hashtag\": \"#trump\", \"top_hashtag_likes\": 85.0, \"id\": 55, \"states_code\": \"WI\"}, {\"state\": \"Wisconsin\", \"date\": \"2020-10-24\", \"tweet_count\": 49, \"total_likes\": 46.0, \"sentiment_avg\": 0.0105244897959183, \"total_retweets\": 10.0, \"top_hashtag\": \"#trump\", \"top_hashtag_likes\": 35.0, \"id\": 55, \"states_code\": \"WI\"}, {\"state\": \"Wisconsin\", \"date\": \"2020-10-25\", \"tweet_count\": 86, \"total_likes\": 155.0, \"sentiment_avg\": 0.08875, \"total_retweets\": 66.0, \"top_hashtag\": \"#biden\", \"top_hashtag_likes\": 122.0, \"id\": 55, \"states_code\": \"WI\"}, {\"state\": \"Wisconsin\", \"date\": \"2020-10-26\", \"tweet_count\": 77, \"total_likes\": 59.0, \"sentiment_avg\": -0.0784233766233766, \"total_retweets\": 19.0, \"top_hashtag\": \"#biden\", \"top_hashtag_likes\": 44.0, \"id\": 55, \"states_code\": \"WI\"}, {\"state\": \"Wisconsin\", \"date\": \"2020-10-27\", \"tweet_count\": 102, \"total_likes\": 121.0, \"sentiment_avg\": 0.051206862745098, \"total_retweets\": 42.0, \"top_hashtag\": \"#trump\", \"top_hashtag_likes\": 80.0, \"id\": 55, \"states_code\": \"WI\"}, {\"state\": \"Wisconsin\", \"date\": \"2020-10-28\", \"tweet_count\": 86, \"total_likes\": 347.0, \"sentiment_avg\": 0.0463465116279069, \"total_retweets\": 60.0, \"top_hashtag\": \"#biden\", \"top_hashtag_likes\": 238.0, \"id\": 55, \"states_code\": \"WI\"}, {\"state\": \"Wisconsin\", \"date\": \"2020-10-29\", \"tweet_count\": 70, \"total_likes\": 154.0, \"sentiment_avg\": 0.0657714285714285, \"total_retweets\": 38.0, \"top_hashtag\": \"#trump\", \"top_hashtag_likes\": 128.0, \"id\": 55, \"states_code\": \"WI\"}, {\"state\": \"Wisconsin\", \"date\": \"2020-10-30\", \"tweet_count\": 92, \"total_likes\": 289.0, \"sentiment_avg\": -0.01865, \"total_retweets\": 101.0, \"top_hashtag\": \"#trump\", \"top_hashtag_likes\": 197.0, \"id\": 55, \"states_code\": \"WI\"}, {\"state\": \"Wisconsin\", \"date\": \"2020-10-31\", \"tweet_count\": 65, \"total_likes\": 183.0, \"sentiment_avg\": 0.0591846153846153, \"total_retweets\": 44.0, \"top_hashtag\": \"#trump\", \"top_hashtag_likes\": 157.0, \"id\": 55, \"states_code\": \"WI\"}, {\"state\": \"Wisconsin\", \"date\": \"2020-11-01\", \"tweet_count\": 76, \"total_likes\": 225.0, \"sentiment_avg\": 0.2323934210526315, \"total_retweets\": 56.0, \"top_hashtag\": \"#biden\", \"top_hashtag_likes\": 198.0, \"id\": 55, \"states_code\": \"WI\"}, {\"state\": \"Wisconsin\", \"date\": \"2020-11-02\", \"tweet_count\": 132, \"total_likes\": 222.0, \"sentiment_avg\": 0.0412560606060606, \"total_retweets\": 66.0, \"top_hashtag\": \"#trump\", \"top_hashtag_likes\": 184.0, \"id\": 55, \"states_code\": \"WI\"}, {\"state\": \"Wisconsin\", \"date\": \"2020-11-03\", \"tweet_count\": 109, \"total_likes\": 421.0, \"sentiment_avg\": 0.1111752293577981, \"total_retweets\": 144.0, \"top_hashtag\": \"#biden\", \"top_hashtag_likes\": 368.0, \"id\": 55, \"states_code\": \"WI\"}, {\"state\": \"Wisconsin\", \"date\": \"2020-11-04\", \"tweet_count\": 233, \"total_likes\": 2064.0, \"sentiment_avg\": 0.071331330472103, \"total_retweets\": 246.0, \"top_hashtag\": \"#biden\", \"top_hashtag_likes\": 1814.0, \"id\": 55, \"states_code\": \"WI\"}, {\"state\": \"Wisconsin\", \"date\": \"2020-11-05\", \"tweet_count\": 116, \"total_likes\": 193.0, \"sentiment_avg\": -0.0550689655172413, \"total_retweets\": 39.0, \"top_hashtag\": \"#trump\", \"top_hashtag_likes\": 159.0, \"id\": 55, \"states_code\": \"WI\"}, {\"state\": \"Wisconsin\", \"date\": \"2020-11-06\", \"tweet_count\": 173, \"total_likes\": 380.0, \"sentiment_avg\": -0.0254670520231213, \"total_retweets\": 74.0, \"top_hashtag\": \"#trump\", \"top_hashtag_likes\": 311.0, \"id\": 55, \"states_code\": \"WI\"}, {\"state\": \"Wisconsin\", \"date\": \"2020-11-07\", \"tweet_count\": 251, \"total_likes\": 820.0, \"sentiment_avg\": 0.0944749003984063, \"total_retweets\": 139.0, \"top_hashtag\": \"#biden\", \"top_hashtag_likes\": 617.0, \"id\": 55, \"states_code\": \"WI\"}, {\"state\": \"Wisconsin\", \"date\": \"2020-11-08\", \"tweet_count\": 135, \"total_likes\": 294.0, \"sentiment_avg\": 0.0728577777777777, \"total_retweets\": 47.0, \"top_hashtag\": \"#trump\", \"top_hashtag_likes\": 180.0, \"id\": 55, \"states_code\": \"WI\"}, {\"state\": \"Wyoming\", \"date\": \"2020-10-15\", \"tweet_count\": 10, \"total_likes\": 6.0, \"sentiment_avg\": 0.2502399999999999, \"total_retweets\": 1.0, \"top_hashtag\": \"#trump\", \"top_hashtag_likes\": 6.0, \"id\": 56, \"states_code\": \"WY\"}, {\"state\": \"Wyoming\", \"date\": \"2020-10-16\", \"tweet_count\": 22, \"total_likes\": 24.0, \"sentiment_avg\": -0.0533045454545454, \"total_retweets\": 4.0, \"top_hashtag\": \"#biden\", \"top_hashtag_likes\": 23.0, \"id\": 56, \"states_code\": \"WY\"}, {\"state\": \"Wyoming\", \"date\": \"2020-10-17\", \"tweet_count\": 11, \"total_likes\": 8.0, \"sentiment_avg\": -0.1637545454545454, \"total_retweets\": 5.0, \"top_hashtag\": \"#trump\", \"top_hashtag_likes\": 6.0, \"id\": 56, \"states_code\": \"WY\"}, {\"state\": \"Wyoming\", \"date\": \"2020-10-18\", \"tweet_count\": 19, \"total_likes\": 17.0, \"sentiment_avg\": -0.1593894736842105, \"total_retweets\": 8.0, \"top_hashtag\": \"#trump\", \"top_hashtag_likes\": 10.0, \"id\": 56, \"states_code\": \"WY\"}, {\"state\": \"Wyoming\", \"date\": \"2020-10-19\", \"tweet_count\": 21, \"total_likes\": 19.0, \"sentiment_avg\": -0.2251238095238095, \"total_retweets\": 11.0, \"top_hashtag\": \"#trump\", \"top_hashtag_likes\": 16.0, \"id\": 56, \"states_code\": \"WY\"}, {\"state\": \"Wyoming\", \"date\": \"2020-10-20\", \"tweet_count\": 19, \"total_likes\": 151.0, \"sentiment_avg\": -0.0882526315789473, \"total_retweets\": 57.0, \"top_hashtag\": \"#biden\", \"top_hashtag_likes\": 148.0, \"id\": 56, \"states_code\": \"WY\"}, {\"state\": \"Wyoming\", \"date\": \"2020-10-21\", \"tweet_count\": 27, \"total_likes\": 13.0, \"sentiment_avg\": -0.0876037037037037, \"total_retweets\": 4.0, \"top_hashtag\": \"#biden\", \"top_hashtag_likes\": 12.0, \"id\": 56, \"states_code\": \"WY\"}, {\"state\": \"Wyoming\", \"date\": \"2020-10-22\", \"tweet_count\": 18, \"total_likes\": 38.0, \"sentiment_avg\": 0.0553777777777777, \"total_retweets\": 1.0, \"top_hashtag\": \"#trump\", \"top_hashtag_likes\": 37.0, \"id\": 56, \"states_code\": \"WY\"}, {\"state\": \"Wyoming\", \"date\": \"2020-10-23\", \"tweet_count\": 32, \"total_likes\": 43.0, \"sentiment_avg\": 0.223796875, \"total_retweets\": 7.0, \"top_hashtag\": \"#biden\", \"top_hashtag_likes\": 43.0, \"id\": 56, \"states_code\": \"WY\"}, {\"state\": \"Wyoming\", \"date\": \"2020-10-24\", \"tweet_count\": 16, \"total_likes\": 6.0, \"sentiment_avg\": 0.04154375, \"total_retweets\": 0.0, \"top_hashtag\": \"#trump\", \"top_hashtag_likes\": 5.0, \"id\": 56, \"states_code\": \"WY\"}, {\"state\": \"Wyoming\", \"date\": \"2020-10-25\", \"tweet_count\": 12, \"total_likes\": 36.0, \"sentiment_avg\": -0.2077416666666666, \"total_retweets\": 2.0, \"top_hashtag\": \"#biden\", \"top_hashtag_likes\": 35.0, \"id\": 56, \"states_code\": \"WY\"}, {\"state\": \"Wyoming\", \"date\": \"2020-10-26\", \"tweet_count\": 22, \"total_likes\": 565.0, \"sentiment_avg\": 0.0247772727272727, \"total_retweets\": 164.0, \"top_hashtag\": \"#biden\", \"top_hashtag_likes\": 557.0, \"id\": 56, \"states_code\": \"WY\"}, {\"state\": \"Wyoming\", \"date\": \"2020-10-27\", \"tweet_count\": 20, \"total_likes\": 63.0, \"sentiment_avg\": 0.243705, \"total_retweets\": 2.0, \"top_hashtag\": \"#trump\", \"top_hashtag_likes\": 63.0, \"id\": 56, \"states_code\": \"WY\"}, {\"state\": \"Wyoming\", \"date\": \"2020-10-28\", \"tweet_count\": 19, \"total_likes\": 21.0, \"sentiment_avg\": -0.1842, \"total_retweets\": 4.0, \"top_hashtag\": \"#trump\", \"top_hashtag_likes\": 20.0, \"id\": 56, \"states_code\": \"WY\"}, {\"state\": \"Wyoming\", \"date\": \"2020-10-29\", \"tweet_count\": 7, \"total_likes\": 0.0, \"sentiment_avg\": -0.2611857142857143, \"total_retweets\": 0.0, \"top_hashtag\": \"#biden\", \"top_hashtag_likes\": 0.0, \"id\": 56, \"states_code\": \"WY\"}, {\"state\": \"Wyoming\", \"date\": \"2020-10-30\", \"tweet_count\": 13, \"total_likes\": 3.0, \"sentiment_avg\": -0.278676923076923, \"total_retweets\": 0.0, \"top_hashtag\": \"#trump\", \"top_hashtag_likes\": 3.0, \"id\": 56, \"states_code\": \"WY\"}, {\"state\": \"Wyoming\", \"date\": \"2020-10-31\", \"tweet_count\": 12, \"total_likes\": 10.0, \"sentiment_avg\": 0.1824333333333333, \"total_retweets\": 2.0, \"top_hashtag\": \"#trump\", \"top_hashtag_likes\": 10.0, \"id\": 56, \"states_code\": \"WY\"}, {\"state\": \"Wyoming\", \"date\": \"2020-11-01\", \"tweet_count\": 16, \"total_likes\": 9.0, \"sentiment_avg\": 0.055725, \"total_retweets\": 1.0, \"top_hashtag\": \"#trump\", \"top_hashtag_likes\": 9.0, \"id\": 56, \"states_code\": \"WY\"}, {\"state\": \"Wyoming\", \"date\": \"2020-11-02\", \"tweet_count\": 10, \"total_likes\": 74.0, \"sentiment_avg\": -0.0061599999999999, \"total_retweets\": 22.0, \"top_hashtag\": \"#biden\", \"top_hashtag_likes\": 74.0, \"id\": 56, \"states_code\": \"WY\"}, {\"state\": \"Wyoming\", \"date\": \"2020-11-03\", \"tweet_count\": 16, \"total_likes\": 20.0, \"sentiment_avg\": 0.0439375, \"total_retweets\": 3.0, \"top_hashtag\": \"#trump\", \"top_hashtag_likes\": 19.0, \"id\": 56, \"states_code\": \"WY\"}, {\"state\": \"Wyoming\", \"date\": \"2020-11-04\", \"tweet_count\": 22, \"total_likes\": 19.0, \"sentiment_avg\": 0.2263, \"total_retweets\": 4.0, \"top_hashtag\": \"#biden\", \"top_hashtag_likes\": 14.0, \"id\": 56, \"states_code\": \"WY\"}, {\"state\": \"Wyoming\", \"date\": \"2020-11-05\", \"tweet_count\": 15, \"total_likes\": 561.0, \"sentiment_avg\": 0.07758, \"total_retweets\": 148.0, \"top_hashtag\": \"#biden\", \"top_hashtag_likes\": 557.0, \"id\": 56, \"states_code\": \"WY\"}, {\"state\": \"Wyoming\", \"date\": \"2020-11-06\", \"tweet_count\": 15, \"total_likes\": 480.0, \"sentiment_avg\": -0.2323266666666666, \"total_retweets\": 101.0, \"top_hashtag\": \"#biden\", \"top_hashtag_likes\": 464.0, \"id\": 56, \"states_code\": \"WY\"}, {\"state\": \"Wyoming\", \"date\": \"2020-11-07\", \"tweet_count\": 18, \"total_likes\": 2.0, \"sentiment_avg\": 0.5213333333333333, \"total_retweets\": 0.0, \"top_hashtag\": \"#biden\", \"top_hashtag_likes\": 1.0, \"id\": 56, \"states_code\": \"WY\"}, {\"state\": \"Wyoming\", \"date\": \"2020-11-08\", \"tweet_count\": 13, \"total_likes\": 4.0, \"sentiment_avg\": 0.6267846153846153, \"total_retweets\": 0.0, \"top_hashtag\": \"#biden\", \"top_hashtag_likes\": 3.0, \"id\": 56, \"states_code\": \"WY\"}]}}, {\"mode\": \"vega-lite\"});\n",
       "</script>"
      ],
      "text/plain": [
       "alt.Chart(...)"
      ]
     },
     "execution_count": 26,
     "metadata": {},
     "output_type": "execute_result"
    }
   ],
   "source": [
    "import altair as alt\n",
    "from vega_datasets import data\n",
    "\n",
    "\n",
    "alt.themes.enable(\"dark\")\n",
    "\n",
    "# Load U.S. states boundaries (topojson)\n",
    "state = alt.topo_feature(data.us_10m.url, 'states')\n",
    "\n",
    "# Create the chart\n",
    "chart = alt.Chart(state).mark_geoshape().encode(\n",
    "    color=alt.Color('total_likes:Q', scale=alt.Scale(scheme='blues')),   # color based on total_likes\n",
    "    stroke=alt.value('#154360')\n",
    ").transform_lookup(\n",
    "    lookup='id',  # matching on 'id' in the topojson data\n",
    "    from_=alt.LookupData(merged_df, 'id', ['total_likes'])  # Lookup total_likes from merged_df by 'id'\n",
    ").properties(\n",
    "    width=700,\n",
    "    height=400\n",
    ").project(\n",
    "    type='albersUsa'  # Use Albers USA projection\n",
    ")\n",
    "\n",
    "chart\n",
    "\n",
    "\n",
    "# alt.themes.enable(\"dark\")\n",
    "\n",
    "# # Load U.S. states boundaries (topojson)\n",
    "# # Step 1: Aggregate data to get the total likes per state\n",
    "# state_likes = merged_df.groupby('id', as_index=False).agg({'total_likes': 'sum'})\n",
    "\n",
    "# # Step 2: Create the Altair chart using the aggregated data\n",
    "# chart = alt.Chart(state).mark_geoshape().encode(\n",
    "#     color=alt.Color('total_likes:Q', scale=alt.Scale(scheme='blues')),  # color based on total_likes\n",
    "#     stroke=alt.value('#154360')\n",
    "# ).transform_lookup(\n",
    "#     lookup='id',  # matching on 'id' in the topojson data\n",
    "#     from_=alt.LookupData(state_likes, 'id', ['total_likes'])  # Lookup total_likes from state_likes by 'id'\n",
    "# ).properties(\n",
    "#     width=700,\n",
    "#     height=400\n",
    "# ).project(\n",
    "#     type='albersUsa'  # Use Albers USA projection\n",
    "# )\n",
    "\n",
    "# chart"
   ]
  },
  {
   "cell_type": "code",
   "execution_count": 30,
   "metadata": {},
   "outputs": [
    {
     "data": {
      "application/vnd.plotly.v1+json": {
       "config": {
        "plotlyServerURL": "https://plot.ly"
       },
       "data": [
        {
         "coloraxis": "coloraxis",
         "geo": "geo",
         "hovertemplate": "states_code=%{location}<br>Total Tweet Count=%{z}<extra></extra>",
         "locationmode": "USA-states",
         "locations": [
          "AK",
          "AL",
          "AR",
          "AZ",
          "CA",
          "CO",
          "CT",
          "DC",
          "DE",
          "FL",
          "GA",
          "HI",
          "IA",
          "ID",
          "IL",
          "IN",
          "KS",
          "KY",
          "LA",
          "MA",
          "MD",
          "ME",
          "MI",
          "MN",
          "MO",
          "MS",
          "MT",
          "NC",
          "ND",
          "NE",
          "NH",
          "NJ",
          "NM",
          "NV",
          "NY",
          "OH",
          "OK",
          "OR",
          "PA",
          "PR",
          "RI",
          "SC",
          "SD",
          "TN",
          "TX",
          "UT",
          "VA",
          "VT",
          "WA",
          "WI",
          "WV",
          "WY"
         ],
         "name": "",
         "type": "choropleth",
         "z": [
          649,
          1455,
          880,
          4994,
          48906,
          5479,
          1748,
          13268,
          452,
          23526,
          5113,
          1162,
          1253,
          933,
          10778,
          2632,
          1588,
          2210,
          1862,
          7157,
          3752,
          586,
          5220,
          2973,
          3519,
          432,
          391,
          5530,
          690,
          663,
          541,
          7661,
          801,
          4015,
          36749,
          6625,
          1404,
          4891,
          10723,
          605,
          414,
          1930,
          136,
          3653,
          26054,
          1543,
          4114,
          1050,
          4312,
          2682,
          523,
          425
         ]
        }
       ],
       "layout": {
        "coloraxis": {
         "cmax": 48906,
         "cmin": 0,
         "colorbar": {
          "title": {
           "text": "Total Tweet Count"
          }
         },
         "colorscale": [
          [
           0,
           "rgb(247,251,255)"
          ],
          [
           0.125,
           "rgb(222,235,247)"
          ],
          [
           0.25,
           "rgb(198,219,239)"
          ],
          [
           0.375,
           "rgb(158,202,225)"
          ],
          [
           0.5,
           "rgb(107,174,214)"
          ],
          [
           0.625,
           "rgb(66,146,198)"
          ],
          [
           0.75,
           "rgb(33,113,181)"
          ],
          [
           0.875,
           "rgb(8,81,156)"
          ],
          [
           1,
           "rgb(8,48,107)"
          ]
         ]
        },
        "geo": {
         "center": {},
         "domain": {
          "x": [
           0,
           1
          ],
          "y": [
           0,
           1
          ]
         },
         "scope": "usa"
        },
        "height": 500,
        "legend": {
         "tracegroupgap": 0
        },
        "margin": {
         "b": 0,
         "l": 0,
         "r": 0,
         "t": 0
        },
        "paper_bgcolor": "rgba(0, 0, 0, 0)",
        "plot_bgcolor": "rgba(0, 0, 0, 0)",
        "template": {
         "data": {
          "bar": [
           {
            "error_x": {
             "color": "#f2f5fa"
            },
            "error_y": {
             "color": "#f2f5fa"
            },
            "marker": {
             "line": {
              "color": "rgb(17,17,17)",
              "width": 0.5
             },
             "pattern": {
              "fillmode": "overlay",
              "size": 10,
              "solidity": 0.2
             }
            },
            "type": "bar"
           }
          ],
          "barpolar": [
           {
            "marker": {
             "line": {
              "color": "rgb(17,17,17)",
              "width": 0.5
             },
             "pattern": {
              "fillmode": "overlay",
              "size": 10,
              "solidity": 0.2
             }
            },
            "type": "barpolar"
           }
          ],
          "carpet": [
           {
            "aaxis": {
             "endlinecolor": "#A2B1C6",
             "gridcolor": "#506784",
             "linecolor": "#506784",
             "minorgridcolor": "#506784",
             "startlinecolor": "#A2B1C6"
            },
            "baxis": {
             "endlinecolor": "#A2B1C6",
             "gridcolor": "#506784",
             "linecolor": "#506784",
             "minorgridcolor": "#506784",
             "startlinecolor": "#A2B1C6"
            },
            "type": "carpet"
           }
          ],
          "choropleth": [
           {
            "colorbar": {
             "outlinewidth": 0,
             "ticks": ""
            },
            "type": "choropleth"
           }
          ],
          "contour": [
           {
            "colorbar": {
             "outlinewidth": 0,
             "ticks": ""
            },
            "colorscale": [
             [
              0,
              "#0d0887"
             ],
             [
              0.1111111111111111,
              "#46039f"
             ],
             [
              0.2222222222222222,
              "#7201a8"
             ],
             [
              0.3333333333333333,
              "#9c179e"
             ],
             [
              0.4444444444444444,
              "#bd3786"
             ],
             [
              0.5555555555555556,
              "#d8576b"
             ],
             [
              0.6666666666666666,
              "#ed7953"
             ],
             [
              0.7777777777777778,
              "#fb9f3a"
             ],
             [
              0.8888888888888888,
              "#fdca26"
             ],
             [
              1,
              "#f0f921"
             ]
            ],
            "type": "contour"
           }
          ],
          "contourcarpet": [
           {
            "colorbar": {
             "outlinewidth": 0,
             "ticks": ""
            },
            "type": "contourcarpet"
           }
          ],
          "heatmap": [
           {
            "colorbar": {
             "outlinewidth": 0,
             "ticks": ""
            },
            "colorscale": [
             [
              0,
              "#0d0887"
             ],
             [
              0.1111111111111111,
              "#46039f"
             ],
             [
              0.2222222222222222,
              "#7201a8"
             ],
             [
              0.3333333333333333,
              "#9c179e"
             ],
             [
              0.4444444444444444,
              "#bd3786"
             ],
             [
              0.5555555555555556,
              "#d8576b"
             ],
             [
              0.6666666666666666,
              "#ed7953"
             ],
             [
              0.7777777777777778,
              "#fb9f3a"
             ],
             [
              0.8888888888888888,
              "#fdca26"
             ],
             [
              1,
              "#f0f921"
             ]
            ],
            "type": "heatmap"
           }
          ],
          "heatmapgl": [
           {
            "colorbar": {
             "outlinewidth": 0,
             "ticks": ""
            },
            "colorscale": [
             [
              0,
              "#0d0887"
             ],
             [
              0.1111111111111111,
              "#46039f"
             ],
             [
              0.2222222222222222,
              "#7201a8"
             ],
             [
              0.3333333333333333,
              "#9c179e"
             ],
             [
              0.4444444444444444,
              "#bd3786"
             ],
             [
              0.5555555555555556,
              "#d8576b"
             ],
             [
              0.6666666666666666,
              "#ed7953"
             ],
             [
              0.7777777777777778,
              "#fb9f3a"
             ],
             [
              0.8888888888888888,
              "#fdca26"
             ],
             [
              1,
              "#f0f921"
             ]
            ],
            "type": "heatmapgl"
           }
          ],
          "histogram": [
           {
            "marker": {
             "pattern": {
              "fillmode": "overlay",
              "size": 10,
              "solidity": 0.2
             }
            },
            "type": "histogram"
           }
          ],
          "histogram2d": [
           {
            "colorbar": {
             "outlinewidth": 0,
             "ticks": ""
            },
            "colorscale": [
             [
              0,
              "#0d0887"
             ],
             [
              0.1111111111111111,
              "#46039f"
             ],
             [
              0.2222222222222222,
              "#7201a8"
             ],
             [
              0.3333333333333333,
              "#9c179e"
             ],
             [
              0.4444444444444444,
              "#bd3786"
             ],
             [
              0.5555555555555556,
              "#d8576b"
             ],
             [
              0.6666666666666666,
              "#ed7953"
             ],
             [
              0.7777777777777778,
              "#fb9f3a"
             ],
             [
              0.8888888888888888,
              "#fdca26"
             ],
             [
              1,
              "#f0f921"
             ]
            ],
            "type": "histogram2d"
           }
          ],
          "histogram2dcontour": [
           {
            "colorbar": {
             "outlinewidth": 0,
             "ticks": ""
            },
            "colorscale": [
             [
              0,
              "#0d0887"
             ],
             [
              0.1111111111111111,
              "#46039f"
             ],
             [
              0.2222222222222222,
              "#7201a8"
             ],
             [
              0.3333333333333333,
              "#9c179e"
             ],
             [
              0.4444444444444444,
              "#bd3786"
             ],
             [
              0.5555555555555556,
              "#d8576b"
             ],
             [
              0.6666666666666666,
              "#ed7953"
             ],
             [
              0.7777777777777778,
              "#fb9f3a"
             ],
             [
              0.8888888888888888,
              "#fdca26"
             ],
             [
              1,
              "#f0f921"
             ]
            ],
            "type": "histogram2dcontour"
           }
          ],
          "mesh3d": [
           {
            "colorbar": {
             "outlinewidth": 0,
             "ticks": ""
            },
            "type": "mesh3d"
           }
          ],
          "parcoords": [
           {
            "line": {
             "colorbar": {
              "outlinewidth": 0,
              "ticks": ""
             }
            },
            "type": "parcoords"
           }
          ],
          "pie": [
           {
            "automargin": true,
            "type": "pie"
           }
          ],
          "scatter": [
           {
            "marker": {
             "line": {
              "color": "#283442"
             }
            },
            "type": "scatter"
           }
          ],
          "scatter3d": [
           {
            "line": {
             "colorbar": {
              "outlinewidth": 0,
              "ticks": ""
             }
            },
            "marker": {
             "colorbar": {
              "outlinewidth": 0,
              "ticks": ""
             }
            },
            "type": "scatter3d"
           }
          ],
          "scattercarpet": [
           {
            "marker": {
             "colorbar": {
              "outlinewidth": 0,
              "ticks": ""
             }
            },
            "type": "scattercarpet"
           }
          ],
          "scattergeo": [
           {
            "marker": {
             "colorbar": {
              "outlinewidth": 0,
              "ticks": ""
             }
            },
            "type": "scattergeo"
           }
          ],
          "scattergl": [
           {
            "marker": {
             "line": {
              "color": "#283442"
             }
            },
            "type": "scattergl"
           }
          ],
          "scattermapbox": [
           {
            "marker": {
             "colorbar": {
              "outlinewidth": 0,
              "ticks": ""
             }
            },
            "type": "scattermapbox"
           }
          ],
          "scatterpolar": [
           {
            "marker": {
             "colorbar": {
              "outlinewidth": 0,
              "ticks": ""
             }
            },
            "type": "scatterpolar"
           }
          ],
          "scatterpolargl": [
           {
            "marker": {
             "colorbar": {
              "outlinewidth": 0,
              "ticks": ""
             }
            },
            "type": "scatterpolargl"
           }
          ],
          "scatterternary": [
           {
            "marker": {
             "colorbar": {
              "outlinewidth": 0,
              "ticks": ""
             }
            },
            "type": "scatterternary"
           }
          ],
          "surface": [
           {
            "colorbar": {
             "outlinewidth": 0,
             "ticks": ""
            },
            "colorscale": [
             [
              0,
              "#0d0887"
             ],
             [
              0.1111111111111111,
              "#46039f"
             ],
             [
              0.2222222222222222,
              "#7201a8"
             ],
             [
              0.3333333333333333,
              "#9c179e"
             ],
             [
              0.4444444444444444,
              "#bd3786"
             ],
             [
              0.5555555555555556,
              "#d8576b"
             ],
             [
              0.6666666666666666,
              "#ed7953"
             ],
             [
              0.7777777777777778,
              "#fb9f3a"
             ],
             [
              0.8888888888888888,
              "#fdca26"
             ],
             [
              1,
              "#f0f921"
             ]
            ],
            "type": "surface"
           }
          ],
          "table": [
           {
            "cells": {
             "fill": {
              "color": "#506784"
             },
             "line": {
              "color": "rgb(17,17,17)"
             }
            },
            "header": {
             "fill": {
              "color": "#2a3f5f"
             },
             "line": {
              "color": "rgb(17,17,17)"
             }
            },
            "type": "table"
           }
          ]
         },
         "layout": {
          "annotationdefaults": {
           "arrowcolor": "#f2f5fa",
           "arrowhead": 0,
           "arrowwidth": 1
          },
          "autotypenumbers": "strict",
          "coloraxis": {
           "colorbar": {
            "outlinewidth": 0,
            "ticks": ""
           }
          },
          "colorscale": {
           "diverging": [
            [
             0,
             "#8e0152"
            ],
            [
             0.1,
             "#c51b7d"
            ],
            [
             0.2,
             "#de77ae"
            ],
            [
             0.3,
             "#f1b6da"
            ],
            [
             0.4,
             "#fde0ef"
            ],
            [
             0.5,
             "#f7f7f7"
            ],
            [
             0.6,
             "#e6f5d0"
            ],
            [
             0.7,
             "#b8e186"
            ],
            [
             0.8,
             "#7fbc41"
            ],
            [
             0.9,
             "#4d9221"
            ],
            [
             1,
             "#276419"
            ]
           ],
           "sequential": [
            [
             0,
             "#0d0887"
            ],
            [
             0.1111111111111111,
             "#46039f"
            ],
            [
             0.2222222222222222,
             "#7201a8"
            ],
            [
             0.3333333333333333,
             "#9c179e"
            ],
            [
             0.4444444444444444,
             "#bd3786"
            ],
            [
             0.5555555555555556,
             "#d8576b"
            ],
            [
             0.6666666666666666,
             "#ed7953"
            ],
            [
             0.7777777777777778,
             "#fb9f3a"
            ],
            [
             0.8888888888888888,
             "#fdca26"
            ],
            [
             1,
             "#f0f921"
            ]
           ],
           "sequentialminus": [
            [
             0,
             "#0d0887"
            ],
            [
             0.1111111111111111,
             "#46039f"
            ],
            [
             0.2222222222222222,
             "#7201a8"
            ],
            [
             0.3333333333333333,
             "#9c179e"
            ],
            [
             0.4444444444444444,
             "#bd3786"
            ],
            [
             0.5555555555555556,
             "#d8576b"
            ],
            [
             0.6666666666666666,
             "#ed7953"
            ],
            [
             0.7777777777777778,
             "#fb9f3a"
            ],
            [
             0.8888888888888888,
             "#fdca26"
            ],
            [
             1,
             "#f0f921"
            ]
           ]
          },
          "colorway": [
           "#636efa",
           "#EF553B",
           "#00cc96",
           "#ab63fa",
           "#FFA15A",
           "#19d3f3",
           "#FF6692",
           "#B6E880",
           "#FF97FF",
           "#FECB52"
          ],
          "font": {
           "color": "#f2f5fa"
          },
          "geo": {
           "bgcolor": "rgb(17,17,17)",
           "lakecolor": "rgb(17,17,17)",
           "landcolor": "rgb(17,17,17)",
           "showlakes": true,
           "showland": true,
           "subunitcolor": "#506784"
          },
          "hoverlabel": {
           "align": "left"
          },
          "hovermode": "closest",
          "mapbox": {
           "style": "dark"
          },
          "paper_bgcolor": "rgb(17,17,17)",
          "plot_bgcolor": "rgb(17,17,17)",
          "polar": {
           "angularaxis": {
            "gridcolor": "#506784",
            "linecolor": "#506784",
            "ticks": ""
           },
           "bgcolor": "rgb(17,17,17)",
           "radialaxis": {
            "gridcolor": "#506784",
            "linecolor": "#506784",
            "ticks": ""
           }
          },
          "scene": {
           "xaxis": {
            "backgroundcolor": "rgb(17,17,17)",
            "gridcolor": "#506784",
            "gridwidth": 2,
            "linecolor": "#506784",
            "showbackground": true,
            "ticks": "",
            "zerolinecolor": "#C8D4E3"
           },
           "yaxis": {
            "backgroundcolor": "rgb(17,17,17)",
            "gridcolor": "#506784",
            "gridwidth": 2,
            "linecolor": "#506784",
            "showbackground": true,
            "ticks": "",
            "zerolinecolor": "#C8D4E3"
           },
           "zaxis": {
            "backgroundcolor": "rgb(17,17,17)",
            "gridcolor": "#506784",
            "gridwidth": 2,
            "linecolor": "#506784",
            "showbackground": true,
            "ticks": "",
            "zerolinecolor": "#C8D4E3"
           }
          },
          "shapedefaults": {
           "line": {
            "color": "#f2f5fa"
           }
          },
          "sliderdefaults": {
           "bgcolor": "#C8D4E3",
           "bordercolor": "rgb(17,17,17)",
           "borderwidth": 1,
           "tickwidth": 0
          },
          "ternary": {
           "aaxis": {
            "gridcolor": "#506784",
            "linecolor": "#506784",
            "ticks": ""
           },
           "baxis": {
            "gridcolor": "#506784",
            "linecolor": "#506784",
            "ticks": ""
           },
           "bgcolor": "rgb(17,17,17)",
           "caxis": {
            "gridcolor": "#506784",
            "linecolor": "#506784",
            "ticks": ""
           }
          },
          "title": {
           "x": 0.05
          },
          "updatemenudefaults": {
           "bgcolor": "#506784",
           "borderwidth": 0
          },
          "xaxis": {
           "automargin": true,
           "gridcolor": "#283442",
           "linecolor": "#506784",
           "ticks": "",
           "title": {
            "standoff": 15
           },
           "zerolinecolor": "#283442",
           "zerolinewidth": 2
          },
          "yaxis": {
           "automargin": true,
           "gridcolor": "#283442",
           "linecolor": "#506784",
           "ticks": "",
           "title": {
            "standoff": 15
           },
           "zerolinecolor": "#283442",
           "zerolinewidth": 2
          }
         }
        },
        "width": 900
       }
      }
     },
     "metadata": {},
     "output_type": "display_data"
    }
   ],
   "source": [
    "import plotly.express as px\n",
    "\n",
    "\n",
    "\n",
    "# # Create the choropleth map\n",
    "# choropleth = px.choropleth(\n",
    "#     merged_df,\n",
    "#     locations='states_code',  # Ensure this contains full state names, or map abbreviations to names\n",
    "#     color='tweet_count',\n",
    "#     locationmode=\"USA-states\",\n",
    "#     color_continuous_scale='blues',\n",
    "#     range_color=(0, max(merged_df.tweet_count)),  # Set the range for color scaling\n",
    "#     scope=\"usa\",  # Focus on the United States\n",
    "#     labels={'tweet_count': 'tweet count'}\n",
    "#                                 )\n",
    "# choropleth.update_layout(\n",
    "#     template='plotly_dark',  # Dark theme\n",
    "#     plot_bgcolor='rgba(0, 0, 0, 0)',  # Transparent plot background\n",
    "#     paper_bgcolor='rgba(0, 0, 0, 0)',  # Transparent paper background\n",
    "#     margin=dict(l=0, r=0, t=0, b=0),  # Remove margins for a tight fit\n",
    "#     height=450  # Adjust the height of the map\n",
    "# )\n",
    "\n",
    "# # Show the map\n",
    "# choropleth\n",
    "\n",
    "# Step 1: Aggregate data to get the total tweet count per state\n",
    "state_totals = merged_df.groupby('states_code', as_index=False).agg({'tweet_count': 'sum'})\n",
    "\n",
    "# Step 2: Create the choropleth map using the aggregated data\n",
    "choropleth = px.choropleth(\n",
    "    state_totals,\n",
    "    locations='states_code',  # Use state codes (two-letter abbreviations)\n",
    "    color='tweet_count',\n",
    "    locationmode=\"USA-states\",\n",
    "    color_continuous_scale='blues',\n",
    "    range_color=(0, max(state_totals.tweet_count)),  # Adjust color scaling based on aggregated data\n",
    "    scope=\"usa\",\n",
    "    labels={'tweet_count': 'Total Tweet Count'}  # Label for the color bar\n",
    ")\n",
    "\n",
    "# Step 3: Update layout for styling\n",
    "choropleth.update_layout(\n",
    "    template='plotly_dark',\n",
    "    plot_bgcolor='rgba(0, 0, 0, 0)',\n",
    "    paper_bgcolor='rgba(0, 0, 0, 0)',\n",
    "    margin=dict(l=0, r=0, t=0, b=0),\n",
    "    width=900,\n",
    "    height=500\n",
    ")\n",
    "\n",
    "# Show the map\n",
    "choropleth"
   ]
  },
  {
   "cell_type": "code",
   "execution_count": 35,
   "metadata": {},
   "outputs": [
    {
     "data": {
      "application/vnd.plotly.v1+json": {
       "config": {
        "plotlyServerURL": "https://plot.ly"
       },
       "data": [
        {
         "colorbar": {
          "title": {
           "text": "Total Tweet Count"
          }
         },
         "colorscale": [
          [
           0,
           "rgb(247,251,255)"
          ],
          [
           0.125,
           "rgb(222,235,247)"
          ],
          [
           0.25,
           "rgb(198,219,239)"
          ],
          [
           0.375,
           "rgb(158,202,225)"
          ],
          [
           0.5,
           "rgb(107,174,214)"
          ],
          [
           0.625,
           "rgb(66,146,198)"
          ],
          [
           0.75,
           "rgb(33,113,181)"
          ],
          [
           0.875,
           "rgb(8,81,156)"
          ],
          [
           1,
           "rgb(8,48,107)"
          ]
         ],
         "hoverinfo": "location+z",
         "hovertemplate": "<b>%{location}</b><br>Total Tweet Count: %{z}<extra></extra>",
         "locationmode": "USA-states",
         "locations": [
          "AK",
          "AL",
          "AR",
          "AZ",
          "CA",
          "CO",
          "CT",
          "DC",
          "DE",
          "FL",
          "GA",
          "HI",
          "IA",
          "ID",
          "IL",
          "IN",
          "KS",
          "KY",
          "LA",
          "MA",
          "MD",
          "ME",
          "MI",
          "MN",
          "MO",
          "MS",
          "MT",
          "NC",
          "ND",
          "NE",
          "NH",
          "NJ",
          "NM",
          "NV",
          "NY",
          "OH",
          "OK",
          "OR",
          "PA",
          "PR",
          "RI",
          "SC",
          "SD",
          "TN",
          "TX",
          "UT",
          "VA",
          "VT",
          "WA",
          "WI",
          "WV",
          "WY"
         ],
         "type": "choropleth",
         "visible": true,
         "z": [
          649,
          1455,
          880,
          4994,
          48906,
          5479,
          1748,
          13268,
          452,
          23526,
          5113,
          1162,
          1253,
          933,
          10778,
          2632,
          1588,
          2210,
          1862,
          7157,
          3752,
          586,
          5220,
          2973,
          3519,
          432,
          391,
          5530,
          690,
          663,
          541,
          7661,
          801,
          4015,
          36749,
          6625,
          1404,
          4891,
          10723,
          605,
          414,
          1930,
          136,
          3653,
          26054,
          1543,
          4114,
          1050,
          4312,
          2682,
          523,
          425
         ]
        },
        {
         "colorbar": {
          "title": {
           "text": "Total Likes"
          }
         },
         "colorscale": [
          [
           0,
           "rgb(247,252,245)"
          ],
          [
           0.125,
           "rgb(229,245,224)"
          ],
          [
           0.25,
           "rgb(199,233,192)"
          ],
          [
           0.375,
           "rgb(161,217,155)"
          ],
          [
           0.5,
           "rgb(116,196,118)"
          ],
          [
           0.625,
           "rgb(65,171,93)"
          ],
          [
           0.75,
           "rgb(35,139,69)"
          ],
          [
           0.875,
           "rgb(0,109,44)"
          ],
          [
           1,
           "rgb(0,68,27)"
          ]
         ],
         "hoverinfo": "location+z",
         "hovertemplate": "<b>%{location}</b><br>Total Likes: %{z}<extra></extra>",
         "locationmode": "USA-states",
         "locations": [
          "AK",
          "AL",
          "AR",
          "AZ",
          "CA",
          "CO",
          "CT",
          "DC",
          "DE",
          "FL",
          "GA",
          "HI",
          "IA",
          "ID",
          "IL",
          "IN",
          "KS",
          "KY",
          "LA",
          "MA",
          "MD",
          "ME",
          "MI",
          "MN",
          "MO",
          "MS",
          "MT",
          "NC",
          "ND",
          "NE",
          "NH",
          "NJ",
          "NM",
          "NV",
          "NY",
          "OH",
          "OK",
          "OR",
          "PA",
          "PR",
          "RI",
          "SC",
          "SD",
          "TN",
          "TX",
          "UT",
          "VA",
          "VT",
          "WA",
          "WI",
          "WV",
          "WY"
         ],
         "type": "choropleth",
         "visible": false,
         "z": [
          807,
          6553,
          1312,
          20740,
          267909,
          16723,
          17365,
          714967,
          635,
          73005,
          33587,
          2928,
          5359,
          1332,
          51727,
          4860,
          4648,
          12213,
          13108,
          24852,
          7367,
          1115,
          12226,
          7287,
          9787,
          1300,
          2073,
          17698,
          955,
          1460,
          1416,
          64996,
          1103,
          41970,
          1391966,
          18632,
          2442,
          14762,
          60442,
          967,
          6103,
          14499,
          203,
          25507,
          168331,
          2819,
          17501,
          1374,
          6375,
          8460,
          617,
          2192
         ]
        }
       ],
       "layout": {
        "geo": {
         "scope": "usa"
        },
        "height": 450,
        "margin": {
         "b": 0,
         "l": 0,
         "r": 0,
         "t": 0
        },
        "paper_bgcolor": "rgba(0, 0, 0, 0)",
        "plot_bgcolor": "rgba(0, 0, 0, 0)",
        "template": {
         "data": {
          "bar": [
           {
            "error_x": {
             "color": "#f2f5fa"
            },
            "error_y": {
             "color": "#f2f5fa"
            },
            "marker": {
             "line": {
              "color": "rgb(17,17,17)",
              "width": 0.5
             },
             "pattern": {
              "fillmode": "overlay",
              "size": 10,
              "solidity": 0.2
             }
            },
            "type": "bar"
           }
          ],
          "barpolar": [
           {
            "marker": {
             "line": {
              "color": "rgb(17,17,17)",
              "width": 0.5
             },
             "pattern": {
              "fillmode": "overlay",
              "size": 10,
              "solidity": 0.2
             }
            },
            "type": "barpolar"
           }
          ],
          "carpet": [
           {
            "aaxis": {
             "endlinecolor": "#A2B1C6",
             "gridcolor": "#506784",
             "linecolor": "#506784",
             "minorgridcolor": "#506784",
             "startlinecolor": "#A2B1C6"
            },
            "baxis": {
             "endlinecolor": "#A2B1C6",
             "gridcolor": "#506784",
             "linecolor": "#506784",
             "minorgridcolor": "#506784",
             "startlinecolor": "#A2B1C6"
            },
            "type": "carpet"
           }
          ],
          "choropleth": [
           {
            "colorbar": {
             "outlinewidth": 0,
             "ticks": ""
            },
            "type": "choropleth"
           }
          ],
          "contour": [
           {
            "colorbar": {
             "outlinewidth": 0,
             "ticks": ""
            },
            "colorscale": [
             [
              0,
              "#0d0887"
             ],
             [
              0.1111111111111111,
              "#46039f"
             ],
             [
              0.2222222222222222,
              "#7201a8"
             ],
             [
              0.3333333333333333,
              "#9c179e"
             ],
             [
              0.4444444444444444,
              "#bd3786"
             ],
             [
              0.5555555555555556,
              "#d8576b"
             ],
             [
              0.6666666666666666,
              "#ed7953"
             ],
             [
              0.7777777777777778,
              "#fb9f3a"
             ],
             [
              0.8888888888888888,
              "#fdca26"
             ],
             [
              1,
              "#f0f921"
             ]
            ],
            "type": "contour"
           }
          ],
          "contourcarpet": [
           {
            "colorbar": {
             "outlinewidth": 0,
             "ticks": ""
            },
            "type": "contourcarpet"
           }
          ],
          "heatmap": [
           {
            "colorbar": {
             "outlinewidth": 0,
             "ticks": ""
            },
            "colorscale": [
             [
              0,
              "#0d0887"
             ],
             [
              0.1111111111111111,
              "#46039f"
             ],
             [
              0.2222222222222222,
              "#7201a8"
             ],
             [
              0.3333333333333333,
              "#9c179e"
             ],
             [
              0.4444444444444444,
              "#bd3786"
             ],
             [
              0.5555555555555556,
              "#d8576b"
             ],
             [
              0.6666666666666666,
              "#ed7953"
             ],
             [
              0.7777777777777778,
              "#fb9f3a"
             ],
             [
              0.8888888888888888,
              "#fdca26"
             ],
             [
              1,
              "#f0f921"
             ]
            ],
            "type": "heatmap"
           }
          ],
          "heatmapgl": [
           {
            "colorbar": {
             "outlinewidth": 0,
             "ticks": ""
            },
            "colorscale": [
             [
              0,
              "#0d0887"
             ],
             [
              0.1111111111111111,
              "#46039f"
             ],
             [
              0.2222222222222222,
              "#7201a8"
             ],
             [
              0.3333333333333333,
              "#9c179e"
             ],
             [
              0.4444444444444444,
              "#bd3786"
             ],
             [
              0.5555555555555556,
              "#d8576b"
             ],
             [
              0.6666666666666666,
              "#ed7953"
             ],
             [
              0.7777777777777778,
              "#fb9f3a"
             ],
             [
              0.8888888888888888,
              "#fdca26"
             ],
             [
              1,
              "#f0f921"
             ]
            ],
            "type": "heatmapgl"
           }
          ],
          "histogram": [
           {
            "marker": {
             "pattern": {
              "fillmode": "overlay",
              "size": 10,
              "solidity": 0.2
             }
            },
            "type": "histogram"
           }
          ],
          "histogram2d": [
           {
            "colorbar": {
             "outlinewidth": 0,
             "ticks": ""
            },
            "colorscale": [
             [
              0,
              "#0d0887"
             ],
             [
              0.1111111111111111,
              "#46039f"
             ],
             [
              0.2222222222222222,
              "#7201a8"
             ],
             [
              0.3333333333333333,
              "#9c179e"
             ],
             [
              0.4444444444444444,
              "#bd3786"
             ],
             [
              0.5555555555555556,
              "#d8576b"
             ],
             [
              0.6666666666666666,
              "#ed7953"
             ],
             [
              0.7777777777777778,
              "#fb9f3a"
             ],
             [
              0.8888888888888888,
              "#fdca26"
             ],
             [
              1,
              "#f0f921"
             ]
            ],
            "type": "histogram2d"
           }
          ],
          "histogram2dcontour": [
           {
            "colorbar": {
             "outlinewidth": 0,
             "ticks": ""
            },
            "colorscale": [
             [
              0,
              "#0d0887"
             ],
             [
              0.1111111111111111,
              "#46039f"
             ],
             [
              0.2222222222222222,
              "#7201a8"
             ],
             [
              0.3333333333333333,
              "#9c179e"
             ],
             [
              0.4444444444444444,
              "#bd3786"
             ],
             [
              0.5555555555555556,
              "#d8576b"
             ],
             [
              0.6666666666666666,
              "#ed7953"
             ],
             [
              0.7777777777777778,
              "#fb9f3a"
             ],
             [
              0.8888888888888888,
              "#fdca26"
             ],
             [
              1,
              "#f0f921"
             ]
            ],
            "type": "histogram2dcontour"
           }
          ],
          "mesh3d": [
           {
            "colorbar": {
             "outlinewidth": 0,
             "ticks": ""
            },
            "type": "mesh3d"
           }
          ],
          "parcoords": [
           {
            "line": {
             "colorbar": {
              "outlinewidth": 0,
              "ticks": ""
             }
            },
            "type": "parcoords"
           }
          ],
          "pie": [
           {
            "automargin": true,
            "type": "pie"
           }
          ],
          "scatter": [
           {
            "marker": {
             "line": {
              "color": "#283442"
             }
            },
            "type": "scatter"
           }
          ],
          "scatter3d": [
           {
            "line": {
             "colorbar": {
              "outlinewidth": 0,
              "ticks": ""
             }
            },
            "marker": {
             "colorbar": {
              "outlinewidth": 0,
              "ticks": ""
             }
            },
            "type": "scatter3d"
           }
          ],
          "scattercarpet": [
           {
            "marker": {
             "colorbar": {
              "outlinewidth": 0,
              "ticks": ""
             }
            },
            "type": "scattercarpet"
           }
          ],
          "scattergeo": [
           {
            "marker": {
             "colorbar": {
              "outlinewidth": 0,
              "ticks": ""
             }
            },
            "type": "scattergeo"
           }
          ],
          "scattergl": [
           {
            "marker": {
             "line": {
              "color": "#283442"
             }
            },
            "type": "scattergl"
           }
          ],
          "scattermapbox": [
           {
            "marker": {
             "colorbar": {
              "outlinewidth": 0,
              "ticks": ""
             }
            },
            "type": "scattermapbox"
           }
          ],
          "scatterpolar": [
           {
            "marker": {
             "colorbar": {
              "outlinewidth": 0,
              "ticks": ""
             }
            },
            "type": "scatterpolar"
           }
          ],
          "scatterpolargl": [
           {
            "marker": {
             "colorbar": {
              "outlinewidth": 0,
              "ticks": ""
             }
            },
            "type": "scatterpolargl"
           }
          ],
          "scatterternary": [
           {
            "marker": {
             "colorbar": {
              "outlinewidth": 0,
              "ticks": ""
             }
            },
            "type": "scatterternary"
           }
          ],
          "surface": [
           {
            "colorbar": {
             "outlinewidth": 0,
             "ticks": ""
            },
            "colorscale": [
             [
              0,
              "#0d0887"
             ],
             [
              0.1111111111111111,
              "#46039f"
             ],
             [
              0.2222222222222222,
              "#7201a8"
             ],
             [
              0.3333333333333333,
              "#9c179e"
             ],
             [
              0.4444444444444444,
              "#bd3786"
             ],
             [
              0.5555555555555556,
              "#d8576b"
             ],
             [
              0.6666666666666666,
              "#ed7953"
             ],
             [
              0.7777777777777778,
              "#fb9f3a"
             ],
             [
              0.8888888888888888,
              "#fdca26"
             ],
             [
              1,
              "#f0f921"
             ]
            ],
            "type": "surface"
           }
          ],
          "table": [
           {
            "cells": {
             "fill": {
              "color": "#506784"
             },
             "line": {
              "color": "rgb(17,17,17)"
             }
            },
            "header": {
             "fill": {
              "color": "#2a3f5f"
             },
             "line": {
              "color": "rgb(17,17,17)"
             }
            },
            "type": "table"
           }
          ]
         },
         "layout": {
          "annotationdefaults": {
           "arrowcolor": "#f2f5fa",
           "arrowhead": 0,
           "arrowwidth": 1
          },
          "autotypenumbers": "strict",
          "coloraxis": {
           "colorbar": {
            "outlinewidth": 0,
            "ticks": ""
           }
          },
          "colorscale": {
           "diverging": [
            [
             0,
             "#8e0152"
            ],
            [
             0.1,
             "#c51b7d"
            ],
            [
             0.2,
             "#de77ae"
            ],
            [
             0.3,
             "#f1b6da"
            ],
            [
             0.4,
             "#fde0ef"
            ],
            [
             0.5,
             "#f7f7f7"
            ],
            [
             0.6,
             "#e6f5d0"
            ],
            [
             0.7,
             "#b8e186"
            ],
            [
             0.8,
             "#7fbc41"
            ],
            [
             0.9,
             "#4d9221"
            ],
            [
             1,
             "#276419"
            ]
           ],
           "sequential": [
            [
             0,
             "#0d0887"
            ],
            [
             0.1111111111111111,
             "#46039f"
            ],
            [
             0.2222222222222222,
             "#7201a8"
            ],
            [
             0.3333333333333333,
             "#9c179e"
            ],
            [
             0.4444444444444444,
             "#bd3786"
            ],
            [
             0.5555555555555556,
             "#d8576b"
            ],
            [
             0.6666666666666666,
             "#ed7953"
            ],
            [
             0.7777777777777778,
             "#fb9f3a"
            ],
            [
             0.8888888888888888,
             "#fdca26"
            ],
            [
             1,
             "#f0f921"
            ]
           ],
           "sequentialminus": [
            [
             0,
             "#0d0887"
            ],
            [
             0.1111111111111111,
             "#46039f"
            ],
            [
             0.2222222222222222,
             "#7201a8"
            ],
            [
             0.3333333333333333,
             "#9c179e"
            ],
            [
             0.4444444444444444,
             "#bd3786"
            ],
            [
             0.5555555555555556,
             "#d8576b"
            ],
            [
             0.6666666666666666,
             "#ed7953"
            ],
            [
             0.7777777777777778,
             "#fb9f3a"
            ],
            [
             0.8888888888888888,
             "#fdca26"
            ],
            [
             1,
             "#f0f921"
            ]
           ]
          },
          "colorway": [
           "#636efa",
           "#EF553B",
           "#00cc96",
           "#ab63fa",
           "#FFA15A",
           "#19d3f3",
           "#FF6692",
           "#B6E880",
           "#FF97FF",
           "#FECB52"
          ],
          "font": {
           "color": "#f2f5fa"
          },
          "geo": {
           "bgcolor": "rgb(17,17,17)",
           "lakecolor": "rgb(17,17,17)",
           "landcolor": "rgb(17,17,17)",
           "showlakes": true,
           "showland": true,
           "subunitcolor": "#506784"
          },
          "hoverlabel": {
           "align": "left"
          },
          "hovermode": "closest",
          "mapbox": {
           "style": "dark"
          },
          "paper_bgcolor": "rgb(17,17,17)",
          "plot_bgcolor": "rgb(17,17,17)",
          "polar": {
           "angularaxis": {
            "gridcolor": "#506784",
            "linecolor": "#506784",
            "ticks": ""
           },
           "bgcolor": "rgb(17,17,17)",
           "radialaxis": {
            "gridcolor": "#506784",
            "linecolor": "#506784",
            "ticks": ""
           }
          },
          "scene": {
           "xaxis": {
            "backgroundcolor": "rgb(17,17,17)",
            "gridcolor": "#506784",
            "gridwidth": 2,
            "linecolor": "#506784",
            "showbackground": true,
            "ticks": "",
            "zerolinecolor": "#C8D4E3"
           },
           "yaxis": {
            "backgroundcolor": "rgb(17,17,17)",
            "gridcolor": "#506784",
            "gridwidth": 2,
            "linecolor": "#506784",
            "showbackground": true,
            "ticks": "",
            "zerolinecolor": "#C8D4E3"
           },
           "zaxis": {
            "backgroundcolor": "rgb(17,17,17)",
            "gridcolor": "#506784",
            "gridwidth": 2,
            "linecolor": "#506784",
            "showbackground": true,
            "ticks": "",
            "zerolinecolor": "#C8D4E3"
           }
          },
          "shapedefaults": {
           "line": {
            "color": "#f2f5fa"
           }
          },
          "sliderdefaults": {
           "bgcolor": "#C8D4E3",
           "bordercolor": "rgb(17,17,17)",
           "borderwidth": 1,
           "tickwidth": 0
          },
          "ternary": {
           "aaxis": {
            "gridcolor": "#506784",
            "linecolor": "#506784",
            "ticks": ""
           },
           "baxis": {
            "gridcolor": "#506784",
            "linecolor": "#506784",
            "ticks": ""
           },
           "bgcolor": "rgb(17,17,17)",
           "caxis": {
            "gridcolor": "#506784",
            "linecolor": "#506784",
            "ticks": ""
           }
          },
          "title": {
           "x": 0.05
          },
          "updatemenudefaults": {
           "bgcolor": "#506784",
           "borderwidth": 0
          },
          "xaxis": {
           "automargin": true,
           "gridcolor": "#283442",
           "linecolor": "#506784",
           "ticks": "",
           "title": {
            "standoff": 15
           },
           "zerolinecolor": "#283442",
           "zerolinewidth": 2
          },
          "yaxis": {
           "automargin": true,
           "gridcolor": "#283442",
           "linecolor": "#506784",
           "ticks": "",
           "title": {
            "standoff": 15
           },
           "zerolinecolor": "#283442",
           "zerolinewidth": 2
          }
         }
        },
        "updatemenus": [
         {
          "buttons": [
           {
            "args": [
             {
              "visible": [
               true,
               false
              ]
             },
             {
              "coloraxis": {
               "colorbar": {
                "title": "Total Tweet Count"
               }
              }
             }
            ],
            "label": "Total Tweet Count",
            "method": "update"
           },
           {
            "args": [
             {
              "visible": [
               false,
               true
              ]
             },
             {
              "coloraxis": {
               "colorbar": {
                "title": "Total Likes"
               }
              }
             }
            ],
            "label": "Total Likes",
            "method": "update"
           }
          ],
          "direction": "down",
          "showactive": true,
          "x": 0.1,
          "xanchor": "left",
          "y": 1.15,
          "yanchor": "top"
         }
        ]
       }
      }
     },
     "metadata": {},
     "output_type": "display_data"
    }
   ],
   "source": [
    "import plotly.graph_objects as go\n",
    "\n",
    "# Step 1: Aggregate data to get the total tweet count and total likes per state\n",
    "state_totals = merged_df.groupby('states_code', as_index=False).agg({\n",
    "    'tweet_count': 'sum',\n",
    "    'total_likes': 'sum'\n",
    "})\n",
    "\n",
    "# Step 2: Initialize the base figure using go.Figure\n",
    "fig = go.Figure()\n",
    "\n",
    "# Step 3: Add a choropleth trace for Total Tweet Count\n",
    "fig.add_trace(go.Choropleth(\n",
    "    locations=state_totals['states_code'],\n",
    "    z=state_totals['tweet_count'],\n",
    "    locationmode=\"USA-states\",\n",
    "    colorscale=\"Blues\",\n",
    "    colorbar_title=\"Total Tweet Count\",\n",
    "    visible=True,  # Set this trace to be visible by default\n",
    "    hoverinfo=\"location+z\",  # Only show location and value (tweet count)\n",
    "    hovertemplate=\"<b>%{location}</b><br>Total Tweet Count: %{z}<extra></extra>\"  # Custom hover text\n",
    "))\n",
    "\n",
    "# Step 4: Add a choropleth trace for Total Likes\n",
    "fig.add_trace(go.Choropleth(\n",
    "    locations=state_totals['states_code'],\n",
    "    z=state_totals['total_likes'],\n",
    "    locationmode=\"USA-states\",\n",
    "    colorscale=\"Greens\",  # Different color scale for total likes\n",
    "    colorbar_title=\"Total Likes\",\n",
    "    visible=False,  # This trace will be hidden by default\n",
    "    hoverinfo=\"location+z\",  # Only show location and value (total likes)\n",
    "    hovertemplate=\"<b>%{location}</b><br>Total Likes: %{z}<extra></extra>\"  # Custom hover text\n",
    "))\n",
    "\n",
    "# Step 5: Add the dropdown menu for selecting between Total Tweet Count and Total Likes\n",
    "fig.update_layout(\n",
    "    updatemenus=[\n",
    "        {\n",
    "            \"buttons\": [\n",
    "                {\n",
    "                    \"label\": \"Total Tweet Count\",\n",
    "                    \"method\": \"update\",\n",
    "                    \"args\": [\n",
    "                        {\"visible\": [True, False]},  # Show tweet count trace, hide likes trace\n",
    "                        {\"coloraxis\": {\"colorbar\": {\"title\": \"Total Tweet Count\"}}}\n",
    "                    ]\n",
    "                },\n",
    "                {\n",
    "                    \"label\": \"Total Likes\",\n",
    "                    \"method\": \"update\",\n",
    "                    \"args\": [\n",
    "                        {\"visible\": [False, True]},  # Show likes trace, hide tweet count trace\n",
    "                        {\"coloraxis\": {\"colorbar\": {\"title\": \"Total Likes\"}}}\n",
    "                    ]\n",
    "                }\n",
    "            ],\n",
    "            \"direction\": \"down\",\n",
    "            \"showactive\": True,\n",
    "            \"x\": 0.1,\n",
    "            \"xanchor\": \"left\",\n",
    "            \"y\": 1.15,\n",
    "            \"yanchor\": \"top\"\n",
    "        }\n",
    "    ],\n",
    "    geo_scope='usa',  # Limit map scope to the USA\n",
    "    template='plotly_dark',\n",
    "    plot_bgcolor='rgba(0, 0, 0, 0)',\n",
    "    paper_bgcolor='rgba(0, 0, 0, 0)',\n",
    "    margin=dict(l=0, r=0, t=0, b=0),\n",
    "    height=450\n",
    ")\n",
    "\n",
    "# Show the figure\n",
    "fig.show()\n"
   ]
  },
  {
   "cell_type": "code",
   "execution_count": 36,
   "metadata": {},
   "outputs": [
    {
     "data": {
      "application/vnd.plotly.v1+json": {
       "config": {
        "plotlyServerURL": "https://plot.ly"
       },
       "data": [
        {
         "colorbar": {
          "title": {
           "text": "Total Tweet Count"
          }
         },
         "colorscale": [
          [
           0,
           "rgb(247,251,255)"
          ],
          [
           0.125,
           "rgb(222,235,247)"
          ],
          [
           0.25,
           "rgb(198,219,239)"
          ],
          [
           0.375,
           "rgb(158,202,225)"
          ],
          [
           0.5,
           "rgb(107,174,214)"
          ],
          [
           0.625,
           "rgb(66,146,198)"
          ],
          [
           0.75,
           "rgb(33,113,181)"
          ],
          [
           0.875,
           "rgb(8,81,156)"
          ],
          [
           1,
           "rgb(8,48,107)"
          ]
         ],
         "hoverinfo": "location+z",
         "hovertemplate": "<b>%{location}</b><br>Total Tweet Count: %{z}<extra></extra>",
         "locationmode": "USA-states",
         "locations": [
          "AK",
          "AL",
          "AR",
          "AZ",
          "CA",
          "CO",
          "CT",
          "DC",
          "DE",
          "FL",
          "GA",
          "HI",
          "IA",
          "ID",
          "IL",
          "IN",
          "KS",
          "KY",
          "LA",
          "MA",
          "MD",
          "ME",
          "MI",
          "MN",
          "MO",
          "MS",
          "MT",
          "NC",
          "ND",
          "NE",
          "NH",
          "NJ",
          "NM",
          "NV",
          "NY",
          "OH",
          "OK",
          "OR",
          "PA",
          "PR",
          "RI",
          "SC",
          "SD",
          "TN",
          "TX",
          "UT",
          "VA",
          "VT",
          "WA",
          "WI",
          "WV",
          "WY"
         ],
         "type": "choropleth",
         "visible": true,
         "z": [
          30,
          44,
          46,
          172,
          1528,
          357,
          44,
          292,
          7,
          727,
          138,
          26,
          49,
          34,
          313,
          71,
          36,
          33,
          65,
          168,
          94,
          17,
          137,
          75,
          61,
          5,
          25,
          204,
          40,
          21,
          10,
          244,
          22,
          136,
          1022,
          185,
          26,
          179,
          252,
          12,
          5,
          58,
          2,
          118,
          775,
          52,
          112,
          30,
          125,
          75,
          23,
          10
         ]
        },
        {
         "colorbar": {
          "title": {
           "text": "Total Likes"
          }
         },
         "colorscale": [
          [
           0,
           "rgb(247,252,245)"
          ],
          [
           0.125,
           "rgb(229,245,224)"
          ],
          [
           0.25,
           "rgb(199,233,192)"
          ],
          [
           0.375,
           "rgb(161,217,155)"
          ],
          [
           0.5,
           "rgb(116,196,118)"
          ],
          [
           0.625,
           "rgb(65,171,93)"
          ],
          [
           0.75,
           "rgb(35,139,69)"
          ],
          [
           0.875,
           "rgb(0,109,44)"
          ],
          [
           1,
           "rgb(0,68,27)"
          ]
         ],
         "hoverinfo": "location+z",
         "hovertemplate": "<b>%{location}</b><br>Total Likes: %{z}<extra></extra>",
         "locationmode": "USA-states",
         "locations": [
          "AK",
          "AL",
          "AR",
          "AZ",
          "CA",
          "CO",
          "CT",
          "DC",
          "DE",
          "FL",
          "GA",
          "HI",
          "IA",
          "ID",
          "IL",
          "IN",
          "KS",
          "KY",
          "LA",
          "MA",
          "MD",
          "ME",
          "MI",
          "MN",
          "MO",
          "MS",
          "MT",
          "NC",
          "ND",
          "NE",
          "NH",
          "NJ",
          "NM",
          "NV",
          "NY",
          "OH",
          "OK",
          "OR",
          "PA",
          "PR",
          "RI",
          "SC",
          "SD",
          "TN",
          "TX",
          "UT",
          "VA",
          "VT",
          "WA",
          "WI",
          "WV",
          "WY"
         ],
         "type": "choropleth",
         "visible": false,
         "z": [
          6,
          277,
          21,
          170,
          6998,
          274,
          19,
          3416,
          6,
          2051,
          758,
          57,
          80,
          64,
          1509,
          53,
          86,
          69,
          246,
          167,
          207,
          14,
          124,
          57,
          1054,
          14,
          34,
          303,
          58,
          10,
          7,
          2031,
          15,
          647,
          45702,
          313,
          37,
          339,
          357,
          23,
          282,
          584,
          6,
          287,
          6343,
          29,
          223,
          43,
          109,
          153,
          57,
          6
         ]
        }
       ],
       "layout": {
        "geo": {
         "scope": "usa"
        },
        "height": 450,
        "margin": {
         "b": 0,
         "l": 0,
         "r": 0,
         "t": 0
        },
        "paper_bgcolor": "rgba(0, 0, 0, 0)",
        "plot_bgcolor": "rgba(0, 0, 0, 0)",
        "template": {
         "data": {
          "bar": [
           {
            "error_x": {
             "color": "#f2f5fa"
            },
            "error_y": {
             "color": "#f2f5fa"
            },
            "marker": {
             "line": {
              "color": "rgb(17,17,17)",
              "width": 0.5
             },
             "pattern": {
              "fillmode": "overlay",
              "size": 10,
              "solidity": 0.2
             }
            },
            "type": "bar"
           }
          ],
          "barpolar": [
           {
            "marker": {
             "line": {
              "color": "rgb(17,17,17)",
              "width": 0.5
             },
             "pattern": {
              "fillmode": "overlay",
              "size": 10,
              "solidity": 0.2
             }
            },
            "type": "barpolar"
           }
          ],
          "carpet": [
           {
            "aaxis": {
             "endlinecolor": "#A2B1C6",
             "gridcolor": "#506784",
             "linecolor": "#506784",
             "minorgridcolor": "#506784",
             "startlinecolor": "#A2B1C6"
            },
            "baxis": {
             "endlinecolor": "#A2B1C6",
             "gridcolor": "#506784",
             "linecolor": "#506784",
             "minorgridcolor": "#506784",
             "startlinecolor": "#A2B1C6"
            },
            "type": "carpet"
           }
          ],
          "choropleth": [
           {
            "colorbar": {
             "outlinewidth": 0,
             "ticks": ""
            },
            "type": "choropleth"
           }
          ],
          "contour": [
           {
            "colorbar": {
             "outlinewidth": 0,
             "ticks": ""
            },
            "colorscale": [
             [
              0,
              "#0d0887"
             ],
             [
              0.1111111111111111,
              "#46039f"
             ],
             [
              0.2222222222222222,
              "#7201a8"
             ],
             [
              0.3333333333333333,
              "#9c179e"
             ],
             [
              0.4444444444444444,
              "#bd3786"
             ],
             [
              0.5555555555555556,
              "#d8576b"
             ],
             [
              0.6666666666666666,
              "#ed7953"
             ],
             [
              0.7777777777777778,
              "#fb9f3a"
             ],
             [
              0.8888888888888888,
              "#fdca26"
             ],
             [
              1,
              "#f0f921"
             ]
            ],
            "type": "contour"
           }
          ],
          "contourcarpet": [
           {
            "colorbar": {
             "outlinewidth": 0,
             "ticks": ""
            },
            "type": "contourcarpet"
           }
          ],
          "heatmap": [
           {
            "colorbar": {
             "outlinewidth": 0,
             "ticks": ""
            },
            "colorscale": [
             [
              0,
              "#0d0887"
             ],
             [
              0.1111111111111111,
              "#46039f"
             ],
             [
              0.2222222222222222,
              "#7201a8"
             ],
             [
              0.3333333333333333,
              "#9c179e"
             ],
             [
              0.4444444444444444,
              "#bd3786"
             ],
             [
              0.5555555555555556,
              "#d8576b"
             ],
             [
              0.6666666666666666,
              "#ed7953"
             ],
             [
              0.7777777777777778,
              "#fb9f3a"
             ],
             [
              0.8888888888888888,
              "#fdca26"
             ],
             [
              1,
              "#f0f921"
             ]
            ],
            "type": "heatmap"
           }
          ],
          "heatmapgl": [
           {
            "colorbar": {
             "outlinewidth": 0,
             "ticks": ""
            },
            "colorscale": [
             [
              0,
              "#0d0887"
             ],
             [
              0.1111111111111111,
              "#46039f"
             ],
             [
              0.2222222222222222,
              "#7201a8"
             ],
             [
              0.3333333333333333,
              "#9c179e"
             ],
             [
              0.4444444444444444,
              "#bd3786"
             ],
             [
              0.5555555555555556,
              "#d8576b"
             ],
             [
              0.6666666666666666,
              "#ed7953"
             ],
             [
              0.7777777777777778,
              "#fb9f3a"
             ],
             [
              0.8888888888888888,
              "#fdca26"
             ],
             [
              1,
              "#f0f921"
             ]
            ],
            "type": "heatmapgl"
           }
          ],
          "histogram": [
           {
            "marker": {
             "pattern": {
              "fillmode": "overlay",
              "size": 10,
              "solidity": 0.2
             }
            },
            "type": "histogram"
           }
          ],
          "histogram2d": [
           {
            "colorbar": {
             "outlinewidth": 0,
             "ticks": ""
            },
            "colorscale": [
             [
              0,
              "#0d0887"
             ],
             [
              0.1111111111111111,
              "#46039f"
             ],
             [
              0.2222222222222222,
              "#7201a8"
             ],
             [
              0.3333333333333333,
              "#9c179e"
             ],
             [
              0.4444444444444444,
              "#bd3786"
             ],
             [
              0.5555555555555556,
              "#d8576b"
             ],
             [
              0.6666666666666666,
              "#ed7953"
             ],
             [
              0.7777777777777778,
              "#fb9f3a"
             ],
             [
              0.8888888888888888,
              "#fdca26"
             ],
             [
              1,
              "#f0f921"
             ]
            ],
            "type": "histogram2d"
           }
          ],
          "histogram2dcontour": [
           {
            "colorbar": {
             "outlinewidth": 0,
             "ticks": ""
            },
            "colorscale": [
             [
              0,
              "#0d0887"
             ],
             [
              0.1111111111111111,
              "#46039f"
             ],
             [
              0.2222222222222222,
              "#7201a8"
             ],
             [
              0.3333333333333333,
              "#9c179e"
             ],
             [
              0.4444444444444444,
              "#bd3786"
             ],
             [
              0.5555555555555556,
              "#d8576b"
             ],
             [
              0.6666666666666666,
              "#ed7953"
             ],
             [
              0.7777777777777778,
              "#fb9f3a"
             ],
             [
              0.8888888888888888,
              "#fdca26"
             ],
             [
              1,
              "#f0f921"
             ]
            ],
            "type": "histogram2dcontour"
           }
          ],
          "mesh3d": [
           {
            "colorbar": {
             "outlinewidth": 0,
             "ticks": ""
            },
            "type": "mesh3d"
           }
          ],
          "parcoords": [
           {
            "line": {
             "colorbar": {
              "outlinewidth": 0,
              "ticks": ""
             }
            },
            "type": "parcoords"
           }
          ],
          "pie": [
           {
            "automargin": true,
            "type": "pie"
           }
          ],
          "scatter": [
           {
            "marker": {
             "line": {
              "color": "#283442"
             }
            },
            "type": "scatter"
           }
          ],
          "scatter3d": [
           {
            "line": {
             "colorbar": {
              "outlinewidth": 0,
              "ticks": ""
             }
            },
            "marker": {
             "colorbar": {
              "outlinewidth": 0,
              "ticks": ""
             }
            },
            "type": "scatter3d"
           }
          ],
          "scattercarpet": [
           {
            "marker": {
             "colorbar": {
              "outlinewidth": 0,
              "ticks": ""
             }
            },
            "type": "scattercarpet"
           }
          ],
          "scattergeo": [
           {
            "marker": {
             "colorbar": {
              "outlinewidth": 0,
              "ticks": ""
             }
            },
            "type": "scattergeo"
           }
          ],
          "scattergl": [
           {
            "marker": {
             "line": {
              "color": "#283442"
             }
            },
            "type": "scattergl"
           }
          ],
          "scattermapbox": [
           {
            "marker": {
             "colorbar": {
              "outlinewidth": 0,
              "ticks": ""
             }
            },
            "type": "scattermapbox"
           }
          ],
          "scatterpolar": [
           {
            "marker": {
             "colorbar": {
              "outlinewidth": 0,
              "ticks": ""
             }
            },
            "type": "scatterpolar"
           }
          ],
          "scatterpolargl": [
           {
            "marker": {
             "colorbar": {
              "outlinewidth": 0,
              "ticks": ""
             }
            },
            "type": "scatterpolargl"
           }
          ],
          "scatterternary": [
           {
            "marker": {
             "colorbar": {
              "outlinewidth": 0,
              "ticks": ""
             }
            },
            "type": "scatterternary"
           }
          ],
          "surface": [
           {
            "colorbar": {
             "outlinewidth": 0,
             "ticks": ""
            },
            "colorscale": [
             [
              0,
              "#0d0887"
             ],
             [
              0.1111111111111111,
              "#46039f"
             ],
             [
              0.2222222222222222,
              "#7201a8"
             ],
             [
              0.3333333333333333,
              "#9c179e"
             ],
             [
              0.4444444444444444,
              "#bd3786"
             ],
             [
              0.5555555555555556,
              "#d8576b"
             ],
             [
              0.6666666666666666,
              "#ed7953"
             ],
             [
              0.7777777777777778,
              "#fb9f3a"
             ],
             [
              0.8888888888888888,
              "#fdca26"
             ],
             [
              1,
              "#f0f921"
             ]
            ],
            "type": "surface"
           }
          ],
          "table": [
           {
            "cells": {
             "fill": {
              "color": "#506784"
             },
             "line": {
              "color": "rgb(17,17,17)"
             }
            },
            "header": {
             "fill": {
              "color": "#2a3f5f"
             },
             "line": {
              "color": "rgb(17,17,17)"
             }
            },
            "type": "table"
           }
          ]
         },
         "layout": {
          "annotationdefaults": {
           "arrowcolor": "#f2f5fa",
           "arrowhead": 0,
           "arrowwidth": 1
          },
          "autotypenumbers": "strict",
          "coloraxis": {
           "colorbar": {
            "outlinewidth": 0,
            "ticks": ""
           }
          },
          "colorscale": {
           "diverging": [
            [
             0,
             "#8e0152"
            ],
            [
             0.1,
             "#c51b7d"
            ],
            [
             0.2,
             "#de77ae"
            ],
            [
             0.3,
             "#f1b6da"
            ],
            [
             0.4,
             "#fde0ef"
            ],
            [
             0.5,
             "#f7f7f7"
            ],
            [
             0.6,
             "#e6f5d0"
            ],
            [
             0.7,
             "#b8e186"
            ],
            [
             0.8,
             "#7fbc41"
            ],
            [
             0.9,
             "#4d9221"
            ],
            [
             1,
             "#276419"
            ]
           ],
           "sequential": [
            [
             0,
             "#0d0887"
            ],
            [
             0.1111111111111111,
             "#46039f"
            ],
            [
             0.2222222222222222,
             "#7201a8"
            ],
            [
             0.3333333333333333,
             "#9c179e"
            ],
            [
             0.4444444444444444,
             "#bd3786"
            ],
            [
             0.5555555555555556,
             "#d8576b"
            ],
            [
             0.6666666666666666,
             "#ed7953"
            ],
            [
             0.7777777777777778,
             "#fb9f3a"
            ],
            [
             0.8888888888888888,
             "#fdca26"
            ],
            [
             1,
             "#f0f921"
            ]
           ],
           "sequentialminus": [
            [
             0,
             "#0d0887"
            ],
            [
             0.1111111111111111,
             "#46039f"
            ],
            [
             0.2222222222222222,
             "#7201a8"
            ],
            [
             0.3333333333333333,
             "#9c179e"
            ],
            [
             0.4444444444444444,
             "#bd3786"
            ],
            [
             0.5555555555555556,
             "#d8576b"
            ],
            [
             0.6666666666666666,
             "#ed7953"
            ],
            [
             0.7777777777777778,
             "#fb9f3a"
            ],
            [
             0.8888888888888888,
             "#fdca26"
            ],
            [
             1,
             "#f0f921"
            ]
           ]
          },
          "colorway": [
           "#636efa",
           "#EF553B",
           "#00cc96",
           "#ab63fa",
           "#FFA15A",
           "#19d3f3",
           "#FF6692",
           "#B6E880",
           "#FF97FF",
           "#FECB52"
          ],
          "font": {
           "color": "#f2f5fa"
          },
          "geo": {
           "bgcolor": "rgb(17,17,17)",
           "lakecolor": "rgb(17,17,17)",
           "landcolor": "rgb(17,17,17)",
           "showlakes": true,
           "showland": true,
           "subunitcolor": "#506784"
          },
          "hoverlabel": {
           "align": "left"
          },
          "hovermode": "closest",
          "mapbox": {
           "style": "dark"
          },
          "paper_bgcolor": "rgb(17,17,17)",
          "plot_bgcolor": "rgb(17,17,17)",
          "polar": {
           "angularaxis": {
            "gridcolor": "#506784",
            "linecolor": "#506784",
            "ticks": ""
           },
           "bgcolor": "rgb(17,17,17)",
           "radialaxis": {
            "gridcolor": "#506784",
            "linecolor": "#506784",
            "ticks": ""
           }
          },
          "scene": {
           "xaxis": {
            "backgroundcolor": "rgb(17,17,17)",
            "gridcolor": "#506784",
            "gridwidth": 2,
            "linecolor": "#506784",
            "showbackground": true,
            "ticks": "",
            "zerolinecolor": "#C8D4E3"
           },
           "yaxis": {
            "backgroundcolor": "rgb(17,17,17)",
            "gridcolor": "#506784",
            "gridwidth": 2,
            "linecolor": "#506784",
            "showbackground": true,
            "ticks": "",
            "zerolinecolor": "#C8D4E3"
           },
           "zaxis": {
            "backgroundcolor": "rgb(17,17,17)",
            "gridcolor": "#506784",
            "gridwidth": 2,
            "linecolor": "#506784",
            "showbackground": true,
            "ticks": "",
            "zerolinecolor": "#C8D4E3"
           }
          },
          "shapedefaults": {
           "line": {
            "color": "#f2f5fa"
           }
          },
          "sliderdefaults": {
           "bgcolor": "#C8D4E3",
           "bordercolor": "rgb(17,17,17)",
           "borderwidth": 1,
           "tickwidth": 0
          },
          "ternary": {
           "aaxis": {
            "gridcolor": "#506784",
            "linecolor": "#506784",
            "ticks": ""
           },
           "baxis": {
            "gridcolor": "#506784",
            "linecolor": "#506784",
            "ticks": ""
           },
           "bgcolor": "rgb(17,17,17)",
           "caxis": {
            "gridcolor": "#506784",
            "linecolor": "#506784",
            "ticks": ""
           }
          },
          "title": {
           "x": 0.05
          },
          "updatemenudefaults": {
           "bgcolor": "#506784",
           "borderwidth": 0
          },
          "xaxis": {
           "automargin": true,
           "gridcolor": "#283442",
           "linecolor": "#506784",
           "ticks": "",
           "title": {
            "standoff": 15
           },
           "zerolinecolor": "#283442",
           "zerolinewidth": 2
          },
          "yaxis": {
           "automargin": true,
           "gridcolor": "#283442",
           "linecolor": "#506784",
           "ticks": "",
           "title": {
            "standoff": 15
           },
           "zerolinecolor": "#283442",
           "zerolinewidth": 2
          }
         }
        },
        "updatemenus": [
         {
          "buttons": [
           {
            "args": [
             {
              "visible": [
               true,
               false
              ]
             },
             {
              "coloraxis": {
               "colorbar": {
                "title": "Total Tweet Count"
               }
              }
             }
            ],
            "label": "Total Tweet Count",
            "method": "update"
           },
           {
            "args": [
             {
              "visible": [
               false,
               true
              ]
             },
             {
              "coloraxis": {
               "colorbar": {
                "title": "Total Likes"
               }
              }
             }
            ],
            "label": "Total Likes",
            "method": "update"
           }
          ],
          "direction": "down",
          "showactive": true,
          "x": 0.1,
          "xanchor": "left",
          "y": 1.15,
          "yanchor": "top"
         },
         {
          "buttons": [
           {
            "args": [
             {
              "z": [
               [
                30,
                44,
                46,
                172,
                1528,
                357,
                44,
                292,
                7,
                727,
                138,
                26,
                49,
                34,
                313,
                71,
                36,
                33,
                65,
                168,
                94,
                17,
                137,
                75,
                61,
                5,
                25,
                204,
                40,
                21,
                10,
                244,
                22,
                136,
                1022,
                185,
                26,
                179,
                252,
                12,
                5,
                58,
                2,
                118,
                775,
                52,
                112,
                30,
                125,
                75,
                23,
                10
               ],
               [
                6,
                277,
                21,
                170,
                6998,
                274,
                19,
                3416,
                6,
                2051,
                758,
                57,
                80,
                64,
                1509,
                53,
                86,
                69,
                246,
                167,
                207,
                14,
                124,
                57,
                1054,
                14,
                34,
                303,
                58,
                10,
                7,
                2031,
                15,
                647,
                45702,
                313,
                37,
                339,
                357,
                23,
                282,
                584,
                6,
                287,
                6343,
                29,
                223,
                43,
                109,
                153,
                57,
                6
               ]
              ]
             }
            ],
            "label": "2020-10-15",
            "method": "update"
           },
           {
            "args": [
             {
              "z": [
               [
                41,
                59,
                77,
                188,
                1920,
                203,
                55,
                541,
                12,
                1066,
                198,
                45,
                64,
                32,
                460,
                104,
                79,
                93,
                66,
                289,
                181,
                18,
                208,
                118,
                131,
                12,
                22,
                213,
                39,
                49,
                19,
                311,
                35,
                145,
                1677,
                283,
                46,
                270,
                443,
                21,
                9,
                84,
                7,
                178,
                1013,
                65,
                178,
                65,
                191,
                100,
                37,
                22
               ],
               [
                21,
                618,
                258,
                548,
                23981,
                646,
                399,
                14065,
                1,
                3512,
                885,
                79,
                140,
                87,
                3634,
                122,
                364,
                114,
                209,
                399,
                371,
                31,
                388,
                174,
                260,
                9,
                8,
                198,
                43,
                17,
                27,
                3088,
                28,
                313,
                285893,
                947,
                79,
                503,
                2095,
                33,
                4,
                661,
                8,
                372,
                9033,
                131,
                600,
                50,
                454,
                357,
                111,
                24
               ]
              ]
             }
            ],
            "label": "2020-10-16",
            "method": "update"
           },
           {
            "args": [
             {
              "z": [
               [
                24,
                29,
                17,
                94,
                1441,
                125,
                41,
                281,
                2,
                648,
                83,
                28,
                27,
                25,
                247,
                40,
                25,
                55,
                29,
                154,
                84,
                14,
                157,
                66,
                68,
                4,
                11,
                143,
                11,
                14,
                11,
                167,
                27,
                77,
                927,
                143,
                18,
                131,
                249,
                11,
                14,
                44,
                2,
                63,
                615,
                29,
                78,
                40,
                109,
                96,
                19,
                11
               ],
               [
                37,
                142,
                3,
                153,
                2778,
                267,
                164,
                8739,
                0,
                2288,
                102,
                26,
                53,
                27,
                909,
                165,
                22,
                209,
                455,
                312,
                85,
                5,
                300,
                90,
                101,
                3,
                2,
                153,
                4,
                8,
                16,
                1022,
                48,
                206,
                18358,
                1679,
                19,
                255,
                596,
                5,
                521,
                392,
                1,
                164,
                5527,
                33,
                37,
                52,
                217,
                1122,
                9,
                8
               ]
              ]
             }
            ],
            "label": "2020-10-17",
            "method": "update"
           },
           {
            "args": [
             {
              "z": [
               [
                20,
                27,
                19,
                106,
                1439,
                150,
                52,
                250,
                6,
                667,
                70,
                29,
                35,
                18,
                265,
                57,
                35,
                59,
                33,
                139,
                85,
                11,
                134,
                53,
                93,
                6,
                12,
                128,
                10,
                13,
                12,
                136,
                22,
                109,
                756,
                145,
                38,
                141,
                224,
                8,
                7,
                58,
                79,
                705,
                41,
                79,
                31,
                125,
                78,
                5,
                19
               ],
               [
                28,
                39,
                14,
                201,
                3415,
                324,
                591,
                11976,
                2,
                1978,
                114,
                21,
                92,
                123,
                4144,
                59,
                64,
                509,
                217,
                184,
                65,
                5,
                108,
                58,
                37,
                64,
                7,
                316,
                6,
                5,
                31,
                1592,
                14,
                839,
                44965,
                188,
                33,
                645,
                335,
                81,
                8,
                332,
                72,
                1720,
                190,
                45,
                19,
                85,
                156,
                19,
                17
               ]
              ]
             }
            ],
            "label": "2020-10-18",
            "method": "update"
           },
           {
            "args": [
             {
              "z": [
               [
                10,
                40,
                31,
                159,
                1302,
                164,
                32,
                342,
                5,
                679,
                90,
                42,
                64,
                17,
                269,
                54,
                41,
                39,
                61,
                167,
                107,
                22,
                120,
                86,
                93,
                9,
                11,
                164,
                17,
                22,
                11,
                197,
                15,
                103,
                915,
                182,
                28,
                158,
                312,
                18,
                6,
                42,
                2,
                103,
                676,
                24,
                120,
                43,
                121,
                59,
                14,
                21
               ],
               [
                4,
                493,
                21,
                640,
                2992,
                203,
                159,
                7065,
                4,
                3169,
                1095,
                135,
                136,
                19,
                1984,
                36,
                37,
                221,
                63,
                360,
                92,
                6,
                126,
                85,
                62,
                65,
                7,
                182,
                15,
                19,
                36,
                576,
                10,
                146,
                22210,
                171,
                18,
                839,
                902,
                12,
                7,
                214,
                0,
                791,
                3768,
                28,
                178,
                37,
                174,
                107,
                4,
                19
               ]
              ]
             }
            ],
            "label": "2020-10-19",
            "method": "update"
           },
           {
            "args": [
             {
              "z": [
               [
                11,
                27,
                28,
                135,
                1216,
                126,
                40,
                341,
                12,
                670,
                121,
                36,
                35,
                20,
                259,
                53,
                36,
                46,
                45,
                166,
                101,
                7,
                138,
                81,
                114,
                12,
                15,
                130,
                11,
                34,
                17,
                201,
                23,
                118,
                954,
                216,
                46,
                206,
                366,
                18,
                7,
                47,
                2,
                70,
                755,
                24,
                107,
                32,
                116,
                75,
                20,
                19
               ],
               [
                33,
                36,
                15,
                562,
                3086,
                353,
                354,
                17016,
                2,
                1206,
                1786,
                62,
                76,
                27,
                799,
                58,
                79,
                408,
                207,
                182,
                118,
                11,
                263,
                112,
                218,
                45,
                24,
                134,
                21,
                25,
                311,
                1832,
                10,
                199,
                17080,
                218,
                65,
                240,
                625,
                33,
                5,
                461,
                0,
                183,
                8094,
                16,
                104,
                127,
                187,
                41,
                16,
                151
               ]
              ]
             }
            ],
            "label": "2020-10-20",
            "method": "update"
           },
           {
            "args": [
             {
              "z": [
               [
                13,
                44,
                30,
                157,
                1435,
                220,
                53,
                408,
                25,
                684,
                109,
                49,
                46,
                38,
                265,
                73,
                52,
                63,
                61,
                205,
                107,
                32,
                122,
                101,
                79,
                16,
                13,
                171,
                34,
                18,
                33,
                201,
                15,
                134,
                1086,
                175,
                31,
                255,
                305,
                16,
                20,
                40,
                5,
                94,
                670,
                64,
                112,
                65,
                122,
                84,
                11,
                27
               ],
               [
                6,
                60,
                120,
                262,
                4440,
                196,
                550,
                13538,
                43,
                985,
                635,
                24,
                296,
                50,
                372,
                120,
                58,
                76,
                707,
                377,
                137,
                29,
                107,
                296,
                55,
                14,
                9,
                325,
                24,
                13,
                41,
                829,
                36,
                501,
                34140,
                380,
                47,
                456,
                416,
                22,
                353,
                246,
                6,
                440,
                5709,
                31,
                317,
                52,
                124,
                301,
                64,
                13
               ]
              ]
             }
            ],
            "label": "2020-10-21",
            "method": "update"
           },
           {
            "args": [
             {
              "z": [
               [
                15,
                62,
                26,
                180,
                1524,
                162,
                58,
                401,
                25,
                943,
                156,
                48,
                24,
                37,
                345,
                51,
                54,
                59,
                57,
                196,
                137,
                25,
                175,
                109,
                122,
                21,
                13,
                188,
                45,
                25,
                44,
                249,
                27,
                107,
                1133,
                233,
                53,
                176,
                349,
                14,
                6,
                74,
                2,
                122,
                816,
                107,
                162,
                65,
                130,
                80,
                14,
                18
               ],
               [
                23,
                61,
                26,
                602,
                3977,
                896,
                429,
                19109,
                18,
                1833,
                1391,
                95,
                51,
                17,
                641,
                55,
                169,
                150,
                262,
                520,
                357,
                27,
                271,
                131,
                654,
                57,
                12,
                444,
                39,
                22,
                48,
                1924,
                107,
                202,
                15783,
                345,
                43,
                601,
                960,
                10,
                5,
                934,
                0,
                310,
                8967,
                14,
                1593,
                56,
                166,
                111,
                5,
                38
               ]
              ]
             }
            ],
            "label": "2020-10-22",
            "method": "update"
           },
           {
            "args": [
             {
              "z": [
               [
                58,
                146,
                71,
                453,
                3782,
                447,
                174,
                1113,
                48,
                1841,
                525,
                67,
                146,
                76,
                963,
                195,
                168,
                232,
                189,
                650,
                315,
                61,
                407,
                284,
                326,
                69,
                33,
                511,
                56,
                47,
                33,
                590,
                60,
                295,
                2881,
                441,
                96,
                424,
                756,
                43,
                49,
                215,
                10,
                290,
                2069,
                137,
                279,
                84,
                299,
                183,
                54,
                32
               ],
               [
                52,
                644,
                79,
                1079,
                10817,
                854,
                1591,
                27868,
                32,
                4169,
                3323,
                167,
                306,
                89,
                1388,
                649,
                1476,
                1805,
                173,
                1988,
                474,
                47,
                660,
                1027,
                3710,
                55,
                43,
                1929,
                78,
                38,
                63,
                8633,
                73,
                1397,
                106366,
                931,
                102,
                576,
                7024,
                50,
                310,
                542,
                2,
                425,
                13932,
                144,
                1337,
                53,
                476,
                139,
                57,
                43
               ]
              ]
             }
            ],
            "label": "2020-10-23",
            "method": "update"
           },
           {
            "args": [
             {
              "z": [
               [
                20,
                33,
                24,
                139,
                1273,
                104,
                52,
                290,
                15,
                654,
                116,
                33,
                24,
                36,
                292,
                47,
                46,
                56,
                64,
                264,
                94,
                19,
                122,
                83,
                82,
                25,
                14,
                156,
                11,
                25,
                14,
                181,
                17,
                104,
                904,
                165,
                37,
                131,
                296,
                17,
                20,
                63,
                5,
                86,
                794,
                66,
                87,
                41,
                115,
                49,
                10,
                16
               ],
               [
                19,
                54,
                7,
                187,
                6692,
                188,
                495,
                15303,
                37,
                2196,
                1244,
                139,
                90,
                52,
                997,
                42,
                192,
                648,
                171,
                281,
                389,
                31,
                254,
                218,
                253,
                37,
                21,
                279,
                21,
                29,
                18,
                284,
                9,
                229,
                52156,
                3033,
                51,
                385,
                1099,
                5,
                169,
                591,
                7,
                271,
                5750,
                1107,
                134,
                71,
                220,
                46,
                18,
                6
               ]
              ]
             }
            ],
            "label": "2020-10-24",
            "method": "update"
           },
           {
            "args": [
             {
              "z": [
               [
                22,
                32,
                22,
                109,
                1364,
                108,
                55,
                253,
                7,
                747,
                103,
                25,
                30,
                18,
                272,
                47,
                33,
                47,
                49,
                251,
                99,
                45,
                167,
                73,
                89,
                14,
                11,
                122,
                5,
                11,
                14,
                232,
                18,
                87,
                874,
                155,
                26,
                163,
                267,
                24,
                10,
                67,
                3,
                66,
                679,
                50,
                113,
                16,
                94,
                86,
                12,
                12
               ],
               [
                34,
                200,
                15,
                155,
                4871,
                1047,
                188,
                9468,
                10,
                2174,
                69,
                43,
                99,
                20,
                1308,
                109,
                207,
                73,
                32,
                548,
                164,
                149,
                172,
                705,
                488,
                26,
                9,
                517,
                8,
                7,
                42,
                1756,
                6,
                256,
                42069,
                361,
                29,
                466,
                1238,
                14,
                4,
                941,
                0,
                6466,
                4223,
                25,
                432,
                7,
                111,
                155,
                6,
                36
               ]
              ]
             }
            ],
            "label": "2020-10-25",
            "method": "update"
           },
           {
            "args": [
             {
              "z": [
               [
                24,
                37,
                41,
                114,
                1306,
                155,
                51,
                404,
                8,
                668,
                120,
                37,
                29,
                31,
                332,
                62,
                45,
                72,
                51,
                227,
                95,
                29,
                130,
                62,
                115,
                8,
                12,
                138,
                30,
                14,
                8,
                236,
                20,
                113,
                1054,
                189,
                55,
                172,
                454,
                22,
                7,
                53,
                3,
                141,
                715,
                56,
                94,
                42,
                169,
                77,
                20,
                22
               ],
               [
                9,
                141,
                23,
                335,
                2019,
                260,
                993,
                121909,
                30,
                2240,
                1051,
                40,
                74,
                63,
                407,
                76,
                28,
                269,
                350,
                1079,
                203,
                25,
                407,
                76,
                77,
                10,
                12,
                329,
                12,
                16,
                2,
                4324,
                75,
                1064,
                35794,
                521,
                111,
                394,
                1252,
                38,
                61,
                831,
                0,
                520,
                3945,
                46,
                90,
                40,
                128,
                59,
                16,
                565
               ]
              ]
             }
            ],
            "label": "2020-10-26",
            "method": "update"
           },
           {
            "args": [
             {
              "z": [
               [
                31,
                32,
                30,
                120,
                1398,
                125,
                63,
                313,
                42,
                765,
                158,
                35,
                42,
                34,
                285,
                60,
                43,
                78,
                66,
                228,
                122,
                20,
                197,
                97,
                87,
                5,
                9,
                149,
                22,
                22,
                8,
                236,
                17,
                84,
                1222,
                172,
                38,
                161,
                331,
                23,
                17,
                68,
                2,
                99,
                682,
                38,
                147,
                25,
                112,
                102,
                22,
                20
               ],
               [
                13,
                120,
                23,
                340,
                4124,
                502,
                393,
                16110,
                25,
                1890,
                1049,
                38,
                687,
                29,
                447,
                233,
                17,
                118,
                362,
                279,
                64,
                47,
                615,
                139,
                91,
                17,
                12,
                332,
                16,
                69,
                2,
                2414,
                1,
                460,
                88486,
                132,
                16,
                480,
                749,
                36,
                189,
                408,
                1,
                825,
                4203,
                8,
                105,
                12,
                155,
                121,
                12,
                63
               ]
              ]
             }
            ],
            "label": "2020-10-27",
            "method": "update"
           },
           {
            "args": [
             {
              "z": [
               [
                29,
                44,
                28,
                150,
                1483,
                240,
                61,
                402,
                9,
                765,
                178,
                36,
                51,
                14,
                303,
                62,
                53,
                92,
                69,
                317,
                96,
                18,
                178,
                107,
                132,
                9,
                19,
                192,
                25,
                24,
                17,
                260,
                29,
                157,
                1254,
                217,
                51,
                173,
                436,
                27,
                17,
                117,
                10,
                133,
                909,
                56,
                130,
                67,
                132,
                86,
                14,
                19
               ],
               [
                56,
                700,
                32,
                243,
                3232,
                272,
                176,
                14135,
                28,
                1833,
                2555,
                128,
                188,
                40,
                446,
                17,
                56,
                580,
                390,
                801,
                100,
                19,
                879,
                155,
                152,
                59,
                25,
                353,
                12,
                37,
                52,
                1208,
                31,
                590,
                18844,
                207,
                36,
                415,
                1336,
                19,
                168,
                887,
                48,
                259,
                11329,
                50,
                311,
                52,
                114,
                347,
                9,
                21
               ]
              ]
             }
            ],
            "label": "2020-10-28",
            "method": "update"
           },
           {
            "args": [
             {
              "z": [
               [
                38,
                36,
                13,
                204,
                1340,
                190,
                50,
                372,
                10,
                805,
                122,
                28,
                19,
                21,
                278,
                47,
                37,
                53,
                41,
                205,
                98,
                12,
                147,
                76,
                83,
                11,
                15,
                155,
                17,
                14,
                15,
                201,
                17,
                112,
                1009,
                161,
                43,
                128,
                463,
                21,
                15,
                60,
                4,
                119,
                652,
                74,
                95,
                38,
                193,
                70,
                15,
                7
               ],
               [
                38,
                105,
                58,
                281,
                3399,
                1024,
                743,
                11520,
                6,
                1936,
                963,
                96,
                91,
                32,
                371,
                25,
                174,
                83,
                138,
                276,
                129,
                2,
                137,
                171,
                73,
                4,
                1649,
                200,
                11,
                4,
                87,
                2331,
                46,
                515,
                23423,
                467,
                63,
                1435,
                666,
                10,
                701,
                377,
                2,
                492,
                2814,
                59,
                264,
                84,
                124,
                154,
                10,
                0
               ]
              ]
             }
            ],
            "label": "2020-10-29",
            "method": "update"
           },
           {
            "args": [
             {
              "z": [
               [
                21,
                51,
                22,
                131,
                1332,
                94,
                61,
                396,
                9,
                749,
                135,
                26,
                36,
                22,
                289,
                55,
                40,
                54,
                52,
                195,
                109,
                12,
                152,
                132,
                73,
                8,
                16,
                130,
                25,
                17,
                18,
                244,
                27,
                138,
                1045,
                148,
                44,
                138,
                265,
                14,
                14,
                54,
                1,
                98,
                798,
                46,
                110,
                48,
                112,
                92,
                14,
                13
               ],
               [
                9,
                124,
                21,
                483,
                9761,
                76,
                365,
                18068,
                1,
                1432,
                1039,
                51,
                55,
                31,
                1309,
                48,
                39,
                43,
                219,
                557,
                124,
                3,
                123,
                404,
                59,
                15,
                10,
                4168,
                92,
                12,
                50,
                3320,
                13,
                801,
                28366,
                481,
                102,
                697,
                1599,
                9,
                14,
                1030,
                0,
                188,
                6391,
                25,
                267,
                75,
                83,
                289,
                14,
                3
               ]
              ]
             }
            ],
            "label": "2020-10-30",
            "method": "update"
           },
           {
            "args": [
             {
              "z": [
               [
                14,
                44,
                33,
                118,
                1311,
                189,
                60,
                325,
                6,
                691,
                95,
                64,
                29,
                24,
                274,
                42,
                38,
                42,
                56,
                189,
                91,
                11,
                157,
                81,
                113,
                6,
                9,
                146,
                14,
                19,
                17,
                245,
                21,
                130,
                999,
                170,
                46,
                127,
                272,
                14,
                12,
                43,
                1,
                184,
                648,
                35,
                86,
                34,
                144,
                65,
                16,
                12
               ],
               [
                5,
                206,
                10,
                141,
                3801,
                308,
                294,
                5016,
                5,
                2740,
                131,
                63,
                932,
                33,
                1158,
                223,
                77,
                662,
                927,
                281,
                793,
                23,
                206,
                109,
                109,
                7,
                17,
                442,
                23,
                11,
                22,
                1342,
                12,
                347,
                16937,
                288,
                29,
                378,
                930,
                34,
                244,
                31,
                1,
                209,
                3108,
                45,
                125,
                33,
                157,
                183,
                3,
                10
               ]
              ]
             }
            ],
            "label": "2020-10-31",
            "method": "update"
           },
           {
            "args": [
             {
              "z": [
               [
                18,
                55,
                19,
                192,
                1534,
                225,
                45,
                467,
                7,
                777,
                159,
                33,
                35,
                29,
                401,
                64,
                32,
                63,
                40,
                226,
                114,
                14,
                163,
                137,
                136,
                12,
                12,
                202,
                17,
                19,
                12,
                413,
                20,
                114,
                1350,
                223,
                62,
                177,
                372,
                20,
                19,
                50,
                6,
                89,
                941,
                46,
                112,
                29,
                118,
                76,
                25,
                16
               ],
               [
                6,
                116,
                5,
                1097,
                19422,
                354,
                323,
                18574,
                30,
                3043,
                317,
                56,
                121,
                25,
                1378,
                998,
                29,
                128,
                749,
                304,
                351,
                21,
                456,
                120,
                56,
                10,
                5,
                541,
                57,
                18,
                7,
                944,
                22,
                764,
                72683,
                331,
                69,
                683,
                1344,
                6,
                1554,
                107,
                50,
                1266,
                8628,
                20,
                213,
                32,
                148,
                225,
                14,
                9
               ]
              ]
             }
            ],
            "label": "2020-11-01",
            "method": "update"
           },
           {
            "args": [
             {
              "z": [
               [
                14,
                60,
                33,
                267,
                2081,
                197,
                93,
                581,
                12,
                1052,
                217,
                60,
                54,
                54,
                564,
                85,
                73,
                108,
                79,
                338,
                176,
                28,
                235,
                116,
                178,
                19,
                22,
                276,
                24,
                32,
                31,
                366,
                32,
                182,
                1615,
                555,
                70,
                171,
                528,
                34,
                20,
                77,
                3,
                232,
                1242,
                49,
                187,
                27,
                195,
                132,
                18,
                10
               ],
               [
                8,
                109,
                91,
                989,
                10262,
                1273,
                1153,
                21766,
                3,
                5475,
                1831,
                123,
                627,
                83,
                2764,
                76,
                91,
                506,
                673,
                3258,
                179,
                19,
                292,
                195,
                67,
                37,
                7,
                419,
                35,
                33,
                152,
                2402,
                11,
                445,
                40525,
                758,
                101,
                493,
                1934,
                17,
                403,
                87,
                1,
                854,
                3532,
                43,
                328,
                9,
                135,
                222,
                29,
                74
               ]
              ]
             }
            ],
            "label": "2020-11-02",
            "method": "update"
           },
           {
            "args": [
             {
              "z": [
               [
                36,
                65,
                20,
                272,
                2405,
                214,
                107,
                720,
                25,
                1227,
                231,
                66,
                57,
                48,
                484,
                123,
                115,
                97,
                83,
                315,
                205,
                39,
                245,
                163,
                190,
                24,
                16,
                272,
                31,
                27,
                31,
                378,
                33,
                204,
                1847,
                486,
                75,
                243,
                546,
                42,
                18,
                85,
                1,
                227,
                1343,
                111,
                179,
                29,
                166,
                109,
                19,
                16
               ],
               [
                45,
                77,
                12,
                708,
                14229,
                359,
                1424,
                14850,
                18,
                7261,
                1148,
                86,
                104,
                31,
                2886,
                360,
                236,
                183,
                176,
                647,
                517,
                176,
                316,
                348,
                191,
                23,
                6,
                463,
                48,
                23,
                146,
                2142,
                66,
                23946,
                48872,
                1039,
                79,
                2120,
                5377,
                33,
                93,
                569,
                3,
                2962,
                10914,
                137,
                787,
                18,
                287,
                421,
                12,
                20
               ]
              ]
             }
            ],
            "label": "2020-11-03",
            "method": "update"
           },
           {
            "args": [
             {
              "z": [
               [
                28,
                89,
                63,
                327,
                3587,
                386,
                108,
                1208,
                26,
                1382,
                459,
                54,
                80,
                41,
                729,
                180,
                105,
                138,
                152,
                505,
                206,
                37,
                446,
                210,
                300,
                23,
                15,
                328,
                30,
                38,
                31,
                455,
                65,
                310,
                2564,
                500,
                81,
                206,
                620,
                55,
                21,
                96,
                13,
                228,
                1753,
                92,
                329,
                24,
                257,
                233,
                32,
                22
               ],
               [
                29,
                484,
                123,
                1872,
                24303,
                739,
                2641,
                62065,
                16,
                5748,
                4317,
                61,
                180,
                107,
                4922,
                261,
                303,
                437,
                233,
                2798,
                247,
                316,
                1503,
                368,
                304,
                24,
                23,
                940,
                120,
                677,
                24,
                3623,
                72,
                1177,
                71589,
                1738,
                268,
                688,
                8082,
                168,
                31,
                1568,
                3,
                3002,
                9239,
                77,
                1355,
                40,
                456,
                2064,
                41,
                19
               ]
              ]
             }
            ],
            "label": "2020-11-04",
            "method": "update"
           },
           {
            "args": [
             {
              "z": [
               [
                33,
                64,
                32,
                217,
                2498,
                212,
                72,
                833,
                39,
                973,
                243,
                36,
                53,
                39,
                556,
                102,
                81,
                121,
                88,
                324,
                202,
                26,
                287,
                110,
                142,
                25,
                18,
                305,
                19,
                25,
                33,
                317,
                31,
                208,
                1823,
                305,
                80,
                182,
                488,
                25,
                18,
                86,
                10,
                176,
                1361,
                69,
                268,
                34,
                207,
                116,
                20,
                15
               ],
               [
                121,
                223,
                34,
                257,
                13320,
                753,
                1130,
                54967,
                45,
                2030,
                1151,
                62,
                147,
                32,
                3141,
                158,
                105,
                721,
                303,
                431,
                179,
                30,
                395,
                285,
                188,
                37,
                41,
                830,
                23,
                37,
                52,
                1720,
                15,
                825,
                42264,
                614,
                99,
                214,
                5052,
                63,
                165,
                321,
                10,
                527,
                5394,
                126,
                657,
                26,
                258,
                193,
                16,
                561
               ]
              ]
             }
            ],
            "label": "2020-11-05",
            "method": "update"
           },
           {
            "args": [
             {
              "z": [
               [
                30,
                71,
                51,
                313,
                3293,
                283,
                113,
                819,
                22,
                1144,
                378,
                100,
                66,
                73,
                664,
                118,
                67,
                186,
                90,
                408,
                251,
                12,
                285,
                146,
                251,
                21,
                15,
                287,
                55,
                36,
                25,
                435,
                55,
                288,
                2172,
                333,
                72,
                209,
                657,
                25,
                18,
                97,
                25,
                186,
                1553,
                77,
                219,
                32,
                254,
                173,
                29,
                15
               ],
               [
                45,
                377,
                125,
                5657,
                30329,
                624,
                1311,
                71841,
                33,
                2761,
                1706,
                616,
                126,
                83,
                2105,
                163,
                40,
                3025,
                414,
                1936,
                337,
                15,
                384,
                414,
                592,
                288,
                14,
                438,
                41,
                44,
                52,
                3236,
                42,
                766,
                36478,
                627,
                172,
                390,
                4919,
                53,
                443,
                857,
                4,
                952,
                5107,
                232,
                1515,
                204,
                279,
                380,
                7,
                480
               ]
              ]
             }
            ],
            "label": "2020-11-06",
            "method": "update"
           },
           {
            "args": [
             {
              "z": [
               [
                42,
                148,
                71,
                452,
                4629,
                556,
                125,
                1171,
                46,
                1915,
                586,
                110,
                81,
                98,
                1053,
                538,
                159,
                172,
                174,
                628,
                354,
                32,
                422,
                255,
                271,
                46,
                17,
                524,
                79,
                59,
                46,
                740,
                99,
                356,
                3453,
                526,
                140,
                333,
                829,
                53,
                38,
                151,
                12,
                268,
                2367,
                84,
                450,
                59,
                450,
                251,
                40,
                18
               ],
               [
                114,
                669,
                136,
                3362,
                39953,
                4087,
                1156,
                101507,
                175,
                6370,
                3681,
                447,
                239,
                96,
                6304,
                519,
                510,
                508,
                3602,
                3765,
                1081,
                33,
                871,
                1292,
                480,
                343,
                30,
                2435,
                118,
                164,
                80,
                6538,
                290,
                3371,
                79540,
                2313,
                449,
                827,
                9358,
                113,
                351,
                551,
                38,
                1194,
                9521,
                118,
                1435,
                90,
                1258,
                820,
                33,
                2
               ]
              ]
             }
            ],
            "label": "2020-11-07",
            "method": "update"
           },
           {
            "args": [
             {
              "z": [
               [
                27,
                116,
                33,
                225,
                2485,
                247,
                83,
                745,
                27,
                1287,
                323,
                49,
                77,
                54,
                616,
                302,
                95,
                152,
                102,
                403,
                229,
                25,
                289,
                152,
                190,
                22,
                16,
                296,
                23,
                38,
                31,
                426,
                54,
                204,
                2213,
                317,
                102,
                237,
                643,
                28,
                27,
                101,
                5,
                204,
                1523,
                51,
                281,
                50,
                256,
                135,
                20,
                13
               ],
               [
                46,
                478,
                40,
                416,
                15708,
                844,
                324,
                35076,
                65,
                2685,
                1246,
                213,
                369,
                72,
                6404,
                235,
                189,
                668,
                1830,
                3122,
                604,
                31,
                2869,
                258,
                456,
                37,
                46,
                1028,
                30,
                122,
                48,
                5885,
                51,
                1964,
                103443,
                550,
                325,
                243,
                2197,
                80,
                18,
                977,
                12,
                2476,
                11140,
                85,
                5049,
                92,
                470,
                294,
                35,
                4
               ]
              ]
             }
            ],
            "label": "2020-11-08",
            "method": "update"
           }
          ],
          "direction": "down",
          "showactive": true,
          "x": 0.02,
          "xanchor": "left",
          "y": 1.15,
          "yanchor": "top"
         }
        ]
       }
      }
     },
     "metadata": {},
     "output_type": "display_data"
    }
   ],
   "source": [
    "import plotly.graph_objects as go\n",
    "import pandas as pd\n",
    "\n",
    "# Step 1: Aggregate data by state, tweet count, and total likes, and get unique dates\n",
    "state_totals = merged_df.groupby(['date', 'states_code'], as_index=False).agg({\n",
    "    'tweet_count': 'sum',\n",
    "    'total_likes': 'sum'\n",
    "})\n",
    "available_dates = state_totals['date'].unique()\n",
    "\n",
    "# Step 2: Set initial date (e.g., the first date in the dataset)\n",
    "initial_date = available_dates[0]\n",
    "filtered_data = state_totals[state_totals['date'] == initial_date]\n",
    "\n",
    "# Step 3: Initialize the base figure with initial date's data\n",
    "fig = go.Figure()\n",
    "\n",
    "# Add choropleth trace for Total Tweet Count\n",
    "fig.add_trace(go.Choropleth(\n",
    "    locations=filtered_data['states_code'],\n",
    "    z=filtered_data['tweet_count'],\n",
    "    locationmode=\"USA-states\",\n",
    "    colorscale=\"Blues\",\n",
    "    colorbar_title=\"Total Tweet Count\",\n",
    "    visible=True,\n",
    "    hoverinfo=\"location+z\",\n",
    "    hovertemplate=\"<b>%{location}</b><br>Total Tweet Count: %{z}<extra></extra>\"\n",
    "))\n",
    "\n",
    "# Add choropleth trace for Total Likes\n",
    "fig.add_trace(go.Choropleth(\n",
    "    locations=filtered_data['states_code'],\n",
    "    z=filtered_data['total_likes'],\n",
    "    locationmode=\"USA-states\",\n",
    "    colorscale=\"Greens\",\n",
    "    colorbar_title=\"Total Likes\",\n",
    "    visible=False,\n",
    "    hoverinfo=\"location+z\",\n",
    "    hovertemplate=\"<b>%{location}</b><br>Total Likes: %{z}<extra></extra>\"\n",
    "))\n",
    "\n",
    "# Step 4: Update layout with dropdown menus for metrics and date filtering\n",
    "fig.update_layout(\n",
    "    updatemenus=[\n",
    "        # Metric selection menu\n",
    "        {\n",
    "            \"buttons\": [\n",
    "                {\n",
    "                    \"label\": \"Total Tweet Count\",\n",
    "                    \"method\": \"update\",\n",
    "                    \"args\": [\n",
    "                        {\"visible\": [True, False]},\n",
    "                        {\"coloraxis\": {\"colorbar\": {\"title\": \"Total Tweet Count\"}}}\n",
    "                    ]\n",
    "                },\n",
    "                {\n",
    "                    \"label\": \"Total Likes\",\n",
    "                    \"method\": \"update\",\n",
    "                    \"args\": [\n",
    "                        {\"visible\": [False, True]},\n",
    "                        {\"coloraxis\": {\"colorbar\": {\"title\": \"Total Likes\"}}}\n",
    "                    ]\n",
    "                }\n",
    "            ],\n",
    "            \"direction\": \"down\",\n",
    "            \"showactive\": True,\n",
    "            \"x\": 0.1,\n",
    "            \"xanchor\": \"left\",\n",
    "            \"y\": 1.15,\n",
    "            \"yanchor\": \"top\"\n",
    "        },\n",
    "        # Date filter menu\n",
    "        {\n",
    "            \"buttons\": [\n",
    "                {\n",
    "                    \"label\": str(date),\n",
    "                    \"method\": \"update\",\n",
    "                    \"args\": [\n",
    "                        {\n",
    "                            \"z\": [state_totals[state_totals['date'] == date]['tweet_count'].values,\n",
    "                                  state_totals[state_totals['date'] == date]['total_likes'].values]\n",
    "                        }\n",
    "                    ]\n",
    "                } for date in available_dates\n",
    "            ],\n",
    "            \"direction\": \"down\",\n",
    "            \"showactive\": True,\n",
    "            \"x\": 0.02,\n",
    "            \"xanchor\": \"left\",\n",
    "            \"y\": 1.15,\n",
    "            \"yanchor\": \"top\"\n",
    "        }\n",
    "    ],\n",
    "    geo_scope='usa',\n",
    "    template='plotly_dark',\n",
    "    plot_bgcolor='rgba(0, 0, 0, 0)',\n",
    "    paper_bgcolor='rgba(0, 0, 0, 0)',\n",
    "    margin=dict(l=0, r=0, t=0, b=0),\n",
    "    height=450\n",
    ")\n",
    "\n",
    "# Show the figure\n",
    "fig.show()\n"
   ]
  },
  {
   "cell_type": "code",
   "execution_count": 78,
   "metadata": {},
   "outputs": [
    {
     "data": {
      "application/vnd.plotly.v1+json": {
       "config": {
        "plotlyServerURL": "https://plot.ly"
       },
       "data": [
        {
         "colorbar": {
          "title": {
           "text": "Total Tweet Count"
          }
         },
         "colorscale": [
          [
           0,
           "rgb(247,251,255)"
          ],
          [
           0.125,
           "rgb(222,235,247)"
          ],
          [
           0.25,
           "rgb(198,219,239)"
          ],
          [
           0.375,
           "rgb(158,202,225)"
          ],
          [
           0.5,
           "rgb(107,174,214)"
          ],
          [
           0.625,
           "rgb(66,146,198)"
          ],
          [
           0.75,
           "rgb(33,113,181)"
          ],
          [
           0.875,
           "rgb(8,81,156)"
          ],
          [
           1,
           "rgb(8,48,107)"
          ]
         ],
         "hoverinfo": "location+z",
         "hovertemplate": "<b>%{location}</b><br>Total Tweet Count: %{z}<extra></extra>",
         "locationmode": "USA-states",
         "locations": [
          "AK",
          "AL",
          "AR",
          "AZ",
          "CA",
          "CO",
          "CT",
          "DC",
          "DE",
          "FL",
          "GA",
          "HI",
          "IA",
          "ID",
          "IL",
          "IN",
          "KS",
          "KY",
          "LA",
          "MA",
          "MD",
          "ME",
          "MI",
          "MN",
          "MO",
          "MS",
          "MT",
          "NC",
          "ND",
          "NE",
          "NH",
          "NJ",
          "NM",
          "NV",
          "NY",
          "OH",
          "OK",
          "OR",
          "PA",
          "PR",
          "RI",
          "SC",
          "SD",
          "TN",
          "TX",
          "UT",
          "VA",
          "VT",
          "WA",
          "WI",
          "WV",
          "WY"
         ],
         "type": "choropleth",
         "visible": true,
         "z": [
          30,
          44,
          46,
          172,
          1528,
          357,
          44,
          292,
          7,
          727,
          138,
          26,
          49,
          34,
          313,
          71,
          36,
          33,
          65,
          168,
          94,
          17,
          137,
          75,
          61,
          5,
          25,
          204,
          40,
          21,
          10,
          244,
          22,
          136,
          1022,
          185,
          26,
          179,
          252,
          12,
          5,
          58,
          2,
          118,
          775,
          52,
          112,
          30,
          125,
          75,
          23,
          10
         ]
        },
        {
         "colorbar": {
          "title": {
           "text": "Total Likes"
          }
         },
         "colorscale": [
          [
           0,
           "rgb(247,252,245)"
          ],
          [
           0.125,
           "rgb(229,245,224)"
          ],
          [
           0.25,
           "rgb(199,233,192)"
          ],
          [
           0.375,
           "rgb(161,217,155)"
          ],
          [
           0.5,
           "rgb(116,196,118)"
          ],
          [
           0.625,
           "rgb(65,171,93)"
          ],
          [
           0.75,
           "rgb(35,139,69)"
          ],
          [
           0.875,
           "rgb(0,109,44)"
          ],
          [
           1,
           "rgb(0,68,27)"
          ]
         ],
         "hoverinfo": "location+z",
         "hovertemplate": "<b>%{location}</b><br>Total Likes: %{z}<extra></extra>",
         "locationmode": "USA-states",
         "locations": [
          "AK",
          "AL",
          "AR",
          "AZ",
          "CA",
          "CO",
          "CT",
          "DC",
          "DE",
          "FL",
          "GA",
          "HI",
          "IA",
          "ID",
          "IL",
          "IN",
          "KS",
          "KY",
          "LA",
          "MA",
          "MD",
          "ME",
          "MI",
          "MN",
          "MO",
          "MS",
          "MT",
          "NC",
          "ND",
          "NE",
          "NH",
          "NJ",
          "NM",
          "NV",
          "NY",
          "OH",
          "OK",
          "OR",
          "PA",
          "PR",
          "RI",
          "SC",
          "SD",
          "TN",
          "TX",
          "UT",
          "VA",
          "VT",
          "WA",
          "WI",
          "WV",
          "WY"
         ],
         "type": "choropleth",
         "visible": false,
         "z": [
          6,
          277,
          21,
          170,
          6998,
          274,
          19,
          3416,
          6,
          2051,
          758,
          57,
          80,
          64,
          1509,
          53,
          86,
          69,
          246,
          167,
          207,
          14,
          124,
          57,
          1054,
          14,
          34,
          303,
          58,
          10,
          7,
          2031,
          15,
          647,
          45702,
          313,
          37,
          339,
          357,
          23,
          282,
          584,
          6,
          287,
          6343,
          29,
          223,
          43,
          109,
          153,
          57,
          6
         ]
        }
       ],
       "layout": {
        "geo": {
         "scope": "usa"
        },
        "height": 450,
        "margin": {
         "b": 0,
         "l": 0,
         "r": 0,
         "t": 0
        },
        "paper_bgcolor": "rgba(0, 0, 0, 0)",
        "plot_bgcolor": "rgba(0, 0, 0, 0)",
        "template": {
         "data": {
          "bar": [
           {
            "error_x": {
             "color": "#f2f5fa"
            },
            "error_y": {
             "color": "#f2f5fa"
            },
            "marker": {
             "line": {
              "color": "rgb(17,17,17)",
              "width": 0.5
             },
             "pattern": {
              "fillmode": "overlay",
              "size": 10,
              "solidity": 0.2
             }
            },
            "type": "bar"
           }
          ],
          "barpolar": [
           {
            "marker": {
             "line": {
              "color": "rgb(17,17,17)",
              "width": 0.5
             },
             "pattern": {
              "fillmode": "overlay",
              "size": 10,
              "solidity": 0.2
             }
            },
            "type": "barpolar"
           }
          ],
          "carpet": [
           {
            "aaxis": {
             "endlinecolor": "#A2B1C6",
             "gridcolor": "#506784",
             "linecolor": "#506784",
             "minorgridcolor": "#506784",
             "startlinecolor": "#A2B1C6"
            },
            "baxis": {
             "endlinecolor": "#A2B1C6",
             "gridcolor": "#506784",
             "linecolor": "#506784",
             "minorgridcolor": "#506784",
             "startlinecolor": "#A2B1C6"
            },
            "type": "carpet"
           }
          ],
          "choropleth": [
           {
            "colorbar": {
             "outlinewidth": 0,
             "ticks": ""
            },
            "type": "choropleth"
           }
          ],
          "contour": [
           {
            "colorbar": {
             "outlinewidth": 0,
             "ticks": ""
            },
            "colorscale": [
             [
              0,
              "#0d0887"
             ],
             [
              0.1111111111111111,
              "#46039f"
             ],
             [
              0.2222222222222222,
              "#7201a8"
             ],
             [
              0.3333333333333333,
              "#9c179e"
             ],
             [
              0.4444444444444444,
              "#bd3786"
             ],
             [
              0.5555555555555556,
              "#d8576b"
             ],
             [
              0.6666666666666666,
              "#ed7953"
             ],
             [
              0.7777777777777778,
              "#fb9f3a"
             ],
             [
              0.8888888888888888,
              "#fdca26"
             ],
             [
              1,
              "#f0f921"
             ]
            ],
            "type": "contour"
           }
          ],
          "contourcarpet": [
           {
            "colorbar": {
             "outlinewidth": 0,
             "ticks": ""
            },
            "type": "contourcarpet"
           }
          ],
          "heatmap": [
           {
            "colorbar": {
             "outlinewidth": 0,
             "ticks": ""
            },
            "colorscale": [
             [
              0,
              "#0d0887"
             ],
             [
              0.1111111111111111,
              "#46039f"
             ],
             [
              0.2222222222222222,
              "#7201a8"
             ],
             [
              0.3333333333333333,
              "#9c179e"
             ],
             [
              0.4444444444444444,
              "#bd3786"
             ],
             [
              0.5555555555555556,
              "#d8576b"
             ],
             [
              0.6666666666666666,
              "#ed7953"
             ],
             [
              0.7777777777777778,
              "#fb9f3a"
             ],
             [
              0.8888888888888888,
              "#fdca26"
             ],
             [
              1,
              "#f0f921"
             ]
            ],
            "type": "heatmap"
           }
          ],
          "heatmapgl": [
           {
            "colorbar": {
             "outlinewidth": 0,
             "ticks": ""
            },
            "colorscale": [
             [
              0,
              "#0d0887"
             ],
             [
              0.1111111111111111,
              "#46039f"
             ],
             [
              0.2222222222222222,
              "#7201a8"
             ],
             [
              0.3333333333333333,
              "#9c179e"
             ],
             [
              0.4444444444444444,
              "#bd3786"
             ],
             [
              0.5555555555555556,
              "#d8576b"
             ],
             [
              0.6666666666666666,
              "#ed7953"
             ],
             [
              0.7777777777777778,
              "#fb9f3a"
             ],
             [
              0.8888888888888888,
              "#fdca26"
             ],
             [
              1,
              "#f0f921"
             ]
            ],
            "type": "heatmapgl"
           }
          ],
          "histogram": [
           {
            "marker": {
             "pattern": {
              "fillmode": "overlay",
              "size": 10,
              "solidity": 0.2
             }
            },
            "type": "histogram"
           }
          ],
          "histogram2d": [
           {
            "colorbar": {
             "outlinewidth": 0,
             "ticks": ""
            },
            "colorscale": [
             [
              0,
              "#0d0887"
             ],
             [
              0.1111111111111111,
              "#46039f"
             ],
             [
              0.2222222222222222,
              "#7201a8"
             ],
             [
              0.3333333333333333,
              "#9c179e"
             ],
             [
              0.4444444444444444,
              "#bd3786"
             ],
             [
              0.5555555555555556,
              "#d8576b"
             ],
             [
              0.6666666666666666,
              "#ed7953"
             ],
             [
              0.7777777777777778,
              "#fb9f3a"
             ],
             [
              0.8888888888888888,
              "#fdca26"
             ],
             [
              1,
              "#f0f921"
             ]
            ],
            "type": "histogram2d"
           }
          ],
          "histogram2dcontour": [
           {
            "colorbar": {
             "outlinewidth": 0,
             "ticks": ""
            },
            "colorscale": [
             [
              0,
              "#0d0887"
             ],
             [
              0.1111111111111111,
              "#46039f"
             ],
             [
              0.2222222222222222,
              "#7201a8"
             ],
             [
              0.3333333333333333,
              "#9c179e"
             ],
             [
              0.4444444444444444,
              "#bd3786"
             ],
             [
              0.5555555555555556,
              "#d8576b"
             ],
             [
              0.6666666666666666,
              "#ed7953"
             ],
             [
              0.7777777777777778,
              "#fb9f3a"
             ],
             [
              0.8888888888888888,
              "#fdca26"
             ],
             [
              1,
              "#f0f921"
             ]
            ],
            "type": "histogram2dcontour"
           }
          ],
          "mesh3d": [
           {
            "colorbar": {
             "outlinewidth": 0,
             "ticks": ""
            },
            "type": "mesh3d"
           }
          ],
          "parcoords": [
           {
            "line": {
             "colorbar": {
              "outlinewidth": 0,
              "ticks": ""
             }
            },
            "type": "parcoords"
           }
          ],
          "pie": [
           {
            "automargin": true,
            "type": "pie"
           }
          ],
          "scatter": [
           {
            "marker": {
             "line": {
              "color": "#283442"
             }
            },
            "type": "scatter"
           }
          ],
          "scatter3d": [
           {
            "line": {
             "colorbar": {
              "outlinewidth": 0,
              "ticks": ""
             }
            },
            "marker": {
             "colorbar": {
              "outlinewidth": 0,
              "ticks": ""
             }
            },
            "type": "scatter3d"
           }
          ],
          "scattercarpet": [
           {
            "marker": {
             "colorbar": {
              "outlinewidth": 0,
              "ticks": ""
             }
            },
            "type": "scattercarpet"
           }
          ],
          "scattergeo": [
           {
            "marker": {
             "colorbar": {
              "outlinewidth": 0,
              "ticks": ""
             }
            },
            "type": "scattergeo"
           }
          ],
          "scattergl": [
           {
            "marker": {
             "line": {
              "color": "#283442"
             }
            },
            "type": "scattergl"
           }
          ],
          "scattermapbox": [
           {
            "marker": {
             "colorbar": {
              "outlinewidth": 0,
              "ticks": ""
             }
            },
            "type": "scattermapbox"
           }
          ],
          "scatterpolar": [
           {
            "marker": {
             "colorbar": {
              "outlinewidth": 0,
              "ticks": ""
             }
            },
            "type": "scatterpolar"
           }
          ],
          "scatterpolargl": [
           {
            "marker": {
             "colorbar": {
              "outlinewidth": 0,
              "ticks": ""
             }
            },
            "type": "scatterpolargl"
           }
          ],
          "scatterternary": [
           {
            "marker": {
             "colorbar": {
              "outlinewidth": 0,
              "ticks": ""
             }
            },
            "type": "scatterternary"
           }
          ],
          "surface": [
           {
            "colorbar": {
             "outlinewidth": 0,
             "ticks": ""
            },
            "colorscale": [
             [
              0,
              "#0d0887"
             ],
             [
              0.1111111111111111,
              "#46039f"
             ],
             [
              0.2222222222222222,
              "#7201a8"
             ],
             [
              0.3333333333333333,
              "#9c179e"
             ],
             [
              0.4444444444444444,
              "#bd3786"
             ],
             [
              0.5555555555555556,
              "#d8576b"
             ],
             [
              0.6666666666666666,
              "#ed7953"
             ],
             [
              0.7777777777777778,
              "#fb9f3a"
             ],
             [
              0.8888888888888888,
              "#fdca26"
             ],
             [
              1,
              "#f0f921"
             ]
            ],
            "type": "surface"
           }
          ],
          "table": [
           {
            "cells": {
             "fill": {
              "color": "#506784"
             },
             "line": {
              "color": "rgb(17,17,17)"
             }
            },
            "header": {
             "fill": {
              "color": "#2a3f5f"
             },
             "line": {
              "color": "rgb(17,17,17)"
             }
            },
            "type": "table"
           }
          ]
         },
         "layout": {
          "annotationdefaults": {
           "arrowcolor": "#f2f5fa",
           "arrowhead": 0,
           "arrowwidth": 1
          },
          "autotypenumbers": "strict",
          "coloraxis": {
           "colorbar": {
            "outlinewidth": 0,
            "ticks": ""
           }
          },
          "colorscale": {
           "diverging": [
            [
             0,
             "#8e0152"
            ],
            [
             0.1,
             "#c51b7d"
            ],
            [
             0.2,
             "#de77ae"
            ],
            [
             0.3,
             "#f1b6da"
            ],
            [
             0.4,
             "#fde0ef"
            ],
            [
             0.5,
             "#f7f7f7"
            ],
            [
             0.6,
             "#e6f5d0"
            ],
            [
             0.7,
             "#b8e186"
            ],
            [
             0.8,
             "#7fbc41"
            ],
            [
             0.9,
             "#4d9221"
            ],
            [
             1,
             "#276419"
            ]
           ],
           "sequential": [
            [
             0,
             "#0d0887"
            ],
            [
             0.1111111111111111,
             "#46039f"
            ],
            [
             0.2222222222222222,
             "#7201a8"
            ],
            [
             0.3333333333333333,
             "#9c179e"
            ],
            [
             0.4444444444444444,
             "#bd3786"
            ],
            [
             0.5555555555555556,
             "#d8576b"
            ],
            [
             0.6666666666666666,
             "#ed7953"
            ],
            [
             0.7777777777777778,
             "#fb9f3a"
            ],
            [
             0.8888888888888888,
             "#fdca26"
            ],
            [
             1,
             "#f0f921"
            ]
           ],
           "sequentialminus": [
            [
             0,
             "#0d0887"
            ],
            [
             0.1111111111111111,
             "#46039f"
            ],
            [
             0.2222222222222222,
             "#7201a8"
            ],
            [
             0.3333333333333333,
             "#9c179e"
            ],
            [
             0.4444444444444444,
             "#bd3786"
            ],
            [
             0.5555555555555556,
             "#d8576b"
            ],
            [
             0.6666666666666666,
             "#ed7953"
            ],
            [
             0.7777777777777778,
             "#fb9f3a"
            ],
            [
             0.8888888888888888,
             "#fdca26"
            ],
            [
             1,
             "#f0f921"
            ]
           ]
          },
          "colorway": [
           "#636efa",
           "#EF553B",
           "#00cc96",
           "#ab63fa",
           "#FFA15A",
           "#19d3f3",
           "#FF6692",
           "#B6E880",
           "#FF97FF",
           "#FECB52"
          ],
          "font": {
           "color": "#f2f5fa"
          },
          "geo": {
           "bgcolor": "rgb(17,17,17)",
           "lakecolor": "rgb(17,17,17)",
           "landcolor": "rgb(17,17,17)",
           "showlakes": true,
           "showland": true,
           "subunitcolor": "#506784"
          },
          "hoverlabel": {
           "align": "left"
          },
          "hovermode": "closest",
          "mapbox": {
           "style": "dark"
          },
          "paper_bgcolor": "rgb(17,17,17)",
          "plot_bgcolor": "rgb(17,17,17)",
          "polar": {
           "angularaxis": {
            "gridcolor": "#506784",
            "linecolor": "#506784",
            "ticks": ""
           },
           "bgcolor": "rgb(17,17,17)",
           "radialaxis": {
            "gridcolor": "#506784",
            "linecolor": "#506784",
            "ticks": ""
           }
          },
          "scene": {
           "xaxis": {
            "backgroundcolor": "rgb(17,17,17)",
            "gridcolor": "#506784",
            "gridwidth": 2,
            "linecolor": "#506784",
            "showbackground": true,
            "ticks": "",
            "zerolinecolor": "#C8D4E3"
           },
           "yaxis": {
            "backgroundcolor": "rgb(17,17,17)",
            "gridcolor": "#506784",
            "gridwidth": 2,
            "linecolor": "#506784",
            "showbackground": true,
            "ticks": "",
            "zerolinecolor": "#C8D4E3"
           },
           "zaxis": {
            "backgroundcolor": "rgb(17,17,17)",
            "gridcolor": "#506784",
            "gridwidth": 2,
            "linecolor": "#506784",
            "showbackground": true,
            "ticks": "",
            "zerolinecolor": "#C8D4E3"
           }
          },
          "shapedefaults": {
           "line": {
            "color": "#f2f5fa"
           }
          },
          "sliderdefaults": {
           "bgcolor": "#C8D4E3",
           "bordercolor": "rgb(17,17,17)",
           "borderwidth": 1,
           "tickwidth": 0
          },
          "ternary": {
           "aaxis": {
            "gridcolor": "#506784",
            "linecolor": "#506784",
            "ticks": ""
           },
           "baxis": {
            "gridcolor": "#506784",
            "linecolor": "#506784",
            "ticks": ""
           },
           "bgcolor": "rgb(17,17,17)",
           "caxis": {
            "gridcolor": "#506784",
            "linecolor": "#506784",
            "ticks": ""
           }
          },
          "title": {
           "x": 0.05
          },
          "updatemenudefaults": {
           "bgcolor": "#506784",
           "borderwidth": 0
          },
          "xaxis": {
           "automargin": true,
           "gridcolor": "#283442",
           "linecolor": "#506784",
           "ticks": "",
           "title": {
            "standoff": 15
           },
           "zerolinecolor": "#283442",
           "zerolinewidth": 2
          },
          "yaxis": {
           "automargin": true,
           "gridcolor": "#283442",
           "linecolor": "#506784",
           "ticks": "",
           "title": {
            "standoff": 15
           },
           "zerolinecolor": "#283442",
           "zerolinewidth": 2
          }
         }
        },
        "updatemenus": [
         {
          "buttons": [
           {
            "args": [
             {
              "visible": [
               true,
               false
              ]
             },
             {
              "coloraxis": {
               "colorbar": {
                "title": "Total Tweet Count"
               }
              }
             }
            ],
            "label": "Total Tweet Count",
            "method": "update"
           },
           {
            "args": [
             {
              "visible": [
               false,
               true
              ]
             },
             {
              "coloraxis": {
               "colorbar": {
                "title": "Total Likes"
               }
              }
             }
            ],
            "label": "Total Likes",
            "method": "update"
           }
          ],
          "direction": "down",
          "showactive": true,
          "x": 1,
          "xanchor": "left",
          "y": 1.2,
          "yanchor": "top"
         },
         {
          "buttons": [
           {
            "args": [
             {
              "visible": [
               true,
               false
              ],
              "z": [
               [
                30,
                44,
                46,
                172,
                1528,
                357,
                44,
                292,
                7,
                727,
                138,
                26,
                49,
                34,
                313,
                71,
                36,
                33,
                65,
                168,
                94,
                17,
                137,
                75,
                61,
                5,
                25,
                204,
                40,
                21,
                10,
                244,
                22,
                136,
                1022,
                185,
                26,
                179,
                252,
                12,
                5,
                58,
                2,
                118,
                775,
                52,
                112,
                30,
                125,
                75,
                23,
                10
               ],
               [
                6,
                277,
                21,
                170,
                6998,
                274,
                19,
                3416,
                6,
                2051,
                758,
                57,
                80,
                64,
                1509,
                53,
                86,
                69,
                246,
                167,
                207,
                14,
                124,
                57,
                1054,
                14,
                34,
                303,
                58,
                10,
                7,
                2031,
                15,
                647,
                45702,
                313,
                37,
                339,
                357,
                23,
                282,
                584,
                6,
                287,
                6343,
                29,
                223,
                43,
                109,
                153,
                57,
                6
               ]
              ]
             },
             {
              "coloraxis": {
               "colorbar": {
                "title": "Total Tweet Count"
               }
              }
             }
            ],
            "label": "2020-10-15",
            "method": "update"
           },
           {
            "args": [
             {
              "visible": [
               true,
               false
              ],
              "z": [
               [
                41,
                59,
                77,
                188,
                1920,
                203,
                55,
                541,
                12,
                1066,
                198,
                45,
                64,
                32,
                460,
                104,
                79,
                93,
                66,
                289,
                181,
                18,
                208,
                118,
                131,
                12,
                22,
                213,
                39,
                49,
                19,
                311,
                35,
                145,
                1677,
                283,
                46,
                270,
                443,
                21,
                9,
                84,
                7,
                178,
                1013,
                65,
                178,
                65,
                191,
                100,
                37,
                22
               ],
               [
                21,
                618,
                258,
                548,
                23981,
                646,
                399,
                14065,
                1,
                3512,
                885,
                79,
                140,
                87,
                3634,
                122,
                364,
                114,
                209,
                399,
                371,
                31,
                388,
                174,
                260,
                9,
                8,
                198,
                43,
                17,
                27,
                3088,
                28,
                313,
                285893,
                947,
                79,
                503,
                2095,
                33,
                4,
                661,
                8,
                372,
                9033,
                131,
                600,
                50,
                454,
                357,
                111,
                24
               ]
              ]
             },
             {
              "coloraxis": {
               "colorbar": {
                "title": "Total Tweet Count"
               }
              }
             }
            ],
            "label": "2020-10-16",
            "method": "update"
           },
           {
            "args": [
             {
              "visible": [
               true,
               false
              ],
              "z": [
               [
                24,
                29,
                17,
                94,
                1441,
                125,
                41,
                281,
                2,
                648,
                83,
                28,
                27,
                25,
                247,
                40,
                25,
                55,
                29,
                154,
                84,
                14,
                157,
                66,
                68,
                4,
                11,
                143,
                11,
                14,
                11,
                167,
                27,
                77,
                927,
                143,
                18,
                131,
                249,
                11,
                14,
                44,
                2,
                63,
                615,
                29,
                78,
                40,
                109,
                96,
                19,
                11
               ],
               [
                37,
                142,
                3,
                153,
                2778,
                267,
                164,
                8739,
                0,
                2288,
                102,
                26,
                53,
                27,
                909,
                165,
                22,
                209,
                455,
                312,
                85,
                5,
                300,
                90,
                101,
                3,
                2,
                153,
                4,
                8,
                16,
                1022,
                48,
                206,
                18358,
                1679,
                19,
                255,
                596,
                5,
                521,
                392,
                1,
                164,
                5527,
                33,
                37,
                52,
                217,
                1122,
                9,
                8
               ]
              ]
             },
             {
              "coloraxis": {
               "colorbar": {
                "title": "Total Tweet Count"
               }
              }
             }
            ],
            "label": "2020-10-17",
            "method": "update"
           },
           {
            "args": [
             {
              "visible": [
               true,
               false
              ],
              "z": [
               [
                20,
                27,
                19,
                106,
                1439,
                150,
                52,
                250,
                6,
                667,
                70,
                29,
                35,
                18,
                265,
                57,
                35,
                59,
                33,
                139,
                85,
                11,
                134,
                53,
                93,
                6,
                12,
                128,
                10,
                13,
                12,
                136,
                22,
                109,
                756,
                145,
                38,
                141,
                224,
                8,
                7,
                58,
                79,
                705,
                41,
                79,
                31,
                125,
                78,
                5,
                19
               ],
               [
                28,
                39,
                14,
                201,
                3415,
                324,
                591,
                11976,
                2,
                1978,
                114,
                21,
                92,
                123,
                4144,
                59,
                64,
                509,
                217,
                184,
                65,
                5,
                108,
                58,
                37,
                64,
                7,
                316,
                6,
                5,
                31,
                1592,
                14,
                839,
                44965,
                188,
                33,
                645,
                335,
                81,
                8,
                332,
                72,
                1720,
                190,
                45,
                19,
                85,
                156,
                19,
                17
               ]
              ]
             },
             {
              "coloraxis": {
               "colorbar": {
                "title": "Total Tweet Count"
               }
              }
             }
            ],
            "label": "2020-10-18",
            "method": "update"
           },
           {
            "args": [
             {
              "visible": [
               true,
               false
              ],
              "z": [
               [
                10,
                40,
                31,
                159,
                1302,
                164,
                32,
                342,
                5,
                679,
                90,
                42,
                64,
                17,
                269,
                54,
                41,
                39,
                61,
                167,
                107,
                22,
                120,
                86,
                93,
                9,
                11,
                164,
                17,
                22,
                11,
                197,
                15,
                103,
                915,
                182,
                28,
                158,
                312,
                18,
                6,
                42,
                2,
                103,
                676,
                24,
                120,
                43,
                121,
                59,
                14,
                21
               ],
               [
                4,
                493,
                21,
                640,
                2992,
                203,
                159,
                7065,
                4,
                3169,
                1095,
                135,
                136,
                19,
                1984,
                36,
                37,
                221,
                63,
                360,
                92,
                6,
                126,
                85,
                62,
                65,
                7,
                182,
                15,
                19,
                36,
                576,
                10,
                146,
                22210,
                171,
                18,
                839,
                902,
                12,
                7,
                214,
                0,
                791,
                3768,
                28,
                178,
                37,
                174,
                107,
                4,
                19
               ]
              ]
             },
             {
              "coloraxis": {
               "colorbar": {
                "title": "Total Tweet Count"
               }
              }
             }
            ],
            "label": "2020-10-19",
            "method": "update"
           },
           {
            "args": [
             {
              "visible": [
               true,
               false
              ],
              "z": [
               [
                11,
                27,
                28,
                135,
                1216,
                126,
                40,
                341,
                12,
                670,
                121,
                36,
                35,
                20,
                259,
                53,
                36,
                46,
                45,
                166,
                101,
                7,
                138,
                81,
                114,
                12,
                15,
                130,
                11,
                34,
                17,
                201,
                23,
                118,
                954,
                216,
                46,
                206,
                366,
                18,
                7,
                47,
                2,
                70,
                755,
                24,
                107,
                32,
                116,
                75,
                20,
                19
               ],
               [
                33,
                36,
                15,
                562,
                3086,
                353,
                354,
                17016,
                2,
                1206,
                1786,
                62,
                76,
                27,
                799,
                58,
                79,
                408,
                207,
                182,
                118,
                11,
                263,
                112,
                218,
                45,
                24,
                134,
                21,
                25,
                311,
                1832,
                10,
                199,
                17080,
                218,
                65,
                240,
                625,
                33,
                5,
                461,
                0,
                183,
                8094,
                16,
                104,
                127,
                187,
                41,
                16,
                151
               ]
              ]
             },
             {
              "coloraxis": {
               "colorbar": {
                "title": "Total Tweet Count"
               }
              }
             }
            ],
            "label": "2020-10-20",
            "method": "update"
           },
           {
            "args": [
             {
              "visible": [
               true,
               false
              ],
              "z": [
               [
                13,
                44,
                30,
                157,
                1435,
                220,
                53,
                408,
                25,
                684,
                109,
                49,
                46,
                38,
                265,
                73,
                52,
                63,
                61,
                205,
                107,
                32,
                122,
                101,
                79,
                16,
                13,
                171,
                34,
                18,
                33,
                201,
                15,
                134,
                1086,
                175,
                31,
                255,
                305,
                16,
                20,
                40,
                5,
                94,
                670,
                64,
                112,
                65,
                122,
                84,
                11,
                27
               ],
               [
                6,
                60,
                120,
                262,
                4440,
                196,
                550,
                13538,
                43,
                985,
                635,
                24,
                296,
                50,
                372,
                120,
                58,
                76,
                707,
                377,
                137,
                29,
                107,
                296,
                55,
                14,
                9,
                325,
                24,
                13,
                41,
                829,
                36,
                501,
                34140,
                380,
                47,
                456,
                416,
                22,
                353,
                246,
                6,
                440,
                5709,
                31,
                317,
                52,
                124,
                301,
                64,
                13
               ]
              ]
             },
             {
              "coloraxis": {
               "colorbar": {
                "title": "Total Tweet Count"
               }
              }
             }
            ],
            "label": "2020-10-21",
            "method": "update"
           },
           {
            "args": [
             {
              "visible": [
               true,
               false
              ],
              "z": [
               [
                15,
                62,
                26,
                180,
                1524,
                162,
                58,
                401,
                25,
                943,
                156,
                48,
                24,
                37,
                345,
                51,
                54,
                59,
                57,
                196,
                137,
                25,
                175,
                109,
                122,
                21,
                13,
                188,
                45,
                25,
                44,
                249,
                27,
                107,
                1133,
                233,
                53,
                176,
                349,
                14,
                6,
                74,
                2,
                122,
                816,
                107,
                162,
                65,
                130,
                80,
                14,
                18
               ],
               [
                23,
                61,
                26,
                602,
                3977,
                896,
                429,
                19109,
                18,
                1833,
                1391,
                95,
                51,
                17,
                641,
                55,
                169,
                150,
                262,
                520,
                357,
                27,
                271,
                131,
                654,
                57,
                12,
                444,
                39,
                22,
                48,
                1924,
                107,
                202,
                15783,
                345,
                43,
                601,
                960,
                10,
                5,
                934,
                0,
                310,
                8967,
                14,
                1593,
                56,
                166,
                111,
                5,
                38
               ]
              ]
             },
             {
              "coloraxis": {
               "colorbar": {
                "title": "Total Tweet Count"
               }
              }
             }
            ],
            "label": "2020-10-22",
            "method": "update"
           },
           {
            "args": [
             {
              "visible": [
               true,
               false
              ],
              "z": [
               [
                58,
                146,
                71,
                453,
                3782,
                447,
                174,
                1113,
                48,
                1841,
                525,
                67,
                146,
                76,
                963,
                195,
                168,
                232,
                189,
                650,
                315,
                61,
                407,
                284,
                326,
                69,
                33,
                511,
                56,
                47,
                33,
                590,
                60,
                295,
                2881,
                441,
                96,
                424,
                756,
                43,
                49,
                215,
                10,
                290,
                2069,
                137,
                279,
                84,
                299,
                183,
                54,
                32
               ],
               [
                52,
                644,
                79,
                1079,
                10817,
                854,
                1591,
                27868,
                32,
                4169,
                3323,
                167,
                306,
                89,
                1388,
                649,
                1476,
                1805,
                173,
                1988,
                474,
                47,
                660,
                1027,
                3710,
                55,
                43,
                1929,
                78,
                38,
                63,
                8633,
                73,
                1397,
                106366,
                931,
                102,
                576,
                7024,
                50,
                310,
                542,
                2,
                425,
                13932,
                144,
                1337,
                53,
                476,
                139,
                57,
                43
               ]
              ]
             },
             {
              "coloraxis": {
               "colorbar": {
                "title": "Total Tweet Count"
               }
              }
             }
            ],
            "label": "2020-10-23",
            "method": "update"
           },
           {
            "args": [
             {
              "visible": [
               true,
               false
              ],
              "z": [
               [
                20,
                33,
                24,
                139,
                1273,
                104,
                52,
                290,
                15,
                654,
                116,
                33,
                24,
                36,
                292,
                47,
                46,
                56,
                64,
                264,
                94,
                19,
                122,
                83,
                82,
                25,
                14,
                156,
                11,
                25,
                14,
                181,
                17,
                104,
                904,
                165,
                37,
                131,
                296,
                17,
                20,
                63,
                5,
                86,
                794,
                66,
                87,
                41,
                115,
                49,
                10,
                16
               ],
               [
                19,
                54,
                7,
                187,
                6692,
                188,
                495,
                15303,
                37,
                2196,
                1244,
                139,
                90,
                52,
                997,
                42,
                192,
                648,
                171,
                281,
                389,
                31,
                254,
                218,
                253,
                37,
                21,
                279,
                21,
                29,
                18,
                284,
                9,
                229,
                52156,
                3033,
                51,
                385,
                1099,
                5,
                169,
                591,
                7,
                271,
                5750,
                1107,
                134,
                71,
                220,
                46,
                18,
                6
               ]
              ]
             },
             {
              "coloraxis": {
               "colorbar": {
                "title": "Total Tweet Count"
               }
              }
             }
            ],
            "label": "2020-10-24",
            "method": "update"
           },
           {
            "args": [
             {
              "visible": [
               true,
               false
              ],
              "z": [
               [
                22,
                32,
                22,
                109,
                1364,
                108,
                55,
                253,
                7,
                747,
                103,
                25,
                30,
                18,
                272,
                47,
                33,
                47,
                49,
                251,
                99,
                45,
                167,
                73,
                89,
                14,
                11,
                122,
                5,
                11,
                14,
                232,
                18,
                87,
                874,
                155,
                26,
                163,
                267,
                24,
                10,
                67,
                3,
                66,
                679,
                50,
                113,
                16,
                94,
                86,
                12,
                12
               ],
               [
                34,
                200,
                15,
                155,
                4871,
                1047,
                188,
                9468,
                10,
                2174,
                69,
                43,
                99,
                20,
                1308,
                109,
                207,
                73,
                32,
                548,
                164,
                149,
                172,
                705,
                488,
                26,
                9,
                517,
                8,
                7,
                42,
                1756,
                6,
                256,
                42069,
                361,
                29,
                466,
                1238,
                14,
                4,
                941,
                0,
                6466,
                4223,
                25,
                432,
                7,
                111,
                155,
                6,
                36
               ]
              ]
             },
             {
              "coloraxis": {
               "colorbar": {
                "title": "Total Tweet Count"
               }
              }
             }
            ],
            "label": "2020-10-25",
            "method": "update"
           },
           {
            "args": [
             {
              "visible": [
               true,
               false
              ],
              "z": [
               [
                24,
                37,
                41,
                114,
                1306,
                155,
                51,
                404,
                8,
                668,
                120,
                37,
                29,
                31,
                332,
                62,
                45,
                72,
                51,
                227,
                95,
                29,
                130,
                62,
                115,
                8,
                12,
                138,
                30,
                14,
                8,
                236,
                20,
                113,
                1054,
                189,
                55,
                172,
                454,
                22,
                7,
                53,
                3,
                141,
                715,
                56,
                94,
                42,
                169,
                77,
                20,
                22
               ],
               [
                9,
                141,
                23,
                335,
                2019,
                260,
                993,
                121909,
                30,
                2240,
                1051,
                40,
                74,
                63,
                407,
                76,
                28,
                269,
                350,
                1079,
                203,
                25,
                407,
                76,
                77,
                10,
                12,
                329,
                12,
                16,
                2,
                4324,
                75,
                1064,
                35794,
                521,
                111,
                394,
                1252,
                38,
                61,
                831,
                0,
                520,
                3945,
                46,
                90,
                40,
                128,
                59,
                16,
                565
               ]
              ]
             },
             {
              "coloraxis": {
               "colorbar": {
                "title": "Total Tweet Count"
               }
              }
             }
            ],
            "label": "2020-10-26",
            "method": "update"
           },
           {
            "args": [
             {
              "visible": [
               true,
               false
              ],
              "z": [
               [
                31,
                32,
                30,
                120,
                1398,
                125,
                63,
                313,
                42,
                765,
                158,
                35,
                42,
                34,
                285,
                60,
                43,
                78,
                66,
                228,
                122,
                20,
                197,
                97,
                87,
                5,
                9,
                149,
                22,
                22,
                8,
                236,
                17,
                84,
                1222,
                172,
                38,
                161,
                331,
                23,
                17,
                68,
                2,
                99,
                682,
                38,
                147,
                25,
                112,
                102,
                22,
                20
               ],
               [
                13,
                120,
                23,
                340,
                4124,
                502,
                393,
                16110,
                25,
                1890,
                1049,
                38,
                687,
                29,
                447,
                233,
                17,
                118,
                362,
                279,
                64,
                47,
                615,
                139,
                91,
                17,
                12,
                332,
                16,
                69,
                2,
                2414,
                1,
                460,
                88486,
                132,
                16,
                480,
                749,
                36,
                189,
                408,
                1,
                825,
                4203,
                8,
                105,
                12,
                155,
                121,
                12,
                63
               ]
              ]
             },
             {
              "coloraxis": {
               "colorbar": {
                "title": "Total Tweet Count"
               }
              }
             }
            ],
            "label": "2020-10-27",
            "method": "update"
           },
           {
            "args": [
             {
              "visible": [
               true,
               false
              ],
              "z": [
               [
                29,
                44,
                28,
                150,
                1483,
                240,
                61,
                402,
                9,
                765,
                178,
                36,
                51,
                14,
                303,
                62,
                53,
                92,
                69,
                317,
                96,
                18,
                178,
                107,
                132,
                9,
                19,
                192,
                25,
                24,
                17,
                260,
                29,
                157,
                1254,
                217,
                51,
                173,
                436,
                27,
                17,
                117,
                10,
                133,
                909,
                56,
                130,
                67,
                132,
                86,
                14,
                19
               ],
               [
                56,
                700,
                32,
                243,
                3232,
                272,
                176,
                14135,
                28,
                1833,
                2555,
                128,
                188,
                40,
                446,
                17,
                56,
                580,
                390,
                801,
                100,
                19,
                879,
                155,
                152,
                59,
                25,
                353,
                12,
                37,
                52,
                1208,
                31,
                590,
                18844,
                207,
                36,
                415,
                1336,
                19,
                168,
                887,
                48,
                259,
                11329,
                50,
                311,
                52,
                114,
                347,
                9,
                21
               ]
              ]
             },
             {
              "coloraxis": {
               "colorbar": {
                "title": "Total Tweet Count"
               }
              }
             }
            ],
            "label": "2020-10-28",
            "method": "update"
           },
           {
            "args": [
             {
              "visible": [
               true,
               false
              ],
              "z": [
               [
                38,
                36,
                13,
                204,
                1340,
                190,
                50,
                372,
                10,
                805,
                122,
                28,
                19,
                21,
                278,
                47,
                37,
                53,
                41,
                205,
                98,
                12,
                147,
                76,
                83,
                11,
                15,
                155,
                17,
                14,
                15,
                201,
                17,
                112,
                1009,
                161,
                43,
                128,
                463,
                21,
                15,
                60,
                4,
                119,
                652,
                74,
                95,
                38,
                193,
                70,
                15,
                7
               ],
               [
                38,
                105,
                58,
                281,
                3399,
                1024,
                743,
                11520,
                6,
                1936,
                963,
                96,
                91,
                32,
                371,
                25,
                174,
                83,
                138,
                276,
                129,
                2,
                137,
                171,
                73,
                4,
                1649,
                200,
                11,
                4,
                87,
                2331,
                46,
                515,
                23423,
                467,
                63,
                1435,
                666,
                10,
                701,
                377,
                2,
                492,
                2814,
                59,
                264,
                84,
                124,
                154,
                10,
                0
               ]
              ]
             },
             {
              "coloraxis": {
               "colorbar": {
                "title": "Total Tweet Count"
               }
              }
             }
            ],
            "label": "2020-10-29",
            "method": "update"
           },
           {
            "args": [
             {
              "visible": [
               true,
               false
              ],
              "z": [
               [
                21,
                51,
                22,
                131,
                1332,
                94,
                61,
                396,
                9,
                749,
                135,
                26,
                36,
                22,
                289,
                55,
                40,
                54,
                52,
                195,
                109,
                12,
                152,
                132,
                73,
                8,
                16,
                130,
                25,
                17,
                18,
                244,
                27,
                138,
                1045,
                148,
                44,
                138,
                265,
                14,
                14,
                54,
                1,
                98,
                798,
                46,
                110,
                48,
                112,
                92,
                14,
                13
               ],
               [
                9,
                124,
                21,
                483,
                9761,
                76,
                365,
                18068,
                1,
                1432,
                1039,
                51,
                55,
                31,
                1309,
                48,
                39,
                43,
                219,
                557,
                124,
                3,
                123,
                404,
                59,
                15,
                10,
                4168,
                92,
                12,
                50,
                3320,
                13,
                801,
                28366,
                481,
                102,
                697,
                1599,
                9,
                14,
                1030,
                0,
                188,
                6391,
                25,
                267,
                75,
                83,
                289,
                14,
                3
               ]
              ]
             },
             {
              "coloraxis": {
               "colorbar": {
                "title": "Total Tweet Count"
               }
              }
             }
            ],
            "label": "2020-10-30",
            "method": "update"
           },
           {
            "args": [
             {
              "visible": [
               true,
               false
              ],
              "z": [
               [
                14,
                44,
                33,
                118,
                1311,
                189,
                60,
                325,
                6,
                691,
                95,
                64,
                29,
                24,
                274,
                42,
                38,
                42,
                56,
                189,
                91,
                11,
                157,
                81,
                113,
                6,
                9,
                146,
                14,
                19,
                17,
                245,
                21,
                130,
                999,
                170,
                46,
                127,
                272,
                14,
                12,
                43,
                1,
                184,
                648,
                35,
                86,
                34,
                144,
                65,
                16,
                12
               ],
               [
                5,
                206,
                10,
                141,
                3801,
                308,
                294,
                5016,
                5,
                2740,
                131,
                63,
                932,
                33,
                1158,
                223,
                77,
                662,
                927,
                281,
                793,
                23,
                206,
                109,
                109,
                7,
                17,
                442,
                23,
                11,
                22,
                1342,
                12,
                347,
                16937,
                288,
                29,
                378,
                930,
                34,
                244,
                31,
                1,
                209,
                3108,
                45,
                125,
                33,
                157,
                183,
                3,
                10
               ]
              ]
             },
             {
              "coloraxis": {
               "colorbar": {
                "title": "Total Tweet Count"
               }
              }
             }
            ],
            "label": "2020-10-31",
            "method": "update"
           },
           {
            "args": [
             {
              "visible": [
               true,
               false
              ],
              "z": [
               [
                18,
                55,
                19,
                192,
                1534,
                225,
                45,
                467,
                7,
                777,
                159,
                33,
                35,
                29,
                401,
                64,
                32,
                63,
                40,
                226,
                114,
                14,
                163,
                137,
                136,
                12,
                12,
                202,
                17,
                19,
                12,
                413,
                20,
                114,
                1350,
                223,
                62,
                177,
                372,
                20,
                19,
                50,
                6,
                89,
                941,
                46,
                112,
                29,
                118,
                76,
                25,
                16
               ],
               [
                6,
                116,
                5,
                1097,
                19422,
                354,
                323,
                18574,
                30,
                3043,
                317,
                56,
                121,
                25,
                1378,
                998,
                29,
                128,
                749,
                304,
                351,
                21,
                456,
                120,
                56,
                10,
                5,
                541,
                57,
                18,
                7,
                944,
                22,
                764,
                72683,
                331,
                69,
                683,
                1344,
                6,
                1554,
                107,
                50,
                1266,
                8628,
                20,
                213,
                32,
                148,
                225,
                14,
                9
               ]
              ]
             },
             {
              "coloraxis": {
               "colorbar": {
                "title": "Total Tweet Count"
               }
              }
             }
            ],
            "label": "2020-11-01",
            "method": "update"
           },
           {
            "args": [
             {
              "visible": [
               true,
               false
              ],
              "z": [
               [
                14,
                60,
                33,
                267,
                2081,
                197,
                93,
                581,
                12,
                1052,
                217,
                60,
                54,
                54,
                564,
                85,
                73,
                108,
                79,
                338,
                176,
                28,
                235,
                116,
                178,
                19,
                22,
                276,
                24,
                32,
                31,
                366,
                32,
                182,
                1615,
                555,
                70,
                171,
                528,
                34,
                20,
                77,
                3,
                232,
                1242,
                49,
                187,
                27,
                195,
                132,
                18,
                10
               ],
               [
                8,
                109,
                91,
                989,
                10262,
                1273,
                1153,
                21766,
                3,
                5475,
                1831,
                123,
                627,
                83,
                2764,
                76,
                91,
                506,
                673,
                3258,
                179,
                19,
                292,
                195,
                67,
                37,
                7,
                419,
                35,
                33,
                152,
                2402,
                11,
                445,
                40525,
                758,
                101,
                493,
                1934,
                17,
                403,
                87,
                1,
                854,
                3532,
                43,
                328,
                9,
                135,
                222,
                29,
                74
               ]
              ]
             },
             {
              "coloraxis": {
               "colorbar": {
                "title": "Total Tweet Count"
               }
              }
             }
            ],
            "label": "2020-11-02",
            "method": "update"
           },
           {
            "args": [
             {
              "visible": [
               true,
               false
              ],
              "z": [
               [
                36,
                65,
                20,
                272,
                2405,
                214,
                107,
                720,
                25,
                1227,
                231,
                66,
                57,
                48,
                484,
                123,
                115,
                97,
                83,
                315,
                205,
                39,
                245,
                163,
                190,
                24,
                16,
                272,
                31,
                27,
                31,
                378,
                33,
                204,
                1847,
                486,
                75,
                243,
                546,
                42,
                18,
                85,
                1,
                227,
                1343,
                111,
                179,
                29,
                166,
                109,
                19,
                16
               ],
               [
                45,
                77,
                12,
                708,
                14229,
                359,
                1424,
                14850,
                18,
                7261,
                1148,
                86,
                104,
                31,
                2886,
                360,
                236,
                183,
                176,
                647,
                517,
                176,
                316,
                348,
                191,
                23,
                6,
                463,
                48,
                23,
                146,
                2142,
                66,
                23946,
                48872,
                1039,
                79,
                2120,
                5377,
                33,
                93,
                569,
                3,
                2962,
                10914,
                137,
                787,
                18,
                287,
                421,
                12,
                20
               ]
              ]
             },
             {
              "coloraxis": {
               "colorbar": {
                "title": "Total Tweet Count"
               }
              }
             }
            ],
            "label": "2020-11-03",
            "method": "update"
           },
           {
            "args": [
             {
              "visible": [
               true,
               false
              ],
              "z": [
               [
                28,
                89,
                63,
                327,
                3587,
                386,
                108,
                1208,
                26,
                1382,
                459,
                54,
                80,
                41,
                729,
                180,
                105,
                138,
                152,
                505,
                206,
                37,
                446,
                210,
                300,
                23,
                15,
                328,
                30,
                38,
                31,
                455,
                65,
                310,
                2564,
                500,
                81,
                206,
                620,
                55,
                21,
                96,
                13,
                228,
                1753,
                92,
                329,
                24,
                257,
                233,
                32,
                22
               ],
               [
                29,
                484,
                123,
                1872,
                24303,
                739,
                2641,
                62065,
                16,
                5748,
                4317,
                61,
                180,
                107,
                4922,
                261,
                303,
                437,
                233,
                2798,
                247,
                316,
                1503,
                368,
                304,
                24,
                23,
                940,
                120,
                677,
                24,
                3623,
                72,
                1177,
                71589,
                1738,
                268,
                688,
                8082,
                168,
                31,
                1568,
                3,
                3002,
                9239,
                77,
                1355,
                40,
                456,
                2064,
                41,
                19
               ]
              ]
             },
             {
              "coloraxis": {
               "colorbar": {
                "title": "Total Tweet Count"
               }
              }
             }
            ],
            "label": "2020-11-04",
            "method": "update"
           },
           {
            "args": [
             {
              "visible": [
               true,
               false
              ],
              "z": [
               [
                33,
                64,
                32,
                217,
                2498,
                212,
                72,
                833,
                39,
                973,
                243,
                36,
                53,
                39,
                556,
                102,
                81,
                121,
                88,
                324,
                202,
                26,
                287,
                110,
                142,
                25,
                18,
                305,
                19,
                25,
                33,
                317,
                31,
                208,
                1823,
                305,
                80,
                182,
                488,
                25,
                18,
                86,
                10,
                176,
                1361,
                69,
                268,
                34,
                207,
                116,
                20,
                15
               ],
               [
                121,
                223,
                34,
                257,
                13320,
                753,
                1130,
                54967,
                45,
                2030,
                1151,
                62,
                147,
                32,
                3141,
                158,
                105,
                721,
                303,
                431,
                179,
                30,
                395,
                285,
                188,
                37,
                41,
                830,
                23,
                37,
                52,
                1720,
                15,
                825,
                42264,
                614,
                99,
                214,
                5052,
                63,
                165,
                321,
                10,
                527,
                5394,
                126,
                657,
                26,
                258,
                193,
                16,
                561
               ]
              ]
             },
             {
              "coloraxis": {
               "colorbar": {
                "title": "Total Tweet Count"
               }
              }
             }
            ],
            "label": "2020-11-05",
            "method": "update"
           },
           {
            "args": [
             {
              "visible": [
               true,
               false
              ],
              "z": [
               [
                30,
                71,
                51,
                313,
                3293,
                283,
                113,
                819,
                22,
                1144,
                378,
                100,
                66,
                73,
                664,
                118,
                67,
                186,
                90,
                408,
                251,
                12,
                285,
                146,
                251,
                21,
                15,
                287,
                55,
                36,
                25,
                435,
                55,
                288,
                2172,
                333,
                72,
                209,
                657,
                25,
                18,
                97,
                25,
                186,
                1553,
                77,
                219,
                32,
                254,
                173,
                29,
                15
               ],
               [
                45,
                377,
                125,
                5657,
                30329,
                624,
                1311,
                71841,
                33,
                2761,
                1706,
                616,
                126,
                83,
                2105,
                163,
                40,
                3025,
                414,
                1936,
                337,
                15,
                384,
                414,
                592,
                288,
                14,
                438,
                41,
                44,
                52,
                3236,
                42,
                766,
                36478,
                627,
                172,
                390,
                4919,
                53,
                443,
                857,
                4,
                952,
                5107,
                232,
                1515,
                204,
                279,
                380,
                7,
                480
               ]
              ]
             },
             {
              "coloraxis": {
               "colorbar": {
                "title": "Total Tweet Count"
               }
              }
             }
            ],
            "label": "2020-11-06",
            "method": "update"
           },
           {
            "args": [
             {
              "visible": [
               true,
               false
              ],
              "z": [
               [
                42,
                148,
                71,
                452,
                4629,
                556,
                125,
                1171,
                46,
                1915,
                586,
                110,
                81,
                98,
                1053,
                538,
                159,
                172,
                174,
                628,
                354,
                32,
                422,
                255,
                271,
                46,
                17,
                524,
                79,
                59,
                46,
                740,
                99,
                356,
                3453,
                526,
                140,
                333,
                829,
                53,
                38,
                151,
                12,
                268,
                2367,
                84,
                450,
                59,
                450,
                251,
                40,
                18
               ],
               [
                114,
                669,
                136,
                3362,
                39953,
                4087,
                1156,
                101507,
                175,
                6370,
                3681,
                447,
                239,
                96,
                6304,
                519,
                510,
                508,
                3602,
                3765,
                1081,
                33,
                871,
                1292,
                480,
                343,
                30,
                2435,
                118,
                164,
                80,
                6538,
                290,
                3371,
                79540,
                2313,
                449,
                827,
                9358,
                113,
                351,
                551,
                38,
                1194,
                9521,
                118,
                1435,
                90,
                1258,
                820,
                33,
                2
               ]
              ]
             },
             {
              "coloraxis": {
               "colorbar": {
                "title": "Total Tweet Count"
               }
              }
             }
            ],
            "label": "2020-11-07",
            "method": "update"
           },
           {
            "args": [
             {
              "visible": [
               true,
               false
              ],
              "z": [
               [
                27,
                116,
                33,
                225,
                2485,
                247,
                83,
                745,
                27,
                1287,
                323,
                49,
                77,
                54,
                616,
                302,
                95,
                152,
                102,
                403,
                229,
                25,
                289,
                152,
                190,
                22,
                16,
                296,
                23,
                38,
                31,
                426,
                54,
                204,
                2213,
                317,
                102,
                237,
                643,
                28,
                27,
                101,
                5,
                204,
                1523,
                51,
                281,
                50,
                256,
                135,
                20,
                13
               ],
               [
                46,
                478,
                40,
                416,
                15708,
                844,
                324,
                35076,
                65,
                2685,
                1246,
                213,
                369,
                72,
                6404,
                235,
                189,
                668,
                1830,
                3122,
                604,
                31,
                2869,
                258,
                456,
                37,
                46,
                1028,
                30,
                122,
                48,
                5885,
                51,
                1964,
                103443,
                550,
                325,
                243,
                2197,
                80,
                18,
                977,
                12,
                2476,
                11140,
                85,
                5049,
                92,
                470,
                294,
                35,
                4
               ]
              ]
             },
             {
              "coloraxis": {
               "colorbar": {
                "title": "Total Tweet Count"
               }
              }
             }
            ],
            "label": "2020-11-08",
            "method": "update"
           }
          ],
          "direction": "down",
          "showactive": true,
          "x": 0.01,
          "xanchor": "center",
          "y": 1.33,
          "yanchor": "top"
         }
        ]
       }
      }
     },
     "metadata": {},
     "output_type": "display_data"
    }
   ],
   "source": [
    "import plotly.graph_objects as go\n",
    "import pandas as pd\n",
    "\n",
    "# Step 1: Aggregate data by state, tweet count, and total likes, and get unique dates\n",
    "state_totals = merged_df.groupby(['date', 'states_code'], as_index=False).agg({\n",
    "    'tweet_count': 'sum',\n",
    "    'total_likes': 'sum'\n",
    "})\n",
    "available_dates = state_totals['date'].unique()\n",
    "\n",
    "# Step 2: Set initial date (e.g., the first date in the dataset)\n",
    "initial_date = available_dates[0]\n",
    "filtered_data = state_totals[state_totals['date'] == initial_date]\n",
    "\n",
    "# Step 3: Initialize the base figure with initial date's data\n",
    "fig = go.Figure()\n",
    "\n",
    "# Add choropleth trace for Total Tweet Count\n",
    "fig.add_trace(go.Choropleth(\n",
    "    locations=filtered_data['states_code'],\n",
    "    z=filtered_data['tweet_count'],\n",
    "    locationmode=\"USA-states\",\n",
    "    colorscale=\"Blues\",\n",
    "    colorbar_title=\"Total Tweet Count\",\n",
    "    visible=True,\n",
    "    hoverinfo=\"location+z\",\n",
    "    hovertemplate=\"<b>%{location}</b><br>Total Tweet Count: %{z}<extra></extra>\"\n",
    "))\n",
    "\n",
    "# Add choropleth trace for Total Likes\n",
    "fig.add_trace(go.Choropleth(\n",
    "    locations=filtered_data['states_code'],\n",
    "    z=filtered_data['total_likes'],\n",
    "    locationmode=\"USA-states\",\n",
    "    colorscale=\"Greens\",\n",
    "    colorbar_title=\"Total Likes\",\n",
    "    visible=False,\n",
    "    hoverinfo=\"location+z\",\n",
    "    hovertemplate=\"<b>%{location}</b><br>Total Likes: %{z}<extra></extra>\"\n",
    "))\n",
    "\n",
    "# Step 4: Update layout with dropdown menus for metrics and date filtering\n",
    "fig.update_layout(\n",
    "    updatemenus=[\n",
    "        # Metric selection menu\n",
    "        {\n",
    "            \"buttons\": [\n",
    "                {\n",
    "                    \"label\": \"Total Tweet Count\",\n",
    "                    \"method\": \"update\",\n",
    "                    \"args\": [\n",
    "                        {\"visible\": [True, False]},\n",
    "                        {\"coloraxis\": {\"colorbar\": {\"title\": \"Total Tweet Count\"}}}\n",
    "                    ]\n",
    "                },\n",
    "                {\n",
    "                    \"label\": \"Total Likes\",\n",
    "                    \"method\": \"update\",\n",
    "                    \"args\": [\n",
    "                        {\"visible\": [False, True]},\n",
    "                        {\"coloraxis\": {\"colorbar\": {\"title\": \"Total Likes\"}}}\n",
    "                    ]\n",
    "                }\n",
    "            ],\n",
    "            \"direction\": \"down\",\n",
    "            \"showactive\": True,\n",
    "            \"x\": 1,\n",
    "            \"xanchor\": \"left\",\n",
    "            \"y\": 1.20,\n",
    "            \"yanchor\": \"top\"\n",
    "        },\n",
    "        # Date filter menu\n",
    "        {\n",
    "            \"buttons\": [\n",
    "                {\n",
    "                    \"label\": str(date),\n",
    "                    \"method\": \"update\",\n",
    "                    \"args\": [\n",
    "                        {\n",
    "                            \"visible\": [True, False],  # Ensure visibility of the two traces\n",
    "                            \"z\": [\n",
    "                                state_totals[state_totals['date'] == date]['tweet_count'].values,\n",
    "                                state_totals[state_totals['date'] == date]['total_likes'].values\n",
    "                            ]\n",
    "                        },\n",
    "                        {\"coloraxis\": {\"colorbar\": {\"title\": \"Total Tweet Count\"}}}\n",
    "                    ]\n",
    "                } for date in available_dates\n",
    "            ],\n",
    "            \"direction\": \"down\",\n",
    "            \"showactive\": True,\n",
    "            \"x\": 0.01,\n",
    "            \"xanchor\": \"center\",\n",
    "            \"y\": 1.33,\n",
    "            \"yanchor\": \"top\"\n",
    "        }\n",
    "    ],\n",
    "    geo_scope='usa',\n",
    "    template='plotly_dark',\n",
    "    plot_bgcolor='rgba(0, 0, 0, 0)',\n",
    "    paper_bgcolor='rgba(0, 0, 0, 0)',\n",
    "    margin=dict(l=0, r=0, t=0, b=0),\n",
    "    height=450\n",
    ")\n",
    "\n",
    "# Show the figure\n",
    "fig.show()\n"
   ]
  },
  {
   "cell_type": "code",
   "execution_count": null,
   "metadata": {},
   "outputs": [],
   "source": [
    "pip install streamlit"
   ]
  },
  {
   "cell_type": "code",
   "execution_count": 85,
   "metadata": {},
   "outputs": [
    {
     "name": "stderr",
     "output_type": "stream",
     "text": [
      "2024-11-14 12:30:20.487 Thread 'MainThread': missing ScriptRunContext! This warning can be ignored when running in bare mode.\n",
      "2024-11-14 12:30:20.488 Thread 'MainThread': missing ScriptRunContext! This warning can be ignored when running in bare mode.\n",
      "2024-11-14 12:30:20.490 Thread 'MainThread': missing ScriptRunContext! This warning can be ignored when running in bare mode.\n",
      "2024-11-14 12:30:20.492 Thread 'MainThread': missing ScriptRunContext! This warning can be ignored when running in bare mode.\n",
      "2024-11-14 12:30:20.497 Thread 'MainThread': missing ScriptRunContext! This warning can be ignored when running in bare mode.\n",
      "2024-11-14 12:30:20.500 Thread 'MainThread': missing ScriptRunContext! This warning can be ignored when running in bare mode.\n",
      "2024-11-14 12:30:20.504 Thread 'MainThread': missing ScriptRunContext! This warning can be ignored when running in bare mode.\n",
      "2024-11-14 12:30:20.506 Thread 'MainThread': missing ScriptRunContext! This warning can be ignored when running in bare mode.\n",
      "2024-11-14 12:30:20.509 Thread 'MainThread': missing ScriptRunContext! This warning can be ignored when running in bare mode.\n",
      "2024-11-14 12:30:20.511 Thread 'MainThread': missing ScriptRunContext! This warning can be ignored when running in bare mode.\n",
      "2024-11-14 12:30:20.515 Thread 'MainThread': missing ScriptRunContext! This warning can be ignored when running in bare mode.\n",
      "2024-11-14 12:30:20.517 Thread 'MainThread': missing ScriptRunContext! This warning can be ignored when running in bare mode.\n",
      "2024-11-14 12:30:20.527 Thread 'MainThread': missing ScriptRunContext! This warning can be ignored when running in bare mode.\n",
      "2024-11-14 12:30:20.529 Thread 'MainThread': missing ScriptRunContext! This warning can be ignored when running in bare mode.\n",
      "2024-11-14 12:30:20.530 Thread 'MainThread': missing ScriptRunContext! This warning can be ignored when running in bare mode.\n",
      "2024-11-14 12:30:20.531 Thread 'MainThread': missing ScriptRunContext! This warning can be ignored when running in bare mode.\n"
     ]
    },
    {
     "data": {
      "text/plain": [
       "DeltaGenerator()"
      ]
     },
     "execution_count": 85,
     "metadata": {},
     "output_type": "execute_result"
    }
   ],
   "source": [
    "import streamlit as st\n",
    "import plotly.graph_objects as go\n",
    "import pandas as pd\n",
    "\n",
    "\n",
    "\n",
    "# Step 1: Aggregate data by state, tweet count, and total likes, and get unique dates\n",
    "state_totals = merged_df.groupby(['date', 'states_code'], as_index=False).agg({\n",
    "    'tweet_count': 'sum',\n",
    "    'total_likes': 'sum'\n",
    "})\n",
    "available_dates = state_totals['date'].unique()\n",
    "\n",
    "# Step 2: Set initial date (e.g., the first date in the dataset)\n",
    "initial_date = available_dates[0]\n",
    "filtered_data = state_totals[state_totals['date'] == initial_date]\n",
    "\n",
    "# Step 3: Initialize the base figure with initial date's data\n",
    "fig = go.Figure()\n",
    "\n",
    "# Add choropleth trace for Total Tweet Count\n",
    "fig.add_trace(go.Choropleth(\n",
    "    locations=filtered_data['states_code'],\n",
    "    z=filtered_data['tweet_count'],\n",
    "    locationmode=\"USA-states\",\n",
    "    colorscale=\"Blues\",\n",
    "    colorbar_title=\"Total Tweet Count\",\n",
    "    visible=True,\n",
    "    hoverinfo=\"location+z\",\n",
    "    hovertemplate=\"<b>%{location}</b><br>Total Tweet Count: %{z}<extra></extra>\"\n",
    "))\n",
    "\n",
    "# Add choropleth trace for Total Likes\n",
    "fig.add_trace(go.Choropleth(\n",
    "    locations=filtered_data['states_code'],\n",
    "    z=filtered_data['total_likes'],\n",
    "    locationmode=\"USA-states\",\n",
    "    colorscale=\"Greens\",\n",
    "    colorbar_title=\"Total Likes\",\n",
    "    visible=False,\n",
    "    hoverinfo=\"location+z\",\n",
    "    hovertemplate=\"<b>%{location}</b><br>Total Likes: %{z}<extra></extra>\"\n",
    "))\n",
    "\n",
    "# Step 4: Streamlit dropdown menus for selecting metrics and dates\n",
    "\n",
    "# Metric selection dropdown\n",
    "metric = st.selectbox(\n",
    "    \"Select Metric\",\n",
    "    (\"Total Tweet Count\", \"Total Likes\"),\n",
    "    index=0  # Default to 'Total Tweet Count'\n",
    ")\n",
    "\n",
    "# Date selection dropdown\n",
    "date_selected = st.selectbox(\n",
    "    \"Select Date\",\n",
    "    available_dates,\n",
    "    index=0  # Default to the first date\n",
    ")\n",
    "\n",
    "# Filter data based on selected date\n",
    "filtered_data_date = state_totals[state_totals['date'] == date_selected]\n",
    "\n",
    "# Update the figure with selected metric and date\n",
    "if metric == \"Total Tweet Count\":\n",
    "    fig.data[0].visible = True  # Show tweet count trace\n",
    "    fig.data[1].visible = False  # Hide likes trace\n",
    "    fig.data[0].z = filtered_data_date['tweet_count']\n",
    "    fig.data[0].colorbar.title = \"Total Tweet Count\"\n",
    "elif metric == \"Total Likes\":\n",
    "    fig.data[0].visible = False  # Hide tweet count trace\n",
    "    fig.data[1].visible = True  # Show likes trace\n",
    "    fig.data[1].z = filtered_data_date['total_likes']\n",
    "    fig.data[1].colorbar.title = \"Total Likes\"\n",
    "\n",
    "# Display the map with updated data\n",
    "st.plotly_chart(fig, use_container_width=True)\n"
   ]
  },
  {
   "cell_type": "code",
   "execution_count": 97,
   "metadata": {},
   "outputs": [
    {
     "data": {
      "text/html": [
       "<div>\n",
       "<style scoped>\n",
       "    .dataframe tbody tr th:only-of-type {\n",
       "        vertical-align: middle;\n",
       "    }\n",
       "\n",
       "    .dataframe tbody tr th {\n",
       "        vertical-align: top;\n",
       "    }\n",
       "\n",
       "    .dataframe thead th {\n",
       "        text-align: right;\n",
       "    }\n",
       "</style>\n",
       "<table border=\"1\" class=\"dataframe\">\n",
       "  <thead>\n",
       "    <tr style=\"text-align: right;\">\n",
       "      <th></th>\n",
       "      <th>state</th>\n",
       "      <th>date</th>\n",
       "      <th>tweet_count</th>\n",
       "      <th>total_likes</th>\n",
       "      <th>sentiment_avg</th>\n",
       "      <th>total_retweets</th>\n",
       "      <th>top_hashtag</th>\n",
       "      <th>top_hashtag_likes</th>\n",
       "      <th>id</th>\n",
       "      <th>states_code</th>\n",
       "    </tr>\n",
       "  </thead>\n",
       "  <tbody>\n",
       "    <tr>\n",
       "      <th>0</th>\n",
       "      <td>Alabama</td>\n",
       "      <td>2020-10-15</td>\n",
       "      <td>44</td>\n",
       "      <td>277.0</td>\n",
       "      <td>-0.001450</td>\n",
       "      <td>92.0</td>\n",
       "      <td>#biden</td>\n",
       "      <td>226.0</td>\n",
       "      <td>1</td>\n",
       "      <td>AL</td>\n",
       "    </tr>\n",
       "    <tr>\n",
       "      <th>1</th>\n",
       "      <td>Alabama</td>\n",
       "      <td>2020-10-16</td>\n",
       "      <td>59</td>\n",
       "      <td>618.0</td>\n",
       "      <td>-0.080724</td>\n",
       "      <td>127.0</td>\n",
       "      <td>#trump</td>\n",
       "      <td>461.0</td>\n",
       "      <td>1</td>\n",
       "      <td>AL</td>\n",
       "    </tr>\n",
       "    <tr>\n",
       "      <th>2</th>\n",
       "      <td>Alabama</td>\n",
       "      <td>2020-10-17</td>\n",
       "      <td>29</td>\n",
       "      <td>142.0</td>\n",
       "      <td>0.143159</td>\n",
       "      <td>46.0</td>\n",
       "      <td>#trump</td>\n",
       "      <td>128.0</td>\n",
       "      <td>1</td>\n",
       "      <td>AL</td>\n",
       "    </tr>\n",
       "  </tbody>\n",
       "</table>\n",
       "</div>"
      ],
      "text/plain": [
       "     state        date  tweet_count  total_likes  sentiment_avg  \\\n",
       "0  Alabama  2020-10-15           44        277.0      -0.001450   \n",
       "1  Alabama  2020-10-16           59        618.0      -0.080724   \n",
       "2  Alabama  2020-10-17           29        142.0       0.143159   \n",
       "\n",
       "   total_retweets top_hashtag  top_hashtag_likes  id states_code  \n",
       "0            92.0      #biden              226.0   1          AL  \n",
       "1           127.0      #trump              461.0   1          AL  \n",
       "2            46.0      #trump              128.0   1          AL  "
      ]
     },
     "execution_count": 97,
     "metadata": {},
     "output_type": "execute_result"
    }
   ],
   "source": [
    "merged_df.head(3)"
   ]
  },
  {
   "cell_type": "code",
   "execution_count": 99,
   "metadata": {},
   "outputs": [
    {
     "data": {
      "text/plain": [
       "array(['#biden', '#trump', '#election2020', '#vote', '#awesomestuff',\n",
       "       '#gop', '#2020election', '#resist', '#electionday',\n",
       "       '#60minutesinterview', '#acb', '#trumpsawhinybitch', '#wtpblue',\n",
       "       '#horrible', '#covid19', '#trumpvirus', '#democrat',\n",
       "       '#madametussauds', '#california', '#hunterbiden'], dtype=object)"
      ]
     },
     "execution_count": 99,
     "metadata": {},
     "output_type": "execute_result"
    }
   ],
   "source": [
    "merged_df['top_hashtag'].unique()"
   ]
  },
  {
   "cell_type": "code",
   "execution_count": null,
   "metadata": {},
   "outputs": [],
   "source": []
  }
 ],
 "metadata": {
  "kernelspec": {
   "display_name": "Python 3",
   "language": "python",
   "name": "python3"
  },
  "language_info": {
   "codemirror_mode": {
    "name": "ipython",
    "version": 3
   },
   "file_extension": ".py",
   "mimetype": "text/x-python",
   "name": "python",
   "nbconvert_exporter": "python",
   "pygments_lexer": "ipython3",
   "version": "3.11.5"
  }
 },
 "nbformat": 4,
 "nbformat_minor": 2
}
